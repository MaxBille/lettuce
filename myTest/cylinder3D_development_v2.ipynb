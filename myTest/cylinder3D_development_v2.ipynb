{
 "cells": [
  {
   "cell_type": "code",
   "execution_count": 1,
   "metadata": {
    "collapsed": true
   },
   "outputs": [],
   "source": [
    "import lettuce as lt\n",
    "import matplotlib.pyplot as plt\n",
    "from scipy.signal import find_peaks\n",
    "import numpy as np\n",
    "from lettuce.boundary import EquilibriumBoundaryPU, EquilibriumOutletP, AntiBounceBackOutlet\n",
    "from lettuce.observables import Observable\n",
    "from lettuce.unit import UnitConversion\n",
    "from lettuce.util import append_axes\n",
    "from lettuce import ObstacleMax3D\n",
    "from lettuce.flows.obstacleCylinder import ObstacleCylinder\n",
    "import torch\n",
    "import time\n",
    "import datetime\n",
    "import os\n",
    "import shutil\n",
    "from pyevtk.hl import imageToVTK"
   ]
  },
  {
   "cell_type": "code",
   "execution_count": 2,
   "outputs": [],
   "source": [
    "### OUTPUT SETTINGS\n",
    "output_data = True\n",
    "output_vtk = False  # is overwritten with False if output_data=False (see below)\n",
    "vtk_fps = 10\n",
    "output_velocity_profile = False\n",
    "\n",
    "# IMPORTANT: set correct output_path, for example \"/home/YourUserName/simulation_output\"\n",
    "output_path = \"/mnt/ScratchHDD1/Max_Scratch/lbm_simulations\"  # lokal HBRS\n",
    "#output_path = \"/home/max/Documents/lbm_simulations\"  # lokal Bonn\n",
    "#output_path = \"/home/mbille3s/02_lbm_simulations\"  # cluster HBRS\n",
    "\n",
    "# name: if you want something specific in the dir-name\n",
    "name = \"cyl3D_test_vtkFast_noOutput\"\n",
    "\n",
    "# choose stencil: \"D3Q9\" dor 2D, \"D3Q15\", \"D3Q19\", \"D3Q27\" for 3D\n",
    "stencil_choice = \"D3Q27\"\n",
    "# choose collision operator: \"bgk, \"kbc\", \"reg\"\n",
    "collision_choice = \"bgk\""
   ],
   "metadata": {
    "collapsed": false
   }
  },
  {
   "cell_type": "code",
   "execution_count": 3,
   "outputs": [
    {
     "name": "stdout",
     "output_type": "stream",
     "text": [
      "shape_LU: 50 x 25 x 25\n",
      "T with 34642 steps: 200.01 seconds\n",
      "n_steps to simulate 1 second: 173.21 steps\n",
      "n_steps to simulate 200 seconds: 34642.0 steps\n",
      "No. of gridpoints: 31250\n"
     ]
    }
   ],
   "source": [
    "### SIMULATION PARAMETERS (and estimation of timesteps needed to reach T_target)\n",
    "re = 200   # Reynoldsnumber\n",
    "Ma = 0.05     # Machnumber\n",
    "n_steps = 34642 #145492 # number of steps\n",
    "setup_diameter = 1  # D_PU = char_length_pu -> this defines the PU-Reference\n",
    "flow_velocity = 1  # U_PU = char_velocity_pu -> this defines the PU-Reference velocity (u_max of inflow)\n",
    "\n",
    "# relative starting point for drag-measurement (make sure periodic state is reached)\n",
    "periodic_start = 0.9  # relative start of peak_finding for Cd_mean Measurement to cut of any transients\n",
    "\n",
    "# GEOMETRY\n",
    "gridpoints_per_diameter = 5  # gp_per_D = GPD -> this defines the resolution ( D_LU = GPD)\n",
    "domain_height_in_D = 5  # D/Y = DpY = diameters per domain width in Y-direction -> this defines the domain-size and total number of Lattice-Nodes\n",
    "domain_length_in_D = 2 * domain_height_in_D  # D/X = domain length in X- / flow-direction\n",
    "domain_width_in_D = domain_height_in_D #1/gridpoints_per_diameter  # D/Z = DpZ = diameters per domain width in Z-direction -> domain size in periodic 3rd dimension\n",
    "\n",
    "# RELATION [GPD to DpY] check\n",
    "# if DpY is even, resulting GPD can't be odd for symmetrical cylinder and channel\n",
    "# ...if DpY is even, GPD will be corrected to even GPD for symmetrical cylinder\n",
    "# ...use odd DpY to use odd GPD\n",
    "gpd_correction=False\n",
    "if domain_height_in_D % 2 == 0 and gridpoints_per_diameter % 2 != 0:\n",
    "    gpd_correction = True   # gpd_was_corrected-flag\n",
    "    gpd_setup = gridpoints_per_diameter   # store old gpd for output\n",
    "    gridpoints_per_diameter = int(gridpoints_per_diameter/2)*2   # make gpd even\n",
    "    print(\"(!) domain_height_in_D is even, gridpoints_per_diameter will be \"+str(gridpoints_per_diameter)+\". Use odd domain_height_in_D to enable use of odd GPD!\")\n",
    "\n",
    "# SIMULATOR settings\n",
    "u_init = 0    # initial velocity field: # 0: uniform u=0, # 1: uniform u=1, # 2: parabolic, amplitude u_char_lu (similar to poiseuille-flow)\n",
    "perturb_init = True   # perturb initial symmetry by small sine-wave in initial velocity field -> triggers Karman-vortex street for Re > 46\n",
    "lateral_walls='periodic'  # type of top/bottom boundary: 'bounceback' = frictious wall, 'periodic' = periodic boundary, 'slip' = non-frictious wall\n",
    "bc_type='ibb1'  # choose algorithm for bounceback-boundaries: fullway 'fwbb', halfway 'hwbb', linear interpolated 'ibb1'\n",
    "\n",
    "# T_PU to n_steps estimation: (for example for Re=200 the periodic state is reached for T_PU > 140)\n",
    "T_target=200\n",
    "print(\"shape_LU:\", gridpoints_per_diameter*domain_length_in_D, \"x\", gridpoints_per_diameter*domain_height_in_D, \"x\", gridpoints_per_diameter*domain_width_in_D)\n",
    "print(\"T with\", n_steps, \"steps:\", round(n_steps * (setup_diameter/(gridpoints_per_diameter))*(Ma*1/np.sqrt(3)/flow_velocity),2), \"seconds\")\n",
    "print(\"n_steps to simulate 1 second:\", round(((gridpoints_per_diameter)/setup_diameter)*(flow_velocity/(Ma*1/np.sqrt(3))),2), \"steps\")\n",
    "print(\"n_steps to simulate\",T_target,\"seconds:\",T_target*round(((gridpoints_per_diameter)/setup_diameter)*(flow_velocity/(Ma*1/np.sqrt(3))),2), \"steps\")\n",
    "\n",
    "\n",
    "mlups_2060super = 20\n",
    "mlups_2080ti = 30   # 40 for GPD30,DpY19,nsteps=150000 (steigend mit der Auflösung)\n",
    "\n",
    "if output_vtk:\n",
    "    print(\"generates approx.\", int(vtk_fps*(n_steps * (setup_diameter/(gridpoints_per_diameter))*(Ma*1/np.sqrt(3)/flow_velocity)))+1, \".vti/.vtk-frames\")\n",
    "\n",
    "gridpoints = gridpoints_per_diameter**3*domain_length_in_D*domain_height_in_D*domain_width_in_D\n",
    "print(\"No. of gridpoints:\", gridpoints)"
   ],
   "metadata": {
    "collapsed": false
   }
  },
  {
   "cell_type": "code",
   "execution_count": 4,
   "outputs": [
    {
     "name": "stdout",
     "output_type": "stream",
     "text": [
      "dir_name: /data_230907_154424_cyl3D_test_vtkFast_noOutput_GPD5_10x5x5_D3Q27\n"
     ]
    }
   ],
   "source": [
    "### (no user input) CREATE OUTPUT DIRECTORIES\n",
    "if output_data:  # toggle output\n",
    "    timestamp = datetime.datetime.now()\n",
    "    timestamp = timestamp.strftime(\"%y%m%d\")+\"_\"+timestamp.strftime(\"%H%M%S\")\n",
    "\n",
    "    dir_name = \"/data_\" + str(timestamp) + \"_\" + name + \"_GPD\" + str(gridpoints_per_diameter) + \"_\" + str(domain_length_in_D) + \"x\" + str(domain_height_in_D) + \"x\" + str(domain_width_in_D) + \"_\" + str(stencil_choice)\n",
    "    os.makedirs(output_path+dir_name)\n",
    "\n",
    "    if output_vtk:\n",
    "        vtk_path = output_path+dir_name+\"/vtk/out\"\n",
    "        print(\"vtk_path: \" + vtk_path)\n",
    "    print(\"dir_name: \"+dir_name)\n",
    "else:\n",
    "    output_vtk = False"
   ],
   "metadata": {
    "collapsed": false
   }
  },
  {
   "cell_type": "code",
   "execution_count": 5,
   "outputs": [
    {
     "name": "stdout",
     "output_type": "stream",
     "text": [
      "IBB initialization took 0.07983851432800293seconds\n"
     ]
    }
   ],
   "source": [
    "### SIMULATOR SETUP\n",
    "\n",
    "# stencil\n",
    "if stencil_choice == \"D3Q15\":\n",
    "    stencil=lt.D3Q15\n",
    "elif stencil_choice == \"D3Q19\":\n",
    "    stencil=lt.D3Q19\n",
    "else: # stencil_choice==\"D3Q27\"\n",
    "    stencil=lt.D3Q27\n",
    "\n",
    "# lattice\n",
    "# lattice = lt.Lattice(lt.D2Q9, \"cuda:0\", dtype=torch.float64, native=False)  # for \"new lettuce\"\n",
    "lattice = lt.Lattice(stencil, \"cuda:0\", dtype=torch.float64)  #for \"old lettuce\"\n",
    "    # stencil, device, dtype\n",
    "\n",
    "# flow = ObstacleMax3D(reynolds_number=re, mach_number=Ma,\n",
    "#                    lattice=lattice,\n",
    "#                    char_length_pu=setup_diameter,\n",
    "#                    char_length_lu=gridpoints_per_diameter,\n",
    "#                    char_velocity_pu=flow_velocity,\n",
    "#                    x_lu=domain_length_in_D*gridpoints_per_diameter,\n",
    "#                    y_lu=domain_height_in_D*gridpoints_per_diameter,\n",
    "#                    z_lu=domain_width_in_D*gridpoints_per_diameter,\n",
    "#                    lateral_walls=lateral_walls,\n",
    "#                    bb_type=bb_type,\n",
    "#                    perturb_init=perturb_init,\n",
    "#                    u_init=u_init\n",
    "#                   )\n",
    "flow = ObstacleCylinder(shape=(domain_length_in_D*gridpoints_per_diameter,\n",
    "                               domain_height_in_D*gridpoints_per_diameter,\n",
    "                               domain_width_in_D*gridpoints_per_diameter),\n",
    "                        reynolds_number=re, mach_number=Ma,\n",
    "                        lattice=lattice,\n",
    "                        char_length_pu=setup_diameter,\n",
    "                        char_length_lu=gridpoints_per_diameter,\n",
    "                        char_velocity_pu=flow_velocity,\n",
    "                        lateral_walls=lateral_walls,\n",
    "                        bc_type=bc_type,\n",
    "                        perturb_init=perturb_init,\n",
    "                        u_init=u_init\n",
    "                        )\n",
    "\n",
    "# # define a Cylinder-Obstacle\n",
    "# radius_LU = 0.5 * gridpoints_per_diameter\n",
    "# y_pos_LU = 0.5 * gridpoints_per_diameter * domain_height_in_D + 0.5\n",
    "# x_pos_LU = y_pos_LU\n",
    "#\n",
    "# index_list = tuple(np.linspace(1,n,n) for n in flow.shape)  # Tupel index lists (1-n (non zero-based!))\n",
    "# xLU, yLU, zLU = np.meshgrid(*index_list, indexing='ij')  # meshgrid of x-, y- (and z-)indizes/indexs?/indexes?! - this is simulation, not grammar...\n",
    "#\n",
    "# condition = np.sqrt((xLU - x_pos_LU) ** 2 + (yLU - y_pos_LU) ** 2) < radius_LU\n",
    "# flow.obstacle_mask[np.where(condition)] = 1\n",
    "\n",
    "### simulation object (simulator)\n",
    "tau = flow.units.relaxation_parameter_lu  # relaxation parameter\n",
    "re_g = flow.units.characteristic_velocity_lu/(lattice.stencil.cs**2 * (tau-0.5))  # grid reynolds number (should be O(10))\n",
    "\n",
    "# collision\n",
    "if collision_choice == \"reg\":\n",
    "    collision=lt.RegularizedCollision(lattice, tau)\n",
    "elif collision_choice == \"kbc\":\n",
    "    collision=lt.KBCCollision3D(lattice,tau)\n",
    "else: # collision_choice = \"bgk\":\n",
    "    collision=lt.BGKCollision(lattice, tau)\n",
    "\n",
    "# simulation\n",
    "sim = lt.Simulation(flow, lattice,\n",
    "                    collision,\n",
    "                    # lt.BGKCollision(lattice, tau),\n",
    "                    # lt.RegularizedCollision(lattice, tau),\n",
    "                    # lt.KBCCollision2D(lattice,tau),\n",
    "                    lt.StandardStreaming(lattice)\n",
    "                   )\n",
    "    # Flow, Lattice-Parameter, CollisionOperator-Object(Parameter), Streaming-Object\n",
    "\n",
    "### Reporter\n",
    "\n",
    "# VTK Reporter -> Visualization\n",
    "if output_vtk:\n",
    "    VTKreport = lt.VTKReporter(lattice, flow, interval=int(flow.units.convert_time_to_lu(1/vtk_fps)), filename_base=vtk_path)\n",
    "    sim.reporters.append(VTKreport)\n",
    "    # export obstacle\n",
    "    mask_dict = dict()\n",
    "    mask_dict[\"mask\"] = flow.obstacle_mask.astype(int)\n",
    "    imageToVTK(\n",
    "        path=output_path+dir_name+\"/vtk/obstacle_point\",\n",
    "        pointData=mask_dict\n",
    "    )\n",
    "    imageToVTK(\n",
    "        path=output_path+dir_name+\"/vtk/obstacle_cell\",\n",
    "        cellData=mask_dict\n",
    "    )\n",
    "\n",
    "# Observable reporter: drag coefficient\n",
    "DragObservable = lt.DragCoefficient(lattice,flow,sim._boundaries[-1],area=setup_diameter*flow.units.convert_length_to_pu(gridpoints_per_diameter*domain_width_in_D))  # ! area A=2*r is in PU and 1-dimensional in 2D\n",
    "Dragreport = lt.ObservableReporter(DragObservable, out=None)\n",
    "sim.reporters.append(Dragreport)\n",
    "\n",
    "# Observable reporter: lift coefficient\n",
    "LiftObservable = lt.LiftCoefficient(lattice,flow,sim._boundaries[-1],area=setup_diameter*flow.units.convert_length_to_pu(gridpoints_per_diameter*domain_width_in_D))\n",
    "Liftreport = lt.ObservableReporter(LiftObservable, out=None)\n",
    "sim.reporters.append(Liftreport)"
   ],
   "metadata": {
    "collapsed": false
   }
  },
  {
   "cell_type": "code",
   "execution_count": 6,
   "outputs": [],
   "source": [
    "# TEST CLOCK and AverageVelocity Reporter:\n",
    "if output_velocity_profile:\n",
    "    position_1 = flow.x_pos-0.5 + 1.06 * flow.radius * 2  #int(round(flow.x_pos + 1.06 * flow.radius * 2 , 0))\n",
    "    position_2 = flow.x_pos-0.5 + 1.54 * flow.radius * 2  #int(round(flow.x_pos + 1.54 * flow.radius * 2 , 0))\n",
    "    position_3 = flow.x_pos-0.5 + 2.02 * flow.radius * 2  #int(round(flow.x_pos + 2.02 * flow.radius * 2 , 0))\n",
    "    print(\"V_avg positions:\" + \"\\nposition 1: \" + str(position_1) + \"\\nposition 2: \" + str(position_2) + \"\\nposition 3: \" + str(position_3))\n",
    "\n",
    "    # # clock\n",
    "    # Clock = lt.Clock(lattice)\n",
    "    # sim.reporters.append(Clock)\n",
    "\n",
    "    # AvgVelocity\n",
    "    AvgVelocity1 = lt.AverageVelocityReporter(lattice,flow, position_1)\n",
    "    sim.reporters.append(AvgVelocity1)\n",
    "    AvgVelocity2 = lt.AverageVelocityReporter(lattice,flow, position_2)\n",
    "    sim.reporters.append(AvgVelocity2)\n",
    "    AvgVelocity3 = lt.AverageVelocityReporter(lattice,flow, position_3)\n",
    "    sim.reporters.append(AvgVelocity3)\n",
    "\n",
    "# NaN STOP\n",
    "NaNReporter = lt.NaNReporter(flow, lattice, n_steps, T_target)  # default interval of 100\n",
    "sim.reporters.append(NaNReporter)"
   ],
   "metadata": {
    "collapsed": false
   }
  },
  {
   "cell_type": "code",
   "execution_count": 7,
   "outputs": [
    {
     "data": {
      "text/plain": "<Figure size 640x480 with 1 Axes>",
      "image/png": "[encoded data removed]"
     },
     "metadata": {},
     "output_type": "display_data"
    }
   ],
   "source": [
    "# show domain-slice\n",
    "plt.figure()\n",
    "#plt.imshow(lattice.convert_to_numpy(torch.logical_xor(sim._boundaries[-1].mask, sim._boundaries[-1].f_mask[1])[190-20:190+20,190-20:190+20])[:,:].T, origin=\"lower\")\n",
    "#plt.imshow(lattice.convert_to_numpy(torch.logical_xor(sim._boundaries[-1].f_mask[1,:,:,0], sim._boundaries[-1].f_mask[1]))[:,:].T, origin=\"lower\")\n",
    "ax = plt.gca()\n",
    "xmin, xmax = ax.get_xlim()\n",
    "ymin, ymax = ax.get_ylim()\n",
    "#ax.set_xticks(np.arange(-.5, xmax, 1), minor=True)\n",
    "#ax.set_yticks(np.arange(-.5, ymax, 1), minor=True)\n",
    "#ax.grid(which=\"minor\", color=\"w\",linestyle='-', linewidth=2)"
   ],
   "metadata": {
    "collapsed": false
   }
  },
  {
   "cell_type": "code",
   "execution_count": 8,
   "outputs": [
    {
     "data": {
      "text/plain": "<matplotlib.image.AxesImage at 0x7fe9541fad10>"
     },
     "execution_count": 8,
     "metadata": {},
     "output_type": "execute_result"
    },
    {
     "data": {
      "text/plain": "<Figure size 640x480 with 1 Axes>",
      "image/png": "[encoded data removed]"
     },
     "metadata": {},
     "output_type": "display_data"
    }
   ],
   "source": [
    "plt.imshow(lattice.convert_to_numpy(sim._boundaries[-1].mask)[:,:,0].T, origin=\"lower\")"
   ],
   "metadata": {
    "collapsed": false
   }
  },
  {
   "cell_type": "code",
   "execution_count": 9,
   "outputs": [
    {
     "data": {
      "text/plain": "<matplotlib.image.AxesImage at 0x7fe9540748b0>"
     },
     "execution_count": 9,
     "metadata": {},
     "output_type": "execute_result"
    },
    {
     "data": {
      "text/plain": "<Figure size 640x480 with 1 Axes>",
      "image/png": "[encoded data removed]"
     },
     "metadata": {},
     "output_type": "display_data"
    }
   ],
   "source": [
    "plt.imshow(lattice.convert_to_numpy(lattice.u(sim.f))[0,1,:,:], origin=\"lower\")"
   ],
   "metadata": {
    "collapsed": false
   }
  },
  {
   "cell_type": "code",
   "execution_count": 10,
   "outputs": [
    {
     "name": "stdout",
     "output_type": "stream",
     "text": [
      "39.9999999999998\n"
     ]
    }
   ],
   "source": [
    "### grid reynolds number\n",
    "print(re_g)"
   ],
   "metadata": {
    "collapsed": false
   }
  },
  {
   "cell_type": "code",
   "execution_count": 11,
   "outputs": [],
   "source": [
    "### export parameters\n",
    "\n",
    "if output_data:\n",
    "    output_file = open(output_path+dir_name+\"/\"+timestamp + \"_parameters.txt\", \"a\")\n",
    "    output_file.write(\"DATA for \"+timestamp)\n",
    "    output_file.write(\"\\n\\n###   SIM-Parameters   ###\")\n",
    "    output_file.write(\"\\nRe = \"+str(re))\n",
    "    output_file.write(\"\\nn_steps = \"+str(n_steps))\n",
    "    output_file.write(\"\\nT_target = \"+str(flow.units.convert_time_to_pu(n_steps))+\" seconds\")\n",
    "    output_file.write(\"\\ngridpoints_per_diameter (gpd) = \"+str(gridpoints_per_diameter))\n",
    "    if gpd_correction:\n",
    "        output_file.write(\"\\ngpd was corrected from: \"+str(gpd_setup)+\" to \"+str(gridpoints_per_diameter)+\" because D/Y is even\")\n",
    "    output_file.write(\"\\nDpX (D/X) = \" + str(domain_length_in_D))\n",
    "    output_file.write(\"\\nDpY (D/Y) = \"+str(domain_height_in_D))\n",
    "    if lattice.D == 3:\n",
    "        output_file.write(\"\\nDpZ (D/Z) = \"+str(domain_width_in_D))\n",
    "    output_file.write(\"\\nshape_LU: \"+ str(flow.shape))\n",
    "    output_file.write((\"\\ntotal_number_of_gridpoints: \"+str(lattice.rho(sim.f).numel())))\n",
    "    output_file.write(\"\\nbc_type = \"+str(bc_type))\n",
    "    output_file.write(\"\\nlateral_walls = \"+str(lateral_walls))\n",
    "    output_file.write(\"\\nstencil = \"+str(stencil_choice))\n",
    "    output_file.write(\"\\ncollision = \" + str(collision_choice))\n",
    "    output_file.write(\"\\n\")\n",
    "    output_file.write(\"\\nMa = \" + str(Ma))\n",
    "    output_file.write(\"\\ntau = \" + str(tau))\n",
    "    output_file.write(\"\\ngrid_reynolds_number (Re_g) = \" + str(re_g))\n",
    "    output_file.write(\"\\n\")\n",
    "    output_file.write(\"\\nsetup_diameter_PU = \" + str(setup_diameter))\n",
    "    output_file.write(\"\\nflow_velocity_PU = \" + str(flow_velocity))\n",
    "    output_file.write(\"\\nu_init = \" + str(u_init))\n",
    "    output_file.write(\"\\nperturb_init = \" + str(perturb_init))\n",
    "    output_file.write(\"\\n\")\n",
    "    output_file.write(\"\\noutput_vtk = \" + str(output_vtk))\n",
    "    output_file.write(\"\\nvtk_fps = \" + str(vtk_fps))\n",
    "    output_file.close()"
   ],
   "metadata": {
    "collapsed": false
   }
  },
  {
   "cell_type": "code",
   "execution_count": 12,
   "outputs": [
    {
     "name": "stdout",
     "output_type": "stream",
     "text": [
      "GPD = 5\n",
      "area_rel: 1.0695212175775366\n"
     ]
    },
    {
     "data": {
      "text/plain": "<Figure size 640x480 with 1 Axes>",
      "image/png": "[encoded data removed]"
     },
     "metadata": {},
     "output_type": "display_data"
    }
   ],
   "source": [
    "### calculate and export 2D obstacle_mask as .png\n",
    "grid_x = gridpoints_per_diameter+2\n",
    "if output_data:\n",
    "    output_file = open(output_path+dir_name +\"/\"+timestamp + \"_obstacle_mask_info.txt\", \"a\")\n",
    "    output_file.write(\"GPD = \" + str(gridpoints_per_diameter)+\"\\n\")\n",
    "    print(\"GPD = \" + str(gridpoints_per_diameter))\n",
    "    # define radius and position for a symetrical circular Cylinder-Obstacle\n",
    "    radius_LU = 0.5 * gridpoints_per_diameter\n",
    "    y_pos_LU = 0.5 * grid_x + 0.5\n",
    "    x_pos_LU = y_pos_LU\n",
    "\n",
    "    # get x,y,z meshgrid of the domain (LU)\n",
    "    xyz = tuple(np.linspace(1, n, n) for n in (grid_x,grid_x))  # Tupel aus Listen indizes (1-n (nicht 0-based!))\n",
    "    xLU, yLU = np.meshgrid(*xyz, indexing='ij')  # meshgrid aus den x-, y- (und z-)Indizes -> * damit man die einzelnen Einträge des Tupels übergibt, und nicht das eine Tupel\n",
    "\n",
    "    # define cylinder (LU)\n",
    "    obstacle_mast_for_visualization = np.sqrt((xLU - x_pos_LU) ** 2 + (yLU - y_pos_LU) ** 2) < radius_LU\n",
    "\n",
    "    nx, ny = obstacle_mast_for_visualization.shape  # Anzahl x-Punkte, Anzahl y-Punkte (Skalar), (der gesamten Domain)\n",
    "\n",
    "    rand_mask = np.zeros((nx, ny), dtype=bool)  # für Randpunkte, die es gibt\n",
    "    rand_mask_f = np.zeros((lattice.Q, nx, ny), dtype=bool)  # für Randpunkte (inkl. Q-Dimension)\n",
    "    rand_xq = []  # Liste aller x Werte (inkl. q-multiplizität)\n",
    "    rand_yq = []  # Liste aller y Werte (inkl. q-multiplizität)\n",
    "\n",
    "    a, b = np.where(obstacle_mast_for_visualization)  # np.array: Liste der (a) x-Koordinaten  und (b) y-Koordinaten der obstacle_mast_for_visualization\n",
    "    # ...um über alle Boundary/Objekt/Wand-Knoten iterieren zu können\n",
    "    for p in range(0, len(a)):  # für alle TRUE-Punkte der obstacle_mast_for_visualization\n",
    "        for i in range(0, lattice.Q):  # für alle stencil-Richtungen c_i (hier lattice.stencil.e)\n",
    "            try:  # try in case the neighboring cell does not exist (an f pointing out of the simulation domain)\n",
    "                if not obstacle_mast_for_visualization[a[p] + lattice.stencil.e[i, 0], b[p] + lattice.stencil.e[i, 1]]:\n",
    "                    # falls in einer Richtung Punkt+(e_x, e_y; e ist c_i) False ist, ist das also ein Oberflächenpunkt des Objekts (selbst True mit Nachbar False)\n",
    "                    rand_mask[a[p], b[p]] = 1\n",
    "                    rand_mask_f[lattice.stencil.opposite[i], a[p], b[p]] = 1\n",
    "                    rand_xq.append(a[p])\n",
    "                    rand_yq.append(b[p])\n",
    "            except IndexError:\n",
    "                pass  # just ignore this iteration since there is no neighbor there\n",
    "    rand_x, rand_y = np.where(rand_mask)  # Liste aller Rand-x- und y-Koordinaten\n",
    "    x_pos = sum(rand_x)/len(rand_x)  # x_Koordinate des Kreis-Zentrums\n",
    "    y_pos = sum(rand_y)/len(rand_y)  # y-Koordinate des Kreis-Zentrums\n",
    "\n",
    "    # calculate all radii and r_max and r_min\n",
    "    r_max = 0\n",
    "    r_min = gridpoints_per_diameter\n",
    "    radii = np.zeros_like(rand_x, dtype=float)  # Liste aller Radien (ohne q) in LU\n",
    "    for p in range(0, len(rand_x)):  # für alle Punkte\n",
    "        radii[p] = np.sqrt((rand_x[p]-x_pos)**2 + (rand_y[p]-y_pos)**2)  # berechne Abstand des Punktes zum Zentrum\n",
    "        if radii[p] > r_max:\n",
    "            r_max = radii[p]\n",
    "        if radii[p] < r_min:\n",
    "            r_min = radii[p]\n",
    "\n",
    "    # calculate all radii (with q-multiplicity)\n",
    "    radii_q = np.zeros_like(rand_xq, dtype=float)\n",
    "    for p in range(0, len(rand_xq)):\n",
    "        radii_q[p] = np.sqrt((rand_xq[p]-x_pos)**2 + (rand_yq[p]-y_pos)**2)\n",
    "\n",
    "    ### all relative radii in relation to gpd/2\n",
    "    radii_relative = radii / (radius_LU-0.5)  # (substract 0.5 because \"true\" boundary location is 0.5LU further out than node-coordinates)\n",
    "    radii_q_relative = radii_q / (radius_LU-0.5)\n",
    "\n",
    "    # calc. mean rel_radius\n",
    "    r_rel_mean = sum(radii_relative)/len(radii_relative)\n",
    "    rq_rel_mean = sum(radii_q_relative)/len(radii_q_relative)\n",
    "\n",
    "    ## AREA calculation\n",
    "    area_theory = np.pi*(gridpoints_per_diameter/2)**2  # area = pi*r² in LU²\n",
    "    area = len(a)  # area in LU = number of nodes, because every node has a cell of 1LU x 1LU around it\n",
    "\n",
    "    output_file.write(\"\\nr_rel_mean: \" + str(sum(radii_relative)/len(radii_relative)))\n",
    "    output_file.write(\"\\nrq_rel_mean: \" + str(sum(radii_q_relative)/len(radii_q_relative)))\n",
    "    output_file.write(\"\\nr_rel_min: \" + str(r_max/(radius_LU-0.5)))\n",
    "    output_file.write(\"\\nr_rel_max: \" + str(r_min/(radius_LU-0.5)))\n",
    "    output_file.write(\"\\n\\narea_rel: \" + str(area/area_theory))\n",
    "    print(\"area_rel: \" + str(area/area_theory))\n",
    "\n",
    "    from collections import Counter\n",
    "    output_file.write(\"\\n\\nradii: \" + str(Counter(radii)))\n",
    "    output_file.write(\"\\nradii_q: \" + str(Counter(radii_q))+\"\\n\\n\")\n",
    "    output_file.close()\n",
    "\n",
    "    ### PLOT Mask\n",
    "    plt.figure()\n",
    "    plt.imshow(obstacle_mast_for_visualization)\n",
    "    #plt.xticks(np.arange(gridpoints_per_diameter + 2), minor=True)\n",
    "    #plt.yticks(np.arange(gridpoints_per_diameter + 2), minor=True)\n",
    "    ax = plt.gca()\n",
    "    xmin, xmax = ax.get_xlim()\n",
    "    ymax, ymin = ax.get_ylim()\n",
    "    if gridpoints_per_diameter >= 10:\n",
    "        plt.xticks(np.arange(0, xmax, int(xmax/10)))\n",
    "        plt.yticks(np.arange(0, ymax, int(ymax/10)))\n",
    "    else:\n",
    "        plt.xticks(np.arange(0, xmax, 1))\n",
    "        plt.yticks(np.arange(0, ymax, 1))\n",
    "    plt.title(\"GPD = \"+str(gridpoints_per_diameter))\n",
    "    ax.set_xticks(np.arange(-.5, xmax, 1), minor=True)\n",
    "    ax.set_yticks(np.arange(-.5, ymax, 1), minor=True)\n",
    "    if gridpoints_per_diameter < 30:\n",
    "        ax.grid(which=\"minor\", color=\"k\", axis='both', linestyle='-', linewidth=2)\n",
    "    elif gridpoints_per_diameter < 70:\n",
    "        ax.grid(which=\"minor\", color=\"k\", axis='both', linestyle='-', linewidth=1)\n",
    "    elif gridpoints_per_diameter < 100:\n",
    "        ax.grid(which=\"minor\", color=\"k\", axis='both', linestyle='-', linewidth=0.5)\n",
    "    elif gridpoints_per_diameter < 150:\n",
    "        ax.grid(which=\"minor\", color=\"k\", axis='both', linestyle='-', linewidth=0.25)\n",
    "    plt.savefig(output_path+dir_name +\"/\"+timestamp + \"obtacle_mask_GPD\" + str(gridpoints_per_diameter) + \".png\")\n",
    "    #plt.close()"
   ],
   "metadata": {
    "collapsed": false
   }
  },
  {
   "cell_type": "code",
   "execution_count": 13,
   "outputs": [
    {
     "name": "stdout",
     "output_type": "stream",
     "text": [
      "MLUPS: 6.935344728771674\n",
      "PU-Time:  200.0056802526702  seconds\n",
      "number of steps: 34642\n",
      "runtime:  156.0948736667633 seconds ( 2.6 minutes )\n",
      "collision avg. time: 0.00033302436724685577 seconds (7.39 %)\n",
      "streaming avg. time: 0.0008550114812701207 seconds (18.98 %)\n",
      "boundary avg. time: 0.0028173180670280737 seconds (62.54 %)\n",
      "reporter avg. time: 0.0004996483657668551 seconds (11.09 %)\n"
     ]
    }
   ],
   "source": [
    "### simple simulation\n",
    "\n",
    "t_start=time.time()\n",
    "\n",
    "mlups = sim.step(n_steps) #simulation\n",
    "\n",
    "t_end=time.time()\n",
    "runtime=t_end-t_start\n",
    "print(\"MLUPS:\", mlups)\n",
    "print(\"PU-Time: \",flow.units.convert_time_to_pu(n_steps),\" seconds\")\n",
    "print(\"number of steps:\",n_steps)\n",
    "print(\"runtime: \",runtime, \"seconds (\", round(runtime/60,2),\"minutes )\")\n",
    "\n",
    "c_time = sim.time_avg[\"time_collision\"]\n",
    "s_time = sim.time_avg[\"time_streaming\"]\n",
    "b_time = sim.time_avg[\"time_boundary\"]\n",
    "r_time = sim.time_avg[\"time_reporter\"]\n",
    "sum_time = sim.time_avg[\"time_collision\"] + sim.time_avg[\"time_streaming\"] + sim.time_avg[\"time_boundary\"] + sim.time_avg[\"time_reporter\"]\n",
    "\n",
    "print(\"collision avg. time:\", sim.time_avg[\"time_collision\"], \"seconds (\" + str(round(100 * c_time/sum_time, 2)) + \" %)\")\n",
    "print(\"streaming avg. time:\", sim.time_avg[\"time_streaming\"], \"seconds (\" + str(round(100 * s_time/sum_time, 2)) + \" %)\")\n",
    "print(\"boundary avg. time:\", sim.time_avg[\"time_boundary\"], \"seconds (\" + str(round(100 * b_time/sum_time, 2)) + \" %)\")\n",
    "print(\"reporter avg. time:\", sim.time_avg[\"time_reporter\"], \"seconds (\" + str(round(100 * r_time/sum_time, 2)) + \" %)\")"
   ],
   "metadata": {
    "collapsed": false
   }
  },
  {
   "cell_type": "code",
   "execution_count": 14,
   "outputs": [],
   "source": [
    "### export stats\n",
    "if output_data:\n",
    "    output_file = open(output_path+dir_name+\"/\"+timestamp + \"_stats.txt\", \"a\")\n",
    "    output_file.write(\"DATA for \"+timestamp)\n",
    "    output_file.write(\"\\n\\n###   SIM-STATS  ###\")\n",
    "    output_file.write(\"\\nruntime = \"+str(runtime)+ \" seconds (=\"+str(runtime/60)+\" minutes)\")\n",
    "    output_file.write(\"\\nMLUPS = \"+str(mlups))\n",
    "    output_file.write(\"\\n\")\n",
    "    output_file.write(\"\\navg. Collision-Time [s] = \" + str(c_time) + \" (\" + str(round(100 * c_time/sum_time, 2)) + \" %)\")\n",
    "    output_file.write(\"\\navg. Streaming-Time [s] = \" + str(s_time) + \" (\" + str(round(100 * s_time/sum_time, 2)) + \" %)\")\n",
    "    output_file.write(\"\\navg. Boundary-Time  [s] = \" + str(b_time) + \" (\" + str(round(100 * b_time/sum_time, 2)) + \" %)\")\n",
    "    output_file.write(\"\\navg. Reporter-Time  [s] = \" + str(r_time) + \" (\" + str(round(100 * r_time/sum_time, 2)) + \" %)\")\n",
    "    output_file.write(\"\\n\")\n",
    "    output_file.write(\"\\nVRAM_current [MB] = \" + str(torch.cuda.memory_allocated(lattice.device)/1024/1024))\n",
    "    output_file.write(\"\\nVRAM_peak [MB] = \" + str(torch.cuda.max_memory_allocated(lattice.device)/1024/1024))\n",
    "    output_file.close()"
   ],
   "metadata": {
    "collapsed": false
   }
  },
  {
   "cell_type": "code",
   "execution_count": 15,
   "outputs": [],
   "source": [
    "# # TEST Clock\n",
    "#\n",
    "# print(\"Clock:\")\n",
    "# print(np.array(Clock.out))"
   ],
   "metadata": {
    "collapsed": false
   }
  },
  {
   "cell_type": "code",
   "execution_count": 16,
   "outputs": [],
   "source": [
    "# TEST AvgVelocity Reporter\n",
    "if output_velocity_profile:\n",
    "    print(\"AvgVelocity1\")\n",
    "    print(np.array(AvgVelocity1.out))\n",
    "    print(np.array(AvgVelocity1.out).shape)"
   ],
   "metadata": {
    "collapsed": false
   }
  },
  {
   "cell_type": "code",
   "execution_count": 17,
   "outputs": [],
   "source": [
    "# plot AvgVelocity\n",
    "if output_velocity_profile:\n",
    "    avg_u_start = 0.5\n",
    "\n",
    "    if output_data:\n",
    "        np.save(output_path+dir_name+\"/AvgVelocity_1.npy\", np.array(AvgVelocity1.out))\n",
    "        np.save(output_path+dir_name+\"/AvgVelocity_2.npy\", np.array(AvgVelocity2.out))\n",
    "        np.save(output_path+dir_name+\"/AvgVelocity_3.npy\", np.array(AvgVelocity3.out))\n",
    "\n",
    "    avg_u1 = np.array(AvgVelocity1.out)[int(avg_u_start*np.array(AvgVelocity1.out).shape[0]-1):]\n",
    "    avg_u2 = np.array(AvgVelocity2.out)[int(avg_u_start*np.array(AvgVelocity2.out).shape[0]-1):]\n",
    "    avg_u3 = np.array(AvgVelocity3.out)[int(avg_u_start*np.array(AvgVelocity3.out).shape[0]-1):]\n",
    "\n",
    "    avg_u1 = np.mean(avg_u1, axis=0)  # time average\n",
    "    avg_u2 = np.mean(avg_u2, axis=0)  # time average\n",
    "    avg_u3 = np.mean(avg_u3, axis=0)  # time average\n",
    "\n",
    "    avg_u1_x = avg_u1[0]  # u_x component over y\n",
    "    avg_u2_x = avg_u2[0]  # u_x component over y\n",
    "    avg_u3_x = avg_u3[0]  # u_x component over y\n",
    "\n",
    "    avg_u1_y = avg_u1[1]  # u_y component over y\n",
    "    avg_u2_y = avg_u2[1]  # u_y component over y\n",
    "    avg_u3_y = avg_u3[1]  # u_y component over y\n",
    "\n",
    "    y_in_D = (np.arange(avg_u1_x.shape[0])+1-flow.y_pos)/flow.units.characteristic_length_lu  # y/D for figure\n",
    "\n",
    "    # PLOT ux\n",
    "    fig, ax = plt.subplots(constrained_layout=True)\n",
    "    ax.plot(y_in_D,avg_u1_x, y_in_D, avg_u2_x, y_in_D, avg_u3_x)\n",
    "    ax.set_xlabel(\"y/D\")\n",
    "    ax.set_ylabel(r\"$\\bar{u}_{x}$/$u_{char}$\")\n",
    "    ax.legend([\"x/D = 1.06\", \"x/D = 1.54\", \"x/D = 2.02\"])\n",
    "\n",
    "    # OPT. TO DO: add secondary axis for LU-grid\n",
    "    # ...needs 'function' to convert from y/D in LU and LU in y/D\n",
    "\n",
    "    # OPT. TO DO: make folder for AvgVelocity-stuff\n",
    "    if output_data:\n",
    "        plt.savefig(output_path+dir_name+\"/AvgVelocity_x.png\")\n",
    "    plt.show()\n",
    "\n",
    "    # PLOT uy\n",
    "    fig, ax = plt.subplots(constrained_layout=True)\n",
    "    ax.plot(y_in_D,avg_u1_y, y_in_D, avg_u2_y, y_in_D, avg_u3_y)\n",
    "    ax.set_xlabel(\"y/D\")\n",
    "    ax.set_ylabel(r\"$\\bar{u}_{y}$/$u_{char}$\")\n",
    "    ax.legend([\"x/D = 1.06\", \"x/D = 1.54\", \"x/D = 2.02\"])\n",
    "\n",
    "    # OPT. TO DO: add secondary axis for LU-grid\n",
    "    # ...needs 'function' to convert from y/D in LU and LU in y/D\n",
    "\n",
    "    # OPT. TO DO: make folder for AvgVelocity-stuff\n",
    "\n",
    "    # !!! QUESTION: is x/D the position measured FROM the cylinder (x_pos), or measured from x=0 ?\n",
    "\n",
    "    if output_data:\n",
    "        plt.savefig(output_path+dir_name+\"/AvgVelocity_y.png\")\n",
    "    plt.show()"
   ],
   "metadata": {
    "collapsed": false
   }
  },
  {
   "cell_type": "code",
   "execution_count": 18,
   "outputs": [
    {
     "ename": "NameError",
     "evalue": "name 'y_in_D' is not defined",
     "output_type": "error",
     "traceback": [
      "\u001B[0;31m---------------------------------------------------------------------------\u001B[0m",
      "\u001B[0;31mNameError\u001B[0m                                 Traceback (most recent call last)",
      "Input \u001B[0;32mIn [18]\u001B[0m, in \u001B[0;36m<cell line: 1>\u001B[0;34m()\u001B[0m\n\u001B[0;32m----> 1\u001B[0m \u001B[43my_in_D\u001B[49m\n",
      "\u001B[0;31mNameError\u001B[0m: name 'y_in_D' is not defined"
     ]
    }
   ],
   "source": [
    "y_in_D"
   ],
   "metadata": {
    "collapsed": false
   }
  },
  {
   "cell_type": "code",
   "execution_count": null,
   "outputs": [],
   "source": [
    "### plot Drag coefficient\n",
    "\n",
    "drag_coefficient = np.array(Dragreport.out)\n",
    "#print('  stepLU        ', 'timePU        ', 'Cd')\n",
    "#print(drag_coefficient) # prints: stepLU, timePU, value\n",
    "\n",
    "fig, ax = plt.subplots(constrained_layout=True)\n",
    "ax.plot(drag_coefficient[:,1],drag_coefficient[:,2])\n",
    "ax.set_xlabel(\"physical time / s\")\n",
    "ax.set_ylabel(\"Coefficient of Drag Cd\")\n",
    "ax.set_ylim([0.5,1.6])\n",
    "ax.set_ylim([0.5,3])\n",
    "secax = ax.secondary_xaxis('top', functions=(flow.units.convert_time_to_lu, flow.units.convert_time_to_pu))\n",
    "secax.set_xlabel(\"timesteps (simulation time / LU)\")\n",
    "if output_data:\n",
    "    plt.savefig(output_path+dir_name+\"/drag_coefficient.png\")\n",
    "    np.savetxt(output_path+dir_name+\"/drag_coefficient.txt\", drag_coefficient, header=\"stepLU  |  timePU  |  Cd  FROM str(timestamp)\")\n",
    "ax.set_ylim([drag_coefficient[int(drag_coefficient.shape[0]*periodic_start-1):,2].min()*0.5,drag_coefficient[int(drag_coefficient.shape[0]*periodic_start-1):,2].max()*1.2])\n",
    "if output_data:\n",
    "    plt.savefig(output_path+dir_name+\"/drag_coefficient_adjusted.png\")\n",
    "plt.show()"
   ],
   "metadata": {
    "collapsed": false
   }
  },
  {
   "cell_type": "code",
   "execution_count": null,
   "outputs": [],
   "source": [
    "### calculate mean drag_coefficient in periodic region:\n",
    "try:\n",
    "    values = drag_coefficient[int(drag_coefficient.shape[0]*periodic_start-1):,2]\n",
    "\n",
    "    peaks_max = find_peaks(values, prominence=((values.max()-values.min())/2))\n",
    "    peaks_min = find_peaks(-values, prominence=((values.max()-values.min())/2))\n",
    "    # find peaks only works correctly, if simulation is converged in the periodic region...\n",
    "\n",
    "    if peaks_min[0].shape[0] - peaks_max[0].shape[0] > 0:\n",
    "        peak_number = peaks_max[0].shape[0]\n",
    "    else:\n",
    "        peak_number = peaks_min[0].shape[0]\n",
    "\n",
    "    if peaks_min[0][0] < peaks_max[0][0]:\n",
    "        first_peak = peaks_min[0][0]\n",
    "        last_peak = peaks_max[0][peak_number-1]\n",
    "    else:\n",
    "        first_peak = peaks_max[0][0]\n",
    "        last_peak = peaks_min[0][peak_number-1]\n",
    "\n",
    "    drag_mean = values[first_peak:last_peak].mean()\n",
    "    drag_mean_simple = values.mean()\n",
    "\n",
    "    print(\"Cd, simple mean:     \",drag_mean_simple)\n",
    "    print(\"Cd, peak_finder mean:\",drag_mean)\n",
    "    print(\"start time of 'mean'-ing:\",drag_coefficient[int(drag_coefficient.shape[0]*periodic_start-1),1])\n",
    "    ## plotting peaks from peak_finder:\n",
    "    drag_stepsLU = drag_coefficient[int(drag_coefficient.shape[0]*periodic_start-1):,0]\n",
    "    peak_max_y = values[peaks_max[0]]\n",
    "    peak_max_x = drag_stepsLU[peaks_max[0]]\n",
    "    peak_min_y = values[peaks_min[0]]\n",
    "    peak_min_x = drag_stepsLU[peaks_min[0]]\n",
    "\n",
    "    plt.plot(drag_stepsLU, values)\n",
    "    plt.scatter(peak_max_x[:peak_number],peak_max_y[:peak_number])\n",
    "    plt.scatter(peak_min_x[:peak_number],peak_min_y[:peak_number])\n",
    "    plt.scatter(drag_stepsLU[first_peak],values[first_peak])\n",
    "    plt.scatter(drag_stepsLU[last_peak],values[last_peak])\n",
    "    if output_data:\n",
    "        plt.savefig(output_path+dir_name+\"/drag_coefficient_peakfinder.png\")\n",
    "    peakfinder=True\n",
    "except:\n",
    "    print(\"peak-finding didn't work... probably no significant peaks visible (Re<46?), or periodic region not reached (T too small)\")\n",
    "    values = drag_coefficient[int(drag_coefficient.shape[0]*periodic_start-1):,2]\n",
    "    drag_mean_simple = values.mean()\n",
    "    peakfinder=False\n",
    "    print(\"Cd, simple mean:\",drag_mean_simple)"
   ],
   "metadata": {
    "collapsed": false
   }
  },
  {
   "cell_type": "code",
   "execution_count": null,
   "outputs": [],
   "source": [
    "### plot Lift coefficient\n",
    "\n",
    "lift_coefficient = np.array(Liftreport.out)\n",
    "# print('  stepLU        ', 'timePU        ', 'Cl')\n",
    "# print(lift_coefficient) # prints: stepLU, timePU, value\n",
    "\n",
    "fig, ax = plt.subplots(constrained_layout=True)\n",
    "ax.plot(lift_coefficient[:,1],lift_coefficient[:,2])\n",
    "ax.set_xlabel(\"physical time / s\")\n",
    "ax.set_ylabel(\"Coefficient of Lift Cl\")\n",
    "ax.set_ylim([-1.1,1.1])\n",
    "secax = ax.secondary_xaxis('top', functions=(flow.units.convert_time_to_lu, flow.units.convert_time_to_pu))\n",
    "secax.set_xlabel(\"timesteps (simulation time / LU)\")\n",
    "if output_data:\n",
    "    plt.savefig(output_path+dir_name+\"/lift_coefficient.png\")\n",
    "    np.savetxt(output_path+dir_name+\"/lift_coefficient.txt\", lift_coefficient, header=\"stepLU  |  timePU  |  Cl  FROM str(timestamp)\")\n",
    "plt.show()\n",
    "\n",
    "Cl_min = lift_coefficient[int(lift_coefficient[:,2].shape[0]*0.5):,2].min()\n",
    "Cl_max = lift_coefficient[int(lift_coefficient[:,2].shape[0]*0.5):,2].max()\n",
    "\n",
    "print(\"Cl_peaks: \\nmin\", Cl_min,\"\\nmax\", Cl_max)"
   ],
   "metadata": {
    "collapsed": false
   }
  },
  {
   "cell_type": "code",
   "execution_count": null,
   "outputs": [],
   "source": [
    "### prototyped fft for frequency detection and calculation of strouhal-number\n",
    "# ! Drag_frequency is 2* Strouhal-Freq. Lift-freq. is Strouhal-Freq.\n",
    "\n",
    "try:\n",
    "    X = np.fft.fft(lift_coefficient[:,2])   # fft result (amplitudes)\n",
    "    N = len(X)  # number of freqs\n",
    "    n = np.arange(N)   # freq index\n",
    "    T = N*flow.units.convert_time_to_pu(1)   # total time measured (T_PU)\n",
    "    freq = n/T   # frequencies (x-axis of spectrum)\n",
    "\n",
    "    plt.figure\n",
    "    plt.stem(freq, np.abs(X), 'b', markerfmt=\" \", basefmt=\"-b\")   # plot spectrum |X|(f)\n",
    "    plt.xlabel(\"Freq (Hz)\")\n",
    "    plt.ylabel(\"FFT Amplitude |X(freq)|\")\n",
    "    plt.xlim(0,1)\n",
    "    #print(\"max. Amplitude np.abx(X).max():\", np.abs(X).max())   # for debugging\n",
    "    plt.ylim(0,np.abs(X[:int(X.shape[0]*0.5)]).max())   # ylim, where highes peak is on left half of full spectrum\n",
    "\n",
    "    if output_data:\n",
    "        plt.savefig(output_path+dir_name+\"/fft_Cl.png\")\n",
    "\n",
    "    freq_res = freq[1]-freq[0]   # frequency-resolution\n",
    "    X_abs = np.abs(X[:int(X.shape[0]*0.4)])   # get |X| Amplitude for left half of full spectrum\n",
    "    freq_peak = freq[np.argmax(X_abs)]    # find frequency with the highest amplitude\n",
    "    print(\"Frequency Peak:\", freq_peak, \"+-\", freq_res, \"Hz\")\n",
    "    # f = Strouhal for St=f*D/U and D=U=1 in PU\n",
    "except:\n",
    "    print(\"Strouhal-calculation failed, check simulation data\")\n",
    "    freq_res=0\n",
    "    freq_peak=0"
   ],
   "metadata": {
    "collapsed": false
   }
  },
  {
   "cell_type": "code",
   "execution_count": null,
   "outputs": [],
   "source": [
    "# save notebook to simulation_output\n",
    "if output_data:\n",
    "    try:\n",
    "        shutil.copy(str(os.getcwd())+\"/cylinder3D_development_v2.ipynb\",output_path+dir_name+\"/script.ipynb\")\n",
    "    except:\n",
    "        print(\"script could not be saved\")\n",
    "else:\n",
    "    print(\"output_data-toggle is FALSE\")"
   ],
   "metadata": {
    "collapsed": false
   }
  },
  {
   "cell_type": "code",
   "execution_count": null,
   "outputs": [],
   "source": [
    "### plot Drag coefficient AND Lift Coefficient\n",
    "\n",
    "#drag_coefficient = np.array(Dragreport.out)\n",
    "#lift_coefficient = np.array(Liftreport.out)\n",
    "\n",
    "fig, ax = plt.subplots(layout=\"constrained\")\n",
    "drag_ax = ax.plot(drag_coefficient[:,1],drag_coefficient[:,2], color=\"tab:blue\", label=\"Drag\")\n",
    "ax.set_xlabel(\"physical time / s\")\n",
    "ax.set_ylabel(\"Coefficient of Drag Cd\")\n",
    "ax.set_ylim([0.5,1.6])\n",
    "\n",
    "secax = ax.secondary_xaxis('top', functions=(flow.units.convert_time_to_lu, flow.units.convert_time_to_pu))\n",
    "secax.set_xlabel(\"timesteps (simulation time / LU)\")\n",
    "\n",
    "ax2 = ax.twinx()\n",
    "lift_ax = ax2.plot(lift_coefficient[:,1],lift_coefficient[:,2], color=\"tab:orange\", label=\"Lift\")\n",
    "ax2.set_ylabel(\"Coefficient of Lift Cl\")\n",
    "ax2.set_ylim([-1.1,1.1])\n",
    "\n",
    "\n",
    "fig.legend(loc=\"upper left\", bbox_to_anchor=(0,1), bbox_transform=ax.transAxes)\n",
    "\n",
    "if output_data:\n",
    "    plt.savefig(output_path+dir_name+\"/dragAndLift_coefficient.png\")\n",
    "\n",
    "plt.show()"
   ],
   "metadata": {
    "collapsed": false
   }
  },
  {
   "cell_type": "code",
   "execution_count": null,
   "outputs": [],
   "source": [
    "### Analysis of GPU memory usage (tensors)\n",
    "\n",
    "if output_data:\n",
    "### cudas own memory summary\n",
    "    print(torch.cuda.memory_summary(device=\"cuda:0\"))\n",
    "    ### CUDA-VRAM-summary:\n",
    "    output_file = open(output_path+dir_name+\"/\"+timestamp + \"_GPU_memory_summary.txt\", \"a\")\n",
    "    output_file.write(\"DATA for \"+timestamp+\"\\n\\n\")\n",
    "    output_file.write(torch.cuda.memory_summary(device=\"cuda:0\"))\n",
    "    output_file.close()\n",
    "\n",
    "### list present torch tensors:\n",
    "    output_file = open(output_path+dir_name+\"/\"+timestamp + \"_GPU_list_of_tensors.txt\", \"a\")\n",
    "    total_bytes = 0\n",
    "    import gc\n",
    "    for obj in gc.get_objects():\n",
    "        try:\n",
    "            if torch.is_tensor(obj) or (hasattr(obj,'data') and torch.is_tensor(obj.data)):\n",
    "                output_file.write(\"\\n\"+str(obj.size())+\", \"+str(obj.nelement()*obj.element_size()))\n",
    "                total_bytes = total_bytes+obj.nelement()*obj.element_size()\n",
    "        except:\n",
    "            pass\n",
    "    #output_file.write(\"\\n\\ntotal bytes for tensors:\"+str(total_bytes))\n",
    "    output_file.close()\n",
    "\n",
    "### count occurence of tensors in list of tensors:\n",
    "    from collections import Counter\n",
    "    my_file = open(output_path+dir_name+\"/\"+timestamp + \"_GPU_list_of_tensors.txt\",\"r\")\n",
    "    data=my_file.read()\n",
    "    my_file.close()\n",
    "    data_into_list=data.split(\"\\n\")\n",
    "    c = Counter(data_into_list)\n",
    "    output_file = open(output_path+dir_name+\"/\"+timestamp + \"_GPU_counted_tensors.txt\", \"a\")\n",
    "    for k,v in c.items():\n",
    "        output_file.write(\"type,size,bytes: {}, number: {}\\n\".format(k,v) )\n",
    "    output_file.write(\"\\ntotal bytes for tensors:\"+str(total_bytes))\n",
    "    output_file.close()"
   ],
   "metadata": {
    "collapsed": false
   }
  },
  {
   "cell_type": "code",
   "execution_count": null,
   "outputs": [],
   "source": [
    "# output data\n",
    "if output_data:\n",
    "    output_file = open(output_path+dir_name+\"/\"+timestamp + \"_parms_stats_obs.txt\", \"a\")\n",
    "    output_file.write(\"DATA for \"+timestamp)\n",
    "    output_file.write(\"\\n\\n###   SIM-Parameters   ###\")\n",
    "    output_file.write(\"\\nRe = \"+str(re))\n",
    "    output_file.write(\"\\nn_steps = \"+str(n_steps))\n",
    "    output_file.write(\"\\nT_target = \"+str(flow.units.convert_time_to_pu(n_steps))+\" seconds\")\n",
    "    output_file.write(\"\\ngridpoints_per_diameter (gpd) = \"+str(gridpoints_per_diameter))\n",
    "    if gpd_correction:\n",
    "        output_file.write(\"\\ngpd was corrected from: \"+str(gpd_setup)+\" to \"+str(gridpoints_per_diameter)+\" because D/Y is even\")\n",
    "    output_file.write(\"\\nDpX (D/X) = \" + str(domain_length_in_D))\n",
    "    output_file.write(\"\\nDpY (D/Y) = \"+str(domain_height_in_D))\n",
    "    if lattice.D == 3:\n",
    "        output_file.write(\"\\nDpZ (D/Z) = \"+str(domain_width_in_D))\n",
    "    output_file.write(\"\\nshape_LU: \"+ str(flow.shape))\n",
    "    output_file.write((\"\\ntotal_number_of_gridpoints: \"+str(lattice.rho(sim.f).numel())))\n",
    "    output_file.write(\"\\nbc_type = \"+str(bc_type))\n",
    "    output_file.write(\"\\nlateral_walls = \"+str(lateral_walls))\n",
    "    output_file.write(\"\\nstencil = \"+str(stencil_choice))\n",
    "    output_file.write(\"\\ncollision = \" + str(collision_choice))\n",
    "    output_file.write(\"\\n\")\n",
    "    output_file.write(\"\\nMa = \" + str(Ma))\n",
    "    output_file.write(\"\\ntau = \" + str(tau))\n",
    "    output_file.write(\"\\ngrid_reynolds_number (Re_g) = \" + str(re_g))\n",
    "    output_file.write(\"\\n\")\n",
    "    output_file.write(\"\\nsetup_diameter_PU = \" + str(setup_diameter))\n",
    "    output_file.write(\"\\nflow_velocity_PU = \" + str(flow_velocity))\n",
    "    output_file.write(\"\\nu_init = \" + str(u_init))\n",
    "    output_file.write(\"\\nperturb_init = \" + str(perturb_init))\n",
    "    output_file.write(\"\\n\")\n",
    "    output_file.write(\"\\noutput_vtk = \" + str(output_vtk))\n",
    "    output_file.write(\"\\nvtk_fps = \" + str(vtk_fps))\n",
    "\n",
    "    output_file.write(\"\\n\\n###   SIM-STATS  ###\")\n",
    "    output_file.write(\"\\nruntime = \"+str(runtime)+ \" seconds (=\"+str(runtime/60)+\" minutes)\")\n",
    "    output_file.write(\"\\nMLUPS = \"+str(mlups))\n",
    "    output_file.write(\"\\n\")\n",
    "    output_file.write(\"\\navg. Collision-Time [s] = \" + str(c_time) + \" (\" + str(round(100 * c_time/sum_time, 2)) + \" %)\")\n",
    "    output_file.write(\"\\navg. Streaming-Time [s] = \" + str(s_time) + \" (\" + str(round(100 * s_time/sum_time, 2)) + \" %)\")\n",
    "    output_file.write(\"\\navg. Boundary-Time  [s] = \" + str(b_time) + \" (\" + str(round(100 * b_time/sum_time, 2)) + \" %)\")\n",
    "    output_file.write(\"\\navg. Reporter-Time  [s] = \" + str(r_time) + \" (\" + str(round(100 * r_time/sum_time, 2)) + \" %)\")\n",
    "    output_file.write(\"\\n\")\n",
    "    output_file.write(\"\\nVRAM_current [MB] = \" + str(torch.cuda.memory_allocated(lattice.device)/1024/1024))\n",
    "    output_file.write(\"\\nVRAM_peak [MB] = \" + str(torch.cuda.max_memory_allocated(lattice.device)/1024/1024))\n",
    "\n",
    "    output_file.write(\"\\n\\n###   OBSERVABLES   ###\")\n",
    "    output_file.write(\"\\nCoefficient of drag between \"+str(round(drag_coefficient[int(drag_coefficient.shape[0]*periodic_start-1),1],2))+\" s and \"+str(round(drag_coefficient[int(drag_coefficient.shape[0]-1),1],2))+\" s:\")\n",
    "    output_file.write(\"\\nCd_mean, simple      = \"+str(drag_mean_simple))\n",
    "    if peakfinder:\n",
    "        output_file.write(\"\\nCd_mean, peak_finder = \"+str(drag_mean))\n",
    "    else:\n",
    "        output_file.write(\"\\nnoPeaksFound\")\n",
    "    output_file.write(\"\\nCd_min = \"+str(drag_coefficient[int(drag_coefficient.shape[0]*periodic_start-1):,2].min()))\n",
    "    output_file.write(\"\\nCd_max = \"+str(drag_coefficient[int(drag_coefficient.shape[0]*periodic_start-1):,2].max()))\n",
    "    output_file.write(\"\\n\")\n",
    "    output_file.write(\"\\nCoefficient of lift:\")\n",
    "    output_file.write(\"\\nCl_min = \"+str(Cl_min))\n",
    "    output_file.write(\"\\nCl_max = \"+str(Cl_max))\n",
    "    output_file.write(\"\\n\")\n",
    "    output_file.write(\"\\nStrouhal number:\")\n",
    "    output_file.write(\"\\nSt +- df = \"+str(freq_peak)+\" +- \"+str(freq_res)+\" Hz\")\n",
    "    output_file.write(\"\\n\")\n",
    "    output_file.close()\n"
   ],
   "metadata": {
    "collapsed": false
   }
  },
  {
   "cell_type": "code",
   "execution_count": null,
   "outputs": [],
   "source": [
    "if output_data:\n",
    "    output_file = open(output_path+dir_name+\"/\"+timestamp + \"_parms_stats_obs_copyable.txt\", \"a\")\n",
    "\n",
    "    output_file.write(\"DATA for \"+timestamp)\n",
    "    output_file.write(\"\\n\\n###   Data:   ###\")\n",
    "    output_file.write(\"\\nRe, n_steps, t_target(PU), GPD, DpX, DpY, (DpZ), shape_LU, gridpoints, bc_type, lateral_walls, stencil, collision, Ma, tau, Re_grid, setup_diameter_PU, flow_velocity_PU, u_init, perturb_init, output_vtk, vtk_fps, runtime, MLUPS, c_time, s_time, b_time, r_time, VRAM_current_MB, VRAM_peak_MB, periodic_start, Cd_mean, Cd_mean_pf, Cd_min, Cd_max, Cl_min, Cl_max, St, df\")\n",
    "    output_file.write(\"\\n\" + str(re))\n",
    "    output_file.write(\"\\n\" + str(n_steps))\n",
    "    output_file.write(\"\\n\" + str(flow.units.convert_time_to_pu(n_steps)))\n",
    "    output_file.write(\"\\n\" + str(gridpoints_per_diameter))\n",
    "    if gpd_correction:\n",
    "        output_file.write(\"\\ngpd was corrected from: \"+str(gpd_setup)+\" to \"+str(gridpoints_per_diameter)+\" because D/Y is even\")\n",
    "    output_file.write(\"\\n\" + str(domain_length_in_D))\n",
    "    output_file.write(\"\\n\" + str(domain_height_in_D))\n",
    "    if lattice.D == 3:\n",
    "        output_file.write(\"\\n\" + str(domain_width_in_D))\n",
    "    output_file.write(\"\\n\" + str(flow.shape))\n",
    "    output_file.write(\"\\n\" + str(lattice.rho(sim.f).numel()))\n",
    "    output_file.write(\"\\n\"+str(bc_type))\n",
    "    output_file.write(\"\\n\"+str(lateral_walls))\n",
    "    output_file.write(\"\\n\"+str(stencil_choice))\n",
    "    output_file.write(\"\\n\" + str(collision_choice))\n",
    "    output_file.write(\"\\n\")\n",
    "    output_file.write(\"\\n\" + str(Ma))\n",
    "    output_file.write(\"\\n\" + str(tau))\n",
    "    output_file.write(\"\\n\" + str(re_g))\n",
    "    output_file.write(\"\\n\")\n",
    "    output_file.write(\"\\n\" + str(setup_diameter))\n",
    "    output_file.write(\"\\n\" + str(flow_velocity))\n",
    "    output_file.write(\"\\n\" + str(u_init))\n",
    "    output_file.write(\"\\n\" + str(perturb_init))\n",
    "    output_file.write(\"\\n\")\n",
    "    output_file.write(\"\\n\" + str(output_vtk))\n",
    "    output_file.write(\"\\n\" + str(vtk_fps))\n",
    "    output_file.write(\"\\n\")\n",
    "\n",
    "    output_file.write(\"\\n\"+str(runtime))\n",
    "    output_file.write(\"\\n\"+str(mlups))\n",
    "    output_file.write(\"\\n\")\n",
    "    output_file.write(\"\\n\" + str(c_time))\n",
    "    output_file.write(\"\\n\" + str(s_time))\n",
    "    output_file.write(\"\\n\" + str(b_time))\n",
    "    output_file.write(\"\\n\" + str(r_time))\n",
    "    output_file.write(\"\\n\")\n",
    "    output_file.write(\"\\n\" + str(torch.cuda.memory_allocated(lattice.device)/1024/1024))\n",
    "    output_file.write(\"\\n\" + str(torch.cuda.max_memory_allocated(lattice.device)/1024/1024))\n",
    "    output_file.write(\"\\n\")\n",
    "\n",
    "    output_file.write(\"\\n\" + str(periodic_start))\n",
    "    output_file.write(\"\\n\"+str(drag_mean_simple))\n",
    "    if peakfinder:\n",
    "        output_file.write(\"\\n\"+str(drag_mean))\n",
    "    else:\n",
    "        output_file.write(\"\\nnoPeaksFound\")\n",
    "    output_file.write(\"\\n\"+str(drag_coefficient[int(drag_coefficient.shape[0]*periodic_start-1):,2].min()))\n",
    "    output_file.write(\"\\n\"+str(drag_coefficient[int(drag_coefficient.shape[0]*periodic_start-1):,2].max()))\n",
    "    output_file.write(\"\\n\")\n",
    "    output_file.write(\"\\n\"+str(Cl_min))\n",
    "    output_file.write(\"\\n\"+str(Cl_max))\n",
    "    output_file.write(\"\\n\")\n",
    "    output_file.write(\"\\n\"+str(freq_peak))\n",
    "    output_file.write(\"\\n\"+str(freq_res))\n",
    "    output_file.write(\"\\n\")\n",
    "    output_file.close()"
   ],
   "metadata": {
    "collapsed": false
   }
  },
  {
   "cell_type": "code",
   "execution_count": null,
   "outputs": [],
   "source": [
    "print(\"current VRAM (MB): \", torch.cuda.memory_allocated(device=\"cuda:0\")/1024/1024)\n",
    "print(\"max. VRAM (MB): \", torch.cuda.max_memory_allocated(device=\"cuda:0\")/1024/1024)"
   ],
   "metadata": {
    "collapsed": false
   }
  },
  {
   "cell_type": "code",
   "execution_count": null,
   "outputs": [],
   "source": [],
   "metadata": {
    "collapsed": false
   }
  }
 ],
 "metadata": {
  "kernelspec": {
   "display_name": "Python 3",
   "language": "python",
   "name": "python3"
  },
  "language_info": {
   "codemirror_mode": {
    "name": "ipython",
    "version": 2
   },
   "file_extension": ".py",
   "mimetype": "text/x-python",
   "name": "python",
   "nbconvert_exporter": "python",
   "pygments_lexer": "ipython2",
   "version": "2.7.6"
  }
 },
 "nbformat": 4,
 "nbformat_minor": 0
}
