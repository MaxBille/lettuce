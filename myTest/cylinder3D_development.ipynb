{
 "cells": [
  {
   "cell_type": "code",
   "execution_count": 1,
   "metadata": {
    "collapsed": true
   },
   "outputs": [],
   "source": [
    "import lettuce as lt\n",
    "import matplotlib.pyplot as plt\n",
    "from scipy.signal import find_peaks\n",
    "import numpy as np\n",
    "from lettuce.boundary import EquilibriumBoundaryPU, EquilibriumOutletP, AntiBounceBackOutlet\n",
    "from lettuce.observables import Observable\n",
    "from lettuce.unit import UnitConversion\n",
    "from lettuce.util import append_axes\n",
    "from lettuce import ObstacleMax3D\n",
    "import torch\n",
    "import time\n",
    "import datetime\n",
    "import os\n",
    "import shutil"
   ]
  },
  {
   "cell_type": "code",
   "execution_count": 2,
   "outputs": [],
   "source": [
    "### OUTPUT SETTINGS - do you want parameters, observables, plots, timeseries and/or vtk/vti-files? change the booleans below...\n",
    "# IMPORTANT: set correct output_path, for example \"/home/YourUserName/simulation_output\"\n",
    "output_path = \"/mnt/ScratchHDD1/Max_Scratch/lbm_simulations\"  # lokal HBRS\n",
    "#output_path = \"/home/max/Documents/lbm_simulations\"  # lokal Bonn\n",
    "#output_path = \"/home/mbille3s/02_lbm_simulations\"  # cluster HBRS\n",
    "\n",
    "# name: if you want something specific in the dir-name\n",
    "name = \"cylinder3D\"\n",
    "\n",
    "# data: .txt with timestamp, parameters and observable-values (mean coefficient of drag, max. coefficient of lift, Strouhal-Number) and plots\n",
    "# ...will be saved in [output_path]/data_[timestamp]_[name]/\n",
    "output_data = True\n",
    "\n",
    "# vtk/vti: save vtk\n",
    "# ...will be saved in [output_path]/data_[timestamp]_[name]/vtk/\n",
    "output_vtk = True\n",
    "vtk_fps=10  #frames per second_PU\n",
    "\n",
    "# choose stencil (D3Q15, D3Q19, D3Q27) and collision operator (\"bgk\", \"reg\", \"kbc\") for 3D simulation\n",
    "stencil_choice = \"D3Q27\"\n",
    "collision_choice = \"bgk\""
   ],
   "metadata": {
    "collapsed": false
   }
  },
  {
   "cell_type": "code",
   "execution_count": 9,
   "outputs": [
    {
     "name": "stdout",
     "output_type": "stream",
     "text": [
      "shape_LU: 760 x 380 x 80\n",
      "T with 200 steps: 0.27 seconds\n",
      "n_steps to simulate 1 second: 727.46 steps\n",
      "n_steps to simulate 200 seconds: 145492.0 steps\n",
      "No. of gridpoints: 23104000\n"
     ]
    }
   ],
   "source": [
    "### SIMULATION PARAMETERS (and estimation of timesteps needed to reach T_target)\n",
    "re = 200   # Reynoldsnumber\n",
    "Ma = 0.05     # Machnumber\n",
    "n_steps = 200  # number of steps\n",
    "setup_diameter = 1  # D_PU = char_length_pu -> this defines the PU-Reference\n",
    "flow_velocity = 1  # U_PU = char_velocity_pu -> this defines the PU-Reference velocity (u_max of inflow)\n",
    "\n",
    "# relative starting point for drag-measurement (make sure periodic state is reached)\n",
    "periodic_start = 0.9  # relative start of peak_finding for Cd_mean Measurement to cut of any transients\n",
    "\n",
    "# GEOMETRY\n",
    "gridpoints_per_diameter = 20  # gp_per_D = GPD -> this defines the resolution ( D_LU = GPD+1)\n",
    "domain_height_in_D = 19  # D/Y = DpY = diameters per domain width in Y-direction -> this defines the domain-size and total number of Lattice-Nodes\n",
    "domain_length_in_D = 2 * domain_height_in_D  # D/X = domain length in X- / flow-direction\n",
    "domain_width_in_D = 4#1/gridpoints_per_diameter  # D/Z = DpZ = diameters per domain width in Z-direction -> domain size in periodic 3rd dimension\n",
    "\n",
    "# RELATION [GPD to DpY] check\n",
    "# if DpY is even, resulting GPD can't be odd for symmetrical cylinder and channel\n",
    "# ...if DpY is even, GPD will be corrected to even GPD for symmetrical cylinder\n",
    "# ...use odd DpY to use odd GPD\n",
    "gpd_correction=False\n",
    "if domain_height_in_D % 2 == 0 and gridpoints_per_diameter % 2 != 0:\n",
    "    gpd_correction = True   # gpd_was_corrected-flag\n",
    "    gpd_setup = gridpoints_per_diameter   # store old gpd for output\n",
    "    gridpoints_per_diameter = int(gridpoints_per_diameter/2)*2   # make gpd even\n",
    "    print(\"(!) domain_height_in_D is even, gridpoints_per_diameter will be \"+str(gridpoints_per_diameter)+\". Use odd domain_height_in_D to enable use of odd GPD!\")\n",
    "\n",
    "# SIMULATOR settings\n",
    "u_init = 0    # initial velocity field: # 0: uniform u=0, # 1: uniform u=1, # 2: parabolic, amplitude u_char_lu (similar to poiseuille-flow)\n",
    "perturb_init = True   # perturb initial symmetry by small sine-wave in initial velocity field -> triggers Karman-vortex street for Re > 46#\n",
    "lateral_walls='periodic'  # type of top/bottom boundary: 'bounceback' = frictious wall, 'periodic' = periodic boundary, 'slip' = non-frictious wall\n",
    "bb_type='fwbb'  # choose algorithm for bounceback-boundaries: fullway 'fwbb' or halfway 'hwbb'\n",
    "cylinder = True    # obstacle: True = cylinder, False = no obstacle\n",
    "\n",
    "# T_PU to n_steps estimation: (for example for Re=200 the periodic state is reached for T_PU > 140\n",
    "T_target=200\n",
    "print(\"shape_LU:\", gridpoints_per_diameter*domain_length_in_D, \"x\", gridpoints_per_diameter*domain_height_in_D, \"x\", gridpoints_per_diameter*domain_width_in_D)\n",
    "print(\"T with\", n_steps, \"steps:\", round(n_steps * (setup_diameter/(gridpoints_per_diameter+1))*(Ma*1/np.sqrt(3)/flow_velocity),2), \"seconds\")\n",
    "print(\"n_steps to simulate 1 second:\", round(((gridpoints_per_diameter+1)/setup_diameter)*(flow_velocity/(Ma*1/np.sqrt(3))),2), \"steps\")\n",
    "print(\"n_steps to simulate\",T_target,\"seconds:\",T_target*round(((gridpoints_per_diameter+1)/setup_diameter)*(flow_velocity/(Ma*1/np.sqrt(3))),2), \"steps\")\n",
    "\n",
    "\n",
    "mlups_2060super = 20\n",
    "mlups_2080ti = 30   # 40 for GPD30,DpY19,nsteps=150000 (steigend mit der Auflösung)\n",
    "\n",
    "#if output_vtk:\n",
    " #   print(\"generates approx.\", int(vtk_fps*(n_steps * (setup_diameter/(gridpoints_per_diameter+1))*(Ma*1/np.sqrt(3)/flow_velocity)))+1, \".vti/.vtk-frames\")\n",
    "\n",
    "gridpoints = gridpoints_per_diameter**3*domain_length_in_D*domain_height_in_D*domain_width_in_D\n",
    "print(\"No. of gridpoints:\", gridpoints)"
   ],
   "metadata": {
    "collapsed": false
   }
  },
  {
   "cell_type": "code",
   "execution_count": 4,
   "outputs": [
    {
     "name": "stdout",
     "output_type": "stream",
     "text": [
      "vtk_path: /mnt/ScratchHDD1/Max_Scratch/lbm_simulations/data_230728_170618_cylinder3D_GPD1_10x5x1.0_D3Q19/vtk/out\n",
      "dir_name: /data_230728_170618_cylinder3D_GPD1_10x5x1.0_D3Q19\n"
     ]
    }
   ],
   "source": [
    "### (no user input) CREATE OUTPUT DIRECTORIES\n",
    "if output_data:  # toggle output\n",
    "\n",
    "    timestamp = datetime.datetime.now()\n",
    "    timestamp = timestamp.strftime(\"%y%m%d\")+\"_\"+timestamp.strftime(\"%H%M%S\")\n",
    "\n",
    "    dir_name = \"/data_\" + str(timestamp) + \"_\" + name + \"_GPD\" + str(gridpoints_per_diameter) + \"_\" + str(domain_length_in_D) + \"x\" + str(domain_height_in_D) + \"x\" + str(domain_width_in_D) + \"_D3Q19\"\n",
    "    os.makedirs(output_path+dir_name)\n",
    "\n",
    "    if output_vtk:\n",
    "        vtk_path = output_path+dir_name+\"/vtk/out\"\n",
    "        print(\"vtk_path: \" + vtk_path)\n",
    "    print(\"dir_name: \"+dir_name)\n",
    "else:\n",
    "    output_vtk = False"
   ],
   "metadata": {
    "collapsed": false
   }
  },
  {
   "cell_type": "code",
   "execution_count": 5,
   "outputs": [],
   "source": [
    "### SIMULATOR SETUP\n",
    "\n",
    "# stencil\n",
    "if stencil_choice == \"D3Q15\":\n",
    "    stencil=lt.D3Q15\n",
    "elif stencil_choice == \"D3Q19\":\n",
    "    stencil=lt.D3Q19\n",
    "else: # stencil_choice==\"D3Q27\"\n",
    "    stencil=lt.D3Q27\n",
    "\n",
    "# lattice\n",
    "# lattice = lt.Lattice(lt.D2Q9, \"cuda:0\", dtype=torch.float64, native=False)  # for \"new lettuce\"\n",
    "lattice = lt.Lattice(stencil, \"cuda:0\", dtype=torch.float64)  #for \"old lettuce\"\n",
    "    # stencil, device, dtype\n",
    "\n",
    "flow = ObstacleMax3D(reynolds_number=re, mach_number=Ma,\n",
    "                   lattice=lattice,\n",
    "                   char_length_pu=setup_diameter,\n",
    "                   char_length_lu=gridpoints_per_diameter+1,\n",
    "                   char_velocity_pu=flow_velocity,\n",
    "                   x_lu=domain_length_in_D*gridpoints_per_diameter,\n",
    "                   y_lu=domain_height_in_D*gridpoints_per_diameter,\n",
    "                   z_lu=domain_width_in_D*gridpoints_per_diameter,\n",
    "                   lateral_walls=lateral_walls,\n",
    "                   bb_type=bb_type,\n",
    "                   perturb_init=perturb_init,\n",
    "                   u_init=u_init\n",
    "                  )\n",
    "\n",
    "# define a Cylinder-Obstacle\n",
    "radius_LU = 0.5 * gridpoints_per_diameter\n",
    "y_pos_LU = 0.5 * gridpoints_per_diameter * domain_height_in_D + 0.5\n",
    "x_pos_LU = y_pos_LU\n",
    "\n",
    "index_list = tuple(np.linspace(1,n,n) for n in flow.shape)  # Tupel index lists (1-n (non zero-based!))\n",
    "xLU, yLU, zLU = np.meshgrid(*index_list, indexing='ij')  # meshgrid of x-, y- (and z-)indizes/indexs?/indexes?! - this is simulation, not grammar...\n",
    "\n",
    "condition = np.sqrt((xLU - x_pos_LU) ** 2 + (yLU - y_pos_LU) ** 2) < radius_LU\n",
    "flow.obstacle_mask[np.where(condition)] = 1\n",
    "\n",
    "\n",
    "### simulation object (simulator)\n",
    "tau = flow.units.relaxation_parameter_lu\n",
    "\n",
    "# collision\n",
    "if collision_choice == \"reg\":\n",
    "    collision=lt.RegularizedCollision(lattice, tau)\n",
    "elif collision_choice == \"kbc\":\n",
    "    collision=lt.KBCCollision3D(lattice,tau)\n",
    "else: # collision_choice = \"bgk\":\n",
    "    collision=lt.BGKCollision\n",
    "\n",
    "# simulation\n",
    "sim = lt.Simulation(flow, lattice,\n",
    "                    lt.BGKCollision(lattice, tau),\n",
    "                    # lt.RegularizedCollision(lattice, tau),\n",
    "                    # lt.KBCCollision2D(lattice,tau),\n",
    "                    lt.StandardStreaming(lattice)\n",
    "                   )\n",
    "    # Flow, Lattice-Parameter, CollisionOperator-Object(Parameter), Streaming-Object\n",
    "\n",
    "### Reporter\n",
    "\n",
    "# VTK Reporter -> Visualization\n",
    "if output_vtk:\n",
    "    VTKreport = lt.VTKReporter(lattice, flow, interval=int(flow.units.convert_time_to_lu(1/vtk_fps)), filename_base=vtk_path)\n",
    "    sim.reporters.append(VTKreport)\n",
    "\n",
    "# Observable reporter: drag coefficient\n",
    "DragObservable = lt.DragCoefficient(lattice,flow,sim._boundaries[-1],area=setup_diameter*flow.units.convert_length_to_pu(gridpoints_per_diameter*domain_width_in_D))  # ! area A=2*r is in PU and 1-dimensional in 2D\n",
    "Dragreport = lt.ObservableReporter(DragObservable, out=None)\n",
    "sim.reporters.append(Dragreport)\n",
    "\n",
    "# Observable reporter: lift coefficient\n",
    "LiftObservable = lt.LiftCoefficient(lattice,flow,sim._boundaries[-1],area=setup_diameter*flow.units.convert_length_to_pu(gridpoints_per_diameter*domain_width_in_D))\n",
    "Liftreport = lt.ObservableReporter(LiftObservable, out=None)\n",
    "sim.reporters.append(Liftreport)"
   ],
   "metadata": {
    "collapsed": false
   }
  },
  {
   "cell_type": "code",
   "execution_count": 6,
   "outputs": [],
   "source": [
    "# mlups = sim.step(100)\n",
    "# lattice.convert_to_numpy(lattice.u(sim.f))[:,:,:,0]"
   ],
   "metadata": {
    "collapsed": false
   }
  },
  {
   "cell_type": "code",
   "execution_count": 7,
   "outputs": [
    {
     "data": {
      "text/plain": "0.028867513459481294"
     },
     "execution_count": 7,
     "metadata": {},
     "output_type": "execute_result"
    }
   ],
   "source": [
    "flow.units.characteristic_velocity_lu"
   ],
   "metadata": {
    "collapsed": false
   }
  },
  {
   "cell_type": "code",
   "execution_count": 8,
   "outputs": [
    {
     "name": "stdout",
     "output_type": "stream",
     "text": [
      "MLUPS: 0.0177315272719062\n",
      "PU-Time:  2.886751345948129  seconds\n",
      "number of steps: 200\n",
      "runtime:  0.5640370845794678 seconds ( 0.01 minutes )\n",
      "Re: 200\n"
     ]
    }
   ],
   "source": [
    "### simple simulation\n",
    "\n",
    "t_start=time.time()\n",
    "\n",
    "mlups = sim.step(n_steps) #simulation\n",
    "\n",
    "t_end=time.time()\n",
    "runtime=t_end-t_start\n",
    "print(\"MLUPS:\", mlups)\n",
    "print(\"PU-Time: \",flow.units.convert_time_to_pu(n_steps),\" seconds\")\n",
    "print(\"number of steps:\",n_steps)\n",
    "print(\"runtime: \",runtime, \"seconds (\", round(runtime/60,2),\"minutes )\")\n",
    "print(\"Re:\",re)"
   ],
   "metadata": {
    "collapsed": false
   }
  },
  {
   "cell_type": "code",
   "execution_count": 9,
   "outputs": [
    {
     "data": {
      "text/plain": "<Figure size 640x480 with 1 Axes>",
      "image/png": "[encoded data removed]"
     },
     "metadata": {},
     "output_type": "display_data"
    }
   ],
   "source": [
    "### plot Drag coefficient\n",
    "\n",
    "drag_coefficient = np.array(Dragreport.out)\n",
    "#print('  stepLU        ', 'timePU        ', 'Cd')\n",
    "#print(drag_coefficient) # prints: stepLU, timePU, value\n",
    "\n",
    "fig, ax = plt.subplots(constrained_layout=True)\n",
    "ax.plot(drag_coefficient[:,1],drag_coefficient[:,2])\n",
    "ax.set_xlabel(\"physical time / s\")\n",
    "ax.set_ylabel(\"Coefficient of Drag Cd\")\n",
    "ax.set_ylim([0.5,2.0])\n",
    "secax = ax.secondary_xaxis('top', functions=(flow.units.convert_time_to_lu, flow.units.convert_time_to_pu))\n",
    "secax.set_xlabel(\"timesteps (simulation time / LU)\")\n",
    "if output_data:\n",
    "    plt.savefig(output_path+dir_name+\"/drag_coefficient.png\")\n",
    "    np.savetxt(output_path+dir_name+\"/drag_coefficient.txt\", drag_coefficient, header=\"stepLU  |  timePU  |  Cd  FROM str(timestamp)\")\n",
    "plt.show()"
   ],
   "metadata": {
    "collapsed": false
   }
  },
  {
   "cell_type": "code",
   "execution_count": 10,
   "outputs": [
    {
     "name": "stdout",
     "output_type": "stream",
     "text": [
      "Cd, simple mean:      3.451028409687524\n",
      "Cd, peak_finder mean: 3.4541702667280574\n",
      "start time of 'mean'-ing: 2.5836424546235754\n"
     ]
    },
    {
     "data": {
      "text/plain": "<Figure size 640x480 with 1 Axes>",
      "image/png": "[encoded data removed]"
     },
     "metadata": {},
     "output_type": "display_data"
    }
   ],
   "source": [
    "### calculate mean drag_coefficient in periodic region:\n",
    "try:\n",
    "    values = drag_coefficient[int(drag_coefficient.shape[0]*periodic_start-1):,2]\n",
    "\n",
    "    peaks_max = find_peaks(values, prominence=((values.max()-values.min())/2))\n",
    "    peaks_min = find_peaks(-values, prominence=((values.max()-values.min())/2))\n",
    "    # find peaks only works correctly, if simulation is converged in the periodic region...\n",
    "\n",
    "    if peaks_min[0].shape[0] - peaks_max[0].shape[0] > 0:\n",
    "        peak_number = peaks_max[0].shape[0]\n",
    "    else:\n",
    "        peak_number = peaks_min[0].shape[0]\n",
    "\n",
    "    if peaks_min[0][0] < peaks_max[0][0]:\n",
    "        first_peak = peaks_min[0][0]\n",
    "        last_peak = peaks_max[0][peak_number-1]\n",
    "    else:\n",
    "        first_peak = peaks_max[0][0]\n",
    "        last_peak = peaks_min[0][peak_number-1]\n",
    "\n",
    "    drag_mean = values[first_peak:last_peak].mean()\n",
    "    drag_mean_simple = values.mean()\n",
    "\n",
    "    print(\"Cd, simple mean:     \",drag_mean_simple)\n",
    "    print(\"Cd, peak_finder mean:\",drag_mean)\n",
    "    print(\"start time of 'mean'-ing:\",drag_coefficient[int(drag_coefficient.shape[0]*periodic_start-1),1])\n",
    "    ## plotting peaks from peak_finder:\n",
    "    drag_stepsLU = drag_coefficient[int(drag_coefficient.shape[0]*periodic_start-1):,0]\n",
    "    peak_max_y = values[peaks_max[0]]\n",
    "    peak_max_x = drag_stepsLU[peaks_max[0]]\n",
    "    peak_min_y = values[peaks_min[0]]\n",
    "    peak_min_x = drag_stepsLU[peaks_min[0]]\n",
    "\n",
    "    plt.plot(drag_stepsLU, values)\n",
    "    plt.scatter(peak_max_x[:peak_number],peak_max_y[:peak_number])\n",
    "    plt.scatter(peak_min_x[:peak_number],peak_min_y[:peak_number])\n",
    "    plt.scatter(drag_stepsLU[first_peak],values[first_peak])\n",
    "    plt.scatter(drag_stepsLU[last_peak],values[last_peak])\n",
    "    plt.savefig(output_path+dir_name+\"/drag_coefficient_peakfinder.png\")\n",
    "    peakfinder=True\n",
    "except:\n",
    "    print(\"peak-finding didn't work... probably no significant peaks visible (Re<46?), or periodic region not reached (T too small)\")\n",
    "    values = drag_coefficient[int(drag_coefficient.shape[0]*periodic_start-1):,2]\n",
    "    drag_mean_simple = values.mean()\n",
    "    peakfinder=False\n",
    "    print(\"Cd, simple mean:\",drag_mean_simple)"
   ],
   "metadata": {
    "collapsed": false
   }
  },
  {
   "cell_type": "code",
   "execution_count": 11,
   "outputs": [
    {
     "data": {
      "text/plain": "<Figure size 640x480 with 1 Axes>",
      "image/png": "[encoded data removed]"
     },
     "metadata": {},
     "output_type": "display_data"
    },
    {
     "name": "stdout",
     "output_type": "stream",
     "text": [
      "Cl_peaks: \n",
      "min -0.011731516169426326 \n",
      "max 0.018476870202036363\n"
     ]
    }
   ],
   "source": [
    "### plot Lift coefficient\n",
    "\n",
    "lift_coefficient = np.array(Liftreport.out)\n",
    "# print('  stepLU        ', 'timePU        ', 'Cl')\n",
    "# print(lift_coefficient) # prints: stepLU, timePU, value\n",
    "\n",
    "fig, ax = plt.subplots(constrained_layout=True)\n",
    "ax.plot(lift_coefficient[:,1],lift_coefficient[:,2])\n",
    "ax.set_xlabel(\"physical time / s\")\n",
    "ax.set_ylabel(\"Coefficient of Lift Cl\")\n",
    "ax.set_ylim([-1.1,1.1])\n",
    "secax = ax.secondary_xaxis('top', functions=(flow.units.convert_time_to_lu, flow.units.convert_time_to_pu))\n",
    "secax.set_xlabel(\"timesteps (simulation time / LU)\")\n",
    "if output_data:\n",
    "    plt.savefig(output_path+dir_name+\"/lift_coefficient.png\")\n",
    "    np.savetxt(output_path+dir_name+\"/lift_coefficient.txt\", lift_coefficient, header=\"stepLU  |  timePU  |  Cl  FROM str(timestamp)\")\n",
    "plt.show()\n",
    "\n",
    "Cl_min = lift_coefficient[int(lift_coefficient[:,2].shape[0]*0.5):,2].min()\n",
    "Cl_max = lift_coefficient[int(lift_coefficient[:,2].shape[0]*0.5):,2].max()\n",
    "\n",
    "print(\"Cl_peaks: \\nmin\", Cl_min,\"\\nmax\", Cl_max)"
   ],
   "metadata": {
    "collapsed": false
   }
  },
  {
   "cell_type": "code",
   "execution_count": 12,
   "outputs": [
    {
     "name": "stdout",
     "output_type": "stream",
     "text": [
      "Frequency Peak: 6.549047829613665 +- 0.3446867278744034 Hz\n"
     ]
    },
    {
     "data": {
      "text/plain": "<Figure size 640x480 with 1 Axes>",
      "image/png": "[encoded data removed]"
     },
     "metadata": {},
     "output_type": "display_data"
    }
   ],
   "source": [
    "### prototyped fft for frequency detection and calculation of strouhal-number\n",
    "# ! Drag_frequency is 2* Strouhal-Freq. Lift-freq. is Strouhal-Freq.\n",
    "\n",
    "try:\n",
    "    X = np.fft.fft(lift_coefficient[:,2])   # fft result (amplitudes)\n",
    "    N = len(X)  # number of freqs\n",
    "    n = np.arange(N)   # freq index\n",
    "    T = N*flow.units.convert_time_to_pu(1)   # total time measured (T_PU)\n",
    "    freq = n/T   # frequencies (x-axis of spectrum)\n",
    "\n",
    "    plt.figure\n",
    "    plt.stem(freq, np.abs(X), 'b', markerfmt=\" \", basefmt=\"-b\")   # plot spectrum |X|(f)\n",
    "    plt.xlabel(\"Freq (Hz)\")\n",
    "    plt.ylabel(\"FFT Amplitude |X(freq)|\")\n",
    "    plt.xlim(0,1)\n",
    "    #print(\"max. Amplitude np.abx(X).max():\", np.abs(X).max())   # for debugging\n",
    "    plt.ylim(0,np.abs(X[:int(X.shape[0]*0.5)]).max())   # ylim, where highes peak is on left half of full spectrum\n",
    "\n",
    "    if output_data:\n",
    "        plt.savefig(output_path+dir_name+\"/fft_Cl.png\")\n",
    "\n",
    "    freq_res = freq[1]-freq[0]   # frequency-resolution\n",
    "    X_abs = np.abs(X[:int(X.shape[0]*0.4)])   # get |X| Amplitude for left half of full spectrum\n",
    "    freq_peak = freq[np.argmax(X_abs)]    # find frequency with the highest amplitude\n",
    "    print(\"Frequency Peak:\", freq_peak, \"+-\", freq_res, \"Hz\")\n",
    "    # f = Strouhal for St=f*D/U and D=U=1 in PU\n",
    "except:\n",
    "    print(\"Strouhal-calculation failed, check simulation data\")\n",
    "    freq_res=0\n",
    "    freq_peak=0"
   ],
   "metadata": {
    "collapsed": false
   }
  },
  {
   "cell_type": "code",
   "execution_count": 13,
   "outputs": [],
   "source": [
    "# save notebook to simulation_output\n",
    "if output_data:\n",
    "    shutil.copy(str(os.getcwd())+\"/cylinder3D_development.ipynb\",output_path+dir_name+\"/script.ipynb\")\n",
    "else:\n",
    "    print(\"output_data-toggle is FALSE\")"
   ],
   "metadata": {
    "collapsed": false
   }
  },
  {
   "cell_type": "code",
   "execution_count": 14,
   "outputs": [],
   "source": [
    "# output data\n",
    "if output_data:\n",
    "    output_file = open(output_path+dir_name+\"/\"+timestamp + \"_parameters_and_observables.txt\", \"a\")\n",
    "    output_file.write(\"DATA for \"+timestamp)\n",
    "    output_file.write(\"\\n\\n###################\\n\\nSIM-Parameters\")\n",
    "    output_file.write(\"\\nRe = \"+str(re))\n",
    "    output_file.write(\"\\nMa = \"+str(Ma))\n",
    "    output_file.write(\"\\nn_steps = \"+str(n_steps))\n",
    "    output_file.write(\"\\nsetup_diameter (D_PU) = \"+str(setup_diameter))\n",
    "    output_file.write(\"\\nflow_velocity (U_PU) = \"+str(flow_velocity))\n",
    "    output_file.write(\"\\nstencil = \"+str(stencil_choice))\n",
    "    output_file.write(\"\\ngridpoints_per_diameter (gpd) = \"+str(gridpoints_per_diameter))\n",
    "    if gpd_correction:\n",
    "        output_file.write(\"\\ngpd was corrected from: \"+str(gpd_setup)+\" to \"+str(gridpoints_per_diameter)+\" because D/Y is even\")\n",
    "    output_file.write(\"\\ndomain_length_in_D (D/X) = \"+str(domain_length_in_D))\n",
    "    output_file.write(\"\\ndomain_height_in_D (D/Y) = \"+str(domain_height_in_D))\n",
    "    output_file.write(\"\\ndomain_width_in_D (D/Z) = \"+str(domain_width_in_D))\n",
    "    output_file.write(\"\\n\")\n",
    "    output_file.write(\"\\nu_init = \"+str(u_init))\n",
    "    output_file.write(\"\\nperturb_init = \"+str(perturb_init))\n",
    "    output_file.write(\"\\nlateral_walls = \"+str(lateral_walls))\n",
    "    output_file.write(\"\\ncollision = \" + str(collision_choice))\n",
    "    output_file.write(\"\\nbb_type = \"+str(bb_type))\n",
    "    output_file.write(\"\\nvtk_fps = \"+str(vtk_fps))\n",
    "    output_file.write(\"\\noutput_vtk = \"+str(output_vtk))\n",
    "    output_file.write(\"\\n\")\n",
    "    output_file.write(\"\\nshape_LU: \"+ str(flow.shape[0]) + \" x \" + str(flow.shape[1]) + \" x \" + str(flow.shape[2]))\n",
    "    output_file.write(\"\\ntotal No. of gridpoints: \"+ str(gridpoints))\n",
    "    output_file.write(\"\\n\")\n",
    "    output_file.write(\"output_dir: \"+str(output_path+dir_name))\n",
    "    output_file.write(\"\\n\")\n",
    "    output_file.write(\"\\n###################\\n\\ncylinder:\")\n",
    "    output_file.write(\"\\nradius_LU = \"+str(radius_LU))\n",
    "    output_file.write(\"\\nx_pos_LU = \"+str(x_pos_LU))\n",
    "    output_file.write(\"\\ny_pos_LU = \"+str(y_pos_LU))\n",
    "    output_file.write(\"\\ntau = \"+str(tau))\n",
    "    output_file.write(\"\\n\")\n",
    "    output_file.write(\"\\n###################\\n\\nSTATS:\")\n",
    "    output_file.write(\"\\nT_PU = \"+str(flow.units.convert_time_to_pu(n_steps))+\" seconds\")\n",
    "    output_file.write(\"\\nruntime = \"+str(runtime)+ \" seconds (=\"+str(runtime/60)+\" minutes)\")\n",
    "    output_file.write(\"\\nMLUPS = \"+str(mlups))\n",
    "    output_file.write(\"\\n\")\n",
    "    output_file.write(\"\\n###################\\n\\nOBSERVABLES:\")\n",
    "    output_file.write(\"\\nCoefficient of drag between \"+str(round(drag_coefficient[int(drag_coefficient.shape[0]*periodic_start-1),1],2))+\" s and \"+str(round(drag_coefficient[int(drag_coefficient.shape[0]-1),1],2))+\" s:\")\n",
    "    output_file.write(\"\\nCd_mean, simple      = \"+str(drag_mean_simple))\n",
    "    if peakfinder:\n",
    "        output_file.write(\"\\nCd_mean, peak_finder = \"+str(drag_mean))\n",
    "    else:\n",
    "        output_file.write(\"\\nnoPeaksFound\")\n",
    "    output_file.write(\"\\nCd_min = \"+str(drag_coefficient[int(drag_coefficient.shape[0]*periodic_start-1):,2].min()))\n",
    "    output_file.write(\"\\nCd_max = \"+str(drag_coefficient[int(drag_coefficient.shape[0]*periodic_start-1):,2].max()))\n",
    "    output_file.write(\"\\n\")\n",
    "    output_file.write(\"\\nCoefficient of lift:\")\n",
    "    output_file.write(\"\\nCl_min = \"+str(Cl_min))\n",
    "    output_file.write(\"\\nCl_max = \"+str(Cl_max))\n",
    "    output_file.write(\"\\n\")\n",
    "    output_file.write(\"\\nStrouhal number:\")\n",
    "    output_file.write(\"\\nf +- df = \"+str(freq_peak)+\" +- \"+str(freq_res)+\" Hz\")\n",
    "    output_file.close()\n"
   ],
   "metadata": {
    "collapsed": false
   }
  },
  {
   "cell_type": "code",
   "execution_count": 15,
   "outputs": [
    {
     "name": "stdout",
     "output_type": "stream",
     "text": [
      "|===========================================================================|\n",
      "|                  PyTorch CUDA memory summary, device ID 0                 |\n",
      "|---------------------------------------------------------------------------|\n",
      "|            CUDA OOMs: 0            |        cudaMalloc retries: 0         |\n",
      "|===========================================================================|\n",
      "|        Metric         | Cur Usage  | Peak Usage | Tot Alloc  | Tot Freed  |\n",
      "|---------------------------------------------------------------------------|\n",
      "| Allocated memory      |   22016 B  |   69632 B  |   74142 KB |   74121 KB |\n",
      "|       from large pool |       0 B  |       0 B  |       0 KB |       0 KB |\n",
      "|       from small pool |   22016 B  |   69632 B  |   74142 KB |   74121 KB |\n",
      "|---------------------------------------------------------------------------|\n",
      "| Active memory         |   22016 B  |   69632 B  |   74142 KB |   74121 KB |\n",
      "|       from large pool |       0 B  |       0 B  |       0 KB |       0 KB |\n",
      "|       from small pool |   22016 B  |   69632 B  |   74142 KB |   74121 KB |\n",
      "|---------------------------------------------------------------------------|\n",
      "| GPU reserved memory   |    2048 KB |    2048 KB |    2048 KB |       0 B  |\n",
      "|       from large pool |       0 KB |       0 KB |       0 KB |       0 B  |\n",
      "|       from small pool |    2048 KB |    2048 KB |    2048 KB |       0 B  |\n",
      "|---------------------------------------------------------------------------|\n",
      "| Non-releasable memory |    2026 KB |    2047 KB |   76168 KB |   74141 KB |\n",
      "|       from large pool |       0 KB |       0 KB |       0 KB |       0 KB |\n",
      "|       from small pool |    2026 KB |    2047 KB |   76168 KB |   74141 KB |\n",
      "|---------------------------------------------------------------------------|\n",
      "| Allocations           |      16    |      26    |   43096    |   43080    |\n",
      "|       from large pool |       0    |       0    |       0    |       0    |\n",
      "|       from small pool |      16    |      26    |   43096    |   43080    |\n",
      "|---------------------------------------------------------------------------|\n",
      "| Active allocs         |      16    |      26    |   43096    |   43080    |\n",
      "|       from large pool |       0    |       0    |       0    |       0    |\n",
      "|       from small pool |      16    |      26    |   43096    |   43080    |\n",
      "|---------------------------------------------------------------------------|\n",
      "| GPU reserved segments |       1    |       1    |       1    |       0    |\n",
      "|       from large pool |       0    |       0    |       0    |       0    |\n",
      "|       from small pool |       1    |       1    |       1    |       0    |\n",
      "|---------------------------------------------------------------------------|\n",
      "| Non-releasable allocs |       6    |       8    |   30495    |   30489    |\n",
      "|       from large pool |       0    |       0    |       0    |       0    |\n",
      "|       from small pool |       6    |       8    |   30495    |   30489    |\n",
      "|---------------------------------------------------------------------------|\n",
      "| Oversize allocations  |       0    |       0    |       0    |       0    |\n",
      "|---------------------------------------------------------------------------|\n",
      "| Oversize GPU segments |       0    |       0    |       0    |       0    |\n",
      "|===========================================================================|\n",
      "\n"
     ]
    },
    {
     "name": "stderr",
     "output_type": "stream",
     "text": [
      "/home/mbille/anaconda3/envs/lettuce/lib/python3.10/site-packages/torch/distributed/distributed_c10d.py:262: UserWarning: torch.distributed.reduce_op is deprecated, please use torch.distributed.ReduceOp instead\n",
      "  warnings.warn(\n"
     ]
    }
   ],
   "source": [
    "### Analysis of GPU memory usage (tensors)\n",
    "\n",
    "if output_data:\n",
    "### cudas own memory summary\n",
    "    print(torch.cuda.memory_summary(device=\"cuda:0\"))\n",
    "\n",
    "### list present torch tensors:\n",
    "    output_file = open(output_path+dir_name+\"/\"+timestamp + \"_GPU_list_of_tensors.txt\", \"a\")\n",
    "    total_bytes = 0\n",
    "    import gc\n",
    "    for obj in gc.get_objects():\n",
    "        try:\n",
    "            if torch.is_tensor(obj) or (hasattr(obj,'data') and torch.is_tensor(obj.data)):\n",
    "                output_file.write(\"\\n\"+str(obj.size())+\", \"+str(obj.nelement()*obj.element_size()))\n",
    "                total_bytes = total_bytes+obj.nelement()*obj.element_size()\n",
    "        except:\n",
    "            pass\n",
    "    output_file.write(\"\\n\\ntotal bytes for tensors:\"+str(total_bytes))\n",
    "    output_file.close()\n",
    "\n",
    "### count occurence of tensors in list of tensors:\n",
    "    from collections import Counter\n",
    "    my_file = open(output_path+dir_name+\"/\"+timestamp + \"_GPU_list_of_tensors.txt\",\"r\")\n",
    "    data=my_file.read()\n",
    "    my_file.close()\n",
    "    data_into_list=data.split(\"\\n\")\n",
    "    c = Counter(data_into_list)\n",
    "    output_file = open(output_path+dir_name+\"/\"+timestamp + \"_GPU_counted_tensors.txt\", \"a\")\n",
    "    for k,v in c.items():\n",
    "        output_file.write(\"type,size,bytes: {}, number: {}\\n\".format(k,v) )\n",
    "    output_file.write(\"\\ntotal bytes for tensors:\"+str(total_bytes))\n",
    "    output_file.close()"
   ],
   "metadata": {
    "collapsed": false
   }
  },
  {
   "cell_type": "code",
   "execution_count": 16,
   "outputs": [
    {
     "data": {
      "text/plain": "(3, 10, 5, 1)"
     },
     "execution_count": 16,
     "metadata": {},
     "output_type": "execute_result"
    }
   ],
   "source": [
    "lattice.convert_to_numpy(lattice.u(sim.f)).shape"
   ],
   "metadata": {
    "collapsed": false
   }
  },
  {
   "cell_type": "code",
   "execution_count": 17,
   "outputs": [
    {
     "data": {
      "text/plain": "array([[[ 2.88675135e-02,  2.88675135e-02,  2.88675135e-02,\n          2.88675135e-02,  2.88675135e-02],\n        [ 3.19819926e-02,  3.09478525e-02,  1.47682531e-02,\n          3.09335215e-02,  3.19606748e-02],\n        [ 4.30876144e-02,  2.74308514e-02, -1.38429903e-03,\n          2.74795991e-02,  4.29843047e-02],\n        [ 5.40673531e-02,  1.26147415e-02,  7.54568788e-03,\n          1.26924457e-02,  5.40920394e-02],\n        [ 5.82761679e-02,  1.00101115e-02,  4.08316052e-03,\n          9.95059364e-03,  5.83511830e-02],\n        [ 5.84378025e-02,  2.11625087e-02, -1.81444095e-02,\n          2.11821606e-02,  5.83680465e-02],\n        [ 5.64814198e-02,  2.02533898e-02, -1.25667987e-02,\n          2.03186300e-02,  5.64537832e-02],\n        [ 5.03559976e-02,  1.46644830e-02,  1.09798350e-02,\n          1.44919763e-02,  5.02903319e-02],\n        [ 4.52691088e-02,  1.64301637e-02,  1.76043739e-02,\n          1.63790457e-02,  4.52014260e-02],\n        [ 4.52691088e-02,  1.64301637e-02,  1.76043739e-02,\n          1.63790457e-02,  4.52014260e-02]],\n\n       [[ 0.00000000e+00,  0.00000000e+00,  0.00000000e+00,\n          0.00000000e+00,  0.00000000e+00],\n        [-5.52039324e-03, -1.58194432e-02, -2.11332793e-06,\n          1.58117124e-02,  5.63750717e-03],\n        [-1.14109145e-03, -1.08944625e-03, -7.31900342e-06,\n          1.00201160e-03,  1.11202687e-03],\n        [-1.14918365e-02, -1.23024218e-02,  1.33632757e-05,\n          1.22885257e-02,  1.14616502e-02],\n        [ 1.39768914e-03,  6.49897005e-03, -4.37844586e-05,\n         -6.44092013e-03, -1.41355624e-03],\n        [-8.07735889e-03, -1.07409915e-02, -3.88010265e-05,\n          1.06108872e-02,  8.13371820e-03],\n        [ 5.68703431e-03,  1.63367011e-02,  1.55328698e-04,\n         -1.64559979e-02, -5.63465590e-03],\n        [ 4.06842850e-03,  7.90221849e-04, -1.42084287e-05,\n         -7.77182244e-04, -4.03234180e-03],\n        [ 5.05777292e-03,  4.11227102e-03, -1.05894648e-06,\n         -4.11479652e-03, -4.99778460e-03],\n        [ 5.05777292e-03,  4.11227102e-03, -1.05894648e-06,\n         -4.11479652e-03, -4.99778460e-03]],\n\n       [[ 0.00000000e+00,  0.00000000e+00,  0.00000000e+00,\n          0.00000000e+00,  0.00000000e+00],\n        [ 0.00000000e+00,  0.00000000e+00,  0.00000000e+00,\n          0.00000000e+00,  0.00000000e+00],\n        [ 0.00000000e+00,  0.00000000e+00,  0.00000000e+00,\n          0.00000000e+00,  0.00000000e+00],\n        [ 0.00000000e+00,  0.00000000e+00,  0.00000000e+00,\n          0.00000000e+00,  0.00000000e+00],\n        [ 0.00000000e+00,  0.00000000e+00,  0.00000000e+00,\n          0.00000000e+00,  0.00000000e+00],\n        [ 0.00000000e+00,  0.00000000e+00,  0.00000000e+00,\n          0.00000000e+00,  0.00000000e+00],\n        [ 0.00000000e+00,  0.00000000e+00,  0.00000000e+00,\n          0.00000000e+00,  0.00000000e+00],\n        [ 0.00000000e+00,  0.00000000e+00,  0.00000000e+00,\n          0.00000000e+00,  0.00000000e+00],\n        [ 0.00000000e+00,  0.00000000e+00,  0.00000000e+00,\n          0.00000000e+00,  0.00000000e+00],\n        [ 0.00000000e+00,  0.00000000e+00,  0.00000000e+00,\n          0.00000000e+00,  0.00000000e+00]]])"
     },
     "execution_count": 17,
     "metadata": {},
     "output_type": "execute_result"
    }
   ],
   "source": [
    "lattice.convert_to_numpy(lattice.u(sim.f))[:,:,:,0]"
   ],
   "metadata": {
    "collapsed": false
   }
  },
  {
   "cell_type": "code",
   "execution_count": 18,
   "outputs": [
    {
     "data": {
      "text/plain": "[<lettuce.boundary.EquilibriumBoundaryPU at 0x7fc5f1c09ab0>,\n <lettuce.boundary.EquilibriumOutletP at 0x7fc5f1c0b3a0>,\n <lettuce.boundary.FullwayBounceBackBoundary at 0x7fc5f1c09180>]"
     },
     "execution_count": 18,
     "metadata": {},
     "output_type": "execute_result"
    }
   ],
   "source": [
    "flow.boundaries"
   ],
   "metadata": {
    "collapsed": false
   }
  },
  {
   "cell_type": "code",
   "execution_count": 19,
   "outputs": [],
   "source": [
    "a,b,c=np.where(lattice.convert_to_numpy(flow.boundaries[-1].mask))"
   ],
   "metadata": {
    "collapsed": false
   }
  },
  {
   "cell_type": "code",
   "execution_count": 20,
   "outputs": [
    {
     "data": {
      "text/plain": "array([2])"
     },
     "execution_count": 20,
     "metadata": {},
     "output_type": "execute_result"
    }
   ],
   "source": [
    "a"
   ],
   "metadata": {
    "collapsed": false
   }
  },
  {
   "cell_type": "code",
   "execution_count": 21,
   "outputs": [
    {
     "data": {
      "text/plain": "array([2])"
     },
     "execution_count": 21,
     "metadata": {},
     "output_type": "execute_result"
    }
   ],
   "source": [
    "b"
   ],
   "metadata": {
    "collapsed": false
   }
  },
  {
   "cell_type": "code",
   "execution_count": 22,
   "outputs": [
    {
     "data": {
      "text/plain": "(1,)"
     },
     "execution_count": 22,
     "metadata": {},
     "output_type": "execute_result"
    }
   ],
   "source": [
    "c.shape"
   ],
   "metadata": {
    "collapsed": false
   }
  },
  {
   "cell_type": "code",
   "execution_count": 23,
   "outputs": [
    {
     "data": {
      "text/plain": "array([[False, False, False, False, False],\n       [False, False, False, False, False],\n       [False, False,  True, False, False],\n       [False, False, False, False, False],\n       [False, False, False, False, False],\n       [False, False, False, False, False],\n       [False, False, False, False, False],\n       [False, False, False, False, False],\n       [False, False, False, False, False],\n       [False, False, False, False, False]])"
     },
     "execution_count": 23,
     "metadata": {},
     "output_type": "execute_result"
    }
   ],
   "source": [
    "lattice.convert_to_numpy(flow.boundaries[-1].mask)[:,:,0]"
   ],
   "metadata": {
    "collapsed": false
   }
  },
  {
   "cell_type": "code",
   "execution_count": 24,
   "outputs": [
    {
     "data": {
      "text/plain": "(10, 5, 1)"
     },
     "execution_count": 24,
     "metadata": {},
     "output_type": "execute_result"
    }
   ],
   "source": [
    "lattice.convert_to_numpy(flow.boundaries[-1].mask).shape"
   ],
   "metadata": {
    "collapsed": false
   }
  },
  {
   "cell_type": "code",
   "execution_count": 25,
   "outputs": [],
   "source": [
    "border_direction=np.zeros((len(a),3), dtype=int)"
   ],
   "metadata": {
    "collapsed": false
   }
  },
  {
   "cell_type": "code",
   "execution_count": 26,
   "outputs": [
    {
     "data": {
      "text/plain": "array([[0, 0, 0]])"
     },
     "execution_count": 26,
     "metadata": {},
     "output_type": "execute_result"
    }
   ],
   "source": [
    "border_direction"
   ],
   "metadata": {
    "collapsed": false
   }
  },
  {
   "cell_type": "code",
   "execution_count": 27,
   "outputs": [],
   "source": [
    "single_layer = np.ones_like(border_direction)"
   ],
   "metadata": {
    "collapsed": false
   }
  },
  {
   "cell_type": "code",
   "execution_count": 28,
   "outputs": [
    {
     "data": {
      "text/plain": "array([[1, 1, 1]])"
     },
     "execution_count": 28,
     "metadata": {},
     "output_type": "execute_result"
    }
   ],
   "source": [
    "single_layer"
   ],
   "metadata": {
    "collapsed": false
   }
  },
  {
   "cell_type": "code",
   "execution_count": 28,
   "outputs": [],
   "source": [],
   "metadata": {
    "collapsed": false
   }
  }
 ],
 "metadata": {
  "kernelspec": {
   "display_name": "Python 3",
   "language": "python",
   "name": "python3"
  },
  "language_info": {
   "codemirror_mode": {
    "name": "ipython",
    "version": 2
   },
   "file_extension": ".py",
   "mimetype": "text/x-python",
   "name": "python",
   "nbconvert_exporter": "python",
   "pygments_lexer": "ipython2",
   "version": "2.7.6"
  }
 },
 "nbformat": 4,
 "nbformat_minor": 0
}
