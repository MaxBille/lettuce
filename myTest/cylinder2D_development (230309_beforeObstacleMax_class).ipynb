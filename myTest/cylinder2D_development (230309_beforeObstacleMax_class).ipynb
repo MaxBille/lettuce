{
 "cells": [
  {
   "cell_type": "code",
   "execution_count": 13,
   "id": "c74f6ed3",
   "metadata": {},
   "outputs": [],
   "source": [
    "import lettuce as lt\n",
    "import matplotlib.pyplot as plt\n",
    "\n",
    "import warnings\n",
    "import numpy as np\n",
    "from lettuce.unit import UnitConversion\n",
    "from lettuce.util import append_axes\n",
    "from lettuce.boundary import EquilibriumBoundaryPU, BounceBackBoundary, HalfwayBounceBackBoundary, FullwayBounceBackBoundary, EquilibriumOutletP, AntiBounceBackOutlet\n",
    "\n",
    "import torch\n",
    "import time\n",
    "import datetime\n",
    "import os\n",
    "import shutil"
   ]
  },
  {
   "cell_type": "code",
   "execution_count": 14,
   "id": "7897deb0",
   "metadata": {},
   "outputs": [
    {
     "name": "stdout",
     "output_type": "stream",
     "text": [
      "shape_LU: 18 x 9\n",
      "T with 100 steps: 0.9622504486493763 seconds\n",
      "n_steps to simulatate 1 second: 103.92304845413263 steps\n",
      "dir_name: /data_230309_145913\n",
      "output_path: /mnt/ScratchHDD1/Max_Scratch/lbm_simulations/data_230309_145913/vtk/out\n"
     ]
    }
   ],
   "source": [
    "### Simulationsparameter - Steuerung \n",
    "re = 200    # Reynoldszahl\n",
    "n_steps = 100    # Schrittzahl\n",
    "setup_diameter = 1  # D_PU = char_length_pu -> this defines the PU-Reference\n",
    "flow_velocity = 1  # U_PU = char_velocity_ou -> this defines the PU-Reference velocity (u_max of inflow)\n",
    "\n",
    "gridpoints_per_diameter = 3  # gp_per_D -> this defines the resolution\n",
    "domain_width_in_D = 3  # D/Y  -> this defines the domain-size and total number of Lattice-Nodes\n",
    "domain_length_in_D = 2*domain_width_in_D  # D/X\n",
    "\n",
    "print(\"shape_LU:\", gridpoints_per_diameter*domain_length_in_D, \"x\", gridpoints_per_diameter*domain_width_in_D)\n",
    "print(\"T with\", n_steps, \"steps:\", n_steps * (setup_diameter/gridpoints_per_diameter)*(0.05*1/np.sqrt(3)/flow_velocity), \"seconds\")\n",
    "print(\"n_steps to simulatate 1 second:\", (gridpoints_per_diameter/setup_diameter)*(flow_velocity/(0.05*1/np.sqrt(3))), \"steps\")\n",
    "\n",
    "timestamp = datetime.datetime.now()\n",
    "timestamp = timestamp.strftime(\"%y%m%d\")+\"_\"+timestamp.strftime(\"%H%M%S\")\n",
    "\n",
    "output_path = \"/mnt/ScratchHDD1/Max_Scratch/lbm_simulations\"  # lokal HBRS\n",
    "#output_path = \"/home/max/Documents/lbm_simulations\"  # lokal Bonn\n",
    "dir_name = \"/data_\" + str(timestamp)\n",
    "os.makedirs(output_path+dir_name)\n",
    "\n",
    "u_init = 2    # initiales Geschwindigkeitsfeld: 1= alle null, 2= parabelförmiger Verlauf über den Kanal-Qerschnitt\n",
    "perturb_init = True   # leichte Asymmetrie in Anfangs-Geschwindigkeitsverteilung -> Amplitude kann unten gewählt werden\n",
    "u_in_parabel = True    # Anströmungsprofil: True=parabelförmig, False=uniform\n",
    "bb_wall = True    # Randbedingungen der lateralen Kanalwände: True= bounce-back-walls, False= periodic\n",
    "cylinder = True    # Objekt: True = cylinder, False = no obstascle\n",
    "halfway = True    # BounceBackBoundary: True=halfway, False=Fullway\n",
    "vtk_out = True    # vtk-Repoter für Animation des Flusses in ParaView: True = vtk-output, False = no vtk-output\n",
    "vtk_path = output_path+dir_name+\"/vtk/out\"    # lokal HBRS # Pfad und Name der vtk-output-Dateien\n",
    "#vtk_path = output_path+dir_name+\"/vtk/out\"  # lokal Bonn\n",
    "vtk_fps=10    # FramesPerSecond (/PU) für vtk-output\n",
    "drag_out = True    # drag_coefficient als observable-reporter\n",
    "lift_out = True    # lift_coefficient als observable-reporter\n",
    "\n",
    "print(\"dir_name: \"+dir_name)\n",
    "print(\"output_path: \" + vtk_path)\n",
    "\n",
    "#exmpl: Re1000,steps25000,ny1000 braucht 43min"
   ]
  },
  {
   "cell_type": "code",
   "execution_count": 15,
   "id": "d4bd8bd8",
   "metadata": {},
   "outputs": [],
   "source": [
    "### EINLASS-Randbedingung\n",
    "### Modifizierte EquilibrimuBoundaryPU aus boundary.py, welche die Möglichkeit eines parabelförmigen\n",
    "### Geschwindigkeitsprofils am Einlass erlaubt (ähnlich zu Poiseuille-Flow)\n",
    "\n",
    "class EquilibriumBoundaryPU:\n",
    "    \"\"\"Sets distributions on this boundary to equilibrium with predefined velocity and pressure.\n",
    "    Note that this behavior is generally not compatible with the Navier-Stokes equations.\n",
    "    This boundary condition should only be used if no better options are available.\n",
    "    \"\"\"\n",
    "\n",
    "    def __init__(self, mask, lattice, units, velocity, pressure=0):\n",
    "        # parameter input (u, p) in PU!\n",
    "        self.mask = lattice.convert_to_tensor(mask)\n",
    "        self.lattice = lattice\n",
    "        self.units = units\n",
    "        self.velocity = lattice.convert_to_tensor(velocity)  # inlet-velocity in PU\n",
    "        self.pressure = lattice.convert_to_tensor(pressure)  # inlet-pressure in PU\n",
    "        self.u_inlet = self.units.convert_velocity_to_lu(self.velocity) # ein Tensor: tensor([0.0289, 0.0000], device='cuda:0')\n",
    "        # calculate uniform or parabolic inlet-velocity-distibution\n",
    "        if u_in_parabel:\n",
    "            ## Parabelförmige Geschwindigkeit, vom zweiten bis vorletzten Randpunkt (keine Interferenz mit lateralen Wänden (BBB  oder periodic))\n",
    "                ## How to Parabel:\n",
    "                ## 1.Parabel in Nullstellenform: y = (x-x1)*(x-x2)\n",
    "                ## 2.nach oben geöffnete Parabel mit Nullstelle bei x1=0 und x2=x0: y=-x*(x-x0)\n",
    "                ## 3.skaliere Parabel, sodass der Scheitelpunkt immer bei ys=1.0 ist: y=-x*(x-x0)*(1/(x0/2)²)\n",
    "                ## (4. optional) skaliere Amplitude der Parabel mit 1.5, um dem Integral einer homogenen Einstromgeschwindigkeit zu entsprechen\n",
    "            ny = mask.shape[1]  # Gitterpunktzahl in y-Richtung\n",
    "            ux_temp = np.zeros((1,ny))  # x-Geschwindigkeiten der Randbedingung\n",
    "            y_coordinates = np.linspace(0,ny,ny)  # linspace() erzeugt n Punkte zwischen 0 und ny inklusive 0 und ny, so wird die Parabel auch symmetrisch und ist trotzdem an den Rändern NULL\n",
    "            ux_temp[:,1:-1] = - np.array(self.u_inlet.cpu()).max() * y_coordinates[1:-1] * (y_coordinates[1:-1] - ny) * 1/(ny/2)**2 \n",
    "                # (!) es muss die charakteristische Geschwindigkeit in LU genutzt werden (!) -> der Unterschied PU/LU ist u.U. Größenordnungen und es kommt bei falscher Nutzung zu Schock/Überschall und somit Sim-Crash\n",
    "                # Skalierungsfaktor 3/2=1.5 für die Parabelamplitude, falls man im Integral der Konstantgeschwindigkeit entsprechenn möchte.\n",
    "                # in 2D braucht u1 dann die Dimension 1 x ny (!)\n",
    "            uy_temp = np.zeros_like(ux_temp)  # y-Geschwindigkeit = 0\n",
    "            self.u_inlet = np.stack([ux_temp, uy_temp], axis=0) # verpacke u-Feld\n",
    "            self.u_inlet = self.lattice.convert_to_tensor(self.u_inlet)  # np.array to torch.tensor\n",
    "            print(\"parabelförmiger Einluss\")\n",
    "        else:\n",
    "            print(\"uniformer Einfluss\")\n",
    "        print(\"die hier definierte ipynb-Version der EqBoundaryPU wurde genutzt :)\")\n",
    "\n",
    "    def __call__(self, f):\n",
    "        # convert PU-inputs to LU, calc feq and overwrite f with feq where mask==True\n",
    "        rho = self.units.convert_pressure_pu_to_density_lu(self.pressure)\n",
    "        feq = self.lattice.equilibrium(rho, self.u_inlet)  # Berechne Gleichgewicht mit neuer Geschwindigkeit\n",
    "        feq = self.lattice.einsum(\"q,q->q\", [feq, torch.ones_like(f)])  # erweitere auf komplettes Feld, falls nötig (feq \"breit\" ziehen in x-Richtung)\n",
    "        f = torch.where(self.mask, feq, f)  # überschreibe f am Einlass mit feq\n",
    "        return f"
   ]
  },
  {
   "cell_type": "code",
   "execution_count": 16,
   "id": "ad990bc9",
   "metadata": {},
   "outputs": [],
   "source": [
    "### flow/Cylinder2D: modifizierte flows/obstacle.py Klasse, zur Simulation eines umströmten Zylinders im 2D-Kanal\n",
    "# nicht zu verwechseln mit flows/cylinder2D.py im development- und dragAndForce-branch\n",
    "\n",
    "class Cylinder2D:\n",
    "\n",
    "    def __init__(self, \n",
    "                 #shape, \n",
    "                reynolds_number, mach_number, lattice, \n",
    "                 #domain_length_x, \n",
    "                 #diameter, \n",
    "                char_length=1,  # diameter of the cylinder (PU)\n",
    "                char_length_lu=10,  # gridpoints per diameter (resolution)\n",
    "                char_velocity=1,  # u_max inflow (PU)\n",
    "                y_d=5, x_d=10):  # domain in No. of diameters\n",
    "        \n",
    "        # old    # kontrolliere shape-Angabe in Bezug auf die lattice-Dimensionen\n",
    "            #if len(shape) != lattice.D:  \n",
    "            #    raise ValueError(f\"{lattice.D}-dimensional lattice requires {lattice.D}-dimensional `shape`\")\n",
    "        # übernehme Objektreferenzen, berechne char_length_lu, übernehme Kennzahlen (Re, Ma, l_char, u_char)\n",
    "        self.shape = (x_d*char_length_lu, y_d*char_length_lu)  # Domain-grid in [nx,ny]\n",
    "        self.diameter_pu = char_length\n",
    "        self.domain_length_D = x_d\n",
    "        self.domain_width_D = y_d\n",
    "        \n",
    "        # initilalisiere UnitConverter\n",
    "            # defaults: l_char_pu=l_char_lu=u_char_pu=1 // rho_char_lu=rho_char_pu=1, Ma=0.05\n",
    "        self.units = UnitConversion(  \n",
    "            lattice,\n",
    "            reynolds_number=reynolds_number,\n",
    "            mach_number=mach_number,\n",
    "            characteristic_length_lu=char_length_lu,\n",
    "            characteristic_length_pu=char_length,\n",
    "            characteristic_velocity_pu=char_velocity  ### reminder: u_char_lu = Ma * cs_lu = Ma * 1/sqrt(3)\n",
    "        )\n",
    "        \n",
    "        # bool-Maske, welche alle Nicht-Fluid-Knoten markiert (shape: nx x ny (x nz))\n",
    "            # ...und als Prototyp für BounceBackBoundary-Masken (Wände, Obstacle) dient\n",
    "        self._mask = np.zeros(shape=self.shape, dtype=bool)  #deprecation warning: \"np.bool\"...ist ein alter alias für das buildin \"bool\"\n",
    "        # belege Boundary-Masken:\n",
    "        # inlet\n",
    "        self.in_mask = np.zeros(self.grid[0].shape, dtype=bool)  # dimensioniere in_mask\n",
    "        self.in_mask[0, 1:-1] = True  # Einlass: erste Spalte, ohne laterale Wände\n",
    "        # lateral walls\n",
    "        self.wall_mask = np.zeros_like(self._mask)\n",
    "        if bb_wall == True:\n",
    "            self.wall_mask[:, [0, -1]] = True  # laterale Wände markieren (ohne letzte Spalte, da dort \"outlet_boundary\" definiert ist)\n",
    "            self._mask[np.where(self.wall_mask)] = 1  # übernehme Wände in BBB-Maske\n",
    "        #obstacle\n",
    "        self.obstacle_mask = np.zeros_like(self._mask)\n",
    "###############################################\n",
    "        radius = 0.5 * self.diameter_pu # radius of cylinder obstacle in PU\n",
    "        x_pos = 0.25 * self.domain_length_D * self.diameter_pu # x_pos of center of cylinder in PU\n",
    "        y_pos = 0.5 * self.domain_width_D  # y_pos of center of cylinder in PU\n",
    "\n",
    "        x, y = self.grid #gibt ein Meshgrid zurück: x-2D-Array, y-2D-Array\n",
    "            # in der ursprünglichen Implementierung von grid mit \"arange(n)\" reicht das grid für n=10 z.B. von 0 bis 9... d.h. die Position 5 ist nicht in der Mitte (!)\n",
    "            # in Cylnider2D (s.o.) ist das grid mit linspace erstellt und geht für n Punkte von 0 bis n inklusive 0 und n als Randpunkte\n",
    "\n",
    "        # Zylinder - Kreisgleichung (x-x0)²+(y-y0)²<r² in PU\n",
    "        condition = np.sqrt((x-x_pos)**2+(y-y_pos)**2) < radius #die Kreisgleichung rechnet in PU, d.h. die Auflösung spielt hier keine Rolle(!)\n",
    "        # area=2*radius  # die angeströmte Querschnittsfläche (zur Berechnung des drag coefficient): A=2*r in 2D, ! area is in PU\n",
    "        self._mask[np.where(condition)] = 1  # übernehme Obstacle Form (mask als Bool) in BBB-Maske\n",
    "        self.obstacle_mask[np.where(condition)] = 1  # definiere Obstacle Form (ohne andere Wände), für Kraftberechnung\n",
    "################################################\n",
    "    @property\n",
    "    def mask(self):\n",
    "        return self._mask\n",
    "\n",
    "    @mask.setter\n",
    "    def mask(self, m):\n",
    "        # Maskenbelegung wird auf korrekten Datentyp und Dimension getestet\n",
    "        assert isinstance(m, np.ndarray) and m.shape == self.shape\n",
    "        self._mask = m.astype(bool)  #deprecation warning: \"np.bool\" ist ein alter alias für das buildin \"bool\"\n",
    "\n",
    "    ### DEFINIERE ANFANGSBEDINGUNG\n",
    "    def initial_solution(self, x):\n",
    "        p = np.zeros_like(x[0], dtype=float)[None, ...]\n",
    "        u_max_lu = self.units.characteristic_velocity_lu * self._unit_vector()\n",
    "        u_max_lu = append_axes(u_max_lu, self.units.lattice.D) # u_char_pu=1, u_char_lu = Ma * cs_lu\n",
    "        u = (1 - self.mask) * u_max_lu # initialisiere Geschwindigkeitsfeld: alles was nicht obstacle ist, wird u_char_lu gesetzt\n",
    "### Wähle initiale Geschwindigkeitsverteilung: (flag u_init={1,2})\n",
    "        #u_init = 1 \n",
    "            # 1: uniform u=0\n",
    "            # 2: uniform parabolic, apmplitude u_char_lu (similar to poiseuille-flow)\n",
    "        if u_init == 1: # no velocity\n",
    "            ### initiale velocity u=0\n",
    "            u = u * 0\n",
    "            print(\"initial u=0\")\n",
    "        elif u_init ==2: # parabolic along y, uniform along x (similar to poiseuille-flow)\n",
    "            ### initiale Geschwindigkeitsverteilung parabelförmig (0 auf lateralen Wänden, dazwischen Parabel)\n",
    "            ny = self.shape[1]  # Gitterpunktzahl in y-Richtung           \n",
    "            ux_factor=np.zeros(ny)  # Vektor für erste Spalte (u(x=0)) des u-Feldes\n",
    "            # Geschwindigkeitsparabel mit Amplitude 1 (zur Aufmultiplikation auf das gesamte Geschwindigkeitsfeld, s.u.)\n",
    "            y_coordinates = np.linspace(0,ny,ny)  # linspace() erzeugt n Punkte zwischen 0 und ny inklusive 0 und ny, so wird die Parabel auch symmetrisch und ist trotzdem an den Rändern NULL\n",
    "            ux_factor[1:-1] = - y_coordinates[1:-1] * (y_coordinates[1:-1] - ny) * 1/(ny/2)**2 \n",
    "            #print(\"u1-Parabel aus initial_solution: \", u1)\n",
    "            u=np.einsum('k,ijk->ijk',ux_factor,u) # multipliziere jede Geschwindigkeits-Spalte mit der Parabel            \n",
    "            print(\"initial u=poiseille\")\n",
    "        else:\n",
    "            print(\"initial u=u_char_lu uniform\")\n",
    "\n",
    "### Störe Initialverteilung für Asymmetrie und Ausbildung einer Karman'schen Wirbelstraße\n",
    "        #perturb_init = True\n",
    "        if perturb_init:\n",
    "            # überlagere Sinus-Störung in ux über die zweite Spalte u(x=1)\n",
    "            ny = x[1].shape[1]\n",
    "            if u.max() < 0.5*self.units.characteristic_velocity_lu:\n",
    "                # Addition der Parabel, falls das initiale Geschwindigkeitsfeld sehr kleine Werte hat (z.B. null ist)\n",
    "                u[0][1] += np.sin(np.arange(0, ny) / ny * 2 * np.pi) * self.units.characteristic_velocity_lu * 1.0\n",
    "            else:\n",
    "                # sonst Multiplikation mit der Parabel (und Faktor 0.3 gegen Instabilität/Schocks)\n",
    "                u[0][1] *= 1 + np.sin(np.arange(0, ny) / ny * 2 * np.pi) * 0.3\n",
    "            # kontrolliere gestörtes u(x=1,y=:) durch plotting:\n",
    "            #print(\"perturbed inlet-velocity:\")\n",
    "            #plt.plot(u[0][1])\n",
    "            #plt.show()\n",
    "        return p, u\n",
    "\n",
    "    @property\n",
    "    def grid(self):\n",
    "        # erstelle MESHGRID: Koordinatenverteilung (Positionen in PU) über das nx x xy Raster und gibt je ein x- und ein y-2D-Array zurück\n",
    "            # linspace erlaubt endpoint=True im Gegensatz zu Arange \"np.linspace(0,n,n)\" war vorher \"np.arange(n)\"\n",
    "            # d.h. von 0 bis n enthält auch 0 und n als Anfangs und Endpunkte und nicht n-1\n",
    "        xyz = tuple(self.units.convert_length_to_pu(np.linspace(0,n,n)) for n in self.shape)  # Tupel aus Listen der x-Wert, y-Werte, (und z-Werte)\n",
    "        return np.meshgrid(*xyz, indexing='ij')  # meshgrid aus den x-, y- (und z-)Werten\n",
    "\n",
    "    @property\n",
    "    def boundaries(self):\n",
    "        # definiere Boundaries:\n",
    "        # inlet (\"left side\", x[0],y[1:-1])\n",
    "        inlet_boundary = EquilibriumBoundaryPU(\n",
    "                                    self.in_mask,\n",
    "                                    flow.units.lattice, flow.units,\n",
    "                                    flow.units.characteristic_velocity_pu * flow._unit_vector())\n",
    "        # lateral walls (\"top and bottom walls\", x[:], y[0,-1])\n",
    "        lateral_boundary = None\n",
    "        if bb_wall == True:\n",
    "            if halfway == True:  # use halfway bounce back\n",
    "                lateral_boundary = HalfwayBounceBackBoundary(self.wall_mask,self.units.lattice)\n",
    "                print(\"lateral halfway\")\n",
    "            else:  # else use fullway bounce back\n",
    "                lateral_boundary = FullwayBounceBackBoundary(self.wall_mask,self.units.lattice)\n",
    "                print(\"lateral fullway\")\n",
    "        # oulet (\"right side\", x[-1],y[:])\n",
    "        outlet_boundary = EquilibriumOutletP(self.units.lattice, [1,0])  # Auslass in positive x-Richtung\n",
    "        # obstacle (obstacle \"cylinder\" with radius centered at position x_pos, y_pos)\n",
    "        obstacle_boundary = None\n",
    "        if cylinder == True:\n",
    "            if halfway == True:\n",
    "                obstacle_boundary = HalfwayBounceBackBoundary(self.obstacle_mask, self.units.lattice)\n",
    "                print(\"obstacle halfway\")\n",
    "            else:\n",
    "                obstacle_boundary = FullwayBounceBackBoundary(self.obstacle_mask, self.units.lattice)\n",
    "                print(\"obstacle fullway\")\n",
    "        \n",
    "        return [\n",
    "            inlet_boundary, \n",
    "            outlet_boundary, \n",
    "            lateral_boundary, \n",
    "            obstacle_boundary\n",
    "        ]\n",
    "\n",
    "    # i-te Zeile der Einheitsmatrix der Dimension D; im default ist nur der erste Eintrag mit einer 1 belegt\n",
    "    def _unit_vector(self, i=0):\n",
    "        return np.eye(self.units.lattice.D)[i]"
   ]
  },
  {
   "cell_type": "code",
   "execution_count": 17,
   "id": "4c0ae2fc",
   "metadata": {
    "scrolled": false
   },
   "outputs": [
    {
     "name": "stdout",
     "output_type": "stream",
     "text": [
      "initializing simulation\n",
      "initial u=poiseille\n",
      "parabelförmiger Einluss\n",
      "die hier definierte ipynb-Version der EqBoundaryPU wurde genutzt :)\n",
      "lateral halfway\n",
      "obstacle halfway\n"
     ]
    }
   ],
   "source": [
    "### Simulationssetup\n",
    "\n",
    "# lattice\n",
    "lattice = lt.Lattice(lt.D2Q9, \"cuda:0\", dtype=torch.float64)\n",
    "    # stencil, device, dtype\n",
    "\n",
    "# flow: definiere Boxgröße, Boxdiskretisierung, Flussgeschwindigkeit, Flussviskosität\n",
    "flow = Cylinder2D(\n",
    "#old    (2*ny, ny), #shape der 2D-Box ist XxY: 2ny x ny\n",
    "    reynolds_number=re, #50.0\n",
    "    mach_number=0.05,\n",
    "    lattice=lattice,\n",
    "    char_length=setup_diameter,\n",
    "    char_length_lu=gridpoints_per_diameter,\n",
    "    char_velocity=flow_velocity,\n",
    "    y_d = domain_width_in_D,\n",
    "    x_d = domain_length_in_D,\n",
    "#old    domain_length_x=setup_domain_length_x, #10.1, # in PU\n",
    ")\n",
    "    # im flow werden alle Boundaries und das Obstacle definiert (s.o.)\n",
    "\n",
    "### Simulations-Objekt (Simulator)\n",
    "tau = flow.units.relaxation_parameter_lu\n",
    "sim = lt.Simulation(flow, lattice, \n",
    "                    lt.BGKCollision(lattice, tau),  # lt.BGKCollision(lattice,tau), \n",
    "                                                    # lt.RegularizedCollision(lattice, tau), \n",
    "                                                    # lt.KBCCollision2D(lattice,tau),\n",
    "                    lt.StandardStreaming(lattice))\n",
    "    # Flow, Lattice-Parameter, KollisionsOperator-Objekt(Parameter), Streaming-Objekt\n",
    "\n",
    "### Reporter\n",
    "\n",
    "# VTK Reporter -> Visualisierung\n",
    "if vtk_out == True:\n",
    "    VTKreport = lt.VTKReporter(lattice, flow, interval=int(flow.units.convert_time_to_lu(1/vtk_fps)), filename_base=vtk_path)\n",
    "    sim.reporters.append(VTKreport)\n",
    "\n",
    "# Observable reporter: drag coefficient\n",
    "if drag_out == True:\n",
    "    DragObservable = lt.DragCoefficient(lattice,flow,sim,area=setup_diameter)  # erstelle Observable // ! area A=2*r is in PU\n",
    "    Dragreport = lt.ObservableReporter(DragObservable, out=None)  # erstelle Reporter für Observable\n",
    "    sim.reporters.append(Dragreport)  # hänge Reporter in Simulator ein\n",
    "    \n",
    "# Observable reporter: lift coefficient\n",
    "if lift_out == True:\n",
    "    LiftObservable = lt.LiftCoefficient(lattice,flow,sim,area=setup_diameter)\n",
    "    Liftreport = lt.ObservableReporter(LiftObservable, out=None)\n",
    "    sim.reporters.append(Liftreport)"
   ]
  },
  {
   "cell_type": "code",
   "execution_count": 18,
   "id": "873079ba",
   "metadata": {},
   "outputs": [
    {
     "name": "stdout",
     "output_type": "stream",
     "text": [
      "steps for 150 seconds: 15588.457268119892\n",
      "time simulated with set 100 steps: 0.9622504486493765 seconds\n",
      "generates approx. 10 .vti/.vtk-frames\n"
     ]
    }
   ],
   "source": [
    "### calculate necessary No. of steps to simulate T seconds\n",
    "T=150\n",
    "l_char_lu=flow.units.characteristic_length_lu\n",
    "l_char_pu=flow.units.characteristic_length_pu\n",
    "u_char_lu=flow.units.characteristic_velocity_lu\n",
    "u_char_pu=flow.units.characteristic_velocity_pu\n",
    "n_steps_prediction = T*l_char_lu/l_char_pu*u_char_pu/u_char_lu\n",
    "print(\"steps for\", T, \"seconds:\", n_steps_prediction)\n",
    "\n",
    "print(\"time simulated with set\", n_steps, \"steps:\", flow.units.convert_time_to_pu(n_steps), \"seconds\")\n",
    "\n",
    "print(\"generates approx.\", int(vtk_fps*flow.units.convert_time_to_pu(n_steps))+1, \".vti/.vtk-frames\")"
   ]
  },
  {
   "cell_type": "code",
   "execution_count": 19,
   "id": "cfc1d90f",
   "metadata": {},
   "outputs": [
    {
     "name": "stdout",
     "output_type": "stream",
     "text": [
      "finishes simulation\n",
      "MLUPS: 0.059886202021176796\n",
      "PU-Time:  0.9622504486493765  seconds\n",
      "Re: 200\n",
      "char_velocity_LU 0.028867513459481294\n",
      "number of steps: 100\n",
      "runtime:  0.2707362174987793 seconds\n"
     ]
    }
   ],
   "source": [
    "### Einfache Simulation\n",
    "\n",
    "t_start=time.time()\n",
    "\n",
    "mlups = sim.step(n_steps) #Simulation mit Schrittzahl n_steps\n",
    "\n",
    "print(\"MLUPS:\", mlups)\n",
    "print(\"PU-Time: \",flow.units.convert_time_to_pu(n_steps),\" seconds\")\n",
    "print(\"Re:\",re)\n",
    "print(\"char_velocity_LU\", flow.units.characteristic_velocity_lu)\n",
    "print(\"number of steps:\",n_steps)\n",
    "print(\"runtime: \",time.time()-t_start, \"seconds\")"
   ]
  },
  {
   "cell_type": "code",
   "execution_count": 1,
   "id": "cf0ce31f",
   "metadata": {
    "scrolled": false
   },
   "outputs": [
    {
     "ename": "NameError",
     "evalue": "name 'Dragreport' is not defined",
     "output_type": "error",
     "traceback": [
      "\u001b[0;31m---------------------------------------------------------------------------\u001b[0m",
      "\u001b[0;31mNameError\u001b[0m                                 Traceback (most recent call last)",
      "Input \u001b[0;32mIn [1]\u001b[0m, in \u001b[0;36m<cell line: 3>\u001b[0;34m()\u001b[0m\n\u001b[1;32m      1\u001b[0m \u001b[38;5;66;03m### plot Drag coefficient\u001b[39;00m\n\u001b[0;32m----> 3\u001b[0m drag_coefficient \u001b[38;5;241m=\u001b[39m np\u001b[38;5;241m.\u001b[39marray(\u001b[43mDragreport\u001b[49m\u001b[38;5;241m.\u001b[39mout)\n\u001b[1;32m      4\u001b[0m \u001b[38;5;28mprint\u001b[39m(\u001b[38;5;124m'\u001b[39m\u001b[38;5;124m  stepLU        \u001b[39m\u001b[38;5;124m'\u001b[39m, \u001b[38;5;124m'\u001b[39m\u001b[38;5;124mtimePU        \u001b[39m\u001b[38;5;124m'\u001b[39m, \u001b[38;5;124m'\u001b[39m\u001b[38;5;124mCd\u001b[39m\u001b[38;5;124m'\u001b[39m)\n\u001b[1;32m      5\u001b[0m \u001b[38;5;28mprint\u001b[39m(drag_coefficient) \u001b[38;5;66;03m# prints: stepLU, timePU, value\u001b[39;00m\n",
      "\u001b[0;31mNameError\u001b[0m: name 'Dragreport' is not defined"
     ]
    }
   ],
   "source": [
    "### plot Drag coefficient\n",
    "\n",
    "drag_coefficient = np.array(Dragreport.out)\n",
    "print('  stepLU        ', 'timePU        ', 'Cd')\n",
    "print(drag_coefficient) # prints: stepLU, timePU, value\n",
    "plt.figure\n",
    "plt.plot(drag_coefficient[5000:,1],drag_coefficient[5000:,2])"
   ]
  },
  {
   "cell_type": "code",
   "execution_count": 21,
   "id": "b7559de6",
   "metadata": {
    "scrolled": false
   },
   "outputs": [
    {
     "name": "stdout",
     "output_type": "stream",
     "text": [
      "  stepLU         timePU         Cl\n",
      "[[ 0.00000000e+00  0.00000000e+00  0.00000000e+00]\n",
      " [ 1.00000000e+00  9.62250449e-03  4.44080658e-14]\n",
      " [ 2.00000000e+00  1.92450090e-02  1.48079464e-02]\n",
      " [ 3.00000000e+00  2.88675135e-02  3.12694693e-02]\n",
      " [ 4.00000000e+00  3.84900179e-02  5.34926143e-02]\n",
      " [ 5.00000000e+00  4.81125224e-02  5.69884899e-02]\n",
      " [ 6.00000000e+00  5.77350269e-02  5.23111605e-02]\n",
      " [ 7.00000000e+00  6.73575314e-02  4.89914107e-04]\n",
      " [ 8.00000000e+00  7.69800359e-02  4.71893615e-02]\n",
      " [ 9.00000000e+00  8.66025404e-02 -3.49682816e-02]\n",
      " [ 1.00000000e+01  9.62250449e-02 -1.08560126e-02]\n",
      " [ 1.10000000e+01  1.05847549e-01 -1.11791539e-02]\n",
      " [ 1.20000000e+01  1.15470054e-01  1.05017650e-02]\n",
      " [ 1.30000000e+01  1.25092558e-01 -3.03424247e-02]\n",
      " [ 1.40000000e+01  1.34715063e-01  2.79913803e-03]\n",
      " [ 1.50000000e+01  1.44337567e-01 -1.88313504e-02]\n",
      " [ 1.60000000e+01  1.53960072e-01 -2.42254624e-02]\n",
      " [ 1.70000000e+01  1.63582576e-01 -1.47181847e-02]\n",
      " [ 1.80000000e+01  1.73205081e-01 -3.43108907e-02]\n",
      " [ 1.90000000e+01  1.82827585e-01 -3.83897470e-02]\n",
      " [ 2.00000000e+01  1.92450090e-01 -2.54107422e-03]\n",
      " [ 2.10000000e+01  2.02072594e-01 -1.83219514e-02]\n",
      " [ 2.20000000e+01  2.11695099e-01  9.79855709e-03]\n",
      " [ 2.30000000e+01  2.21317603e-01 -4.58310548e-03]\n",
      " [ 2.40000000e+01  2.30940108e-01  5.51277471e-04]\n",
      " [ 2.50000000e+01  2.40562612e-01 -1.57645928e-02]\n",
      " [ 2.60000000e+01  2.50185117e-01 -9.97800874e-03]\n",
      " [ 2.70000000e+01  2.59807621e-01 -3.87955671e-03]\n",
      " [ 2.80000000e+01  2.69430126e-01  8.31128749e-03]\n",
      " [ 2.90000000e+01  2.79052630e-01  1.17065392e-03]\n",
      " [ 3.00000000e+01  2.88675135e-01  2.22668598e-02]\n",
      " [ 3.10000000e+01  2.98297639e-01  3.59790451e-03]\n",
      " [ 3.20000000e+01  3.07920144e-01  1.81788193e-02]\n",
      " [ 3.30000000e+01  3.17542648e-01  5.14722636e-03]\n",
      " [ 3.40000000e+01  3.27165153e-01  1.56932556e-02]\n",
      " [ 3.50000000e+01  3.36787657e-01  5.38173059e-04]\n",
      " [ 3.60000000e+01  3.46410162e-01  1.53730520e-02]\n",
      " [ 3.70000000e+01  3.56032666e-01 -3.86965561e-03]\n",
      " [ 3.80000000e+01  3.65655170e-01  1.78078685e-02]\n",
      " [ 3.90000000e+01  3.75277675e-01 -5.87523370e-03]\n",
      " [ 4.00000000e+01  3.84900179e-01  1.87179113e-02]\n",
      " [ 4.10000000e+01  3.94522684e-01 -1.51802960e-02]\n",
      " [ 4.20000000e+01  4.04145188e-01  1.63692348e-02]\n",
      " [ 4.30000000e+01  4.13767693e-01 -2.58604326e-02]\n",
      " [ 4.40000000e+01  4.23390197e-01  1.46784160e-02]\n",
      " [ 4.50000000e+01  4.33012702e-01 -3.28743229e-02]\n",
      " [ 4.60000000e+01  4.42635206e-01  1.76398293e-02]\n",
      " [ 4.70000000e+01  4.52257711e-01 -3.81838405e-02]\n",
      " [ 4.80000000e+01  4.61880215e-01  2.25514734e-02]\n",
      " [ 4.90000000e+01  4.71502720e-01 -4.17752987e-02]\n",
      " [ 5.00000000e+01  4.81125224e-01  2.60535989e-02]\n",
      " [ 5.10000000e+01  4.90747729e-01 -4.28253313e-02]\n",
      " [ 5.20000000e+01  5.00370233e-01  3.00858600e-02]\n",
      " [ 5.30000000e+01  5.09992738e-01 -4.34144461e-02]\n",
      " [ 5.40000000e+01  5.19615242e-01  3.76037728e-02]\n",
      " [ 5.50000000e+01  5.29237747e-01 -4.60143707e-02]\n",
      " [ 5.60000000e+01  5.38860251e-01  4.67476044e-02]\n",
      " [ 5.70000000e+01  5.48482756e-01 -4.68017532e-02]\n",
      " [ 5.80000000e+01  5.58105260e-01  5.20228927e-02]\n",
      " [ 5.90000000e+01  5.67727765e-01 -4.57406249e-02]\n",
      " [ 6.00000000e+01  5.77350269e-01  5.49001699e-02]\n",
      " [ 6.10000000e+01  5.86972774e-01 -4.59670555e-02]\n",
      " [ 6.20000000e+01  5.96595278e-01  5.86232164e-02]\n",
      " [ 6.30000000e+01  6.06217783e-01 -4.74411952e-02]\n",
      " [ 6.40000000e+01  6.15840287e-01  6.34785929e-02]\n",
      " [ 6.50000000e+01  6.25462792e-01 -5.05210836e-02]\n",
      " [ 6.60000000e+01  6.35085296e-01  6.67547831e-02]\n",
      " [ 6.70000000e+01  6.44707801e-01 -5.54582389e-02]\n",
      " [ 6.80000000e+01  6.54330305e-01  6.92642343e-02]\n",
      " [ 6.90000000e+01  6.63952810e-01 -6.44163603e-02]\n",
      " [ 7.00000000e+01  6.73575314e-01  7.23785954e-02]\n",
      " [ 7.10000000e+01  6.83197819e-01 -7.62763906e-02]\n",
      " [ 7.20000000e+01  6.92820323e-01  7.58538438e-02]\n",
      " [ 7.30000000e+01  7.02442828e-01 -8.72269052e-02]\n",
      " [ 7.40000000e+01  7.12065332e-01  7.93935043e-02]\n",
      " [ 7.50000000e+01  7.21687836e-01 -9.43533758e-02]\n",
      " [ 7.60000000e+01  7.31310341e-01  8.20839830e-02]\n",
      " [ 7.70000000e+01  7.40932845e-01 -9.67555763e-02]\n",
      " [ 7.80000000e+01  7.50555350e-01  8.48333712e-02]\n",
      " [ 7.90000000e+01  7.60177854e-01 -9.62051538e-02]\n",
      " [ 8.00000000e+01  7.69800359e-01  9.02080999e-02]\n",
      " [ 8.10000000e+01  7.79422863e-01 -9.58615561e-02]\n",
      " [ 8.20000000e+01  7.89045368e-01  9.68152273e-02]\n",
      " [ 8.30000000e+01  7.98667872e-01 -9.57337382e-02]\n",
      " [ 8.40000000e+01  8.08290377e-01  1.02386431e-01]\n",
      " [ 8.50000000e+01  8.17912881e-01 -9.55446714e-02]\n",
      " [ 8.60000000e+01  8.27535386e-01  1.06705290e-01]\n",
      " [ 8.70000000e+01  8.37157890e-01 -9.67423625e-02]\n",
      " [ 8.80000000e+01  8.46780395e-01  1.08862638e-01]\n",
      " [ 8.90000000e+01  8.56402899e-01 -9.83618245e-02]\n",
      " [ 9.00000000e+01  8.66025404e-01  1.07372482e-01]\n",
      " [ 9.10000000e+01  8.75647908e-01 -9.83720382e-02]\n",
      " [ 9.20000000e+01  8.85270413e-01  1.03201796e-01]\n",
      " [ 9.30000000e+01  8.94892917e-01 -9.79156694e-02]\n",
      " [ 9.40000000e+01  9.04515422e-01  9.89197421e-02]\n",
      " [ 9.50000000e+01  9.14137926e-01 -9.78674670e-02]\n",
      " [ 9.60000000e+01  9.23760431e-01  9.64296219e-02]\n",
      " [ 9.70000000e+01  9.33382935e-01 -9.78933859e-02]\n",
      " [ 9.80000000e+01  9.43005440e-01  9.53591651e-02]\n",
      " [ 9.90000000e+01  9.52627944e-01 -9.78438583e-02]\n",
      " [ 1.00000000e+02  9.62250449e-01  9.39982196e-02]]\n"
     ]
    },
    {
     "data": {
      "text/plain": [
       "[<matplotlib.lines.Line2D at 0x7f7f34e24310>]"
      ]
     },
     "execution_count": 21,
     "metadata": {},
     "output_type": "execute_result"
    },
    {
     "data": {
      "image/png": "[encoded data removed]",
      "text/plain": [
       "<Figure size 640x480 with 1 Axes>"
      ]
     },
     "metadata": {},
     "output_type": "display_data"
    }
   ],
   "source": [
    "### plot Lift coefficient\n",
    "\n",
    "lift_coefficient = np.array(Liftreport.out)\n",
    "print('  stepLU        ', 'timePU        ', 'Cl')\n",
    "print(lift_coefficient) # prints: stepLU, timePU, value\n",
    "plt.figure\n",
    "plt.plot(lift_coefficient[4000:,0],lift_coefficient[4000:,2])"
   ]
  },
  {
   "cell_type": "code",
   "execution_count": 22,
   "id": "34959bb6",
   "metadata": {},
   "outputs": [
    {
     "data": {
      "text/plain": [
       "<matplotlib.legend.Legend at 0x7f7f34e00c10>"
      ]
     },
     "execution_count": 22,
     "metadata": {},
     "output_type": "execute_result"
    },
    {
     "data": {
      "image/png": "[encoded data removed]",
      "text/plain": [
       "<Figure size 640x480 with 1 Axes>"
      ]
     },
     "metadata": {},
     "output_type": "display_data"
    }
   ],
   "source": [
    "### plot Drag coefficient AND Lift Coefficient\n",
    "\n",
    "drag_coefficient = np.array(Dragreport.out)\n",
    "plt.figure\n",
    "plt.plot(drag_coefficient[10000:,1],drag_coefficient[10000:,2])\n",
    "lift_coefficient = np.array(Liftreport.out)\n",
    "plt.plot(lift_coefficient[10000:,1],lift_coefficient[10000:,2])\n",
    "plt.legend(labels=[\"Drag\", \"Lift\"])"
   ]
  },
  {
   "cell_type": "code",
   "execution_count": 23,
   "id": "b5bc915a",
   "metadata": {},
   "outputs": [
    {
     "data": {
      "text/plain": [
       "[<matplotlib.lines.Line2D at 0x7f7f34af5180>]"
      ]
     },
     "execution_count": 23,
     "metadata": {},
     "output_type": "execute_result"
    },
    {
     "data": {
      "image/png": "[encoded data removed]",
      "text/plain": [
       "<Figure size 640x480 with 1 Axes>"
      ]
     },
     "metadata": {},
     "output_type": "display_data"
    }
   ],
   "source": [
    "### plotte Dichte (mean, max, min) im Fluid-Bereich\n",
    "\n",
    "plt.figure\n",
    "plt.plot(np.arange(len(DragObservable.rho_max_list[10000:]))+10000,DragObservable.rho_max_list[10000:])\n",
    "plt.plot(np.arange(len(DragObservable.rho_max_list[10000:]))+10000,DragObservable.rho_min_list[10000:])\n",
    "plt.plot(np.arange(len(DragObservable.rho_max_list[10000:]))+10000,DragObservable.rho_mean_list[10000:])"
   ]
  },
  {
   "cell_type": "code",
   "execution_count": 24,
   "id": "4e1f6e94",
   "metadata": {},
   "outputs": [
    {
     "data": {
      "text/plain": [
       "'/mnt/ScratchHDD1/Max_Scratch/lbm_simulations/data_230309_145913/script.ipynb'"
      ]
     },
     "execution_count": 24,
     "metadata": {},
     "output_type": "execute_result"
    }
   ],
   "source": [
    "# save notebook to simulation_output\n",
    "\n",
    "shutil.copy(str(os.getcwd())+\"/cylinder2D_development.ipynb\",output_path+dir_name+\"/script.ipynb\")\n",
    "\n"
   ]
  },
  {
   "cell_type": "code",
   "execution_count": null,
   "id": "d7aaead2",
   "metadata": {},
   "outputs": [],
   "source": []
  }
 ],
 "metadata": {
  "kernelspec": {
   "display_name": "Python 3 (ipykernel)",
   "language": "python",
   "name": "python3"
  },
  "language_info": {
   "codemirror_mode": {
    "name": "ipython",
    "version": 3
   },
   "file_extension": ".py",
   "mimetype": "text/x-python",
   "name": "python",
   "nbconvert_exporter": "python",
   "pygments_lexer": "ipython3",
   "version": "3.10.6"
  },
  "varInspector": {
   "cols": {
    "lenName": 16,
    "lenType": 16,
    "lenVar": 40
   },
   "kernels_config": {
    "python": {
     "delete_cmd_postfix": "",
     "delete_cmd_prefix": "del ",
     "library": "var_list.py",
     "varRefreshCmd": "print(var_dic_list())"
    },
    "r": {
     "delete_cmd_postfix": ") ",
     "delete_cmd_prefix": "rm(",
     "library": "var_list.r",
     "varRefreshCmd": "cat(var_dic_list()) "
    }
   },
   "types_to_exclude": [
    "module",
    "function",
    "builtin_function_or_method",
    "instance",
    "_Feature"
   ],
   "window_display": false
  }
 },
 "nbformat": 4,
 "nbformat_minor": 5
}
