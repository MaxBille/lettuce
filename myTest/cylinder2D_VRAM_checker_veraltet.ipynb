{
 "cells": [
  {
   "cell_type": "code",
   "execution_count": 1,
   "id": "c74f6ed3",
   "metadata": {},
   "outputs": [],
   "source": [
    "import gc\n",
    "\n",
    "import lettuce as lt\n",
    "import matplotlib.pyplot as plt\n",
    "from scipy.signal import find_peaks\n",
    "\n",
    "import warnings\n",
    "import numpy as np\n",
    "from lettuce.unit import UnitConversion\n",
    "from lettuce.util import append_axes\n",
    "from lettuce.boundary import EquilibriumBoundaryPU, BounceBackBoundary, HalfwayBounceBackBoundary, FullwayBounceBackBoundary, EquilibriumOutletP, AntiBounceBackOutlet, InterpolatedBounceBackBoundary\n",
    "from lettuce.flows.cylinder2D import Cylinder2D\n",
    "from lettuce.flows.obstacleCylinder import ObstacleCylinder\n",
    "\n",
    "import torch\n",
    "import time\n",
    "import datetime\n",
    "import os\n",
    "import shutil\n",
    "from pyevtk.hl import imageToVTK"
   ]
  },
  {
   "cell_type": "code",
   "execution_count": 2,
   "outputs": [],
   "source": [
    "### OUTPUT SETTINGS\n",
    "output_data = True\n",
    "\n",
    "# IMPORTANT: set correct output_path, for example \"/home/YourUserName/simulation_output\"\n",
    "output_path = \"/mnt/ScratchHDD1/Max_Scratch/lbm_simulations\"  # lokal HBRS\n",
    "#output_path = \"/home/max/Documents/lbm_simulations\"  # lokal Bonn\n",
    "#output_path = \"/home/mbille3s/02_lbm_simulations\"  # cluster HBRS\n",
    "\n",
    "# name: if you want something specific in the dir-name\n",
    "name = \"cyl2D_VRAMchecker\"\n",
    "\n",
    "# choose stencil: \"D3Q9\" dor 2D, \"D3Q15\", \"D3Q19\", \"D3Q27\" for 3D\n",
    "stencil_choice = \"D2Q9\"\n",
    "# choose collision operator: \"bgk, \"kbc\", \"reg\"\n",
    "collision_choice = \"bgk\""
   ],
   "metadata": {
    "collapsed": false
   }
  },
  {
   "cell_type": "code",
   "execution_count": 9,
   "id": "7897deb0",
   "metadata": {},
   "outputs": [],
   "source": [
    "### SIMULATION PARAMETERS (and estimation of timesteps needed to reach T_target)\n",
    "re = 200   # Reynoldszahl\n",
    "Ma = 0.05     # Machzahl\n",
    "gp_start = 8000000\n",
    "setup_diameter = 1  # D_PU = char_length_pu -> this defines the PU-Reference\n",
    "flow_velocity = 1  # U_PU = char_velocity_pu -> this defines the PU-Reference velocity (u_max of inflow)\n",
    "\n",
    "# SIMULATOR settings\n",
    "u_init = 0    # initial velocity field: # 0: uniform u=0, # 1: uniform u=1 or parabolic, mean amplitude u_char_lu (similar to poiseuille-flow)\n",
    "perturb_init = True   # perturb initial symmetry by small sine-wave in initial velocity field -> triggers Karman-vortex street for Re > 46\n",
    "lateral_walls='periodic'  # type of top/bottom boundary: 'bounceback' = frictious wall, 'periodic' = periodic boundary, 'slip' = non-frictious wall\n",
    "bc_type='fwbb'  # choose algorithm for bounceback-boundaries: fullway 'fwbb', halfway 'hwbb', linear interpolated 'ibb1'"
   ]
  },
  {
   "cell_type": "code",
   "execution_count": 4,
   "id": "c5b67805",
   "metadata": {},
   "outputs": [
    {
     "name": "stdout",
     "output_type": "stream",
     "text": [
      "dir_name: /data_230911_161039_cyl2D_VRAMchecker\n"
     ]
    }
   ],
   "source": [
    "### (no user input) CREATE OUTPUT DIRECTORIES\n",
    "if output_data:  # toggle output\n",
    "    timestamp = datetime.datetime.now()\n",
    "    timestamp = timestamp.strftime(\"%y%m%d\")+\"_\"+timestamp.strftime(\"%H%M%S\")\n",
    "\n",
    "    dir_name = \"/data_\" + str(timestamp) + \"_\" + name\n",
    "    os.makedirs(output_path+dir_name)\n",
    "\n",
    "    print(\"dir_name: \"+dir_name)\n",
    "else:\n",
    "    output_vtk = False"
   ]
  },
  {
   "cell_type": "code",
   "execution_count": 9,
   "outputs": [
    {
     "name": "stdout",
     "output_type": "stream",
     "text": [
      "max.GP: 14023808 for fwbb for D= 2 , stencil= D2Q9\n"
     ]
    }
   ],
   "source": [
    "# max_vram = []\n",
    "# t_start=time.time()\n",
    "# for i in range(2000,3000):\n",
    "#     try:\n",
    "#         lattice = lt.Lattice(lt.D2Q9, \"cuda:0\", dtype=torch.float64)\n",
    "#         flow = ObstacleCylinder(shape=(i,2*i),\n",
    "#                             reynolds_number=re, mach_number=Ma,\n",
    "#                             lattice=lattice,\n",
    "#                             char_length_pu=setup_diameter,\n",
    "#                             char_length_lu=gridpoints_per_diameter,\n",
    "#                             char_velocity_pu=flow_velocity,\n",
    "#                             lateral_walls=lateral_walls,\n",
    "#                             bc_type=bc_type,\n",
    "#                             perturb_init=perturb_init,\n",
    "#                             u_init=u_init\n",
    "#                             )\n",
    "#         tau = flow.units.relaxation_parameter_lu\n",
    "#         # collision\n",
    "#         if collision_choice == \"reg\":\n",
    "#             collision=lt.RegularizedCollision(lattice, tau)\n",
    "#         elif collision_choice == \"kbc\":\n",
    "#             collision=lt.KBCCollision3D(lattice,tau)\n",
    "#         else: # collision_choice = \"bgk\":\n",
    "#             collision=lt.BGKCollision(lattice, tau)\n",
    "#\n",
    "#         sim = lt.Simulation(flow, lattice,\n",
    "#                         collision,\n",
    "#                         # lt.BGKCollision(lattice, tau),\n",
    "#                         # lt.RegularizedCollision(lattice, tau),\n",
    "#                         # lt.KBCCollision2D(lattice,tau),\n",
    "#                         lt.StandardStreaming(lattice)\n",
    "#                        )\n",
    "#         mlups = sim.step(1) #Simulation mit Schrittzahl n_steps\n",
    "#         max_shape = str(flow.shape)\n",
    "#         max_gp = str(lattice.rho(sim.f).numel())\n",
    "#         max_vram.append([i,2*i*i,torch.cuda.max_memory_allocated(lattice.device)])\n",
    "#     except:\n",
    "#         print(\"max.GP:\", str((i-1)*2*(i-1)), \"for\", str(bc_type), \"for D=\", str(lattice.D), \", stencil=\", str(stencil_choice))\n",
    "#         max_i = i\n",
    "#         break\n",
    "#\n",
    "# t_end=time.time()\n",
    "# runtime=t_end-t_start"
   ],
   "metadata": {
    "collapsed": false
   }
  },
  {
   "cell_type": "code",
   "execution_count": 16,
   "outputs": [
    {
     "name": "stdout",
     "output_type": "stream",
     "text": [
      "1: success for gp = 8.000000e+06 in [0.000000e+00, 8.000000e+06]\n",
      "failed for gp_middle = 16000000 for fwbb for D= 2 , stencil= D2Q9\n",
      "2: failed for gp = 1.600000e+07 in [8.000000e+06, 1.600000e+07]\n",
      "3: success for gp = 1.200000e+07 in [8.000000e+06, 1.600000e+07]\n",
      "4: success for gp = 1.400000e+07 in [1.200000e+07, 1.600000e+07]\n",
      "5: success for gp = 1.500000e+07 in [1.400000e+07, 1.600000e+07]\n",
      "6: success for gp = 1.550000e+07 in [1.500000e+07, 1.600000e+07]\n",
      "failed for gp_middle = 15750000 for fwbb for D= 2 , stencil= D2Q9\n",
      "7: failed for gp = 1.575000e+07 in [1.550000e+07, 1.600000e+07]\n",
      "FINISHED BISECTION\n",
      "FOUND LIMIT: 15499969\n",
      "runtime = 171.5482771396637 seconds\n"
     ]
    }
   ],
   "source": [
    "# version with bisection:\n",
    "max_vram = []\n",
    "gp_middle = gp_start\n",
    "t_start=time.time()\n",
    "done = False\n",
    "failed = False\n",
    "i=1\n",
    "gp_lower = 0\n",
    "gp_upper = gp_middle\n",
    "max_gp = 0\n",
    "run_up = True\n",
    "while not done:\n",
    "    try:\n",
    "        lattice = lt.Lattice(lt.D2Q9, \"cuda:0\", dtype=torch.float64)\n",
    "        flow = ObstacleCylinder(shape=(np.sqrt(gp_middle), np.sqrt(gp_middle)),\n",
    "                            reynolds_number=re, mach_number=Ma,\n",
    "                            lattice=lattice,\n",
    "                            char_length_pu=setup_diameter,\n",
    "                            char_length_lu=int(np.sqrt(gp_middle/5)),\n",
    "                            char_velocity_pu=flow_velocity,\n",
    "                            lateral_walls=lateral_walls,\n",
    "                            bc_type=bc_type,\n",
    "                            perturb_init=perturb_init,\n",
    "                            u_init=u_init\n",
    "                            )\n",
    "        tau = flow.units.relaxation_parameter_lu\n",
    "        # collision\n",
    "        if collision_choice == \"reg\":\n",
    "            collision=lt.RegularizedCollision(lattice, tau)\n",
    "        elif collision_choice == \"kbc\":\n",
    "            collision=lt.KBCCollision3D(lattice,tau)\n",
    "        else: # collision_choice = \"bgk\":\n",
    "            collision=lt.BGKCollision(lattice, tau)\n",
    "\n",
    "        sim = lt.Simulation(flow, lattice,\n",
    "                        collision,\n",
    "                        # lt.BGKCollision(lattice, tau),\n",
    "                        # lt.RegularizedCollision(lattice, tau),\n",
    "                        # lt.KBCCollision2D(lattice,tau),\n",
    "                        lt.StandardStreaming(lattice)\n",
    "                       )\n",
    "        mlups = sim.step(1)\n",
    "        max_shape = str(flow.shape)\n",
    "        max_gp = str(lattice.rho(sim.f).numel())\n",
    "        max_vram.append([i,max_gp,torch.cuda.max_memory_allocated(lattice.device)])\n",
    "        failed = False\n",
    "        try:\n",
    "            del lattice\n",
    "        except:\n",
    "            pass\n",
    "        try:\n",
    "            del flow\n",
    "        except:\n",
    "            pass\n",
    "        try:\n",
    "            del sim\n",
    "        except:\n",
    "            pass\n",
    "        try:\n",
    "            del collision\n",
    "        except:\n",
    "            pass\n",
    "        gc.collect()\n",
    "        torch.cuda.empty_cache()\n",
    "        torch.cuda.reset_peak_memory_stats(device=\"cuda:0\")\n",
    "    except:\n",
    "        #print(\"failed for gp_middle =\", str(gp_middle), \"for\", str(bc_type), \"for D=\", str(lattice.D), \", stencil=\", str(stencil_choice))\n",
    "        failed = True\n",
    "        run_up = False\n",
    "        try:\n",
    "            del lattice\n",
    "        except:\n",
    "            pass\n",
    "        try:\n",
    "            del flow\n",
    "        except:\n",
    "            pass\n",
    "        try:\n",
    "            del sim\n",
    "        except:\n",
    "            pass\n",
    "        try:\n",
    "            del collision\n",
    "        except:\n",
    "            pass\n",
    "        gc.collect()\n",
    "        torch.cuda.empty_cache()\n",
    "        torch.cuda.reset_peak_memory_stats(device=\"cuda:0\")\n",
    "    if failed:\n",
    "        status = \"failed\"\n",
    "    else:\n",
    "        status = \"success\"\n",
    "    print(str(i) + \": \" + status + \" for gp = {:e} in [{:e}, {:e}]\".format(gp_middle,gp_lower,gp_upper))\n",
    "\n",
    "    if run_up and not failed:\n",
    "        gp_lower = gp_middle\n",
    "        gp_middle = 2*gp_middle\n",
    "        gp_upper = gp_middle\n",
    "    else:  # if not run_up, do bisection\n",
    "        if not failed:\n",
    "            gp_lower = gp_middle\n",
    "        else:  # if failed\n",
    "            gp_upper = gp_middle\n",
    "            if (gp_upper-gp_lower)/gp_lower < 0.05:  # limit found\n",
    "                done = True\n",
    "        gp_middle = int((gp_upper+gp_lower)/2)\n",
    "    i += 1\n",
    "\n",
    "t_end=time.time()\n",
    "runtime=t_end-t_start\n",
    "\n",
    "print(\"FINISHED BISECTION\")\n",
    "print(\"FOUND LIMIT: \" + str(max_gp))\n",
    "print(\"runtime = \" + str(runtime) + \" seconds\")"
   ],
   "metadata": {
    "collapsed": false
   }
  },
  {
   "cell_type": "code",
   "execution_count": 12,
   "outputs": [
    {
     "data": {
      "text/plain": "14"
     },
     "execution_count": 12,
     "metadata": {},
     "output_type": "execute_result"
    }
   ],
   "source": [
    "gc.collect()\n"
   ],
   "metadata": {
    "collapsed": false
   }
  },
  {
   "cell_type": "code",
   "execution_count": 14,
   "outputs": [
    {
     "name": "stdout",
     "output_type": "stream",
     "text": [
      "[[1, 8000000, 3698561536], [3, 12000000, 4955796992], [4, 14000000, 5780452352], [5, 15000000, 6194767872]]\n"
     ]
    }
   ],
   "source": [
    "print(max_vram)"
   ],
   "metadata": {
    "collapsed": false
   }
  },
  {
   "cell_type": "code",
   "execution_count": 19,
   "outputs": [],
   "source": [
    "# output data checker\n",
    "if output_data:\n",
    "    output_file = open(output_path+dir_name+\"/\"+timestamp + \"_parms_stats_obs.txt\", \"a\")\n",
    "    output_file.write(\"DATA for \"+timestamp)\n",
    "    output_file.write(\"\\n\\n###   Parameters   ###\")\n",
    "    output_file.write(\"\\nbc_type = \"+str(bc_type))\n",
    "    output_file.write(\"\\nlateral_walls = \"+str(lateral_walls))\n",
    "    output_file.write(\"\\nstencil = \"+str(stencil_choice))\n",
    "    output_file.write(\"\\ncollision = \" + str(collision_choice))\n",
    "    output_file.write(\"\\n\")\n",
    "    output_file.write(\"\\nperturb_init = \" + str(perturb_init))\n",
    "    output_file.write(\"\\n\")\n",
    "\n",
    "    output_file.write(\"\\n\\n###   STATS  ###\")\n",
    "    output_file.write(\"\\nlargest shape: \" + max_shape)\n",
    "    output_file.write(\"\\ni = \" + str(i))\n",
    "    output_file.write(\"\\nmax. GP = \" + max_gp)\n",
    "    output_file.write(\"\\nmax. VRAM = \" + str(max_vram[-1][2]))\n",
    "    output_file.write(\"\\ntotal runtime VRAM_check = \" + str(runtime))\n",
    "    output_file.close()\n"
   ],
   "metadata": {
    "collapsed": false
   }
  },
  {
   "cell_type": "code",
   "execution_count": 20,
   "outputs": [],
   "source": [
    "# output data for all i\n",
    "if output_data:\n",
    "    output_file = open(output_path+dir_name+\"/\"+timestamp + \"_i_gp_vram.txt\", \"a\")\n",
    "    for i in range(len(max_vram)):\n",
    "        output_file.write(str(max_vram[i][0]) + \", \" + str(max_vram[i][1]) + \", \" + str(max_vram[i][2]) + \"\\n\")\n",
    "    output_file.close()"
   ],
   "metadata": {
    "collapsed": false
   }
  },
  {
   "cell_type": "code",
   "execution_count": null,
   "outputs": [],
   "source": [],
   "metadata": {
    "collapsed": false
   }
  }
 ],
 "metadata": {
  "kernelspec": {
   "display_name": "Python 3 (ipykernel)",
   "language": "python",
   "name": "python3"
  },
  "language_info": {
   "codemirror_mode": {
    "name": "ipython",
    "version": 3
   },
   "file_extension": ".py",
   "mimetype": "text/x-python",
   "name": "python",
   "nbconvert_exporter": "python",
   "pygments_lexer": "ipython3",
   "version": "3.10.6"
  },
  "varInspector": {
   "cols": {
    "lenName": 16,
    "lenType": 16,
    "lenVar": 40
   },
   "kernels_config": {
    "python": {
     "delete_cmd_postfix": "",
     "delete_cmd_prefix": "del ",
     "library": "var_list.py",
     "varRefreshCmd": "print(var_dic_list())"
    },
    "r": {
     "delete_cmd_postfix": ") ",
     "delete_cmd_prefix": "rm(",
     "library": "var_list.r",
     "varRefreshCmd": "cat(var_dic_list()) "
    }
   },
   "types_to_exclude": [
    "module",
    "function",
    "builtin_function_or_method",
    "instance",
    "_Feature"
   ],
   "window_display": false
  }
 },
 "nbformat": 4,
 "nbformat_minor": 5
}
