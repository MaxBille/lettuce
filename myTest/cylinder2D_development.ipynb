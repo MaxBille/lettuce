{
 "cells": [
  {
   "cell_type": "code",
   "execution_count": 1,
   "id": "c74f6ed3",
   "metadata": {},
   "outputs": [],
   "source": [
    "import lettuce as lt\n",
    "import matplotlib.pyplot as plt\n",
    "from scipy.signal import find_peaks\n",
    "\n",
    "import warnings\n",
    "import numpy as np\n",
    "from lettuce.unit import UnitConversion\n",
    "from lettuce.util import append_axes\n",
    "from lettuce.boundary import EquilibriumBoundaryPU, BounceBackBoundary, HalfwayBounceBackBoundary, FullwayBounceBackBoundary, EquilibriumOutletP, AntiBounceBackOutlet\n",
    "from lettuce.flows.obstaclemax import ObstacleMax\n",
    "\n",
    "import torch\n",
    "import time\n",
    "import datetime\n",
    "import os\n",
    "import shutil"
   ]
  },
  {
   "cell_type": "code",
   "execution_count": 3,
   "id": "7897deb0",
   "metadata": {},
   "outputs": [
    {
     "name": "stdout",
     "output_type": "stream",
     "text": [
      "shape_LU: 800 x 400\n",
      "T with 145000 steps: 199.32 seconds\n",
      "n_steps to simulate 1 second: 727.46 steps\n",
      "n_steps to simulate 200 seconds: 145492.0 steps\n",
      "generates approx. 1994 .vti/.vtk-frames\n",
      "No. of gridpoints: 320000\n",
      "estimated min. runtime on 2060super: 2320.0 seconds ( 38.67 minutes )\n",
      "estimated min. runtime on 2080ti:    1546.67 seconds ( 25.78 minutes )\n"
     ]
    }
   ],
   "source": [
    "### Simulationsparameter - Steuerung \n",
    "re = 200   # Reynoldszahl\n",
    "Ma = 0.05     # Machzahl\n",
    "n_steps = 145000    # Schrittzahl\n",
    "setup_diameter = 1  # D_PU = char_length_pu -> this defines the PU-Reference\n",
    "flow_velocity = 1  # U_PU = char_velocity_pu -> this defines the PU-Reference velocity (u_max of inflow)\n",
    "\n",
    "periodic_start = 0.9  # relative start of peak_finding for Cd_mean Measurement to cut of any transients\n",
    "\n",
    "gridpoints_per_diameter = 20  # gp_per_D -> this defines the resolution ( D_LU = GPD+1)\n",
    "domain_width_in_D = 20  # D/Y  -> this defines the domain-size and total number of Lattice-Nodes\n",
    "domain_length_in_D = 2*domain_width_in_D  # D/X\n",
    "\n",
    "# if DpY is even, resulting GPD can't be odd for symmetrical cylinder and channel\n",
    "# ...if DpY is even, GPD will be corrected to even GPD for symemtrical cylinder\n",
    "# ...use odd DpY to use odd GPD\n",
    "gpd_correction=False\n",
    "if domain_width_in_D % 2 == 0 and gridpoints_per_diameter % 2 != 0:\n",
    "    gpd_correction = True   # gpd_was_corrected-flag\n",
    "    gpd_setup = gridpoints_per_diameter   # store old gpd for output\n",
    "    gridpoints_per_diameter = int(gridpoints_per_diameter/2)*2   # make gpd even\n",
    "    print(\"(!) domain_width_in_D is even, gridpoints_per_diameter will be \"+str(gridpoints_per_diameter)+\". Use odd domain_width_in_D to enable use of odd GPD!\")\n",
    "\n",
    "T_target=200\n",
    "print(\"shape_LU:\", gridpoints_per_diameter*domain_length_in_D, \"x\", gridpoints_per_diameter*domain_width_in_D)\n",
    "print(\"T with\", n_steps, \"steps:\", round(n_steps * (setup_diameter/(gridpoints_per_diameter+1))*(Ma*1/np.sqrt(3)/flow_velocity),2), \"seconds\")\n",
    "print(\"n_steps to simulate 1 second:\", round(((gridpoints_per_diameter+1)/setup_diameter)*(flow_velocity/(Ma*1/np.sqrt(3))),2), \"steps\")\n",
    "print(\"n_steps to simulate\",T_target,\"seconds:\",T_target*round(((gridpoints_per_diameter+1)/setup_diameter)*(flow_velocity/(Ma*1/np.sqrt(3))),2), \"steps\")\n",
    "\n",
    "u_init = 0    # initiales Geschwindigkeitsfeld: # 0: uniform u=0, # 1: uniform u=1, # 2: parabolic, amplitude u_char_lu (similar to poiseuille-flow)\n",
    "perturb_init = True   # leichte Asymmetrie in Anfangs-Geschwindigkeitsverteilung -> triggert Karman'sche Wirbelstraße für Re>47\n",
    "bb_wall = False    # Randbedingungen der lateralen Kanalwände: True= bounce-back-walls und parabelförmiges Geschwindigkeisprodil am Einlass, False= periodic BC und uniforme Geschwindigkeit am Einlass\n",
    "cylinder = True    # Objekt: True = cylinder, False = no obstascle\n",
    "halfway = True    # BounceBackBoundary-Algorithmus: True=Halfway, False=Fullway\n",
    "drag_out = True    # drag_coefficient als observable-reporter\n",
    "lift_out = True    # lift_coefficient als observable-reporter\n",
    "vtk_fps=10    # FramesPerSecond (/PU) für vtk-output\n",
    "vtk_out=True   # is overwritten by output_save=False (see below)\n",
    "\n",
    "#exmpl: Re1000,steps25000,ny1000 braucht 43min\n",
    "#Bonn: Re200, steps200000,gpd20?, 400x200 braucht 10min\n",
    "#HBRS: Re200, steps100000, gpd20, 800x400 braucht 25min\n",
    "#Bonn: Re200, steps175000, gpd35, 1330x665 braucht 62,3min\n",
    "\n",
    "mlups_2060super = 20\n",
    "mlups_2080ti = 30   # 40 for GPD30,DpY19,nsteps=150000 (steigend mit der Auflösung)\n",
    "\n",
    "if vtk_out:\n",
    "    print(\"generates approx.\", int(vtk_fps*(n_steps * (setup_diameter/(gridpoints_per_diameter+1))*(Ma*1/np.sqrt(3)/flow_velocity)))+1, \".vti/.vtk-frames\")\n",
    "\n",
    "gridpoints = gridpoints_per_diameter**2*domain_length_in_D*domain_width_in_D\n",
    "print(\"No. of gridpoints:\", gridpoints)\n",
    "print(\"estimated min. runtime on 2060super:\", round(n_steps*gridpoints/(1e6*mlups_2060super),2), \"seconds (\", round(n_steps*gridpoints/(1e6*mlups_2060super)/60,2),\"minutes )\")\n",
    "print(\"estimated min. runtime on 2080ti:   \", round(n_steps*gridpoints/(1e6*mlups_2080ti),2), \"seconds (\", round(n_steps*gridpoints/(1e6*mlups_2080ti)/60,2),\"minutes )\")"
   ]
  },
  {
   "cell_type": "code",
   "execution_count": 3,
   "id": "c5b67805",
   "metadata": {},
   "outputs": [],
   "source": [
    "### Data_Output (vtk)\n",
    "output_save = True\n",
    "\n",
    "# naming:\n",
    "batch = \"_FWvsHW\"\n",
    "version = \"_HW_GPD\" + str(gridpoints_per_diameter)\n",
    "\n",
    "if output_save:  # toggle output\n",
    "    # (see above) vtk_out = True    # vtk-Repoter für Animation des Flusses in ParaView: True = vtk-output, False = no vtk-output\n",
    "\n",
    "    timestamp = datetime.datetime.now()\n",
    "    timestamp = timestamp.strftime(\"%y%m%d\")+\"_\"+timestamp.strftime(\"%H%M%S\")\n",
    "\n",
    "    #output_path = \"/mnt/ScratchHDD1/Max_Scratch/lbm_simulations\"  # lokal HBRS\n",
    "    output_path = \"/home/max/Documents/lbm_simulations\"  # lokal Bonn\n",
    "    #output_path = \"/home/mbille3s/02_lbm_simulations\"  # cluster HBRS\n",
    "    dir_name = \"/data_\" + str(timestamp) + batch + version\n",
    "    os.makedirs(output_path+dir_name)\n",
    "    \n",
    "    vtk_path = output_path+dir_name+\"/vtk/out\"    # lokal HBRS UND Bonn # Pfad und Name der vtk-output-Dateien\n",
    "    print(\"dir_name: \"+dir_name)\n",
    "    print(\"output_path: \" + vtk_path)\n",
    "else:\n",
    "    vtk_out = False"
   ]
  },
  {
   "cell_type": "code",
   "execution_count": 4,
   "id": "4c0ae2fc",
   "metadata": {
    "scrolled": false
   },
   "outputs": [],
   "source": [
    "### Simulationssetup\n",
    "\n",
    "# lattice\n",
    "lattice = lt.Lattice(lt.D2Q9, \"cuda:0\", dtype=torch.float64)\n",
    "    # stencil, device, dtype\n",
    "\n",
    "flow = ObstacleMax(reynolds_number=re, mach_number=Ma, \n",
    "                   lattice=lattice, \n",
    "                   char_length_pu=setup_diameter, \n",
    "                   char_length_lu=gridpoints_per_diameter+1, \n",
    "                   char_velocity_pu=flow_velocity, \n",
    "                   y_lu=domain_width_in_D*gridpoints_per_diameter, \n",
    "                   x_lu=domain_length_in_D*gridpoints_per_diameter, \n",
    "                   lateral_walls=bb_wall, \n",
    "                   hwbb=halfway, \n",
    "                   perturb_init=perturb_init, \n",
    "                   u_init=u_init\n",
    "                  )\n",
    "\n",
    "# define a Cylinder-Obstacle\n",
    "radius_LU = 0.5 * gridpoints_per_diameter\n",
    "y_pos_LU = 0.5 * gridpoints_per_diameter * domain_width_in_D + 0.5\n",
    "x_pos_LU = y_pos_LU\n",
    "\n",
    "xyz = tuple(np.linspace(1,n,n) for n in flow.shape)  # Tupel aus Listen inizes (1-n (nicht 0-based!))\n",
    "xLU, yLU = np.meshgrid(*xyz, indexing='ij')  # meshgrid aus den x-, y- (und z-)Indizes\n",
    "\n",
    "condition = np.sqrt((xLU - x_pos_LU) ** 2 + (yLU - y_pos_LU) ** 2) < radius_LU\n",
    "flow.obstacle_mask[np.where(condition)] = 1\n",
    "    \n",
    "    \n",
    "### Simulations-Objekt (Simulator)\n",
    "tau = flow.units.relaxation_parameter_lu\n",
    "sim = lt.Simulation(flow, lattice, \n",
    "                     lt.BGKCollision(lattice, tau),\n",
    "                    # lt.RegularizedCollision(lattice, tau), \n",
    "                    # lt.KBCCollision2D(lattice,tau),\n",
    "                    lt.StandardStreaming(lattice)\n",
    "                   )\n",
    "    # Flow, Lattice-Parameter, KollisionsOperator-Objekt(Parameter), Streaming-Objekt\n",
    "\n",
    "### Reporter\n",
    "\n",
    "# VTK Reporter -> Visualisierung\n",
    "if vtk_out == True:\n",
    "    VTKreport = lt.VTKReporter(lattice, flow, interval=int(flow.units.convert_time_to_lu(1/vtk_fps)), filename_base=vtk_path)\n",
    "    sim.reporters.append(VTKreport)\n",
    "\n",
    "# Observable reporter: drag coefficient\n",
    "if drag_out == True:\n",
    "    DragObservable = lt.DragCoefficient(lattice,flow,sim,area=setup_diameter)  # erstelle Observable // ! area A=2*r is in PU\n",
    "    Dragreport = lt.ObservableReporter(DragObservable, out=None)  # erstelle Reporter für Observable\n",
    "    sim.reporters.append(Dragreport)  # hänge Reporter in Simulator ein\n",
    "    \n",
    "# Observable reporter: lift coefficient\n",
    "if lift_out == True:\n",
    "    LiftObservable = lt.LiftCoefficient(lattice,flow,sim,area=setup_diameter)\n",
    "    Liftreport = lt.ObservableReporter(LiftObservable, out=None)\n",
    "    sim.reporters.append(Liftreport)\n",
    "    \n",
    "# MassObservable = lt.Mass(lattice,flow)\n",
    "# MassReporter = lt.ObservableReporter(MassObservable, out=None)\n",
    "# sim.reporters.append(MassReporter)"
   ]
  },
  {
   "cell_type": "code",
   "execution_count": 5,
   "id": "cfc1d90f",
   "metadata": {
    "scrolled": false
   },
   "outputs": [
    {
     "name": "stdout",
     "output_type": "stream",
     "text": [
      "MLUPS: 30.83400420194936\n",
      "PU-Time:  0.0016263387864496504  seconds\n",
      "number of steps: 4\n",
      "runtime:  0.12723255157470703 seconds ( 0.0 minutes )\n",
      "\\Re: 200\n",
      "char_velocity_LU 0.028867513459481294\n"
     ]
    }
   ],
   "source": [
    "### Einfache Simulation\n",
    "\n",
    "t_start=time.time()\n",
    "\n",
    "mlups = sim.step(n_steps) #Simulation mit Schrittzahl n_steps\n",
    "\n",
    "t_end=time.time()\n",
    "runtime=t_end-t_start\n",
    "print(\"MLUPS:\", mlups)\n",
    "print(\"PU-Time: \",flow.units.convert_time_to_pu(n_steps),\" seconds\")\n",
    "print(\"number of steps:\",n_steps)\n",
    "print(\"runtime: \",runtime, \"seconds (\", round(runtime/60,2),\"minutes )\")\n",
    "print(\"\\Re:\",re)\n",
    "print(\"char_velocity_LU\", flow.units.characteristic_velocity_lu)"
   ]
  },
  {
   "cell_type": "code",
   "execution_count": 6,
   "id": "cf0ce31f",
   "metadata": {
    "scrolled": false
   },
   "outputs": [
    {
     "data": {
      "image/png": "[encoded data removed]",
      "text/plain": [
       "<Figure size 640x480 with 1 Axes>"
      ]
     },
     "metadata": {},
     "output_type": "display_data"
    }
   ],
   "source": [
    "### plot Drag coefficient\n",
    "\n",
    "drag_coefficient = np.array(Dragreport.out)\n",
    "#print('  stepLU        ', 'timePU        ', 'Cd')\n",
    "#print(drag_coefficient) # prints: stepLU, timePU, value\n",
    "\n",
    "fig, ax = plt.subplots(constrained_layout=True)\n",
    "ax.plot(drag_coefficient[:,1],drag_coefficient[:,2])\n",
    "ax.set_xlabel(\"physical time / s\")\n",
    "ax.set_ylabel(\"Coefficient of Drag Cd\")\n",
    "ax.set_ylim([0.5,1.6])\n",
    "#ax.set_ylim([1.54,1.545])\n",
    "#ax.set_xlim([500,600])\n",
    "secax = ax.secondary_xaxis('top', functions=(flow.units.convert_time_to_lu, flow.units.convert_time_to_pu))\n",
    "secax.set_xlabel(\"timesteps (simulation time / LU)\")\n",
    "if output_save:\n",
    "    plt.savefig(output_path+dir_name+\"/drag_coefficient.png\")\n",
    "    np.savetxt(output_path+dir_name+\"/drag_coefficient.txt\", drag_coefficient, header=\"stepLU  |  timePU  |  Cd  FROM str(timestamp)\")\n",
    "plt.show()"
   ]
  },
  {
   "cell_type": "code",
   "execution_count": 7,
   "id": "cd8c1505",
   "metadata": {},
   "outputs": [
    {
     "name": "stdout",
     "output_type": "stream",
     "text": [
      "peak-finding didn't work... probably no significant peaks visible (Re<46?), or periodic region not reached (T too small)\n",
      "Cd, simple mean: 0.0\n"
     ]
    }
   ],
   "source": [
    "### calculate mean drag_coefficient in periodic reagion:\n",
    "try:\n",
    "    values = drag_coefficient[int(drag_coefficient.shape[0]*periodic_start-1):,2]\n",
    "\n",
    "    peaks_max = find_peaks(values, prominence=((values.max()-values.min())/2))\n",
    "    peaks_min = find_peaks(-values, prominence=((values.max()-values.min())/2))\n",
    "    # find peaks funktioniert hier nicht korrekt, wenn der Drag immernoch ansteigend ist...\n",
    "\n",
    "    if peaks_min[0].shape[0] - peaks_max[0].shape[0] > 0:\n",
    "        peak_number = peaks_max[0].shape[0]\n",
    "    else:\n",
    "        peak_number = peaks_min[0].shape[0]\n",
    "\n",
    "    if peaks_min[0][0] < peaks_max[0][0]:\n",
    "        first_peak = peaks_min[0][0]\n",
    "        last_peak = peaks_max[0][peak_number-1]\n",
    "    else:\n",
    "        first_peak = peaks_max[0][0]\n",
    "        last_peak = peaks_min[0][peak_number-1]\n",
    "\n",
    "    drag_mean = values[first_peak:last_peak].mean()\n",
    "    drag_mean_simple = values.mean()\n",
    "\n",
    "    print(\"simple mean:     \",drag_mean_simple)\n",
    "    print(\"peak_finder mean:\",drag_mean)\n",
    "    print(\"start time of 'mean'-ing:\",drag_coefficient[int(drag_coefficient.shape[0]*periodic_start-1),1])\n",
    "    ## plotting peaks from peak_finder:\n",
    "    drag_stepsLU = drag_coefficient[int(drag_coefficient.shape[0]*periodic_start-1):,0]\n",
    "    peak_max_y = values[peaks_max[0]]\n",
    "    peak_max_x = drag_stepsLU[peaks_max[0]]\n",
    "    peak_min_y = values[peaks_min[0]]\n",
    "    peak_min_x = drag_stepsLU[peaks_min[0]]\n",
    "\n",
    "    plt.plot(drag_stepsLU, values)\n",
    "    plt.scatter(peak_max_x[:peak_number],peak_max_y[:peak_number])\n",
    "    plt.scatter(peak_min_x[:peak_number],peak_min_y[:peak_number])\n",
    "    plt.scatter(drag_stepsLU[first_peak],values[first_peak])\n",
    "    plt.scatter(drag_stepsLU[last_peak],values[last_peak])\n",
    "    plt.savefig(output_path+dir_name+\"/drag_coefficient_peakfinder.png\")\n",
    "    peakfinder=True\n",
    "except:\n",
    "    print(\"peak-finding didn't work... probably no significant peaks visible (Re<46?), or periodic region not reached (T too small)\")\n",
    "    values = drag_coefficient[int(drag_coefficient.shape[0]*periodic_start-1):,2]\n",
    "    drag_mean_simple = values.mean()\n",
    "    peakfinder=False\n",
    "    print(\"Cd, simple mean:\",drag_mean_simple)"
   ]
  },
  {
   "cell_type": "code",
   "execution_count": 8,
   "id": "b7559de6",
   "metadata": {
    "scrolled": false
   },
   "outputs": [
    {
     "data": {
      "image/png": "[encoded data removed]",
      "text/plain": [
       "<Figure size 640x480 with 1 Axes>"
      ]
     },
     "metadata": {},
     "output_type": "display_data"
    },
    {
     "name": "stdout",
     "output_type": "stream",
     "text": [
      "Cl_peaks: \n",
      "min -2.0898315758253744e-14 \n",
      "max -2.0898264062320543e-14\n"
     ]
    }
   ],
   "source": [
    "### plot Lift coefficient\n",
    "\n",
    "lift_coefficient = np.array(Liftreport.out)\n",
    "# print('  stepLU        ', 'timePU        ', 'Cl')\n",
    "# print(lift_coefficient) # prints: stepLU, timePU, value\n",
    "\n",
    "fig, ax = plt.subplots(constrained_layout=True)\n",
    "ax.plot(lift_coefficient[:,1],lift_coefficient[:,2])\n",
    "ax.set_xlabel(\"physical time / s\")\n",
    "ax.set_ylabel(\"Coefficient of Lift Cl\")\n",
    "ax.set_ylim([-1.1,1.1])\n",
    "\n",
    "secax = ax.secondary_xaxis('top', functions=(flow.units.convert_time_to_lu, flow.units.convert_time_to_pu))\n",
    "secax.set_xlabel(\"timesteps (simulation time / LU)\")\n",
    "if output_save:\n",
    "    plt.savefig(output_path+dir_name+\"/lift_coefficient.png\")\n",
    "    np.savetxt(output_path+dir_name+\"/lift_coefficient.txt\", lift_coefficient, header=\"stepLU  |  timePU  |  Cl  FROM str(timestamp)\")\n",
    "plt.show()\n",
    "\n",
    "Cl_min = lift_coefficient[int(lift_coefficient[:,2].shape[0]*0.5):,2].min()\n",
    "Cl_max = lift_coefficient[int(lift_coefficient[:,2].shape[0]*0.5):,2].max()\n",
    "#Cl_min_gpdC = Cl_min/(1+1/gridpoints_per_diameter)\n",
    "#Cl_max_gpdC = Cl_max/(1+1/gridpoints_per_diameter)\n",
    "\n",
    "print(\"Cl_peaks: \\nmin\", Cl_min,\"\\nmax\", Cl_max)\n",
    "#print(\"Cl_peaks (gpd-corrected): \\nmin\", Cl_min_gpdC,\"\\nmax\", Cl_max_gpdC)"
   ]
  },
  {
   "cell_type": "code",
   "execution_count": 9,
   "id": "b03c83f2",
   "metadata": {},
   "outputs": [
    {
     "name": "stdout",
     "output_type": "stream",
     "text": [
      "Frequency Peak: 0.0 +- 588.8972745734181 Hz\n"
     ]
    },
    {
     "data": {
      "image/png": "[encoded data removed]",
      "text/plain": [
       "<Figure size 640x480 with 1 Axes>"
      ]
     },
     "metadata": {},
     "output_type": "display_data"
    }
   ],
   "source": [
    "### prototyped fft for frequency detection and calculation of strouhal-number\n",
    "# ! Drag_frequency is 2* Strouhal-Freq. Lift-freq. is Strouhal-Freq.\n",
    "\n",
    "X = np.fft.fft(lift_coefficient[:,2])   # fft result (amplitudes)\n",
    "N = len(X)  # number of freqs\n",
    "n = np.arange(N)   # freq index\n",
    "T = N*flow.units.convert_time_to_pu(1)   # total time measured (T_PU)\n",
    "freq = n/T   # frequencies (x-axis of spectrum)\n",
    "\n",
    "plt.figure\n",
    "plt.stem(freq, np.abs(X), 'b', markerfmt=\" \", basefmt=\"-b\")   # plot spectrum |X|(f)\n",
    "plt.xlabel(\"Freq (Hz)\")\n",
    "plt.ylabel(\"FFT Amplitude |X(freq)|\")\n",
    "plt.xlim(0,1)\n",
    "#print(\"max. Amplitude np.abx(X).max():\", np.abs(X).max())   # for debugging\n",
    "plt.ylim(0,np.abs(X[:int(X.shape[0]*0.5)]).max())   # ylim, where highes peak is on left half of full spectrum\n",
    "\n",
    "if output_save:\n",
    "    plt.savefig(output_path+dir_name+\"/fft_Cl.png\")\n",
    "\n",
    "freq_res = freq[1]-freq[0]   # frequency-resolution\n",
    "X_abs = np.abs(X[:int(X.shape[0]*0.4)])   # get |X| Amplitude for left half of full spectrum\n",
    "freq_peak = freq[np.argmax(X_abs)]    # find frequency with highest amplitude\n",
    "print(\"Frequency Peak:\", freq_peak, \"+-\", freq_res, \"Hz\")\n",
    "# f = Strouhal for St=f*D/U and D=U=1 in PU"
   ]
  },
  {
   "cell_type": "code",
   "execution_count": 10,
   "id": "34959bb6",
   "metadata": {},
   "outputs": [
    {
     "data": {
      "image/png": "[encoded data removed]",
      "text/plain": [
       "<Figure size 640x480 with 2 Axes>"
      ]
     },
     "metadata": {},
     "output_type": "display_data"
    }
   ],
   "source": [
    "### plot Drag coefficient AND Lift Coefficient\n",
    "\n",
    "#drag_coefficient = np.array(Dragreport.out)\n",
    "#lift_coefficient = np.array(Liftreport.out)\n",
    "\n",
    "fig, ax = plt.subplots(layout=\"constrained\")\n",
    "drag_ax = ax.plot(drag_coefficient[:,1],drag_coefficient[:,2], color=\"tab:blue\", label=\"Drag\")\n",
    "ax.set_xlabel(\"physical time / s\")\n",
    "ax.set_ylabel(\"Coefficient of Drag Cd\")\n",
    "ax.set_ylim([0.5,1.7])\n",
    "\n",
    "secax = ax.secondary_xaxis('top', functions=(flow.units.convert_time_to_lu, flow.units.convert_time_to_pu))\n",
    "secax.set_xlabel(\"timesteps (simulation time / LU)\")\n",
    "\n",
    "ax2 = ax.twinx()\n",
    "lift_ax = ax2.plot(lift_coefficient[:,1],lift_coefficient[:,2], color=\"tab:orange\", label=\"Lift\")\n",
    "ax2.set_ylabel(\"Coefficient of Lift Cl\")\n",
    "ax2.set_ylim([-1.1,1.1])\n",
    "\n",
    "\n",
    "fig.legend(loc=\"upper left\", bbox_to_anchor=(0,1), bbox_transform=ax.transAxes)\n",
    "\n",
    "if output_save:\n",
    "    plt.savefig(output_path+dir_name+\"/dragAndLift_coefficient.png\")\n",
    "\n",
    "plt.show()"
   ]
  },
  {
   "cell_type": "code",
   "execution_count": 11,
   "id": "b5bc915a",
   "metadata": {},
   "outputs": [],
   "source": [
    "### plotte Dichte (mean, max, min) im Fluid-Bereich\n",
    "\n",
    "# plt.figure\n",
    "# plt.plot(np.arange(len(DragObservable.rho_max_list)),DragObservable.rho_max_list)\n",
    "# plt.plot(np.arange(len(DragObservable.rho_min_list)),DragObservable.rho_min_list)\n",
    "# plt.plot(np.arange(len(DragObservable.rho_mean_list)),DragObservable.rho_mean_list)\n",
    "# plt.legend(labels=[\"rho_max\", \"rho_min\", \"rho_mean\"])\n",
    "# plt.ylim([0.99,1.01])\n",
    "# if output_save:\n",
    "#     plt.savefig(output_path+dir_name+\"/density.png\")"
   ]
  },
  {
   "cell_type": "code",
   "execution_count": 12,
   "id": "fea2eaeb",
   "metadata": {},
   "outputs": [],
   "source": [
    "# save notebook to simulation_output\n",
    "if output_save:\n",
    "    shutil.copy(str(os.getcwd())+\"/cylinder2D_development.ipynb\",output_path+dir_name+\"/script.ipynb\")\n",
    "else:\n",
    "    print(\"output_save-toggle is FALSE\")\n"
   ]
  },
  {
   "cell_type": "code",
   "execution_count": 13,
   "id": "8ba487c8",
   "metadata": {},
   "outputs": [],
   "source": [
    "# output data\n",
    "if output_save:\n",
    "    output_file = open(output_path+dir_name+\"/\"+timestamp + \"_parameters_and_observables.txt\", \"a\")\n",
    "    output_file.write(\"DATA for \"+timestamp)\n",
    "    output_file.write(\"\\n\\n###################\\n\\nSIM-Parameters\")\n",
    "    output_file.write(\"\\nRe = \"+str(re))\n",
    "    output_file.write(\"\\nMa = \"+str(Ma))\n",
    "    output_file.write(\"\\nn_steps = \"+str(n_steps))\n",
    "    output_file.write(\"\\nsetup_diameter (D_PU) = \"+str(setup_diameter))\n",
    "    output_file.write(\"\\nflow_velocity (U_PU) = \"+str(flow_velocity))\n",
    "    output_file.write(\"\\ngridpoints_per_diameter (gpd) = \"+str(gridpoints_per_diameter))\n",
    "    if gpd_correction:\n",
    "        output_file.write(\"\\ngpd was corrected from: \"+str(gpd_setup)+\" to \"+str(gridpoints_per_diameter)+\" because D/Y is even\")\n",
    "    output_file.write(\"\\ndomain_width_in_D (D/Y) = \"+str(domain_width_in_D))\n",
    "    output_file.write(\"\\ndomain_length_in_D (D/X) = \"+str(domain_length_in_D))\n",
    "    output_file.write(\"\\n\")\n",
    "    output_file.write(\"\\nu_init = \"+str(u_init))\n",
    "    output_file.write(\"\\nperturb_init = \"+str(perturb_init))\n",
    "    output_file.write(\"\\nbb_wall = \"+str(bb_wall))\n",
    "    output_file.write(\"\\nhwbb BC = \"+str(halfway))\n",
    "    output_file.write(\"\\nvtk_fps = \"+str(vtk_fps))\n",
    "    output_file.write(\"\\nvtk_out = \"+str(vtk_out))\n",
    "    output_file.write(\"\\n\")\n",
    "    output_file.write(\"\\nshape_LU: \"+ str(flow.shape[0]) + \" x \" + str(flow.shape[1]))\n",
    "    output_file.write(\"\\ntotal No. of gridpoints: \"+ str(gridpoints))\n",
    "    output_file.write(\"\\n\")\n",
    "    output_file.write(\"output_dir: \"+str(output_path+dir_name))\n",
    "    output_file.write(\"\\n\")\n",
    "    output_file.write(\"\\n###################\\n\\ncylinder:\")\n",
    "    output_file.write(\"\\nradius_LU = \"+str(radius_LU))\n",
    "    output_file.write(\"\\nx_pos_LU = \"+str(x_pos_LU))\n",
    "    output_file.write(\"\\ny_pos_LU = \"+str(y_pos_LU))\n",
    "    output_file.write(\"\\ntau = \"+str(tau))\n",
    "    output_file.write(\"\\n\")\n",
    "    output_file.write(\"\\n###################\\n\\nSTATS:\")\n",
    "    output_file.write(\"\\nT_PU = \"+str(flow.units.convert_time_to_pu(n_steps))+\" seconds\")\n",
    "    output_file.write(\"\\nruntime = \"+str(runtime)+ \" seconds (=\"+str(runtime/60)+\" minutes)\")\n",
    "    output_file.write(\"\\nMLUPS = \"+str(mlups))\n",
    "    output_file.write(\"\\n\")\n",
    "    output_file.write(\"\\n###################\\n\\nOBSERVABLES:\")\n",
    "    output_file.write(\"\\nCoefficient of drag between \"+str(round(drag_coefficient[int(drag_coefficient.shape[0]*periodic_start-1),1],2))+\" s and \"+str(round(drag_coefficient[int(drag_coefficient.shape[0]-1),1],2))+\" s:\")\n",
    "    output_file.write(\"\\nCd_mean, simple      = \"+str(drag_mean_simple))\n",
    "    if peakfinder:\n",
    "        output_file.write(\"\\nCd_mean, peak_finder = \"+str(drag_mean))\n",
    "    else:\n",
    "        output_file.write(\"\\nnoPeaksFound\")\n",
    "    output_file.write(\"\\nCd_min = \"+str(drag_coefficient[int(drag_coefficient.shape[0]*periodic_start-1):,2].min()))\n",
    "    output_file.write(\"\\nCd_max = \"+str(drag_coefficient[int(drag_coefficient.shape[0]*periodic_start-1):,2].max()))\n",
    "    output_file.write(\"\\n\")\n",
    "    output_file.write(\"\\nCoefficient of lift:\")\n",
    "    output_file.write(\"\\nCl_min = \"+str(Cl_min))\n",
    "    output_file.write(\"\\nCl_max = \"+str(Cl_max))\n",
    "    output_file.write(\"\\n\")\n",
    "    output_file.write(\"\\nStrouhal number:\")\n",
    "    output_file.write(\"\\nf +- df = \"+str(freq_peak)+\" +- \"+str(freq_res)+\" Hz\")\n",
    "    output_file.close()\n",
    "    "
   ]
  },
  {
   "cell_type": "code",
   "execution_count": 14,
   "id": "2c8b50e2",
   "metadata": {},
   "outputs": [
    {
     "data": {
      "text/plain": [
       "51"
      ]
     },
     "execution_count": 14,
     "metadata": {},
     "output_type": "execute_result"
    }
   ],
   "source": [
    "flow.units.characteristic_length_lu"
   ]
  },
  {
   "cell_type": "code",
   "execution_count": 15,
   "id": "3da47d9c",
   "metadata": {},
   "outputs": [
    {
     "data": {
      "text/plain": [
       "50"
      ]
     },
     "execution_count": 15,
     "metadata": {},
     "output_type": "execute_result"
    }
   ],
   "source": [
    "gridpoints_per_diameter"
   ]
  },
  {
   "cell_type": "code",
   "execution_count": 16,
   "id": "172865b3",
   "metadata": {},
   "outputs": [
    {
     "data": {
      "text/plain": [
       "(6000, 3000)"
      ]
     },
     "execution_count": 16,
     "metadata": {},
     "output_type": "execute_result"
    }
   ],
   "source": [
    "flow.shape\n"
   ]
  },
  {
   "cell_type": "code",
   "execution_count": 17,
   "id": "f1988b6f",
   "metadata": {},
   "outputs": [
    {
     "data": {
      "text/plain": [
       "51.0"
      ]
     },
     "execution_count": 17,
     "metadata": {},
     "output_type": "execute_result"
    }
   ],
   "source": [
    "DragObservable.area_lu"
   ]
  },
  {
   "cell_type": "code",
   "execution_count": 18,
   "id": "d6881051",
   "metadata": {},
   "outputs": [],
   "source": [
    "if output_save:\n",
    "    output_file = open(output_path+dir_name+\"/\"+timestamp + \"_parameters_and_observables_copyable.txt\", \"a\")\n",
    "    output_file.write(\"DATA for \"+timestamp)\n",
    "    output_file.write(\"\\n\\n###################\\n\\nSIM-Parameters: Re, Ma, n_steps, setup_diameter, flow_velocity,GPD, DpY, DpX,u_init, perturb_init, bb_wall, vtk_fps, vtk_out, shape_LU, gridpoints, output_dir, radius_LU, x_pos_LU, y_pos_LU, tau, T_PU, runtime, MLUPS\")\n",
    "    output_file.write(\"\\n\"+str(re))\n",
    "    output_file.write(\"\\n\"+str(Ma))\n",
    "    output_file.write(\"\\n\"+str(n_steps))\n",
    "    output_file.write(\"\\n\"+str(setup_diameter))\n",
    "    output_file.write(\"\\n\"+str(flow_velocity))\n",
    "    output_file.write(\"\\n\"+str(gridpoints_per_diameter))\n",
    "    output_file.write(\"\\n\"+str(domain_width_in_D))\n",
    "    output_file.write(\"\\n\"+str(domain_length_in_D))\n",
    "    output_file.write(\"\\n\"+str(u_init))\n",
    "    output_file.write(\"\\n\"+str(perturb_init))\n",
    "    output_file.write(\"\\n\"+str(bb_wall))\n",
    "    output_file.write(\"\\n\"+str(halfway))\n",
    "    output_file.write(\"\\n\"+str(vtk_fps))\n",
    "    output_file.write(\"\\n\"+str(vtk_out))\n",
    "    output_file.write(\"\\n\")\n",
    "    output_file.write(\"\\n\"+ str(flow.shape[0]) + \" x \" + str(flow.shape[1]))\n",
    "    output_file.write(\"\\n\"+ str(gridpoints))\n",
    "    output_file.write(\"\\n\")\n",
    "    output_file.write(\"\"+str(output_path+dir_name))\n",
    "    output_file.write(\"\\n\")\n",
    "    output_file.write(\"\\n\"+str(radius_LU))\n",
    "    output_file.write(\"\\n\"+str(x_pos_LU))\n",
    "    output_file.write(\"\\n\"+str(y_pos_LU))\n",
    "    output_file.write(\"\\n\"+str(tau))\n",
    "    output_file.write(\"\\n\")\n",
    "    output_file.write(\"\\n\"+str(flow.units.convert_time_to_pu(n_steps)))\n",
    "    output_file.write(\"\\n\"+str(runtime))\n",
    "    output_file.write(\"\\n\"+str(mlups))\n",
    "    output_file.write(\"\\n\")\n",
    "    output_file.write(\"\\n###################\\n\\nOBSERVABLES: CdmeanSimple, (Cdpeakfinder), Cdmin,Cdmax,Clmin,Clmax,St,df\")\n",
    "    output_file.write(\"\\nCoefficient of drag between \"+str(round(drag_coefficient[int(drag_coefficient.shape[0]*periodic_start-1),1],2))+\" s and \"+str(round(drag_coefficient[int(drag_coefficient.shape[0]-1),1],2))+\" s:\")\n",
    "    output_file.write(\"\\n\"+str(drag_mean_simple))\n",
    "    if peakfinder:\n",
    "        output_file.write(\"\\n\"+str(drag_mean))\n",
    "    else:\n",
    "        output_file.write(\"\\nnoPeaksFound\")\n",
    "    output_file.write(\"\\n\"+str(drag_coefficient[int(drag_coefficient.shape[0]*periodic_start-1):,2].min()))\n",
    "    output_file.write(\"\\n\"+str(drag_coefficient[int(drag_coefficient.shape[0]*periodic_start-1):,2].max()))\n",
    "    output_file.write(\"\\n\")\n",
    "    output_file.write(\"\\n\"+str(Cl_min))\n",
    "    output_file.write(\"\\n\"+str(Cl_max))\n",
    "    output_file.write(\"\\n\")\n",
    "    output_file.write(\"\\n\"+str(freq_peak))\n",
    "    output_file.write(\"\\n\"+str(freq_res))\n",
    "    output_file.close()"
   ]
  },
  {
   "cell_type": "code",
   "execution_count": 6,
   "id": "853faf0b",
   "metadata": {},
   "outputs": [
    {
     "data": {
      "text/plain": [
       "155.63525390625"
      ]
     },
     "execution_count": 6,
     "metadata": {},
     "output_type": "execute_result"
    }
   ],
   "source": [
    "torch.cuda.memory_allocated(device=\"cuda:0\")/1024/1024"
   ]
  },
  {
   "cell_type": "code",
   "execution_count": 7,
   "id": "0ce6e117",
   "metadata": {
    "scrolled": false
   },
   "outputs": [
    {
     "name": "stdout",
     "output_type": "stream",
     "text": [
      "|===========================================================================|\n",
      "|                  PyTorch CUDA memory summary, device ID 0                 |\n",
      "|---------------------------------------------------------------------------|\n",
      "|            CUDA OOMs: 0            |        cudaMalloc retries: 0         |\n",
      "|===========================================================================|\n",
      "|        Metric         | Cur Usage  | Peak Usage | Tot Alloc  | Tot Freed  |\n",
      "|---------------------------------------------------------------------------|\n",
      "| Allocated memory      |  159370 KB |  468637 KB |    9278 MB |    9123 MB |\n",
      "|       from large pool |  156491 KB |  465758 KB |    9250 MB |    9097 MB |\n",
      "|       from small pool |    2879 KB |    4795 KB |      28 MB |      25 MB |\n",
      "|---------------------------------------------------------------------------|\n",
      "| Active memory         |  159370 KB |  468637 KB |    9278 MB |    9123 MB |\n",
      "|       from large pool |  156491 KB |  465758 KB |    9250 MB |    9097 MB |\n",
      "|       from small pool |    2879 KB |    4795 KB |      28 MB |      25 MB |\n",
      "|---------------------------------------------------------------------------|\n",
      "| GPU reserved memory   |  509952 KB |  509952 KB |  509952 KB |       0 B  |\n",
      "|       from large pool |  503808 KB |  503808 KB |  503808 KB |       0 B  |\n",
      "|       from small pool |    6144 KB |    6144 KB |    6144 KB |       0 B  |\n",
      "|---------------------------------------------------------------------------|\n",
      "| Non-releasable memory |   22901 KB |   32702 KB |    1258 MB |    1235 MB |\n",
      "|       from large pool |   19637 KB |   29436 KB |    1228 MB |    1209 MB |\n",
      "|       from small pool |    3264 KB |    3266 KB |      29 MB |      26 MB |\n",
      "|---------------------------------------------------------------------------|\n",
      "| Allocations           |      21    |      29    |     697    |     676    |\n",
      "|       from large pool |       4    |      11    |     305    |     301    |\n",
      "|       from small pool |      17    |      24    |     392    |     375    |\n",
      "|---------------------------------------------------------------------------|\n",
      "| Active allocs         |      21    |      29    |     697    |     676    |\n",
      "|       from large pool |       4    |      11    |     305    |     301    |\n",
      "|       from small pool |      17    |      24    |     392    |     375    |\n",
      "|---------------------------------------------------------------------------|\n",
      "| GPU reserved segments |      14    |      14    |      14    |       0    |\n",
      "|       from large pool |      11    |      11    |      11    |       0    |\n",
      "|       from small pool |       3    |       3    |       3    |       0    |\n",
      "|---------------------------------------------------------------------------|\n",
      "| Non-releasable allocs |       7    |      12    |     332    |     325    |\n",
      "|       from large pool |       3    |       5    |     193    |     190    |\n",
      "|       from small pool |       4    |       7    |     139    |     135    |\n",
      "|---------------------------------------------------------------------------|\n",
      "| Oversize allocations  |       0    |       0    |       0    |       0    |\n",
      "|---------------------------------------------------------------------------|\n",
      "| Oversize GPU segments |       0    |       0    |       0    |       0    |\n",
      "|===========================================================================|\n",
      "\n"
     ]
    }
   ],
   "source": [
    "print(torch.cuda.memory_summary(device=\"cuda:0\"))"
   ]
  },
  {
   "cell_type": "code",
   "execution_count": 11,
   "id": "c56a33ca",
   "metadata": {
    "scrolled": true
   },
   "outputs": [
    {
     "name": "stdout",
     "output_type": "stream",
     "text": [
      "<class 'torch.Tensor'> torch.Size([9, 2]) 144\n",
      "<class 'torch.Tensor'> torch.Size([9]) 72\n",
      "<class 'torch.Tensor'> torch.Size([]) 8\n",
      "<class 'torch.Tensor'> torch.Size([1400, 700]) 980000\n",
      "<class 'torch.Tensor'> torch.Size([2]) 16\n",
      "<class 'torch.Tensor'> torch.Size([2]) 16\n",
      "<class 'torch.Tensor'> torch.Size([2]) 16\n",
      "<class 'torch.Tensor'> torch.Size([2]) 16\n",
      "<class 'torch.Tensor'> torch.Size([9, 1400, 700]) 70560000\n",
      "<class 'torch.Tensor'> torch.Size([2]) 16\n",
      "<class 'torch.Tensor'> torch.Size([9, 1400, 700]) 70560000\n",
      "<class 'torch.Tensor'> torch.Size([3, 1]) 24\n",
      "<class 'torch.Tensor'> torch.Size([1400, 700]) 980000\n",
      "<class 'torch.Tensor'> torch.Size([9, 1400, 700]) 8820000\n",
      "<class 'torch.Tensor'> torch.Size([1400, 700]) 980000\n",
      "<class 'torch.Tensor'> torch.Size([2]) 16\n",
      "<class 'torch.Tensor'> torch.Size([]) 8\n",
      "<class 'torch.Tensor'> torch.Size([]) 8\n",
      "<class 'torch.Tensor'> torch.Size([9]) 72\n",
      "<class 'torch.Tensor'> torch.Size([9, 2]) 144\n",
      "<class 'torch.Tensor'> torch.Size([9, 1400, 700]) 8820000\n",
      "total bytes for tensors: 161700576\n",
      "total MB for tensors: 154.20968627929688\n"
     ]
    }
   ],
   "source": [
    "total_bytes = 0\n",
    "tensors=[]\n",
    "\n",
    "# Liste tensors[verschiedene][elemtns_size + bytes_size]\n",
    "\n",
    "import gc\n",
    "for obj in gc.get_objects():\n",
    "    try:\n",
    "        if torch.is_tensor(obj) or (hasattr(obj,'data') and torch.is_tensor(obj.data)):\n",
    "            print(type(obj), obj.size(), obj.nelement()*obj.element_size())\n",
    "            tensors.append(str(obj.size())+\"; \"+str(obj.nelement()*obj.element_size()))\n",
    "            total_bytes = total_bytes+obj.nelement()*obj.element_size()\n",
    "            \n",
    "    except:\n",
    "        pass\n",
    "print(\"total bytes for tensors:\",total_bytes)\n",
    "print(\"total MB for tensors:\", total_bytes/1024/1024)"
   ]
  },
  {
   "cell_type": "code",
   "execution_count": 9,
   "id": "7a034170",
   "metadata": {
    "scrolled": true
   },
   "outputs": [
    {
     "data": {
      "text/plain": [
       "Counter({'torch.Size([3, 1]); 24': 1,\n",
       "         'torch.Size([1400, 700]); 980000': 3,\n",
       "         'torch.Size([9, 1400, 700]); 8820000': 2,\n",
       "         'torch.Size([2]); 16': 6,\n",
       "         'torch.Size([9, 1400, 700]); 70560000': 2,\n",
       "         'torch.Size([9, 2]); 144': 2,\n",
       "         'torch.Size([9]); 72': 2,\n",
       "         'torch.Size([]); 8': 3})"
      ]
     },
     "execution_count": 9,
     "metadata": {},
     "output_type": "execute_result"
    }
   ],
   "source": [
    "from collections import Counter\n",
    "\n",
    "Counter(tensors)"
   ]
  },
  {
   "cell_type": "code",
   "execution_count": 19,
   "id": "c6fcab67",
   "metadata": {
    "scrolled": true
   },
   "outputs": [
    {
     "data": {
      "text/plain": [
       "Counter({'dir_name: /data_230408_232513_batch1_2_DpY_FWBB_Re200_GPD50_DpY50': 1,\n",
       "         'output_path: /home/mbille3s/02_lbm_simulations/data_230408_232513_batch1_2_DpY_FWBB_Re200_GPD50_DpY50/vtk/out': 1,\n",
       "         'shape_LU: 5000 x 2500': 1,\n",
       "         'T with 353338 steps: 200.0 seconds': 1,\n",
       "         'n_steps to simulate 1 second: 1766.69 steps': 1,\n",
       "         'n_steps to simulate 200.0 seconds: 353338.0 steps': 1,\n",
       "         'MLUPS: 99.5388745647083': 1,\n",
       "         'PU-Time:  199.99979354404317  seconds': 1,\n",
       "         'number of steps: 353338': 1,\n",
       "         'runtime:  44371.85997772217 seconds ( 739.53 minutes )': 1,\n",
       "         'Cd, simple mean:      1.3292569199530473': 1,\n",
       "         'Cd, peak_finder mean: 1.3292354751074575': 1,\n",
       "         'Cl_peaks: ': 1,\n",
       "         'min -0.67563016722573 ': 1,\n",
       "         'max 0.6736552052223845': 1,\n",
       "         'Frequency Peak: 0.1999996404269276 +- 0.00499999101067319 Hz': 1,\n",
       "         '|===========================================================================|': 3,\n",
       "         '|                  PyTorch CUDA memory summary, device ID 0                 |': 1,\n",
       "         '|---------------------------------------------------------------------------|': 12,\n",
       "         '|            CUDA OOMs: 0            |        cudaMalloc retries: 0         |': 1,\n",
       "         '|        Metric         | Cur Usage  | Peak Usage | Tot Alloc  | Tot Freed  |': 1,\n",
       "         '| Allocated memory      |   2147 MiB |   5962 MiB |   8905 TiB |   8905 TiB |': 1,\n",
       "         '|       from large pool |   1975 MiB |   5790 MiB |   8904 TiB |   8904 TiB |': 2,\n",
       "         '|       from small pool |    172 MiB |    173 MiB |      0 TiB |      0 TiB |': 2,\n",
       "         '| Active memory         |   2147 MiB |   5962 MiB |   8905 TiB |   8905 TiB |': 1,\n",
       "         '| Requested memory      |   1980 MiB |   5795 MiB |   8902 TiB |   8902 TiB |': 1,\n",
       "         '|       from large pool |   1975 MiB |   5789 MiB |   8901 TiB |   8901 TiB |': 1,\n",
       "         '|       from small pool |      5 MiB |      6 MiB |      0 TiB |      0 TiB |': 1,\n",
       "         '| GPU reserved memory   |   7174 MiB |   7174 MiB |   7174 MiB |      0 B   |': 1,\n",
       "         '|       from large pool |   7000 MiB |   7000 MiB |   7000 MiB |      0 B   |': 1,\n",
       "         '|       from small pool |    174 MiB |    174 MiB |    174 MiB |      0 B   |': 1,\n",
       "         '| Non-releasable memory |    914 MiB |   1083 MiB |   1019 TiB |   1019 TiB |': 1,\n",
       "         '|       from large pool |    912 MiB |   1081 MiB |   1017 TiB |   1017 TiB |': 1,\n",
       "         '|       from small pool |      1 MiB |      2 MiB |      1 TiB |      1 TiB |': 1,\n",
       "         '| Allocations           |  353356    |  353364    |   61834 K  |   61480 K  |': 1,\n",
       "         '|       from large pool |       8    |      15    |   27913 K  |   27913 K  |': 2,\n",
       "         '|       from small pool |  353348    |  353355    |   33920 K  |   33567 K  |': 2,\n",
       "         '| Active allocs         |  353356    |  353364    |   61834 K  |   61480 K  |': 1,\n",
       "         '| GPU reserved segments |     101    |     101    |     101    |       0    |': 1,\n",
       "         '|       from large pool |      14    |      14    |      14    |       0    |': 1,\n",
       "         '|       from small pool |      87    |      87    |      87    |       0    |': 1,\n",
       "         '| Non-releasable allocs |       8    |      15    |   32622 K  |   32622 K  |': 1,\n",
       "         '|       from large pool |       7    |      13    |   19786 K  |   19786 K  |': 1,\n",
       "         '|       from small pool |       1    |       4    |   12835 K  |   12835 K  |': 1,\n",
       "         '| Oversize allocations  |       0    |       0    |       0    |       0    |': 1,\n",
       "         '| Oversize GPU segments |       0    |       0    |       0    |       0    |': 1,\n",
       "         '': 2,\n",
       "         \"<class 'torch.Tensor'> torch.Size([9, 2]) 144\": 2,\n",
       "         \"<class 'torch.Tensor'> torch.Size([9]) 72\": 2,\n",
       "         \"<class 'torch.Tensor'> torch.Size([]) 8\": 1060020,\n",
       "         \"<class 'torch.Tensor'> torch.Size([5000, 2500]) 12500000\": 3,\n",
       "         \"<class 'torch.Tensor'> torch.Size([2]) 16\": 353340,\n",
       "         \"<class 'torch.Tensor'> torch.Size([3, 1]) 24\": 1,\n",
       "         \"<class 'torch.Tensor'> torch.Size([9, 5000, 2500]) 112500000\": 2,\n",
       "         \"<class 'torch.Tensor'> torch.Size([9, 5000, 2500]) 900000000\": 2,\n",
       "         'total bytes for tensors: 2076634056': 1})"
      ]
     },
     "execution_count": 19,
     "metadata": {},
     "output_type": "execute_result"
    }
   ],
   "source": [
    "my_file = open(\"/home/max/Desktop/slurm-731343_batch1_2_DpY_Re200_DPY50.out\",\"r\")\n",
    "data=my_file.read()\n",
    "data_into_list=data.split(\"\\n\")\n",
    "my_file.close()\n",
    "Counter(data_into_list)"
   ]
  },
  {
   "cell_type": "code",
   "execution_count": 27,
   "id": "346738de",
   "metadata": {},
   "outputs": [],
   "source": [
    "#output_file=open(\"/home/max/Desktop/outputfile.txt\",\"a\")\n",
    "\n",
    "#c = Counter(data_into_list)\n",
    "#for k,v in c.items():\n",
    "#    output_file.write(\"{} {}\\n\".format(k,v) )\n",
    "\n",
    "#output_file.close()"
   ]
  },
  {
   "cell_type": "code",
   "execution_count": null,
   "id": "c7a03872",
   "metadata": {},
   "outputs": [],
   "source": [
    "### CUDA-VRAM-summary:\n",
    "    output_file = open(output_path+dir_name+\"/\"+timestamp + \"_GPU_memory_summary.txt\", \"a\")\n",
    "    output_file.write(\"DATA for \"+timestamp+\"\\n\\n\")\n",
    "    output_file.write(torch.cuda.memory_summary(device=\"cuda:0\"))\n",
    "    total_bytes = 0\n",
    "    import gc\n",
    "    for obj in gc.get_objects():\n",
    "        try:\n",
    "            if torch.is_tensor(obj) or (hasattr(obj,'data') and torch.is_tensor(obj.data)):\n",
    "                output_file.write(\"\\n\"+str(type(obj))+\", \"+str(obj.size())+\", \"+str(obj.nelement()*obj.element_size()))\n",
    "                total_bytes = total_bytes+obj.nelement()*obj.element_size()    \n",
    "        except:\n",
    "            pass\n",
    "    output_file.write(\"\\n\\ntotal bytes for tensors:\"+str(total_bytes))\n",
    "    output_file.close()"
   ]
  }
 ],
 "metadata": {
  "kernelspec": {
   "display_name": "Python 3 (ipykernel)",
   "language": "python",
   "name": "python3"
  },
  "language_info": {
   "codemirror_mode": {
    "name": "ipython",
    "version": 3
   },
   "file_extension": ".py",
   "mimetype": "text/x-python",
   "name": "python",
   "nbconvert_exporter": "python",
   "pygments_lexer": "ipython3",
   "version": "3.10.6"
  },
  "varInspector": {
   "cols": {
    "lenName": 16,
    "lenType": 16,
    "lenVar": 40
   },
   "kernels_config": {
    "python": {
     "delete_cmd_postfix": "",
     "delete_cmd_prefix": "del ",
     "library": "var_list.py",
     "varRefreshCmd": "print(var_dic_list())"
    },
    "r": {
     "delete_cmd_postfix": ") ",
     "delete_cmd_prefix": "rm(",
     "library": "var_list.r",
     "varRefreshCmd": "cat(var_dic_list()) "
    }
   },
   "types_to_exclude": [
    "module",
    "function",
    "builtin_function_or_method",
    "instance",
    "_Feature"
   ],
   "window_display": false
  }
 },
 "nbformat": 4,
 "nbformat_minor": 5
}
