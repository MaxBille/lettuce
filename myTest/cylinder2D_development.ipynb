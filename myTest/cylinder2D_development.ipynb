{
 "cells": [
  {
   "cell_type": "code",
   "execution_count": 1,
   "id": "c74f6ed3",
   "metadata": {},
   "outputs": [],
   "source": [
    "import lettuce as lt\n",
    "import matplotlib.pyplot as plt\n",
    "from scipy.signal import find_peaks\n",
    "\n",
    "import warnings\n",
    "import numpy as np\n",
    "from lettuce.unit import UnitConversion\n",
    "from lettuce.util import append_axes\n",
    "from lettuce.boundary import EquilibriumBoundaryPU, BounceBackBoundary, HalfwayBounceBackBoundary, FullwayBounceBackBoundary, EquilibriumOutletP, AntiBounceBackOutlet\n",
    "from lettuce.flows.obstaclemax import ObstacleMax\n",
    "\n",
    "import torch\n",
    "import time\n",
    "import datetime\n",
    "import os\n",
    "import shutil"
   ]
  },
  {
   "cell_type": "code",
   "execution_count": 2,
   "id": "7897deb0",
   "metadata": {},
   "outputs": [
    {
     "name": "stdout",
     "output_type": "stream",
     "text": [
      "shape_LU: 760 x 380\n",
      "T with 100 steps: 0.14 seconds\n",
      "n_steps to simulate 1 second: 727.46 steps\n",
      "n_steps to simulate 200 seconds: 145492.0 steps\n",
      "generates approx. 2 .vti/.vtk-frames\n",
      "No. of gridpoints: 288800\n",
      "estimated min. runtime on 2060super: 1.44 seconds ( 0.02 minutes )\n",
      "estimated min. runtime on 2080ti:    0.96 seconds ( 0.02 minutes )\n"
     ]
    }
   ],
   "source": [
    "output_data = False\n",
    "vtk_out=True   # is overwritten by output_data=False (see below)\n",
    "\n",
    "### Simulationsparameter - Steuerung\n",
    "re = 200   # Reynoldszahl\n",
    "Ma = 0.05     # Machzahl\n",
    "n_steps = 300    # Schrittzahl\n",
    "setup_diameter = 1  # D_PU = char_length_pu -> this defines the PU-Reference\n",
    "flow_velocity = 1  # U_PU = char_velocity_pu -> this defines the PU-Reference velocity (u_max of inflow)\n",
    "\n",
    "periodic_start = 0.9  # relative start of peak_finding for Cd_mean Measurement to cut of any transients\n",
    "\n",
    "gridpoints_per_diameter = 20  # gp_per_D -> this defines the resolution ( D_LU = GPD+1)\n",
    "domain_width_in_D = 19  # D/Y  -> this defines the domain-size and total number of Lattice-Nodes\n",
    "domain_length_in_D = 2*domain_width_in_D  # D/X\n",
    "\n",
    "# if DpY is even, resulting GPD can't be odd for symmetrical cylinder and channel\n",
    "# ...if DpY is even, GPD will be corrected to even GPD for symemtrical cylinder\n",
    "# ...use odd DpY to use odd GPD\n",
    "gpd_correction=False\n",
    "if domain_width_in_D % 2 == 0 and gridpoints_per_diameter % 2 != 0:\n",
    "    gpd_correction = True   # gpd_was_corrected-flag\n",
    "    gpd_setup = gridpoints_per_diameter   # store old gpd for output\n",
    "    gridpoints_per_diameter = int(gridpoints_per_diameter/2)*2   # make gpd even\n",
    "    print(\"(!) domain_width_in_D is even, gridpoints_per_diameter will be \"+str(gridpoints_per_diameter)+\". Use odd domain_width_in_D to enable use of odd GPD!\")\n",
    "\n",
    "T_target=200\n",
    "print(\"shape_LU:\", gridpoints_per_diameter*domain_length_in_D, \"x\", gridpoints_per_diameter*domain_width_in_D)\n",
    "print(\"T with\", n_steps, \"steps:\", round(n_steps * (setup_diameter/(gridpoints_per_diameter+1))*(Ma*1/np.sqrt(3)/flow_velocity),2), \"seconds\")\n",
    "print(\"n_steps to simulate 1 second:\", round(((gridpoints_per_diameter+1)/setup_diameter)*(flow_velocity/(Ma*1/np.sqrt(3))),2), \"steps\")\n",
    "print(\"n_steps to simulate\",T_target,\"seconds:\",T_target*round(((gridpoints_per_diameter+1)/setup_diameter)*(flow_velocity/(Ma*1/np.sqrt(3))),2), \"steps\")\n",
    "\n",
    "u_init = 0    # initiales Geschwindigkeitsfeld: # 0: uniform u=0, # 1: uniform u=1, # 2: parabolic, amplitude u_char_lu (similar to poiseuille-flow)\n",
    "perturb_init = True   # leichte Asymmetrie in Anfangs-Geschwindigkeitsverteilung -> triggert Karman'sche Wirbelstraße für Re>47\n",
    "bb_wall = False    # Randbedingungen der lateralen Kanalwände: True= bounce-back-walls und parabelförmiges Geschwindigkeisprodil am Einlass, False= periodic BC und uniforme Geschwindigkeit am Einlass\n",
    "cylinder = True    # Objekt: True = cylinder, False = no obstascle\n",
    "halfway = False    # BounceBackBoundary-Algorithmus: True=Halfway, False=Fullway\n",
    "vtk_fps=10    # FramesPerSecond (/PU) für vtk-output\n",
    "\n",
    "#exmpl: Re1000,steps25000,ny1000 braucht 43min\n",
    "#Bonn: Re200, steps200000,gpd20?, 400x200 braucht 10min\n",
    "#HBRS: Re200, steps100000, gpd20, 800x400 braucht 25min\n",
    "#Bonn: Re200, steps175000, gpd35, 1330x665 braucht 62,3min\n",
    "\n",
    "mlups_2060super = 20\n",
    "mlups_2080ti = 30   # 40 for GPD30,DpY19,nsteps=150000 (steigend mit der Auflösung)\n",
    "\n",
    "if vtk_out:\n",
    "    print(\"generates approx.\", int(vtk_fps*(n_steps * (setup_diameter/(gridpoints_per_diameter+1))*(Ma*1/np.sqrt(3)/flow_velocity)))+1, \".vti/.vtk-frames\")\n",
    "\n",
    "gridpoints = gridpoints_per_diameter**2*domain_length_in_D*domain_width_in_D\n",
    "print(\"No. of gridpoints:\", gridpoints)\n",
    "print(\"estimated min. runtime on 2060super:\", round(n_steps*gridpoints/(1e6*mlups_2060super),2), \"seconds (\", round(n_steps*gridpoints/(1e6*mlups_2060super)/60,2),\"minutes )\")\n",
    "print(\"estimated min. runtime on 2080ti:   \", round(n_steps*gridpoints/(1e6*mlups_2080ti),2), \"seconds (\", round(n_steps*gridpoints/(1e6*mlups_2080ti)/60,2),\"minutes )\")"
   ]
  },
  {
   "cell_type": "code",
   "execution_count": 3,
   "id": "c5b67805",
   "metadata": {},
   "outputs": [],
   "source": [
    "### Data_Output (vtk)\n",
    "\n",
    "# naming:\n",
    "batch = \"cylinder2D_compare2Dto3D\"\n",
    "version = \"\" #\"_GPD\" + str(gridpoints_per_diameter) + \"_DpY\" + str(domain_width_in_D) + \"_Re\"+str(re)\n",
    "\n",
    "if output_data:  # toggle output\n",
    "    # (see above) vtk_out = True    # vtk-Repoter für Animation des Flusses in ParaView: True = vtk-output, False = no vtk-output\n",
    "\n",
    "    timestamp = datetime.datetime.now()\n",
    "    timestamp = timestamp.strftime(\"%y%m%d\")+\"_\"+timestamp.strftime(\"%H%M%S\")\n",
    "\n",
    "    #output_path = \"/mnt/ScratchHDD1/Max_Scratch/lbm_simulations\"  # lokal HBRS\n",
    "    output_path = \"/home/max/Documents/lbm_simulations\"  # lokal Bonn\n",
    "    #output_path = \"/home/mbille3s/02_lbm_simulations\"  # cluster HBRS\n",
    "    dir_name = \"/data_\" + str(timestamp) + \"_\" + batch + version\n",
    "    os.makedirs(output_path+dir_name)\n",
    "    \n",
    "    vtk_path = output_path+dir_name+\"/vtk/out\"    # lokal HBRS UND Bonn # Pfad und Name der vtk-output-Dateien\n",
    "    print(\"dir_name: \"+dir_name)\n",
    "    print(\"output_path: \" + vtk_path)\n",
    "else:\n",
    "    vtk_out = False"
   ]
  },
  {
   "cell_type": "code",
   "execution_count": 4,
   "id": "4c0ae2fc",
   "metadata": {
    "scrolled": false
   },
   "outputs": [],
   "source": [
    "### Simulationssetup\n",
    "\n",
    "# lattice\n",
    "lattice = lt.Lattice(lt.D2Q9, \"cuda:0\", dtype=torch.float64)\n",
    "    # stencil, device, dtype\n",
    "\n",
    "flow = ObstacleMax(reynolds_number=re, mach_number=Ma, \n",
    "                   lattice=lattice, \n",
    "                   char_length_pu=setup_diameter, \n",
    "                   char_length_lu=gridpoints_per_diameter+1, \n",
    "                   char_velocity_pu=flow_velocity, \n",
    "                   y_lu=domain_width_in_D*gridpoints_per_diameter, \n",
    "                   x_lu=domain_length_in_D*gridpoints_per_diameter, \n",
    "                   lateral_walls=bb_wall, \n",
    "                   hwbb=halfway, \n",
    "                   perturb_init=perturb_init, \n",
    "                   u_init=u_init\n",
    "                  )\n",
    "\n",
    "# define a Cylinder-Obstacle\n",
    "radius_LU = 0.5 * gridpoints_per_diameter\n",
    "y_pos_LU = 0.5 * gridpoints_per_diameter * domain_width_in_D + 0.5\n",
    "x_pos_LU = y_pos_LU\n",
    "\n",
    "xyz = tuple(np.linspace(1,n,n) for n in flow.shape)  # Tupel aus Listen inizes (1-n (nicht 0-based!))\n",
    "xLU, yLU = np.meshgrid(*xyz, indexing='ij')  # meshgrid aus den x-, y- (und z-)Indizes\n",
    "\n",
    "condition = np.sqrt((xLU - x_pos_LU) ** 2 + (yLU - y_pos_LU) ** 2) < radius_LU\n",
    "flow.obstacle_mask[np.where(condition)] = 1\n",
    "    \n",
    "    \n",
    "### Simulations-Objekt (Simulator)\n",
    "tau = flow.units.relaxation_parameter_lu\n",
    "sim = lt.Simulation(flow, lattice, \n",
    "                     lt.BGKCollision(lattice, tau),\n",
    "                    # lt.RegularizedCollision(lattice, tau), \n",
    "                    # lt.KBCCollision2D(lattice,tau),\n",
    "                    lt.StandardStreaming(lattice)\n",
    "                   )\n",
    "    # Flow, Lattice-Parameter, KollisionsOperator-Objekt(Parameter), Streaming-Objekt\n",
    "\n",
    "### Reporter\n",
    "\n",
    "# VTK Reporter -> Visualisierung\n",
    "if vtk_out == True:\n",
    "    VTKreport = lt.VTKReporter(lattice, flow, interval=int(flow.units.convert_time_to_lu(1/vtk_fps)), filename_base=vtk_path)\n",
    "    sim.reporters.append(VTKreport)\n",
    "\n",
    "# Observable reporter: drag coefficient\n",
    "DragObservable = lt.DragCoefficient(lattice,flow,sim._boundaries[-1],area=setup_diameter)  # erstelle Observable // ! area A=2*r is in PU\n",
    "Dragreport = lt.ObservableReporter(DragObservable, out=None)  # erstelle Reporter für Observable\n",
    "sim.reporters.append(Dragreport)  # hänge Reporter in Simulator ein\n",
    "    \n",
    "# Observable reporter: lift coefficient\n",
    "LiftObservable = lt.LiftCoefficient(lattice,flow,sim._boundaries[-1],area=setup_diameter)\n",
    "Liftreport = lt.ObservableReporter(LiftObservable, out=None)\n",
    "sim.reporters.append(Liftreport)\n",
    "    \n",
    "# MassObservable = lt.Mass(lattice,flow)\n",
    "# MassReporter = lt.ObservableReporter(MassObservable, out=None)\n",
    "# sim.reporters.append(MassReporter)"
   ]
  },
  {
   "cell_type": "code",
   "execution_count": 5,
   "outputs": [
    {
     "data": {
      "text/plain": "<matplotlib.image.AxesImage at 0x7f0800ba33a0>"
     },
     "execution_count": 5,
     "metadata": {},
     "output_type": "execute_result"
    },
    {
     "data": {
      "text/plain": "<Figure size 640x480 with 1 Axes>",
      "image/png": "[encoded data removed]"
     },
     "metadata": {},
     "output_type": "display_data"
    }
   ],
   "source": [
    "# mlups = sim.step(100)\n",
    "# lattice.convert_to_numpy(lattice.u(sim.f))\n",
    "plt.imshow(lattice.convert_to_numpy(sim._boundaries[-1].mask)[:,:].T, origin=\"lower\")"
   ],
   "metadata": {
    "collapsed": false
   }
  },
  {
   "cell_type": "code",
   "execution_count": 6,
   "outputs": [
    {
     "data": {
      "text/plain": "<matplotlib.image.AxesImage at 0x7f07f81c33d0>"
     },
     "execution_count": 6,
     "metadata": {},
     "output_type": "execute_result"
    },
    {
     "data": {
      "text/plain": "<Figure size 640x480 with 1 Axes>",
      "image/png": "[encoded data removed]"
     },
     "metadata": {},
     "output_type": "display_data"
    }
   ],
   "source": [
    "from matplotlib import pyplot as plt\n",
    "#plt.imshow(u_out[0,...].T, origin=\"lower\")\n",
    "plt.imshow(lattice.convert_to_numpy(sim._boundaries[-1].f_mask[1,190-20:190+20,190-20:190+20]), origin=\"lower\")"
   ],
   "metadata": {
    "collapsed": false
   }
  },
  {
   "cell_type": "code",
   "execution_count": 7,
   "id": "cfc1d90f",
   "metadata": {
    "scrolled": false
   },
   "outputs": [
    {
     "name": "stdout",
     "output_type": "stream",
     "text": [
      "MLUPS: 37.439400884533775\n",
      "PU-Time:  0.13746434980705377  seconds\n",
      "number of steps: 100\n",
      "runtime:  0.7715818881988525 seconds ( 0.01 minutes )\n",
      "\\Re: 200\n",
      "char_velocity_LU 0.028867513459481294\n"
     ]
    }
   ],
   "source": [
    "### Einfache Simulation\n",
    "\n",
    "t_start=time.time()\n",
    "\n",
    "mlups = sim.step(n_steps) #Simulation mit Schrittzahl n_steps\n",
    "\n",
    "t_end=time.time()\n",
    "runtime=t_end-t_start\n",
    "print(\"MLUPS:\", mlups)\n",
    "print(\"PU-Time: \",flow.units.convert_time_to_pu(n_steps),\" seconds\")\n",
    "print(\"number of steps:\",n_steps)\n",
    "print(\"runtime: \",runtime, \"seconds (\", round(runtime/60,2),\"minutes )\")\n",
    "print(\"\\Re:\",re)\n",
    "print(\"char_velocity_LU\", flow.units.characteristic_velocity_lu)"
   ]
  },
  {
   "cell_type": "code",
   "execution_count": 8,
   "id": "cf0ce31f",
   "metadata": {
    "scrolled": false
   },
   "outputs": [
    {
     "data": {
      "text/plain": "<Figure size 640x480 with 1 Axes>",
      "image/png": "[encoded data removed]"
     },
     "metadata": {},
     "output_type": "display_data"
    }
   ],
   "source": [
    "### plot Drag coefficient\n",
    "\n",
    "drag_coefficient = np.array(Dragreport.out)\n",
    "#print('  stepLU        ', 'timePU        ', 'Cd')\n",
    "#print(drag_coefficient) # prints: stepLU, timePU, value\n",
    "\n",
    "fig, ax = plt.subplots(constrained_layout=True)\n",
    "ax.plot(drag_coefficient[:,1],drag_coefficient[:,2])\n",
    "ax.set_xlabel(\"physical time / s\")\n",
    "ax.set_ylabel(\"Coefficient of Drag Cd\")\n",
    "ax.set_ylim([0.5,2])\n",
    "#ax.set_ylim([1.54,1.545])\n",
    "#ax.set_xlim([500,600])\n",
    "secax = ax.secondary_xaxis('top', functions=(flow.units.convert_time_to_lu, flow.units.convert_time_to_pu))\n",
    "secax.set_xlabel(\"timesteps (simulation time / LU)\")\n",
    "if output_data:\n",
    "    plt.savefig(output_path+dir_name+\"/drag_coefficient.png\")\n",
    "    np.savetxt(output_path+dir_name+\"/drag_coefficient.txt\", drag_coefficient, header=\"stepLU  |  timePU  |  Cd  FROM str(timestamp)\")\n",
    "plt.show()"
   ]
  },
  {
   "cell_type": "code",
   "execution_count": 9,
   "id": "cd8c1505",
   "metadata": {},
   "outputs": [
    {
     "name": "stdout",
     "output_type": "stream",
     "text": [
      "peak-finding didn't work... probably no significant peaks visible (Re<46?), or periodic region not reached (T too small)\n",
      "Cd, simple mean: 0.0\n"
     ]
    }
   ],
   "source": [
    "### calculate mean drag_coefficient in periodic reagion:\n",
    "try:\n",
    "    values = drag_coefficient[int(drag_coefficient.shape[0]*periodic_start-1):,2]\n",
    "\n",
    "    peaks_max = find_peaks(values, prominence=((values.max()-values.min())/2))\n",
    "    peaks_min = find_peaks(-values, prominence=((values.max()-values.min())/2))\n",
    "    # find peaks funktioniert hier nicht korrekt, wenn der Drag immernoch ansteigend ist...\n",
    "\n",
    "    if peaks_min[0].shape[0] - peaks_max[0].shape[0] > 0:\n",
    "        peak_number = peaks_max[0].shape[0]\n",
    "    else:\n",
    "        peak_number = peaks_min[0].shape[0]\n",
    "\n",
    "    if peaks_min[0][0] < peaks_max[0][0]:\n",
    "        first_peak = peaks_min[0][0]\n",
    "        last_peak = peaks_max[0][peak_number-1]\n",
    "    else:\n",
    "        first_peak = peaks_max[0][0]\n",
    "        last_peak = peaks_min[0][peak_number-1]\n",
    "\n",
    "    drag_mean = values[first_peak:last_peak].mean()\n",
    "    drag_mean_simple = values.mean()\n",
    "\n",
    "    print(\"simple mean:     \",drag_mean_simple)\n",
    "    print(\"peak_finder mean:\",drag_mean)\n",
    "    print(\"start time of 'mean'-ing:\",drag_coefficient[int(drag_coefficient.shape[0]*periodic_start-1),1])\n",
    "    ## plotting peaks from peak_finder:\n",
    "    drag_stepsLU = drag_coefficient[int(drag_coefficient.shape[0]*periodic_start-1):,0]\n",
    "    peak_max_y = values[peaks_max[0]]\n",
    "    peak_max_x = drag_stepsLU[peaks_max[0]]\n",
    "    peak_min_y = values[peaks_min[0]]\n",
    "    peak_min_x = drag_stepsLU[peaks_min[0]]\n",
    "\n",
    "    plt.plot(drag_stepsLU, values)\n",
    "    plt.scatter(peak_max_x[:peak_number],peak_max_y[:peak_number])\n",
    "    plt.scatter(peak_min_x[:peak_number],peak_min_y[:peak_number])\n",
    "    plt.scatter(drag_stepsLU[first_peak],values[first_peak])\n",
    "    plt.scatter(drag_stepsLU[last_peak],values[last_peak])\n",
    "    if output_data:\n",
    "        plt.savefig(output_path+dir_name+\"/drag_coefficient_peakfinder.png\")\n",
    "    peakfinder=True\n",
    "except:\n",
    "    print(\"peak-finding didn't work... probably no significant peaks visible (Re<46?), or periodic region not reached (T too small)\")\n",
    "    values = drag_coefficient[int(drag_coefficient.shape[0]*periodic_start-1):,2]\n",
    "    drag_mean_simple = values.mean()\n",
    "    peakfinder=False\n",
    "    print(\"Cd, simple mean:\",drag_mean_simple)"
   ]
  },
  {
   "cell_type": "code",
   "execution_count": 10,
   "id": "b7559de6",
   "metadata": {
    "scrolled": false
   },
   "outputs": [
    {
     "data": {
      "text/plain": "<Figure size 640x480 with 1 Axes>",
      "image/png": "[encoded data removed]"
     },
     "metadata": {},
     "output_type": "display_data"
    },
    {
     "name": "stdout",
     "output_type": "stream",
     "text": [
      "Cl_peaks: \n",
      "min 0.0 \n",
      "max 0.0\n"
     ]
    }
   ],
   "source": [
    "### plot Lift coefficient\n",
    "\n",
    "lift_coefficient = np.array(Liftreport.out)\n",
    "# print('  stepLU        ', 'timePU        ', 'Cl')\n",
    "# print(lift_coefficient) # prints: stepLU, timePU, value\n",
    "\n",
    "fig, ax = plt.subplots(constrained_layout=True)\n",
    "ax.plot(lift_coefficient[:,1],lift_coefficient[:,2])\n",
    "ax.set_xlabel(\"physical time / s\")\n",
    "ax.set_ylabel(\"Coefficient of Lift Cl\")\n",
    "ax.set_ylim([-1.1,1.1])\n",
    "\n",
    "secax = ax.secondary_xaxis('top', functions=(flow.units.convert_time_to_lu, flow.units.convert_time_to_pu))\n",
    "secax.set_xlabel(\"timesteps (simulation time / LU)\")\n",
    "if output_data:\n",
    "    plt.savefig(output_path+dir_name+\"/lift_coefficient.png\")\n",
    "    np.savetxt(output_path+dir_name+\"/lift_coefficient.txt\", lift_coefficient, header=\"stepLU  |  timePU  |  Cl  FROM str(timestamp)\")\n",
    "plt.show()\n",
    "\n",
    "Cl_min = lift_coefficient[int(lift_coefficient[:,2].shape[0]*0.5):,2].min()\n",
    "Cl_max = lift_coefficient[int(lift_coefficient[:,2].shape[0]*0.5):,2].max()\n",
    "#Cl_min_gpdC = Cl_min/(1+1/gridpoints_per_diameter)\n",
    "#Cl_max_gpdC = Cl_max/(1+1/gridpoints_per_diameter)\n",
    "\n",
    "print(\"Cl_peaks: \\nmin\", Cl_min,\"\\nmax\", Cl_max)\n",
    "#print(\"Cl_peaks (gpd-corrected): \\nmin\", Cl_min_gpdC,\"\\nmax\", Cl_max_gpdC)"
   ]
  },
  {
   "cell_type": "code",
   "execution_count": 11,
   "id": "b03c83f2",
   "metadata": {},
   "outputs": [
    {
     "name": "stdout",
     "output_type": "stream",
     "text": [
      "Frequency Peak: 0.0 +- 7.202587516623053 Hz\n"
     ]
    },
    {
     "name": "stderr",
     "output_type": "stream",
     "text": [
      "/tmp/ipykernel_13643/422241951.py:17: UserWarning: Attempting to set identical low and high ylims makes transformation singular; automatically expanding.\n",
      "  plt.ylim(0,np.abs(X[:int(X.shape[0]*0.5)]).max())   # ylim, where highes peak is on left half of full spectrum\n"
     ]
    },
    {
     "data": {
      "text/plain": "<Figure size 640x480 with 1 Axes>",
      "image/png": "[encoded data removed]"
     },
     "metadata": {},
     "output_type": "display_data"
    }
   ],
   "source": [
    "### prototyped fft for frequency detection and calculation of strouhal-number\n",
    "# ! Drag_frequency is 2* Strouhal-Freq. Lift-freq. is Strouhal-Freq.\n",
    "\n",
    "try:\n",
    "    X = np.fft.fft(lift_coefficient[:,2])   # fft result (amplitudes)\n",
    "    N = len(X)  # number of freqs\n",
    "    n = np.arange(N)   # freq index\n",
    "    T = N*flow.units.convert_time_to_pu(1)   # total time measured (T_PU)\n",
    "    freq = n/T   # frequencies (x-axis of spectrum)\n",
    "\n",
    "    plt.figure\n",
    "    plt.stem(freq, np.abs(X), 'b', markerfmt=\" \", basefmt=\"-b\")   # plot spectrum |X|(f)\n",
    "    plt.xlabel(\"Freq (Hz)\")\n",
    "    plt.ylabel(\"FFT Amplitude |X(freq)|\")\n",
    "    plt.xlim(0,1)\n",
    "    #print(\"max. Amplitude np.abx(X).max():\", np.abs(X).max())   # for debugging\n",
    "    plt.ylim(0,np.abs(X[:int(X.shape[0]*0.5)]).max())   # ylim, where highes peak is on left half of full spectrum\n",
    "\n",
    "    if output_data:\n",
    "        plt.savefig(output_path+dir_name+\"/fft_Cl.png\")\n",
    "\n",
    "    freq_res = freq[1]-freq[0]   # frequency-resolution\n",
    "    X_abs = np.abs(X[:int(X.shape[0]*0.4)])   # get |X| Amplitude for left half of full spectrum\n",
    "    freq_peak = freq[np.argmax(X_abs)]    # find frequency with highest amplitude\n",
    "    print(\"Frequency Peak:\", freq_peak, \"+-\", freq_res, \"Hz\")\n",
    "    # f = Strouhal for St=f*D/U and D=U=1 in PU\n",
    "except:\n",
    "    print(\"Strouhal-calculation failed, check simulation data\")\n",
    "    freq_res=0\n",
    "    freq_peak=0"
   ]
  },
  {
   "cell_type": "code",
   "execution_count": 12,
   "id": "34959bb6",
   "metadata": {},
   "outputs": [
    {
     "data": {
      "text/plain": "<Figure size 640x480 with 2 Axes>",
      "image/png": "[encoded data removed]"
     },
     "metadata": {},
     "output_type": "display_data"
    }
   ],
   "source": [
    "### plot Drag coefficient AND Lift Coefficient\n",
    "\n",
    "#drag_coefficient = np.array(Dragreport.out)\n",
    "#lift_coefficient = np.array(Liftreport.out)\n",
    "\n",
    "fig, ax = plt.subplots(layout=\"constrained\")\n",
    "drag_ax = ax.plot(drag_coefficient[:,1],drag_coefficient[:,2], color=\"tab:blue\", label=\"Drag\")\n",
    "ax.set_xlabel(\"physical time / s\")\n",
    "ax.set_ylabel(\"Coefficient of Drag Cd\")\n",
    "ax.set_ylim([0.5,1.7])\n",
    "\n",
    "secax = ax.secondary_xaxis('top', functions=(flow.units.convert_time_to_lu, flow.units.convert_time_to_pu))\n",
    "secax.set_xlabel(\"timesteps (simulation time / LU)\")\n",
    "\n",
    "ax2 = ax.twinx()\n",
    "lift_ax = ax2.plot(lift_coefficient[:,1],lift_coefficient[:,2], color=\"tab:orange\", label=\"Lift\")\n",
    "ax2.set_ylabel(\"Coefficient of Lift Cl\")\n",
    "ax2.set_ylim([-1.1,1.1])\n",
    "\n",
    "\n",
    "fig.legend(loc=\"upper left\", bbox_to_anchor=(0,1), bbox_transform=ax.transAxes)\n",
    "\n",
    "if output_data:\n",
    "    plt.savefig(output_path+dir_name+\"/dragAndLift_coefficient.png\")\n",
    "\n",
    "plt.show()"
   ]
  },
  {
   "cell_type": "code",
   "execution_count": 13,
   "id": "b5bc915a",
   "metadata": {},
   "outputs": [],
   "source": [
    "### plotte Dichte (mean, max, min) im Fluid-Bereich\n",
    "\n",
    "# plt.figure\n",
    "# plt.plot(np.arange(len(DragObservable.rho_max_list)),DragObservable.rho_max_list)\n",
    "# plt.plot(np.arange(len(DragObservable.rho_min_list)),DragObservable.rho_min_list)\n",
    "# plt.plot(np.arange(len(DragObservable.rho_mean_list)),DragObservable.rho_mean_list)\n",
    "# plt.legend(labels=[\"rho_max\", \"rho_min\", \"rho_mean\"])\n",
    "# plt.ylim([0.99,1.01])\n",
    "# if output_data:\n",
    "#     plt.savefig(output_path+dir_name+\"/density.png\")"
   ]
  },
  {
   "cell_type": "code",
   "execution_count": 14,
   "id": "fea2eaeb",
   "metadata": {},
   "outputs": [
    {
     "name": "stdout",
     "output_type": "stream",
     "text": [
      "output_data-toggle is FALSE\n"
     ]
    }
   ],
   "source": [
    "# save notebook to simulation_output\n",
    "if output_data:\n",
    "    shutil.copy(str(os.getcwd())+\"/cylinder2D_development.ipynb\",output_path+dir_name+\"/script.ipynb\")\n",
    "else:\n",
    "    print(\"output_data-toggle is FALSE\")\n"
   ]
  },
  {
   "cell_type": "code",
   "execution_count": 15,
   "id": "8ba487c8",
   "metadata": {},
   "outputs": [],
   "source": [
    "# output data\n",
    "if output_data:\n",
    "    output_file = open(output_path+dir_name+\"/\"+timestamp + \"_parameters_and_observables.txt\", \"a\")\n",
    "    output_file.write(\"DATA for \"+timestamp)\n",
    "    output_file.write(\"\\n\\n###################\\n\\nSIM-Parameters\")\n",
    "    output_file.write(\"\\nRe = \"+str(re))\n",
    "    output_file.write(\"\\nMa = \"+str(Ma))\n",
    "    output_file.write(\"\\nn_steps = \"+str(n_steps))\n",
    "    output_file.write(\"\\nsetup_diameter (D_PU) = \"+str(setup_diameter))\n",
    "    output_file.write(\"\\nflow_velocity (U_PU) = \"+str(flow_velocity))\n",
    "    output_file.write(\"\\ngridpoints_per_diameter (gpd) = \"+str(gridpoints_per_diameter))\n",
    "    if gpd_correction:\n",
    "        output_file.write(\"\\ngpd was corrected from: \"+str(gpd_setup)+\" to \"+str(gridpoints_per_diameter)+\" because D/Y is even\")\n",
    "    output_file.write(\"\\ndomain_width_in_D (D/Y) = \"+str(domain_width_in_D))\n",
    "    output_file.write(\"\\ndomain_length_in_D (D/X) = \"+str(domain_length_in_D))\n",
    "    output_file.write(\"\\n\")\n",
    "    output_file.write(\"\\nu_init = \"+str(u_init))\n",
    "    output_file.write(\"\\nperturb_init = \"+str(perturb_init))\n",
    "    output_file.write(\"\\nbb_wall = \"+str(bb_wall))\n",
    "    output_file.write(\"\\nhwbb BC = \"+str(halfway))\n",
    "    output_file.write(\"\\nvtk_fps = \"+str(vtk_fps))\n",
    "    output_file.write(\"\\nvtk_out = \"+str(vtk_out))\n",
    "    output_file.write(\"\\n\")\n",
    "    output_file.write(\"\\nshape_LU: \"+ str(flow.shape[0]) + \" x \" + str(flow.shape[1]))\n",
    "    output_file.write(\"\\ntotal No. of gridpoints: \"+ str(gridpoints))\n",
    "    output_file.write(\"\\n\")\n",
    "    output_file.write(\"output_dir: \"+str(output_path+dir_name))\n",
    "    output_file.write(\"\\n\")\n",
    "    output_file.write(\"\\n###################\\n\\ncylinder:\")\n",
    "    output_file.write(\"\\nradius_LU = \"+str(radius_LU))\n",
    "    output_file.write(\"\\nx_pos_LU = \"+str(x_pos_LU))\n",
    "    output_file.write(\"\\ny_pos_LU = \"+str(y_pos_LU))\n",
    "    output_file.write(\"\\ntau = \"+str(tau))\n",
    "    output_file.write(\"\\n\")\n",
    "    output_file.write(\"\\n###################\\n\\nSTATS:\")\n",
    "    output_file.write(\"\\nT_PU = \"+str(flow.units.convert_time_to_pu(n_steps))+\" seconds\")\n",
    "    output_file.write(\"\\nruntime = \"+str(runtime)+ \" seconds (=\"+str(runtime/60)+\" minutes)\")\n",
    "    output_file.write(\"\\nMLUPS = \"+str(mlups))\n",
    "    output_file.write(\"\\n\")\n",
    "    output_file.write(\"\\n###################\\n\\nOBSERVABLES:\")\n",
    "    output_file.write(\"\\nCoefficient of drag between \"+str(round(drag_coefficient[int(drag_coefficient.shape[0]*periodic_start-1),1],2))+\" s and \"+str(round(drag_coefficient[int(drag_coefficient.shape[0]-1),1],2))+\" s:\")\n",
    "    output_file.write(\"\\nCd_mean, simple      = \"+str(drag_mean_simple))\n",
    "    if peakfinder:\n",
    "        output_file.write(\"\\nCd_mean, peak_finder = \"+str(drag_mean))\n",
    "    else:\n",
    "        output_file.write(\"\\nnoPeaksFound\")\n",
    "    output_file.write(\"\\nCd_min = \"+str(drag_coefficient[int(drag_coefficient.shape[0]*periodic_start-1):,2].min()))\n",
    "    output_file.write(\"\\nCd_max = \"+str(drag_coefficient[int(drag_coefficient.shape[0]*periodic_start-1):,2].max()))\n",
    "    output_file.write(\"\\n\")\n",
    "    output_file.write(\"\\nCoefficient of lift:\")\n",
    "    output_file.write(\"\\nCl_min = \"+str(Cl_min))\n",
    "    output_file.write(\"\\nCl_max = \"+str(Cl_max))\n",
    "    output_file.write(\"\\n\")\n",
    "    output_file.write(\"\\nStrouhal number:\")\n",
    "    output_file.write(\"\\nf +- df = \"+str(freq_peak)+\" +- \"+str(freq_res)+\" Hz\")\n",
    "    output_file.close()\n"
   ]
  },
  {
   "cell_type": "code",
   "execution_count": 16,
   "id": "d6881051",
   "metadata": {},
   "outputs": [],
   "source": [
    "if output_data:\n",
    "    output_file = open(output_path+dir_name+\"/\"+timestamp + \"_parameters_and_observables_copyable.txt\", \"a\")\n",
    "    output_file.write(\"DATA for \"+timestamp)\n",
    "    output_file.write(\"\\n\\n###################\\n\\nSIM-Parameters: Re, Ma, n_steps, setup_diameter, flow_velocity,GPD, DpY, DpX,u_init, perturb_init, bb_wall, vtk_fps, vtk_out, shape_LU, gridpoints, output_dir, radius_LU, x_pos_LU, y_pos_LU, tau, T_PU, runtime, MLUPS\")\n",
    "    output_file.write(\"\\n\"+str(re))\n",
    "    output_file.write(\"\\n\"+str(Ma))\n",
    "    output_file.write(\"\\n\"+str(n_steps))\n",
    "    output_file.write(\"\\n\"+str(setup_diameter))\n",
    "    output_file.write(\"\\n\"+str(flow_velocity))\n",
    "    output_file.write(\"\\n\"+str(gridpoints_per_diameter))\n",
    "    output_file.write(\"\\n\"+str(domain_width_in_D))\n",
    "    output_file.write(\"\\n\"+str(domain_length_in_D))\n",
    "    output_file.write(\"\\n\"+str(u_init))\n",
    "    output_file.write(\"\\n\"+str(perturb_init))\n",
    "    output_file.write(\"\\n\"+str(bb_wall))\n",
    "    output_file.write(\"\\n\"+str(halfway))\n",
    "    output_file.write(\"\\n\"+str(vtk_fps))\n",
    "    output_file.write(\"\\n\"+str(vtk_out))\n",
    "    output_file.write(\"\\n\")\n",
    "    output_file.write(\"\\n\"+ str(flow.shape[0]) + \" x \" + str(flow.shape[1]))\n",
    "    output_file.write(\"\\n\"+ str(gridpoints))\n",
    "    output_file.write(\"\\n\")\n",
    "    output_file.write(\"\"+str(output_path+dir_name))\n",
    "    output_file.write(\"\\n\")\n",
    "    output_file.write(\"\\n\"+str(radius_LU))\n",
    "    output_file.write(\"\\n\"+str(x_pos_LU))\n",
    "    output_file.write(\"\\n\"+str(y_pos_LU))\n",
    "    output_file.write(\"\\n\"+str(tau))\n",
    "    output_file.write(\"\\n\")\n",
    "    output_file.write(\"\\n\"+str(flow.units.convert_time_to_pu(n_steps)))\n",
    "    output_file.write(\"\\n\"+str(runtime))\n",
    "    output_file.write(\"\\n\"+str(mlups))\n",
    "    output_file.write(\"\\n\")\n",
    "    output_file.write(\"\\n###################\\n\\nOBSERVABLES: CdmeanSimple, (Cdpeakfinder), Cdmin,Cdmax,Clmin,Clmax,St,df\")\n",
    "    output_file.write(\"\\nCoefficient of drag between \"+str(round(drag_coefficient[int(drag_coefficient.shape[0]*periodic_start-1),1],2))+\" s and \"+str(round(drag_coefficient[int(drag_coefficient.shape[0]-1),1],2))+\" s:\")\n",
    "    output_file.write(\"\\n\"+str(drag_mean_simple))\n",
    "    if peakfinder:\n",
    "        output_file.write(\"\\n\"+str(drag_mean))\n",
    "    else:\n",
    "        output_file.write(\"\\nnoPeaksFound\")\n",
    "    output_file.write(\"\\n\"+str(drag_coefficient[int(drag_coefficient.shape[0]*periodic_start-1):,2].min()))\n",
    "    output_file.write(\"\\n\"+str(drag_coefficient[int(drag_coefficient.shape[0]*periodic_start-1):,2].max()))\n",
    "    output_file.write(\"\\n\")\n",
    "    output_file.write(\"\\n\"+str(Cl_min))\n",
    "    output_file.write(\"\\n\"+str(Cl_max))\n",
    "    output_file.write(\"\\n\")\n",
    "    output_file.write(\"\\n\"+str(freq_peak))\n",
    "    output_file.write(\"\\n\"+str(freq_res))\n",
    "    output_file.close()"
   ]
  },
  {
   "cell_type": "code",
   "execution_count": 17,
   "id": "853faf0b",
   "metadata": {},
   "outputs": [
    {
     "data": {
      "text/plain": "25.79052734375"
     },
     "execution_count": 17,
     "metadata": {},
     "output_type": "execute_result"
    }
   ],
   "source": [
    "torch.cuda.memory_allocated(device=\"cuda:0\")/1024/1024"
   ]
  },
  {
   "cell_type": "code",
   "execution_count": 18,
   "id": "0ce6e117",
   "metadata": {
    "scrolled": false
   },
   "outputs": [],
   "source": [
    "### Analysis of GPU memory usage (tensors)\n",
    "\n",
    "if output_data:\n",
    "### cudas own memory summary\n",
    "    print(torch.cuda.memory_summary(device=\"cuda:0\"))\n",
    "\n",
    "### list present torch tensors:\n",
    "    output_file = open(output_path+dir_name+\"/\"+timestamp + \"_GPU_list_of_tensors.txt\", \"a\")\n",
    "    total_bytes = 0\n",
    "    import gc\n",
    "    for obj in gc.get_objects():\n",
    "        try:\n",
    "            if torch.is_tensor(obj) or (hasattr(obj,'data') and torch.is_tensor(obj.data)):\n",
    "                output_file.write(\"\\n\"+str(obj.size())+\", \"+str(obj.nelement()*obj.element_size()))\n",
    "                total_bytes = total_bytes+obj.nelement()*obj.element_size()\n",
    "        except:\n",
    "            pass\n",
    "    output_file.write(\"\\n\\ntotal bytes for tensors:\"+str(total_bytes))\n",
    "    output_file.close()\n",
    "\n",
    "### count occurence of tensors in list of tensors:\n",
    "    from collections import Counter\n",
    "    my_file = open(output_path+dir_name+\"/\"+timestamp + \"_GPU_list_of_tensors.txt\",\"r\")\n",
    "    data=my_file.read()\n",
    "    my_file.close()\n",
    "    data_into_list=data.split(\"\\n\")\n",
    "    c = Counter(data_into_list)\n",
    "    output_file = open(output_path+dir_name+\"/\"+timestamp + \"_GPU_counted_tensors.txt\", \"a\")\n",
    "    for k,v in c.items():\n",
    "        output_file.write(\"type,size,bytes: {}, number: {}\\n\".format(k,v) )\n",
    "    output_file.write(\"\\ntotal bytes for tensors:\"+str(total_bytes))\n",
    "    output_file.close()"
   ]
  },
  {
   "cell_type": "code",
   "execution_count": 19,
   "id": "c56a33ca",
   "metadata": {
    "scrolled": true
   },
   "outputs": [],
   "source": [
    "# total_bytes = 0\n",
    "# tensors=[]\n",
    "#\n",
    "# # Liste tensors[verschiedene][elemtns_size + bytes_size]\n",
    "#\n",
    "# import gc\n",
    "# for obj in gc.get_objects():\n",
    "#     try:\n",
    "#         if torch.is_tensor(obj) or (hasattr(obj,'data') and torch.is_tensor(obj.data)):\n",
    "#             print(type(obj), obj.size(), obj.nelement()*obj.element_size())\n",
    "#             tensors.append(str(obj.size())+\"; \"+str(obj.nelement()*obj.element_size()))\n",
    "#             total_bytes = total_bytes+obj.nelement()*obj.element_size()\n",
    "#\n",
    "#     except:\n",
    "#         pass\n",
    "# print(\"total bytes for tensors:\",total_bytes)\n",
    "# print(\"total MB for tensors:\", total_bytes/1024/1024)"
   ]
  },
  {
   "cell_type": "code",
   "execution_count": 20,
   "id": "6bb9d6e5",
   "metadata": {},
   "outputs": [
    {
     "data": {
      "text/plain": "(2, 760, 380)"
     },
     "execution_count": 20,
     "metadata": {},
     "output_type": "execute_result"
    }
   ],
   "source": [
    "lattice.convert_to_numpy(lattice.u(sim.f)).shape"
   ]
  },
  {
   "cell_type": "code",
   "execution_count": 21,
   "outputs": [
    {
     "data": {
      "text/plain": "array([[[ 2.88675135e-02,  2.88675135e-02,  2.88675135e-02, ...,\n          2.88675135e-02,  2.88675135e-02,  2.88675135e-02],\n        [ 1.81370051e-02,  1.81370138e-02,  1.81370389e-02, ...,\n          1.81370700e-02,  1.81370951e-02,  1.81371038e-02],\n        [ 1.81385319e-02,  1.81384089e-02,  1.81383493e-02, ...,\n          1.81388747e-02,  1.81388151e-02,  1.81386920e-02],\n        ...,\n        [ 0.00000000e+00,  0.00000000e+00,  0.00000000e+00, ...,\n          0.00000000e+00,  0.00000000e+00,  0.00000000e+00],\n        [ 0.00000000e+00,  0.00000000e+00,  0.00000000e+00, ...,\n          0.00000000e+00,  0.00000000e+00,  0.00000000e+00],\n        [ 0.00000000e+00,  0.00000000e+00,  0.00000000e+00, ...,\n          0.00000000e+00,  0.00000000e+00,  0.00000000e+00]],\n\n       [[-3.46944695e-18, -3.46944695e-18, -3.46944695e-18, ...,\n         -3.46944695e-18, -3.46944695e-18, -3.46944695e-18],\n        [ 1.38069712e-07,  2.15265543e-07,  2.11690777e-07, ...,\n          2.11533662e-07,  2.15124751e-07,  1.38011575e-07],\n        [-2.03731365e-07, -2.61028111e-08, -2.33255987e-08, ...,\n         -2.46713432e-08, -2.69345985e-08, -2.04030307e-07],\n        ...,\n        [ 0.00000000e+00,  0.00000000e+00,  0.00000000e+00, ...,\n          0.00000000e+00,  0.00000000e+00,  0.00000000e+00],\n        [ 0.00000000e+00,  0.00000000e+00,  0.00000000e+00, ...,\n          0.00000000e+00,  0.00000000e+00,  0.00000000e+00],\n        [ 0.00000000e+00,  0.00000000e+00,  0.00000000e+00, ...,\n          0.00000000e+00,  0.00000000e+00,  0.00000000e+00]]])"
     },
     "execution_count": 21,
     "metadata": {},
     "output_type": "execute_result"
    }
   ],
   "source": [
    "lattice.convert_to_numpy(lattice.u(sim.f))"
   ],
   "metadata": {
    "collapsed": false
   }
  },
  {
   "cell_type": "code",
   "execution_count": 22,
   "outputs": [
    {
     "data": {
      "text/plain": "array([1., 0.])"
     },
     "execution_count": 22,
     "metadata": {},
     "output_type": "execute_result"
    }
   ],
   "source": [
    "flow.u_inlet"
   ],
   "metadata": {
    "collapsed": false
   }
  },
  {
   "cell_type": "code",
   "execution_count": 23,
   "outputs": [
    {
     "data": {
      "text/plain": "[<lettuce.boundary.EquilibriumBoundaryPU at 0x7f07f17c3460>,\n <lettuce.boundary.EquilibriumOutletP at 0x7f07f17c0490>,\n <lettuce.boundary.FullwayBounceBackBoundary at 0x7f07f17c0940>]"
     },
     "execution_count": 23,
     "metadata": {},
     "output_type": "execute_result"
    }
   ],
   "source": [
    "flow.boundaries"
   ],
   "metadata": {
    "collapsed": false
   }
  },
  {
   "cell_type": "code",
   "execution_count": 23,
   "outputs": [],
   "source": [],
   "metadata": {
    "collapsed": false
   }
  }
 ],
 "metadata": {
  "kernelspec": {
   "display_name": "Python 3 (ipykernel)",
   "language": "python",
   "name": "python3"
  },
  "language_info": {
   "codemirror_mode": {
    "name": "ipython",
    "version": 3
   },
   "file_extension": ".py",
   "mimetype": "text/x-python",
   "name": "python",
   "nbconvert_exporter": "python",
   "pygments_lexer": "ipython3",
   "version": "3.10.6"
  },
  "varInspector": {
   "cols": {
    "lenName": 16,
    "lenType": 16,
    "lenVar": 40
   },
   "kernels_config": {
    "python": {
     "delete_cmd_postfix": "",
     "delete_cmd_prefix": "del ",
     "library": "var_list.py",
     "varRefreshCmd": "print(var_dic_list())"
    },
    "r": {
     "delete_cmd_postfix": ") ",
     "delete_cmd_prefix": "rm(",
     "library": "var_list.r",
     "varRefreshCmd": "cat(var_dic_list()) "
    }
   },
   "types_to_exclude": [
    "module",
    "function",
    "builtin_function_or_method",
    "instance",
    "_Feature"
   ],
   "window_display": false
  }
 },
 "nbformat": 4,
 "nbformat_minor": 5
}
