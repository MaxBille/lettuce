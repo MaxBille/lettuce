{
 "cells": [
  {
   "cell_type": "code",
   "execution_count": 1,
   "id": "initial_id",
   "metadata": {
    "collapsed": true,
    "ExecuteTime": {
     "end_time": "2024-05-10T15:03:41.285686041Z",
     "start_time": "2024-05-10T15:03:40.454927845Z"
    }
   },
   "outputs": [],
   "source": [
    "# import lettuce and modules\n",
    "import lettuce as lt\n",
    "# from lettuce.unit import UnitConversion\n",
    "\n",
    "# import math, plotting, time etc. basics\n",
    "import numpy as np\n",
    "import torch\n",
    "import time\n",
    "import datetime\n",
    "import matplotlib.pyplot as plt\n",
    "\n",
    "# import specific packages\n",
    "# from scipy.signal import find_peaks\n",
    "import os\n",
    "import psutil\n",
    "import shutil"
   ]
  },
  {
   "cell_type": "markdown",
   "source": [
    "# CLASSES & METHODS\n",
    "def classes and methods for prototyping"
   ],
   "metadata": {
    "collapsed": false
   },
   "id": "f739dd690b1ea8a1"
  },
  {
   "cell_type": "code",
   "outputs": [],
   "source": [
    "class EquilibriumExtrapolationOutlet(lt.AntiBounceBackOutlet):\n",
    "    \"\"\"Equilibrium outlet with extrapolated pressure and velocity from inside the domain\n",
    "    \"\"\"\n",
    "    def __init__(self, lattice, direction):\n",
    "        super(EquilibriumExtrapolationOutlet, self).__init__(lattice, direction)\n",
    "\n",
    "    def __call__(self, f):\n",
    "        here = [slice(None)] + self.index\n",
    "        other = [slice(None)] + self.neighbor\n",
    "        rho = self.lattice.rho(f)\n",
    "        u = self.lattice.u(f)\n",
    "        rho_w = rho[other]\n",
    "        u_w = u[other]\n",
    "        f[here] = self.lattice.equilibrium(rho_w[...,None], u_w[...,None])[...,0]\n",
    "        return f\n",
    "\n",
    "    def make_no_stream_mask(self, f_shape):\n",
    "        no_stream_mask = torch.zeros(size=f_shape, dtype=torch.bool, device=self.lattice.device)\n",
    "        no_stream_mask[[np.setdiff1d(np.arange(self.lattice.Q), self.velocities)] + self.index] = 1\n",
    "        return no_stream_mask\n",
    "\n",
    "    def make_no_collision_mask(self, grid_shape):\n",
    "        no_collision_mask = torch.zeros(size=grid_shape, dtype=torch.bool, device=self.lattice.device)\n",
    "        no_collision_mask[self.index] = 1\n",
    "        return no_collision_mask\n",
    "\n",
    "class ZeroGradientOutlet(object):\n",
    "\n",
    "    def __init__(self, lattice, direction):\n",
    "        # assert (isinstance(direction, list) and len(direction) in [1,2,3] and ((np.abs(sum(direction)) == 1) and (np.max(np.abs(direction)) == 1) and (1 in direction) ^ (-1 in direction))), \\\n",
    "        #     LettuceException(\"Wrong direction. Expected list of length 1, 2 or 3 with all entrys 0 except one 1 or -1, \"\n",
    "        #                         f\"but got {type(direction)} of size {len(direction)} and entrys {direction}.\")\n",
    "        self.direction = np.array(direction)\n",
    "        self.lattice = lattice\n",
    "\n",
    "        #select velocities to be replaced (the ones pointing against \"direction\")\n",
    "        self.velocities = np.concatenate(np.argwhere(np.matmul(self.lattice.stencil.e, self.direction) < -1 + 1e-6), axis=0)  # alles was ENTGEGEN direction zeigt. Also z.B. als Auslass in positive X-Richtung alles, was eine Komponente mit -1 in x-Richtung hat.\n",
    "\n",
    "        # build indices of u and f that determine the side of the domain\n",
    "        self.index = []\n",
    "        self.neighbor = []\n",
    "        for i in self.direction:\n",
    "            if i == 0:\n",
    "                self.index.append(slice(None))\n",
    "                self.neighbor.append(slice(None))\n",
    "            if i == 1:\n",
    "                self.index.append(-1)\n",
    "                self.neighbor.append(-2)\n",
    "            if i == -1:\n",
    "                self.index.append(0)\n",
    "                self.neighbor.append(1)\n",
    "\n",
    "    def __call__(self, f):\n",
    "        f[[self.velocities] + self.index] = f[[self.velocities] + self.neighbor]  # alles, was \"aus dem Auslass in Richtung Domäne zeigt\" wird vom Nachbar übernommen; Dies kann einen Feedbackloop erzeugen...\n",
    "        return f\n",
    "\n",
    "    def make_no_stream_mask(self, f_shape):\n",
    "        no_stream_mask = torch.zeros(size=f_shape, dtype=torch.bool, device=self.lattice.device)\n",
    "        no_stream_mask[[self.velocities] + self.index] = 1\n",
    "        return no_stream_mask\n",
    "\n",
    "\n",
    "class NonEquilibriumExtrapolationInletU(object):\n",
    "    \"\"\" Guo's boundary condition\n",
    "        https://www.researchgate.net/publication/230963379_Non-equilibrium_extrapolation_method_for_velocity_and_boundary_conditions_in_the_lattice_Boltzmann_method\n",
    "        and LBM book page 189\n",
    "        \"\"\"\n",
    "\n",
    "    def __init__(self, lattice, units, direction, u_w):\n",
    "        # assert (isinstance(direction, list) and len(direction) in [1,2,3] and ((np.abs(sum(direction)) == 1) and (np.max(np.abs(direction)) == 1) and (1 in direction) ^ (-1 in direction))), \\\n",
    "        #     LettuceException(\"Wrong direction. Expected list of length 1, 2 or 3 with all entrys 0 except one 1 or -1, \"\n",
    "        #                         f\"but got {type(direction)} of size {len(direction)} and entrys {direction}.\")\n",
    "        # print(\"start nonEQ_init\")\n",
    "        self.direction = np.array(direction)\n",
    "        self.lattice = lattice\n",
    "        self.u_w = units.convert_velocity_to_lu(self.lattice.convert_to_tensor(u_w))\n",
    "\n",
    "        # select velocities to be bounced (the ones pointing in \"direction\")\n",
    "        self.velocities_out = np.concatenate(np.argwhere(np.matmul(self.lattice.stencil.e, self.direction) > 1 - 1e-6), axis=0)  # alle, die einen Anteil in direction Richtung haben (nicht nur Betrag)\n",
    "        # select velocities to be replaced (the ones pointing against \"direction\")\n",
    "        self.velocities_in = np.concatenate(np.argwhere(np.matmul(self.lattice.stencil.e, self.direction) < -1 + 1e-6), axis=0)  # alle, die einen Anteil entgegen direction besitzen (nicht nur Betrag)\n",
    "\n",
    "        # build indices of u and f that determine the side of the domain\n",
    "        self.index = []\n",
    "        self.neighbor = []\n",
    "        for i in self.direction:\n",
    "            if i == 0:\n",
    "                self.index.append(slice(None))  # für diese Dimension \"alles\" ohne\n",
    "                self.neighbor.append(slice(None))\n",
    "            if i == 1:\n",
    "                self.index.append(-1)  # für diese Dimension \"letzter\"\n",
    "                self.neighbor.append(-2)  # für diese Dimension \"vorletzter\"\n",
    "            if i == -1:\n",
    "                self.index.append(0)  # für diese Dimension \"erster\"\n",
    "                self.neighbor.append(1)  # für diese Dimension \"zweiter\"\n",
    "        self.rho_old = 1.0\n",
    "        if len(self.u_w.shape) > self.lattice.D:\n",
    "            self.u_w = self.u_w[tuple([slice(None)] + self.index)]\n",
    "        # print(\"u_w.shape in init NEQExtrapolInletU:\", self.u_w.shape)\n",
    "\n",
    "    def __call__(self, f):\n",
    "        Tc = 100\n",
    "        here = [slice(None)] + self.index  # q Platzhalter und Koordinaten der RB-Knoten\n",
    "        other = [slice(None)] + self.neighbor  # q Platzhalter und Koordinaten der RB-Nachbarn\n",
    "        # print(\"other in NEQEIU.call(): \", other)\n",
    "        # print(\"here in NEQEIU.call(): \", here)\n",
    "        # print(\"index in NEQEIU.call(): \", self.index)\n",
    "        # print(\"f.shape:\", f.shape, \"f[others].shape:\", f[other].shape)\n",
    "\n",
    "        ## rho = self.lattice.convert_to_tensor(self.lattice.rho(f[other]))\n",
    "        rho = self.lattice.convert_to_tensor(torch.sum(f[other], dim=0)[None,...])  # berechne für alle Nachbarn die Dichte\n",
    "        ## u = self.lattice.convert_to_tensor(self.lattice.u(f[other]))  # gibt nur die erste Ebene Knoten aus mit f[other]\n",
    "        u = self.lattice.convert_to_tensor(torch.einsum(\"qd,q...->d...\", self.lattice.e, f[other]) / rho)  # Geschwindigkeit auf den Nachbarknoten\n",
    "        \n",
    "        if self.u_w.shape == u.shape:\n",
    "            u_w = self.u_w\n",
    "        else:\n",
    "            list = []\n",
    "            for _ in u.shape: list += [1]  # pro Dimension in u_w eine 1er Liste anhängen\n",
    "            # print(\"len(self.u_w):\", len(self.u_w))\n",
    "            list[0] = len(self.u_w)  # erstes Listen-Objekt wird durch die Dimensionszahl von u_w ersetzt \n",
    "            # print(\"self.u_w.view(list):\", self.u_w.view(list))\n",
    "            u_w = self.u_w.view(list).expand_as(u)\n",
    "            # print(\"list:\", list)\n",
    "            # print(\"u_w.shape:\", self.u_w.shape)\n",
    "            # u_w = self.u_w.view(list)\n",
    "            # print(\"u_w.shape:\", self.u_w.shape)\n",
    "            # [3, 80, 60] -> [3, 120, 80, 60]\n",
    "        \n",
    "        rho_self = (1 / (1 - u_w[np.argwhere(self.direction != 0).item()] \n",
    "                         * self.lattice.e[self.velocities_in[0], np.argwhere(self.direction != 0).item()]) \n",
    "                    * (torch.sum(f[[np.setdiff1d(np.arange(self.lattice.Q), [self.velocities_in, self.velocities_out])] \n",
    "                                   + self.index] + 2 * f[[self.velocities_out] + self.index], dim=0)))\n",
    "        # density filtering as proposed by https://www.researchgate.net/publication/257389374_Computational_Gas_Dynamics_with_the_Lattice_Boltzmann_Method_Preconditioning_and_Boundary_Conditions\n",
    "        rho_w = (rho_self + Tc * self.rho_old) / (1+Tc)\n",
    "        self.rho_old = rho_w\n",
    "        # print(\"rho_w.shape:\", rho_w.shape)\n",
    "        # print(\"u_w.shape:\", u_w.shape)\n",
    "        # print(\"f[other].shape:\", f[other].shape)\n",
    "        # print(\"rho.shape\", rho.shape)\n",
    "        # print(\"rho_self.shape:\", rho_self.shape)\n",
    "        # print(\"u.shape\", u.shape)\n",
    "        ## f[here] = self.lattice.equilibrium(rho_w, u_w) + (f[other] - self.lattice.equilibrium(rho, u))  ## EQLM ist anders mit torch.einsum bzw. lattice.einsum definiert... bruh\n",
    "        f[here] = (torch.einsum(\"q,q...->q...\",self.lattice.w, (rho * ((2 * torch.tensordot(self.lattice.e, u, dims=1) - torch.einsum(\"d...,d...->...\", u, u)) / (2 * self.lattice.cs ** 2) + 0.5 * (torch.tensordot(self.lattice.e, u, dims=1) / (self.lattice.cs ** 2)) ** 2 + 1))) \n",
    "                   + (f[other] - torch.einsum(\"q,q...->q...\", self.lattice.w, (rho * ((2 * torch.tensordot(self.lattice.e, u, dims=1) - torch.einsum(\"d...,d...->...\", u, u)) / (2 * self.lattice.cs ** 2) + 0.5 * (torch.tensordot(self.lattice.e, u, dims=1) / (self.lattice.cs ** 2)) ** 2 + 1)))))\n",
    "        return f\n",
    "    \n",
    "    # nsm = 0\n",
    "    # \n",
    "    # if nsm == 0:\n",
    "    #     # FROM ABB_outlet in MK/CD/lettuce Branch\n",
    "    #     # equal to ABB_outlet aktuell\n",
    "    #     def make_no_stream_mask(self, f_shape):\n",
    "    #         no_stream_mask = torch.zeros(size=f_shape, dtype=torch.bool, device=self.lattice.device)\n",
    "    #         ##no_stream_mask[[np.array(self.lattice.stencil.opposite)[self.velocities]] + self.index] = 1 # \"velocities\" ist hier nicht definiert, nur vel_in und out\n",
    "    #         ## no_stream_mask[[np.array(self.lattice.stencil.opposite)[self.velocities_in]] + self.index] = 1  # läuft, zeigt Geschwindigkeitsverlauf, crasht bei ~42\n",
    "    #         ## no_stream_mask[[np.array(self.lattice.stencil.opposite)[self.velocities_out]] + self.index] = 1  # läuft, zeigt Geschwindigkeitsverlauf, crasht bei ~42\n",
    "    #         no_stream_mask[[self.velocities_in] + self.index] = 1  # sieht genauso aus... \n",
    "    #         ##no_stream_mask[[self.velocities_out] + self.index] = 1 # sieht auch gleich aus... but why... -> entsprechen quasi nsm2\n",
    "    #         ##no_stream_mask[:,0,:,:]=1 # alle Pop auf der ersten Ebene\n",
    "    #         print(no_stream_mask.shape)\n",
    "    #         print(no_stream_mask)\n",
    "    #         return no_stream_mask\n",
    "    # \n",
    "    # elif nsm == 1:\n",
    "    #     # FROM EQ_outletP und EQ_extrapol_outlet in MK/CD/lettuce Branch\n",
    "    #     # equal to EQ_outletP aktuell, \n",
    "    #     def make_no_stream_mask(self, f_shape):\n",
    "    #         no_stream_mask = torch.zeros(size=f_shape, dtype=torch.bool, device=self.lattice.device)\n",
    "    #         # no_stream_mask[[np.setdiff1d(np.arange(self.lattice.Q), self.velocities)] + self.index] = 1  # original\n",
    "    #         ## no_stream_mask[[np.setdiff1d(np.arange(self.lattice.Q), self.velocities_in)] + self.index] = 1  ##identisch?\n",
    "    #         no_stream_mask[[np.setdiff1d(np.arange(self.lattice.Q), self.velocities_out)] + self.index] = 1 \n",
    "    #         no_stream_mask2 = no_stream_mask[[np.setdiff1d(np.arange(self.lattice.Q), self.velocities_out)] + self.index] ^ no_stream_mask[[np.setdiff1d(np.arange(self.lattice.Q), self.velocities_in)] + self.index]\n",
    "    #         print(torch.where(no_stream_mask2))\n",
    "    #         return no_stream_mask\n",
    "    # \n",
    "    # elif nsm == 2:  # entspricht Versionen in nsm0\n",
    "    #     # FROM ZeroGradientOutlet, KineticBoudnaryOutlet, ConvectiveBoundaryOutlet in MK/CD/lettuce Branch\n",
    "    #     def make_no_stream_mask(self, f_shape):\n",
    "    #         no_stream_mask = torch.zeros(size=f_shape, dtype=torch.bool, device=self.lattice.device)\n",
    "    #         no_stream_mask[[self.velocities] + self.index] = 1\n",
    "    #         return no_stream_mask\n",
    "    # \n",
    "    # elif nsm == 3:\n",
    "    #     # FROM DirectionalBoundary in MK/CD/lettuce Branch\n",
    "    #     # also in NonEquiExtrapolInletU in MK/lettuceMPIU_new branch with questionmarks\n",
    "    #     def make_no_stream_mask(self, f_shape):\n",
    "    #         no_stream_mask = torch.zeros(size=f_shape, dtype=torch.bool, device=self.lattice.device)\n",
    "    #         no_stream_mask[[self.velocities_in] + self.index] = 1\n",
    "    #         return no_stream_mask\n",
    "    # \n",
    "    # elif nsm == 4:  # entspricht oben Varianten in nsm1\n",
    "    #     # TRY mit velocities_out anstelle _in -> funktioniert auch nicht\n",
    "    #     def make_no_stream_mask(self, f_shape):\n",
    "    #         no_stream_mask = torch.zeros(size=f_shape, dtype=torch.bool, device=self.lattice.device)\n",
    "    #         no_stream_mask[[self.velocities_out] + self.index] = 1\n",
    "    #         return no_stream_mask\n",
    "    # \n",
    "    # elif nsm == 5:   # aktuellstes, das ist noch zu testen.\n",
    "    #     # FROM SyntheticEddyInlet in MK/lettuceMPI_new branch\n",
    "    #     def make_no_stream_mask(self, f_shape):\n",
    "    #         no_stream_mask = torch.zeros(size=f_shape, dtype=torch.bool, device=self.lattice.device)\n",
    "    #         no_stream_mask[[np.concatenate(np.argwhere(np.matmul(self.lattice.stencil.e, [-1, 0, 0]) < -1 + 1e-6), axis=0)] + [0, ...]] = 1  # entspricht bis auf das letzte [0,...] quasi dem, was für die velocities_in für die NEEQInlet rauskommt...\n",
    "    #         return no_stream_mask\n",
    "\n",
    "    def make_no_collision_mask(self, f_shape):\n",
    "        no_collision_mask = torch.zeros(size=f_shape[1:], dtype=torch.bool, device=self.lattice.device)\n",
    "        no_collision_mask[self.index] = 1\n",
    "        return no_collision_mask"
   ],
   "metadata": {
    "collapsed": false,
    "ExecuteTime": {
     "end_time": "2024-05-10T15:03:41.327761019Z",
     "start_time": "2024-05-10T15:03:41.327003656Z"
    }
   },
   "id": "206d768ba7a2805f",
   "execution_count": 2
  },
  {
   "cell_type": "code",
   "outputs": [],
   "source": [
    "# houseFlow3D by M.Kliemank, from MA-Thesis-CD-ROM \"simulation_code.py\"\n",
    "class HouseFlow3D(object):\n",
    "\n",
    "    def __init__(self, resolution_x, resolution_y, resolution_z,\n",
    "                 reynolds_number, mach_number, lattice,\n",
    "                 char_length_lu, char_length_pu,\n",
    "                 char_velocity_pu, char_density_pu):\n",
    "        \"\"\"\n",
    "            Flow class to simulate the flow around an object (mask) in 3D.\n",
    "            Parameters:\n",
    "            resolution_x, resolution_y, resolution_z: domain resolutions, in LU\n",
    "            lattice: object of the class with the same name from lettuce\n",
    "            char_length_lu: length of the base of the house, in LU\n",
    "            char_length_pu: length of the base of the house, in PU\n",
    "            char_velocity_pu: characteristic velocity (inlet velocity), in PU\n",
    "            char_density_pu: characteristic density, in PU\n",
    "        \"\"\"\n",
    "        self.resolution_x = resolution_x\n",
    "        self.resolution_y = resolution_y\n",
    "        self.resolution_z = resolution_z\n",
    "        self.units = lt.UnitConversion(\n",
    "            lattice,\n",
    "            reynolds_number=reynolds_number,\n",
    "            mach_number=mach_number,\n",
    "            characteristic_length_lu=char_length_lu,\n",
    "            characteristic_length_pu=char_length_pu,\n",
    "            characteristic_velocity_pu=char_velocity_pu,\n",
    "            characteristic_density_pu=char_density_pu,\n",
    "            characteristic_density_lu=1\n",
    "        )\n",
    "        self._mask = np.zeros(shape=(self.resolution_x, self.resolution_y,\n",
    "                                     self.resolution_z), dtype=bool)\n",
    "\n",
    "        self.shape = (self.resolution_x, self.resolution_y, self.resolution_z)\n",
    "        # self.grid = lt.RegularGrid([resolution_x, resolution_y, resolution_z],\n",
    "        #                            self.units.characteristic_length_lu,\n",
    "        #                            self.units.characteristic_length_pu)\n",
    "\n",
    "    @property\n",
    "    def mask(self):\n",
    "        return self._mask\n",
    "\n",
    "    @mask.setter\n",
    "    def mask(self, m):\n",
    "        assert isinstance(m, np.ndarray) and m.shape == self.shape\n",
    "        self._mask = m.astype(bool)\n",
    "        \n",
    "    @property\n",
    "    def grid(self):\n",
    "        # THIS IS NOT USED AT THE MOMENT. QUESTION: SHOULD THIS BE ONE- OR ZERO-BASED? Indexing or \"node-number\"?\n",
    "        xyz = tuple(self.units.convert_length_to_pu(np.linspace(0, n*self.units.characteristic_length_pu/self.units.characteristic_length_lu, n, endpoint=False)) for n in self.shape)  # tuple of lists of x,y,(z)-values/indices\n",
    "        return np.meshgrid(*xyz, indexing='ij')  # meshgrid of x-, y- (und z-)values/indices\n",
    "\n",
    "    def initial_solution(self, x):\n",
    "        \"\"\"Returns the initial macroscopic values (u, rho) at each lattice node\n",
    "            Initialises speed using the velocity profile function and\n",
    "            pressure difference from reference pressure as 0\n",
    "\n",
    "            Inputs:\n",
    "            x: grid, in LU\n",
    "        \"\"\"\n",
    "        p = np.zeros_like(x[0], dtype=float)[None, ...]\n",
    "        u = np.zeros((len(x),) + x[0].shape)\n",
    "        u[0] = self.wind_speed_profile(np.where(self.mask, 0, x[2]),\n",
    "                                       self.units.characteristic_velocity_pu, 0.25)\n",
    "        return p, u\n",
    "\n",
    "    @property\n",
    "    def boundaries(self):\n",
    "        \"\"\"Returns the objects of each boundary class for use by the Simulation class\n",
    "        \"\"\"\n",
    "        x, y, z = self.grid\n",
    "        p, u = self.initial_solution(self.grid)\n",
    "        print(\"p.shape, beginning of houes.boudnaries:\", p.shape)\n",
    "        print(\"u.shape, beginning of houes.boudnaries:\", u.shape)\n",
    "        \n",
    "        print(\"p[0,0, 0, :].shape, beginning of houes.boudnaries:\", p[0,0, 0, :].shape)\n",
    "        print(\"u[:,0, 0, :].shape, beginning of houes.boudnaries:\", u[:,0, 0, :].shape)\n",
    "        # in_mask = np.zeros(self.grid[0].shape, dtype=bool)\n",
    "        # in_mask[0,:]=True\n",
    "        \n",
    "        return [\n",
    "            lt.BounceBackBoundary(self.mask | (z < 1e-6), self.units.lattice), # quasi gleich\n",
    "            ZeroGradientOutlet(self.units.lattice, [0, 0, 1]),\n",
    "            lt.EquilibriumOutletP(self.units.lattice, [1, 0, 0]),\n",
    " #           NonEquilibriumExtrapolationInletU(self.units.lattice, self.units, [-1, 0, 0], np.array(u))  # original aus der Arbeit\n",
    "            # lt.EquilibriumBoundaryPU(np.abs(x) < 1e-6, self.units.lattice, self.units, u[:, 0, ...], p[0, 0, ...])  # EQ aus house3D_final_new2_noverhang.py\n",
    "            lt.EquilibriumBoundaryPU(np.abs(x) < 1e-6, self.units.lattice, self.units, u[:,0, np.newaxis, ...], p[0,0, :, :])  # so funktioniert EQ aus house3D_final_new2_noverhang.py\n",
    "        ]\n",
    "\n",
    "    def house(self, o, eg_x_length, eg_y_length,\n",
    "              roof_height, roof_overhang=0, angle=35):\n",
    "        \"\"\"Outputs mask for flow: house with square base\n",
    "            and gable-roof parallel to y direction and overhang\n",
    "\n",
    "            Inputs:\n",
    "            eg_x_length: length of the house base in x-direction, in LU\n",
    "            eg_y_length: length of the house base in y-direction, in LU\n",
    "            roof_height: height of the top of the roof, in LU\n",
    "\n",
    "        \"\"\"\n",
    "        angle = angle * np.pi / 180\n",
    "        eg_height = int(round(roof_height - (eg_x_length / 2 + roof_overhang)\n",
    "                              * np.tan(angle)))\n",
    "        self.roof_height = roof_height\n",
    "        inside_mask = np.zeros_like(self.grid[0], dtype=bool)\n",
    "        inside_mask[int(o[0] - eg_x_length / 2):int(o[0] + eg_x_length / 2),\n",
    "        int(o[1] - eg_y_length / 2):int(o[1] + eg_y_length / 2),\n",
    "        :eg_height] = True\n",
    "        inside_mask[int(o[0] - eg_x_length / 2 - roof_overhang):\n",
    "                    int(o[0] + eg_x_length / 2 + roof_overhang),\n",
    "        int(o[1] - eg_y_length / 2):\n",
    "        int(o[1] + eg_y_length / 2), eg_height] = True\n",
    "        inside_mask[int(o[0] - eg_x_length / 2 - roof_overhang):\n",
    "                    int(o[0] + eg_x_length / 2 + roof_overhang),\n",
    "        int(o[1] - eg_y_length / 2):\n",
    "        int(o[1] + eg_y_length / 2), eg_height + 1:] = \\\n",
    "            np.where(self.units.convert_length_to_lu(\n",
    "                self.grid[2][int(o[0] - eg_x_length / 2 - roof_overhang):\n",
    "                               int(o[0] + eg_x_length / 2 + roof_overhang),\n",
    "                int(o[1] - eg_y_length / 2):\n",
    "                int(o[1] + eg_y_length / 2), eg_height + 1:]) <\n",
    "                     o[2] + roof_height + 0.5 - np.tan(angle) *\n",
    "                     np.abs(self.units.convert_length_to_lu(\n",
    "                         self.grid[0][\n",
    "                         int(o[0] - eg_x_length / 2 - roof_overhang):\n",
    "                         int(o[0] + eg_x_length / 2 + roof_overhang),\n",
    "                         int(o[1] - eg_y_length / 2):\n",
    "                         int(o[1] + eg_y_length / 2),\n",
    "                         eg_height + 1:]) - o[0]),\n",
    "                     True,\n",
    "                     inside_mask[int(o[0] - eg_x_length / 2 - roof_overhang):\n",
    "                                 int(o[0] + eg_x_length / 2 + roof_overhang),\n",
    "                     int(o[1] - eg_y_length / 2):\n",
    "                     int(o[1] + eg_y_length / 2), eg_height + 1:])\n",
    "        return inside_mask\n",
    "\n",
    "    def wind_speed_profile(self, z, u_0, alpha=0.25):\n",
    "        \"\"\"Returns the objects of each boundary class for use by the Simulation class\n",
    "\n",
    "            Inputs:\n",
    "            z: height value or array of height values, in PU\n",
    "            u_0: characteristic velocity, applies at roof_height, in PU\n",
    "            alpha: profile shape exponent\n",
    "        \"\"\"\n",
    "        return u_0 * (z / self.roof_height) ** alpha"
   ],
   "metadata": {
    "collapsed": false,
    "ExecuteTime": {
     "end_time": "2024-05-10T15:03:41.329432992Z",
     "start_time": "2024-05-10T15:03:41.327293809Z"
    }
   },
   "id": "3eb17c3dadfd41ad",
   "execution_count": 3
  },
  {
   "cell_type": "markdown",
   "source": [
    "# INPUT/OUTPUT SETTINGS"
   ],
   "metadata": {
    "collapsed": false
   },
   "id": "eae0c9a55b9dae5d"
  },
  {
   "cell_type": "code",
   "outputs": [],
   "source": [
    "sim_parameters=dict()\n",
    "\n",
    "location = 'hbrs'  # location: 'hbrs', 'beuel'\n",
    "sim_parameters[\"name\"] = \"test_MK_Thesis_code_v01_EQin_Re20000\"\n",
    "\n",
    "sim_parameters[\"output_data\"] = True\n",
    "sim_parameters[\"output_vtk\"] = True\n",
    "sim_parameters[\"vtk_fps\"] = 10\n",
    "\n",
    "if location == 'hbrs':\n",
    "    sim_parameters[\"output_path\"] = \"/mnt/ScratchHDD1/Max_Scratch/lbm_simulations\"  # lokal HBRS\n",
    "    sim_parameters[\"output_path_vtk\"] = sim_parameters[\"output_path\"]\n",
    "    sim_parameters[\"diIlio_path\"] = '/home/mbille/lettuce/myTest/DiIlio_data/'  # lokal HBRS\n",
    "if location == 'beuel':\n",
    "    sim_parameters[\"output_path\"] = \"/home/max/Documents/lbm_simulations\"  # lokal Bonn\n",
    "    sim_parameters[\"output_path_vtk\"] = sim_parameters[\"output_path\"]\n",
    "    sim_parameters[\"diIlio_path\"] = \"/home/max/lettuce/myTest/DiIlio_data/\" # lokal Bonn\n",
    "\n"
   ],
   "metadata": {
    "collapsed": false,
    "ExecuteTime": {
     "end_time": "2024-05-10T15:03:41.330112317Z",
     "start_time": "2024-05-10T15:03:41.327412357Z"
    }
   },
   "id": "2927437c8e1101d5",
   "execution_count": 4
  },
  {
   "cell_type": "markdown",
   "source": [
    "# SIMULATION PARAMETERS"
   ],
   "metadata": {
    "collapsed": false
   },
   "id": "11865087edd2dab8"
  },
  {
   "cell_type": "code",
   "outputs": [],
   "source": [
    "sim_parameters[\"house_length_lu\"] = 10 # RESOLUTION / char_length_lu 60\n",
    "#sim_parameters[\"house_length_lu\"] = 1 # RESOLUTION / char_length_lu 60\n",
    "sim_parameters[\"house_length_pu\"] = 10 # char_length_pu\n",
    "\n",
    "sim_parameters[\"re\"] = 20000  # 20000\n",
    "sim_parameters[\"ma\"] = 0.05\n",
    "sim_parameters[\"viscosity_pu\"] = 14.852989758837 * 10**(-6)\n",
    "sim_parameters[\"char_velocity_pu\"] = sim_parameters[\"re\"] * sim_parameters[\"viscosity_pu\"] / sim_parameters[\"house_length_pu\"] # hatte hier \"house_length_pu\" bis zu 8.5.24 (!), sollte aber nach house3D_final_new2_noverhang.py pu sein...\n",
    "\n",
    "sim_parameters[\"roof_angle\"] = 15\n",
    "\n",
    "\n",
    "sim_parameters[\"n_start\"] = 0\n",
    "sim_parameters[\"n_stop_target\"] = 50000\n",
    "sim_parameters[\"t_start\"] = 0\n",
    "sim_parameters[\"t_stop_target\"] = 0\n",
    "\n",
    "sim_parameters[\"device\"] = \"cuda\"  # cuda, cpu\n",
    "sim_parameters[\"dtype\"] = \"single\" # single, double, half?\n",
    "\n",
    "\n",
    "\n"
   ],
   "metadata": {
    "collapsed": false,
    "ExecuteTime": {
     "end_time": "2024-05-10T15:03:41.342031453Z",
     "start_time": "2024-05-10T15:03:41.328784496Z"
    }
   },
   "id": "c59845a4cdc1f2d6",
   "execution_count": 5
  },
  {
   "cell_type": "markdown",
   "source": [
    "# TIMESTAMP & NAME"
   ],
   "metadata": {
    "collapsed": false
   },
   "id": "4c7e6dfa4a4a209f"
  },
  {
   "cell_type": "code",
   "outputs": [],
   "source": [
    "if sim_parameters[\"output_data\"]:\n",
    "    timestamp = datetime.datetime.now().strftime(\"%y%m%d_%H%M%S\")\n",
    "    sim_parameters[\"ID\"] = str(timestamp) + \"_\" + sim_parameters[\"name\"]\n",
    "    os.makedirs(sim_parameters[\"output_path\"]+\"/\"+sim_parameters[\"ID\"])\n",
    "    if sim_parameters[\"output_vtk\"] and not os.path.exists(sim_parameters[\"output_path_vtk\"]+\"/\"+sim_parameters[\"ID\"]):\n",
    "        os.makedirs(sim_parameters[\"output_path_vtk\"]+\"/\"+sim_parameters[\"ID\"])"
   ],
   "metadata": {
    "collapsed": false,
    "ExecuteTime": {
     "end_time": "2024-05-10T15:03:41.371079829Z",
     "start_time": "2024-05-10T15:03:41.341155522Z"
    }
   },
   "id": "669253413e0f1fd8",
   "execution_count": 6
  },
  {
   "cell_type": "markdown",
   "source": [
    "# SIMULATOR SETUP"
   ],
   "metadata": {
    "collapsed": false
   },
   "id": "694924231b8ffa88"
  },
  {
   "cell_type": "code",
   "outputs": [
    {
     "name": "stdout",
     "output_type": "stream",
     "text": [
      "p.shape, beginning of houes.boudnaries: (1, 120, 80, 60)\n",
      "u.shape, beginning of houes.boudnaries: (3, 120, 80, 60)\n",
      "p[0,0, 0, :].shape, beginning of houes.boudnaries: (60,)\n",
      "u[:,0, 0, :].shape, beginning of houes.boudnaries: (3, 60)\n"
     ]
    }
   ],
   "source": [
    "### SIMULATOR SETUP\n",
    "# create objects, link/assemble\n",
    "\n",
    "lattice = lt.Lattice(lt.D3Q27, device=torch.device(\"cuda\"), dtype=torch.float32)\n",
    "#lattice.equilibrium = lt.QuadraticEquilibrium_LessMemory(lattice)\n",
    "# original MK: 360x240x180\n",
    "flow = HouseFlow3D(120, 80, 60, sim_parameters[\"re\"], mach_number=sim_parameters[\"ma\"], lattice=lattice,\n",
    "#flow = HouseFlow3D(4, 3, 2, sim_parameters[\"re\"], mach_number=sim_parameters[\"ma\"], lattice=lattice,\n",
    "                   char_length_lu=sim_parameters[\"house_length_lu\"], char_length_pu=sim_parameters[\"house_length_pu\"],\n",
    "                   char_density_pu=1.2250, char_velocity_pu=sim_parameters[\"char_velocity_pu\"])\n",
    "\n",
    "# generate house mask and set it as mask of flow\n",
    "# original MK: 120, 120, 0\n",
    "flow.mask = flow.house([40,  40, 0], \n",
    "                       eg_x_length=sim_parameters[\"house_length_lu\"],\n",
    "                       eg_y_length=sim_parameters[\"house_length_lu\"],\n",
    "                       roof_height=sim_parameters[\"house_length_lu\"]*1.25,\n",
    "                       # roof_overhang=6, \n",
    "                       angle=sim_parameters[\"roof_angle\"])\n",
    "\n",
    "collision = lt.KBCCollision3D(lattice, tau=flow.units.relaxation_parameter_lu)\n",
    "streaming = lt.StandardStreaming(lattice)\n",
    "simulation = lt.Simulation(flow, lattice, collision, streaming)"
   ],
   "metadata": {
    "collapsed": false,
    "ExecuteTime": {
     "end_time": "2024-05-10T15:03:41.896511560Z",
     "start_time": "2024-05-10T15:03:41.354144844Z"
    }
   },
   "id": "f3e7967a88eb9d34",
   "execution_count": 7
  },
  {
   "cell_type": "markdown",
   "source": [
    "## CHECKOUT Initialization"
   ],
   "metadata": {
    "collapsed": false
   },
   "id": "f3efa205a5a87630"
  },
  {
   "cell_type": "code",
   "outputs": [],
   "source": [
    "# print(\"EQB.mask\", simulation._boundaries[-1].mask.shape)\n",
    "# print(\"EQB.mask\", torch.any(simulation._boundaries[-1].mask))\n",
    "# print(\"EQB.velocity.shape\", simulation._boundaries[-1].velocity.shape)\n",
    "# print(\"EQB.pressure.shape\", simulation._boundaries[-1].pressure.shape)\n",
    "# #plt.imshow(lattice.convert_to_numpy(simulation._boundaries[-1].velocity)[2,:,:], origin=\"lower\")\n",
    "# \n",
    "# (nx, ny, nz) = flow.shape\n",
    "# parabola_y = np.zeros((1, ny))\n",
    "# y_coordinates = np.linspace(0, ny,ny)  # linspace() creates n points between 0 and ny, including 0 and ny:\n",
    "# # top and bottom velocity values will be zero to agree with wall-boundary-condition\n",
    "# parabola_y[:, 1:-1] = - 1.5 * np.array(5).max() * y_coordinates[1:-1] * (\n",
    "#             y_coordinates[1:-1] - ny) * 1 / (ny / 2) ** 2  # parabolic velocity profile\n",
    "# # scale with 1.5 to achieve a mean velocity of u_char! -> DIFFERENT FROM cylinder2D and cylinder3D (!)\n",
    "# if flow.units.lattice.D == 2:\n",
    "#     # in 2D u1 needs Dimension 1 x ny (!)\n",
    "#     velocity_y = np.zeros_like(parabola_y)  # y-velocities = 0\n",
    "#     u_inlet = np.stack([parabola_y, velocity_y], axis=0)  # stack/pack u-field\n",
    "# elif flow.units.lattice.D == 3:\n",
    "#     ones_z = np.ones(nz)\n",
    "#     parabola_yz = parabola_y[:, :, np.newaxis] * ones_z\n",
    "#     parabola_yz_zeros = np.zeros_like(parabola_yz)\n",
    "#     # create u_xyz inlet yz-plane:\n",
    "#     u_inlet = np.stack([parabola_yz, parabola_yz_zeros, parabola_yz_zeros], axis=0)  # stack/pack u-field\n",
    "# \n",
    "# print(u_inlet.shape)"
   ],
   "metadata": {
    "collapsed": false,
    "ExecuteTime": {
     "end_time": "2024-05-10T15:03:41.902309272Z",
     "start_time": "2024-05-10T15:03:41.897585456Z"
    }
   },
   "id": "11cef0c6a48c4d48",
   "execution_count": 8
  },
  {
   "cell_type": "code",
   "outputs": [],
   "source": [
    "### REPORTER SETUP\n",
    "# create and append reporters\n",
    "vtk_reporter = lt.VTKReporter(lattice, flow,\n",
    "                              interval=50,\n",
    "                             # interval=int(flow.units.convert_time_to_lu(1/sim_parameters[\"vtk_fps\"])), \n",
    "                              filename_base=sim_parameters[\"output_path_vtk\"]+\"/\"+sim_parameters[\"ID\"] +\"/vtk/out\")\n",
    "simulation.reporters.append(vtk_reporter)\n",
    "# TODO: obstacle point und cell Maske ausgeben für VTK output\n",
    "# MK hat da auch den \"ouput_mask\" zum vtk_reporter hinzugefügt und kann das nach der Initialisierung aufrufen"
   ],
   "metadata": {
    "collapsed": false,
    "ExecuteTime": {
     "end_time": "2024-05-10T15:03:41.908680840Z",
     "start_time": "2024-05-10T15:03:41.899166541Z"
    }
   },
   "id": "9e8a99d7b19fad35",
   "execution_count": 9
  },
  {
   "cell_type": "markdown",
   "source": [
    "# SIMULATION"
   ],
   "metadata": {
    "collapsed": false
   },
   "id": "5e8a0963ddd32183"
  },
  {
   "cell_type": "code",
   "outputs": [
    {
     "ename": "KeyboardInterrupt",
     "evalue": "",
     "output_type": "error",
     "traceback": [
      "\u001B[0;31m---------------------------------------------------------------------------\u001B[0m",
      "\u001B[0;31mKeyboardInterrupt\u001B[0m                         Traceback (most recent call last)",
      "Input \u001B[0;32mIn [10]\u001B[0m, in \u001B[0;36m<cell line: 4>\u001B[0;34m()\u001B[0m\n\u001B[1;32m      1\u001B[0m n_steps \u001B[38;5;241m=\u001B[39m sim_parameters[\u001B[38;5;124m\"\u001B[39m\u001B[38;5;124mn_stop_target\u001B[39m\u001B[38;5;124m\"\u001B[39m] \u001B[38;5;241m-\u001B[39m sim_parameters[\u001B[38;5;124m\"\u001B[39m\u001B[38;5;124mn_start\u001B[39m\u001B[38;5;124m\"\u001B[39m]\n\u001B[1;32m      2\u001B[0m t_start \u001B[38;5;241m=\u001B[39m time\u001B[38;5;241m.\u001B[39mtime()\n\u001B[0;32m----> 4\u001B[0m mlups \u001B[38;5;241m=\u001B[39m \u001B[43msimulation\u001B[49m\u001B[38;5;241;43m.\u001B[39;49m\u001B[43mstep\u001B[49m\u001B[43m(\u001B[49m\u001B[43mn_steps\u001B[49m\u001B[43m)\u001B[49m\n\u001B[1;32m      6\u001B[0m t_end \u001B[38;5;241m=\u001B[39m time\u001B[38;5;241m.\u001B[39mtime()\n\u001B[1;32m      7\u001B[0m runtime \u001B[38;5;241m=\u001B[39m t_end\u001B[38;5;241m-\u001B[39mt_start\n",
      "File \u001B[0;32m~/lettuce/lettuce/simulation.py:139\u001B[0m, in \u001B[0;36mSimulation.step\u001B[0;34m(self, num_steps)\u001B[0m\n\u001B[1;32m    136\u001B[0m \u001B[38;5;66;03m### BOUNDARY\u001B[39;00m\n\u001B[1;32m    137\u001B[0m \u001B[38;5;66;03m# apply boundary conditions\u001B[39;00m\n\u001B[1;32m    138\u001B[0m \u001B[38;5;28;01mfor\u001B[39;00m boundary \u001B[38;5;129;01min\u001B[39;00m \u001B[38;5;28mself\u001B[39m\u001B[38;5;241m.\u001B[39m_boundaries:\n\u001B[0;32m--> 139\u001B[0m     \u001B[38;5;28mself\u001B[39m\u001B[38;5;241m.\u001B[39mf \u001B[38;5;241m=\u001B[39m \u001B[43mboundary\u001B[49m\u001B[43m(\u001B[49m\u001B[38;5;28;43mself\u001B[39;49m\u001B[38;5;241;43m.\u001B[39;49m\u001B[43mf\u001B[49m\u001B[43m)\u001B[49m\n\u001B[1;32m    141\u001B[0m \u001B[38;5;66;03m# count step\u001B[39;00m\n\u001B[1;32m    142\u001B[0m \u001B[38;5;28mself\u001B[39m\u001B[38;5;241m.\u001B[39mi \u001B[38;5;241m+\u001B[39m\u001B[38;5;241m=\u001B[39m \u001B[38;5;241m1\u001B[39m\n",
      "File \u001B[0;32m~/lettuce/lettuce/boundary.py:916\u001B[0m, in \u001B[0;36mBounceBackBoundary.__call__\u001B[0;34m(self, f)\u001B[0m\n\u001B[1;32m    915\u001B[0m \u001B[38;5;28;01mdef\u001B[39;00m \u001B[38;5;21m__call__\u001B[39m(\u001B[38;5;28mself\u001B[39m, f):\n\u001B[0;32m--> 916\u001B[0m     f \u001B[38;5;241m=\u001B[39m \u001B[43mtorch\u001B[49m\u001B[38;5;241;43m.\u001B[39;49m\u001B[43mwhere\u001B[49m\u001B[43m(\u001B[49m\u001B[38;5;28;43mself\u001B[39;49m\u001B[38;5;241;43m.\u001B[39;49m\u001B[43mmask\u001B[49m\u001B[43m,\u001B[49m\u001B[43m \u001B[49m\u001B[43mf\u001B[49m\u001B[43m[\u001B[49m\u001B[38;5;28;43mself\u001B[39;49m\u001B[38;5;241;43m.\u001B[39;49m\u001B[43mlattice\u001B[49m\u001B[38;5;241;43m.\u001B[39;49m\u001B[43mstencil\u001B[49m\u001B[38;5;241;43m.\u001B[39;49m\u001B[43mopposite\u001B[49m\u001B[43m]\u001B[49m\u001B[43m,\u001B[49m\u001B[43m \u001B[49m\u001B[43mf\u001B[49m\u001B[43m)\u001B[49m\n\u001B[1;32m    917\u001B[0m     \u001B[38;5;28;01mreturn\u001B[39;00m f\n",
      "\u001B[0;31mKeyboardInterrupt\u001B[0m: "
     ]
    }
   ],
   "source": [
    "n_steps = sim_parameters[\"n_stop_target\"] - sim_parameters[\"n_start\"]\n",
    "t_start = time.time()\n",
    "\n",
    "mlups = simulation.step(n_steps)\n",
    "\n",
    "t_end = time.time()\n",
    "runtime = t_end-t_start\n",
    "\n",
    "print(\"MLUPS:\", mlups)\n",
    "print(\"PU-Time: \",flow.units.convert_time_to_pu(n_steps),\" seconds\")\n",
    "print(\"number of steps:\",n_steps)\n",
    "print(\"runtime: \",runtime, \"seconds (\", round(runtime/60,2),\"minutes )\")\n",
    "\n",
    "print(\"current GPU VRAM (MB): \", torch.cuda.memory_allocated(device=\"cuda:0\")/1024/1024)\n",
    "print(\"max. GPU VRAM (MB): \", torch.cuda.max_memory_allocated(device=\"cuda:0\")/1024/1024)\n",
    "\n",
    "[cpuLoad1,cpuLoad5,cpuLoad15] = [x / psutil.cpu_count() * 100 for x in psutil.getloadavg()]\n",
    "print(\"CPU % avg. over last 1 min, 5 min, 15 min; \", round(cpuLoad1,2), round(cpuLoad5,2), round(cpuLoad15,2))\n",
    "\n",
    "ram = psutil.virtual_memory()\n",
    "print(\"current total RAM usage [MB]: \" + str(round(ram.used/(1024*1024),2)) + \" of \" + str(round(ram.total/(1024*1024),2)) + \" MB\")"
   ],
   "metadata": {
    "collapsed": false,
    "ExecuteTime": {
     "end_time": "2024-05-10T15:07:55.209847689Z",
     "start_time": "2024-05-10T15:03:41.909309736Z"
    }
   },
   "id": "c52a9fe0ddfa9929",
   "execution_count": 10
  },
  {
   "cell_type": "code",
   "outputs": [],
   "source": [
    "lattice.stencil.e\n"
   ],
   "metadata": {
    "collapsed": false,
    "ExecuteTime": {
     "end_time": "2024-05-10T15:07:55.213741728Z",
     "start_time": "2024-05-10T15:07:55.210736503Z"
    }
   },
   "id": "d12561f2bbbf216e",
   "execution_count": null
  },
  {
   "cell_type": "code",
   "outputs": [],
   "source": [
    "lattice.stencil.opposite   "
   ],
   "metadata": {
    "collapsed": false,
    "ExecuteTime": {
     "start_time": "2024-05-10T15:07:55.211879742Z"
    }
   },
   "id": "ec0f0127e31ec78",
   "execution_count": null
  },
  {
   "cell_type": "code",
   "outputs": [],
   "source": [
    "flow.boundaries[-1].index"
   ],
   "metadata": {
    "collapsed": false,
    "ExecuteTime": {
     "start_time": "2024-05-10T15:07:55.212711327Z"
    }
   },
   "id": "a0bcc01152f8a1e5",
   "execution_count": null
  },
  {
   "cell_type": "code",
   "outputs": [],
   "source": [
    "flow.boundaries[-1].velocities_out"
   ],
   "metadata": {
    "collapsed": false,
    "ExecuteTime": {
     "end_time": "2024-05-10T15:07:55.215439137Z",
     "start_time": "2024-05-10T15:07:55.213754498Z"
    }
   },
   "id": "a536e4c542e448f",
   "execution_count": null
  },
  {
   "cell_type": "code",
   "outputs": [],
   "source": [
    "torch.where(flow.boundaries [-1].make_no_stream_mask(simulation.f.shape))"
   ],
   "metadata": {
    "collapsed": false,
    "ExecuteTime": {
     "start_time": "2024-05-10T15:07:55.254947060Z"
    }
   },
   "id": "6a0fdf4bb43ba662",
   "execution_count": null
  },
  {
   "cell_type": "code",
   "outputs": [],
   "source": [
    "simulation.streaming.no_stream_mask\n"
   ],
   "metadata": {
    "collapsed": false,
    "ExecuteTime": {
     "start_time": "2024-05-10T15:07:55.255014959Z"
    }
   },
   "id": "d6bf9c3190671298",
   "execution_count": null
  },
  {
   "cell_type": "code",
   "outputs": [],
   "source": [],
   "metadata": {
    "collapsed": false,
    "ExecuteTime": {
     "start_time": "2024-05-10T15:07:55.255052318Z"
    }
   },
   "id": "9283bb634af48aa0",
   "execution_count": null
  }
 ],
 "metadata": {
  "kernelspec": {
   "display_name": "Python 3",
   "language": "python",
   "name": "python3"
  },
  "language_info": {
   "codemirror_mode": {
    "name": "ipython",
    "version": 2
   },
   "file_extension": ".py",
   "mimetype": "text/x-python",
   "name": "python",
   "nbconvert_exporter": "python",
   "pygments_lexer": "ipython2",
   "version": "2.7.6"
  }
 },
 "nbformat": 4,
 "nbformat_minor": 5
}
