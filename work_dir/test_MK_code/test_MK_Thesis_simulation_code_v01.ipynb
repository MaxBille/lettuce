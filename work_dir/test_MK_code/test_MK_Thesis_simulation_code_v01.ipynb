{
 "cells": [
  {
   "cell_type": "code",
   "execution_count": 1,
   "id": "initial_id",
   "metadata": {
    "collapsed": true,
    "ExecuteTime": {
     "end_time": "2024-07-19T11:52:11.483055319Z",
     "start_time": "2024-07-19T11:52:10.339491871Z"
    }
   },
   "outputs": [],
   "source": [
    "# import lettuce and modules\n",
    "import lettuce as lt\n",
    "# from lettuce.unit import UnitConversion\n",
    "\n",
    "from lettuce import (LettuceException, torch_gradient)\n",
    "\n",
    "# import math, plotting, time etc. basics\n",
    "import numpy as np\n",
    "import torch\n",
    "import time\n",
    "import datetime\n",
    "import matplotlib.pyplot as plt\n",
    "\n",
    "# import specific packages\n",
    "# from scipy.signal import find_peaks\n",
    "import os\n",
    "import psutil\n",
    "import shutil"
   ]
  },
  {
   "cell_type": "markdown",
   "source": [
    "# CLASSES & METHODS\n",
    "def classes and methods for prototyping"
   ],
   "metadata": {
    "collapsed": false
   },
   "id": "f739dd690b1ea8a1"
  },
  {
   "cell_type": "code",
   "outputs": [],
   "source": [
    "class EquilibriumExtrapolationOutlet(lt.AntiBounceBackOutlet):\n",
    "    \"\"\"Equilibrium outlet with extrapolated pressure and velocity from inside the domain\n",
    "    \"\"\"\n",
    "    def __init__(self, lattice, direction):\n",
    "        super(EquilibriumExtrapolationOutlet, self).__init__(lattice, direction)\n",
    "\n",
    "    def __call__(self, f):\n",
    "        here = [slice(None)] + self.index\n",
    "        other = [slice(None)] + self.neighbor\n",
    "        rho = self.lattice.rho(f)\n",
    "        u = self.lattice.u(f)\n",
    "        rho_w = rho[other]\n",
    "        u_w = u[other]\n",
    "        f[here] = self.lattice.equilibrium(rho_w[...,None], u_w[...,None])[...,0]\n",
    "        return f\n",
    "\n",
    "    def make_no_stream_mask(self, f_shape):\n",
    "        no_stream_mask = torch.zeros(size=f_shape, dtype=torch.bool, device=self.lattice.device)\n",
    "        no_stream_mask[[np.setdiff1d(np.arange(self.lattice.Q), self.velocities)] + self.index] = 1\n",
    "        return no_stream_mask\n",
    "\n",
    "    def make_no_collision_mask(self, grid_shape):\n",
    "        no_collision_mask = torch.zeros(size=grid_shape, dtype=torch.bool, device=self.lattice.device)\n",
    "        no_collision_mask[self.index] = 1\n",
    "        return no_collision_mask\n",
    "\n",
    "class ZeroGradientOutlet(object):\n",
    "\n",
    "    def __init__(self, lattice, direction):\n",
    "        # assert (isinstance(direction, list) and len(direction) in [1,2,3] and ((np.abs(sum(direction)) == 1) and (np.max(np.abs(direction)) == 1) and (1 in direction) ^ (-1 in direction))), \\\n",
    "        #     LettuceException(\"Wrong direction. Expected list of length 1, 2 or 3 with all entrys 0 except one 1 or -1, \"\n",
    "        #                         f\"but got {type(direction)} of size {len(direction)} and entrys {direction}.\")\n",
    "        self.direction = np.array(direction)\n",
    "        self.lattice = lattice\n",
    "\n",
    "        #select velocities to be replaced (the ones pointing against \"direction\")\n",
    "        self.velocities = np.concatenate(np.argwhere(np.matmul(self.lattice.stencil.e, self.direction) < -1 + 1e-6), axis=0)  # alles was ENTGEGEN direction zeigt. Also z.B. als Auslass in positive X-Richtung alles, was eine Komponente mit -1 in x-Richtung hat.\n",
    "\n",
    "        # build indices of u and f that determine the side of the domain\n",
    "        self.index = []\n",
    "        self.neighbor = []\n",
    "        for i in self.direction:\n",
    "            if i == 0:\n",
    "                self.index.append(slice(None))\n",
    "                self.neighbor.append(slice(None))\n",
    "            if i == 1:\n",
    "                self.index.append(-1)\n",
    "                self.neighbor.append(-2)\n",
    "            if i == -1:\n",
    "                self.index.append(0)\n",
    "                self.neighbor.append(1)\n",
    "\n",
    "    def __call__(self, f):\n",
    "        f[[self.velocities] + self.index] = f[[self.velocities] + self.neighbor]  # alles, was \"aus dem Auslass in Richtung Domäne zeigt\" wird vom Nachbar übernommen; Dies kann einen Feedbackloop erzeugen...\n",
    "        return f\n",
    "\n",
    "    def make_no_stream_mask(self, f_shape):\n",
    "        no_stream_mask = torch.zeros(size=f_shape, dtype=torch.bool, device=self.lattice.device)\n",
    "        no_stream_mask[[self.velocities] + self.index] = 1\n",
    "        return no_stream_mask\n",
    "\n",
    "## STAND 29.05.24 läuft die NEX-Boundary MIT no_sreaming (alle pops. besser als > nur velocity_in),OHNE no_collision und OHNE Filter am stabilsten (Re2000 test, s.ohneNote MK Code 13./14./15.5.24)\n",
    "class NonEquilibriumExtrapolationInletU(object):\n",
    "    \"\"\" Guo's boundary condition\n",
    "        https://www.researchgate.net/publication/230963379_Non-equilibrium_extrapolation_method_for_velocity_and_boundary_conditions_in_the_lattice_Boltzmann_method\n",
    "        and LBM book page 189\n",
    "        \"\"\"\n",
    "\n",
    "    def __init__(self, lattice, units, direction, u_w):\n",
    "        # assert (isinstance(direction, list) and len(direction) in [1,2,3] and ((np.abs(sum(direction)) == 1) and (np.max(np.abs(direction)) == 1) and (1 in direction) ^ (-1 in direction))), \\\n",
    "        #     LettuceException(\"Wrong direction. Expected list of length 1, 2 or 3 with all entrys 0 except one 1 or -1, \"\n",
    "        #                         f\"but got {type(direction)} of size {len(direction)} and entrys {direction}.\")\n",
    "        # print(\"start nonEQ_init\")\n",
    "        self.direction = np.array(direction)\n",
    "        self.lattice = lattice\n",
    "        self.u_w = units.convert_velocity_to_lu(self.lattice.convert_to_tensor(u_w))\n",
    "\n",
    "        # select velocities to be bounced (the ones pointing in \"direction\")\n",
    "        self.velocities_out = np.concatenate(np.argwhere(np.matmul(self.lattice.stencil.e, self.direction) > 1 - 1e-6), axis=0)  # alle, die einen Anteil in direction Richtung haben (nicht nur Betrag)\n",
    "        # select velocities to be replaced (the ones pointing against \"direction\")\n",
    "        self.velocities_in = np.concatenate(np.argwhere(np.matmul(self.lattice.stencil.e, self.direction) < -1 + 1e-6), axis=0)  # alle, die einen Anteil entgegen direction besitzen (nicht nur Betrag)\n",
    "\n",
    "        # build indices of u and f that determine the side of the domain\n",
    "        self.index = []\n",
    "        self.neighbor = []\n",
    "        for i in self.direction:\n",
    "            if i == 0:\n",
    "                self.index.append(slice(None))  # für diese Dimension \"alles\" ohne\n",
    "                self.neighbor.append(slice(None))\n",
    "            if i == 1:\n",
    "                self.index.append(-1)  # für diese Dimension \"letzter\"\n",
    "                self.neighbor.append(-2)  # für diese Dimension \"vorletzter\"\n",
    "            if i == -1:\n",
    "                self.index.append(0)  # für diese Dimension \"erster\"\n",
    "                self.neighbor.append(1)  # für diese Dimension \"zweiter\"\n",
    "        self.rho_old = 1.0\n",
    "        if len(self.u_w.shape) > self.lattice.D:\n",
    "            self.u_w = self.u_w[tuple([slice(None)] + self.index)]\n",
    "        # print(\"u_w.shape in init NEQExtrapolInletU:\", self.u_w.shape)\n",
    "\n",
    "    def __call__(self, f):\n",
    "        Tc = 100\n",
    "        here = [slice(None)] + self.index  # q Platzhalter und Koordinaten der RB-Knoten\n",
    "        other = [slice(None)] + self.neighbor  # q Platzhalter und Koordinaten der RB-Nachbarn\n",
    "        # print(\"other in NEQEIU.call(): \", other)\n",
    "        # print(\"here in NEQEIU.call(): \", here)\n",
    "        # print(\"index in NEQEIU.call(): \", self.index)\n",
    "        # print(\"f.shape:\", f.shape, \"f[others].shape:\", f[other].shape)\n",
    "\n",
    "        ## rho = self.lattice.convert_to_tensor(self.lattice.rho(f[other]))\n",
    "        rho = self.lattice.convert_to_tensor(torch.sum(f[other], dim=0)[None,...])  # berechne für alle Nachbarn die Dichte\n",
    "        ## u = self.lattice.convert_to_tensor(self.lattice.u(f[other]))  # gibt nur die erste Ebene Knoten aus mit f[other]\n",
    "        u = self.lattice.convert_to_tensor(torch.einsum(\"qd,q...->d...\", self.lattice.e, f[other]) / rho)  # Geschwindigkeit auf den Nachbarknoten\n",
    "        \n",
    "        if self.u_w.shape == u.shape:\n",
    "            # falls u_w schon die korrekte shape hat, nutze u_w\n",
    "            u_w = self.u_w\n",
    "        else:\n",
    "            list = []\n",
    "            for _ in u.shape: list += [1]  # pro Dimension in u_w eine 1er Liste anhängen\n",
    "                # print(\"len(self.u_w):\", len(self.u_w))\n",
    "            list[0] = len(self.u_w)  # erstes Listen-Objekt wird durch die Dimensionszahl von u_w ersetzt \n",
    "                # print(\"self.u_w.view(list):\", self.u_w.view(list))\n",
    "            u_w = self.u_w.view(list).expand_as(u)\n",
    "                # print(\"list:\", list)\n",
    "                # print(\"u_w.shape:\", self.u_w.shape)\n",
    "                # u_w = self.u_w.view(list)\n",
    "                # print(\"u_w.shape:\", self.u_w.shape)\n",
    "                # [3, 80, 60] -> [3, 120, 80, 60]\n",
    "        \n",
    "        rho_self = (1 / (1 - u_w[np.argwhere(self.direction != 0).item()] \n",
    "                         * self.lattice.e[self.velocities_in[0], np.argwhere(self.direction != 0).item()]) \n",
    "                    * (torch.sum(f[[np.setdiff1d(np.arange(self.lattice.Q), [self.velocities_in, self.velocities_out])] \n",
    "                                   + self.index] + 2 * f[[self.velocities_out] + self.index], dim=0)))\n",
    "        \n",
    "        filter_density = True  # ginge auch über Tc=0 quasi false zu setzen!\n",
    "        # in Vortests war die Boundary ohne Filter stabiler!\n",
    "        if filter_density == True:\n",
    "            # density filtering as proposed by https://www.researchgate.net/publication/257389374_Computational_Gas_Dynamics_with_the_Lattice_Boltzmann_Method_Preconditioning_and_Boundary_Conditions\n",
    "            rho_w = (rho_self + Tc * self.rho_old) / (1+Tc)\n",
    "            self.rho_old = rho_w\n",
    "        else:\n",
    "            rho_w = rho_self\n",
    "            self.rho_old = rho_w\n",
    "        # print(\"rho_w.shape:\", rho_w.shape)\n",
    "        # print(\"u_w.shape:\", u_w.shape)\n",
    "        # print(\"f[other].shape:\", f[other].shape)\n",
    "        # print(\"rho.shape\", rho.shape)\n",
    "        # print(\"rho_self.shape:\", rho_self.shape)\n",
    "        # print(\"u.shape\", u.shape)\n",
    "        \n",
    "        ## f[here] = self.lattice.equilibrium(rho_w, u_w) + (f[other] - self.lattice.equilibrium(rho, u))  ## EQLM ist anders mit torch.einsum bzw. lattice.einsum definiert... bruh // hier spielt mir die Definition von lettuce.einsum in die Quere, zwischen Martins branch und dem aktuellen Lettuce!\n",
    "        f[here] = (torch.einsum(\"q,q...->q...\", self.lattice.w, (rho_w * ((2 * torch.tensordot(self.lattice.e, u_w, dims=1) - torch.einsum(\"d...,d...->...\", u_w, u_w)) / (2 * self.lattice.cs ** 2) + 0.5 * (torch.tensordot(self.lattice.e, u_w, dims=1) / (self.lattice.cs ** 2)) ** 2 + 1))) + \n",
    "                   (f[other] - torch.einsum(\"q,q...->q...\", self.lattice.w, (rho * ((2 * torch.tensordot(self.lattice.e, u, dims=1) - torch.einsum(\"d...,d...->...\", u, u)) / (2 * self.lattice.cs ** 2) + 0.5 * (torch.tensordot(self.lattice.e, u, dims=1) / (self.lattice.cs ** 2)) ** 2 + 1)))\n",
    "                    )\n",
    "                   )\n",
    "        \n",
    "        ## >>> VON MIR FALSCH IN AKTUELLES LETTUCE ÜBERSETZT: HIER FEHLTE DAS \"_w\" AN U UND RHO IM ERSTEN EQUILIBRIUM!\n",
    "        # f[here] = (torch.einsum(\"q,q...->q...\",self.lattice.w, (rho * ((2 * torch.tensordot(self.lattice.e, u, dims=1) - torch.einsum(\"d...,d...->...\", u, u)) / (2 * self.lattice.cs ** 2) + 0.5 * (torch.tensordot(self.lattice.e, u, dims=1) / (self.lattice.cs ** 2)) ** 2 + 1))) \n",
    "        #            + (f[other] - torch.einsum(\"q,q...->q...\", self.lattice.w, (rho * ((2 * torch.tensordot(self.lattice.e, u, dims=1) - torch.einsum(\"d...,d...->...\", u, u)) / (2 * self.lattice.cs ** 2) + 0.5 * (torch.tensordot(self.lattice.e, u, dims=1) / (self.lattice.cs ** 2)) ** 2 + 1)))))\n",
    "        ## <<<\n",
    "        return f\n",
    "    \n",
    "    nsm_type = 'all'  # 'all', 'q_index', 'None',...\n",
    "    # Welche relevanten \"Arten\" Populationen gibt's\n",
    "    #   - alle, die eine positive x-Komponente haben (velocities_in)  // sollten sowieso überschrieben werden, haben aber im Zweifel für die Berechnung von rho, rho_old, rho_self einen Einfluss?\n",
    "    #   - alle, die eine negative x-Komponente haben (velocities_out)  // sollten höchstens einen Einfluss auf die Berechnung von rho, rho_old, rho_self haben...\n",
    "    #   - alle, ohne x-Komponente (\"velocities_orthogonal\" existiert noch nicht)  // sollten höchstens \"Unschärfe\" reinbringen...\n",
    "    #   - alle, die \"nur\" eine positive oder negative x-Komponente haben ? <- ergibt wenig Sinn\n",
    "    \n",
    "    if nsm_type == 'all':  # alle Pops auf der Inlet-Ebene\n",
    "        # \"hardcore\" Variante\n",
    "        # war in Vortests zusammen mit q_index_in die zweitstabilste in Kombination mit q_index_in\n",
    "        def make_no_stream_mask(self, f_shape):\n",
    "            no_stream_mask = torch.zeros(size=f_shape, dtype=torch.bool, device=self.lattice.device)\n",
    "            no_stream_mask[:,0,:,:]=1 # alle Pop auf der ersten Ebene\n",
    "            return no_stream_mask\n",
    "    elif nsm_type == 'q_index_in':  # nur velocities_in+index (s.u.) // ZeroGradientOutlet, KineticBoudnaryOutlet, ConvectiveBoundaryOutlet in MK/CD/lettuce Branch (dort ohne \"_in\")\n",
    "        # entspricht auch dem auskommentierten im lettuceMPI_new Branch\n",
    "        ## (!) war in Vortests eine der stabilsten Varianten in Kombination OHNE NCM\n",
    "        def make_no_stream_mask(self, f_shape):\n",
    "            no_stream_mask = torch.zeros(size=f_shape, dtype=torch.bool, device=self.lattice.device)\n",
    "            no_stream_mask[[self.velocities_in] + self.index] = 1\n",
    "            return no_stream_mask\n",
    "    # TESTS\n",
    "    elif nsm_type == 'ABB_outlet_in':\n",
    "        def make_no_stream_mask(self, f_shape):\n",
    "            no_stream_mask = torch.zeros(size=f_shape, dtype=torch.bool, device=self.lattice.device)\n",
    "            no_stream_mask[[np.array(self.lattice.stencil.opposite)[self.velocities_in]] + self.index] = 1\n",
    "            return no_stream_mask\n",
    "    elif nsm_type == 'ABB_outlet_out':\n",
    "        def make_no_stream_mask(self, f_shape):\n",
    "            no_stream_mask = torch.zeros(size=f_shape, dtype=torch.bool, device=self.lattice.device)\n",
    "            no_stream_mask[[np.array(self.lattice.stencil.opposite)[self.velocities_out]] + self.index] = 1\n",
    "            return no_stream_mask\n",
    "    elif nsm_type == 'EQ_outlet_P_in':\n",
    "        def make_no_stream_mask(self, f_shape):\n",
    "            no_stream_mask = torch.zeros(size=f_shape, dtype=torch.bool, device=self.lattice.device)\n",
    "            no_stream_mask[[np.setdiff1d(np.arange(self.lattice.Q), self.velocities_in)] + self.index] = 1\n",
    "            return no_stream_mask\n",
    "    elif nsm_type == 'EQ_outlet_P_out':\n",
    "        def make_no_stream_mask(self, f_shape):\n",
    "            no_stream_mask = torch.zeros(size=f_shape, dtype=torch.bool, device=self.lattice.device)\n",
    "            no_stream_mask[[np.setdiff1d(np.arange(self.lattice.Q), self.velocities_out)] + self.index] = 1 \n",
    "            return no_stream_mask\n",
    "    elif nsm_type == 'q_index_out':\n",
    "        def make_no_stream_mask(self, f_shape):\n",
    "            no_stream_mask = torch.zeros(size=f_shape, dtype=torch.bool, device=self.lattice.device)\n",
    "            no_stream_mask[[self.velocities_out] + self.index] = 1\n",
    "            return no_stream_mask\n",
    "        \n",
    "    elif nsm_type == 'SEI':\n",
    "        def make_no_stream_mask(self, f_shape):\n",
    "            no_stream_mask = torch.zeros(size=f_shape, dtype=torch.bool, device=self.lattice.device)\n",
    "            no_stream_mask[[np.concatenate(np.argwhere(np.matmul(self.lattice.stencil.e, [-1, 0, 0]) < -1 + 1e-6), axis=0)] + [0, ...]] = 1  # entspricht bis auf das letzte [0,...] quasi dem, was für die velocities_in für die NEEQInlet rauskommt...\n",
    "            return no_stream_mask\n",
    "\n",
    "    ncm_type = False  # 'True', 'False', Collision seams to stabilize the boundary...\n",
    "    # collision könnte einen abschwächenden Effekt auf die Boundary haben.\n",
    "    if ncm_type:  # toggle no_collision_mask usage\n",
    "        def make_no_collision_mask(self, f_shape):\n",
    "            no_collision_mask = torch.zeros(size=f_shape[1:], dtype=torch.bool, device=self.lattice.device)\n",
    "            no_collision_mask[self.index] = 1\n",
    "            return no_collision_mask\n",
    "\n",
    "class SyntheticEddyInlet(object):\n",
    "    # according to description in https://doi.org/10.1016/j.jweia.2021.104560 ONLY 3D only in x direction so far\n",
    "\n",
    "    # NOTES: isotropic fluctuating field is produced on the inlet plane\n",
    "    # as sum of different made up vorteces\n",
    "\n",
    "    # fluctuating velocity field that fits prescribed reynolds stree tensor is computed using Cholesky decomposition\n",
    "\n",
    "    #isotropic gaussian shape function does something?!\n",
    "\n",
    "    # dann u mit freeflow windspeed addiert\n",
    "\n",
    "    def __init__(self, lattice, units, grid, L, K, N, R, rho, u_0, velocityProfile, direction=[1, 0, 0]):\n",
    "        self.lattice = lattice\n",
    "        self.units = units\n",
    "        self.grid = grid\n",
    "        self.rho = rho\n",
    "        self.L = L\n",
    "        self.reynolds_stress_tensor = R\n",
    "        self.u_0 = u_0\n",
    "        self.K = K\n",
    "        self.N = N # TODO mal N pro Fläche bei denen und bei mir ausrechnen, ob das passt\n",
    "        self.direction = direction\n",
    "        self.velocityProfile = velocityProfile\n",
    "\n",
    "        # produce N random vorteces 2L downstream from inlet\n",
    "        self.vorteces = torch.zeros((N, 6), device=self.lattice.device)\n",
    "        self.vorteces[:, 0] = torch.rand(N, device=self.lattice.device) * -2 * self.L\n",
    "        for i in range(1, 3):\n",
    "            self.vorteces[:, i] = torch.rand(N, device=self.lattice.device) * self.units.convert_length_to_pu(torch.tensor(self.grid.shape, device=self.lattice.device))[i]\n",
    "        self.vorteces[:, 3:6] = torch.rand((N, 3), device=self.lattice.device) - 0.5\n",
    "\n",
    "        # Cholesky decomposition of prescribed Reynolds stress tensor\n",
    "        R = self.reynolds_stress_tensor(self.lattice.convert_to_tensor(self.grid()[2][0, :, :]), self.u_0)\n",
    "        A = torch.zeros_like(R)\n",
    "        A[..., 0, 0] = torch.sqrt(R[..., 0, 0])\n",
    "        A[..., 1, 0] = R[..., 1, 0] / A[..., 0, 0]\n",
    "        A[..., 1, 1] = torch.sqrt(R[..., 1, 1] - A[..., 1, 0] ** 2)\n",
    "        A[..., 2, 0] = R[..., 2, 0] / A[..., 0, 0]\n",
    "        A[..., 2, 1] = (R[..., 2, 1] - A[..., 1, 0] * A[..., 2, 0]) / A[..., 1, 1]\n",
    "        A[..., 2, 2] = torch.sqrt(R[..., 2, 2] - A[..., 2, 0] ** 2 - A[..., 2, 1] ** 2)\n",
    "        print(f\"Redacted Nans: {torch.isnan(A.view(-1)).sum().item()}\")\n",
    "        A = torch.nan_to_num(A, nan=0)\n",
    "        self.A = A * self.K\n",
    "\n",
    "        grid = self.lattice.convert_to_tensor(self.grid())\n",
    "        self.grid_extended = torch.cat((torch.flip(grid[:, 1:4, ...], [1]), grid), dim=1)\n",
    "        self.grid_extended[0, 0:3, ...] = self.grid_extended[0, 0:3, ...] * -1\n",
    "\n",
    "\n",
    "    def hasTrueEntrys(self):\n",
    "        return True\n",
    "\n",
    "    def __call__(self, f):\n",
    "        # move vorteces passively at each time step by Uĉ until they pass the inlet... each time a vortex passes the inlet a new one is produced at x - L\n",
    "        self.vorteces[:, 0] += self.velocityProfile(self.vorteces[:, 2], self.u_0) * self.units.convert_time_to_pu(1) #TODO freeflow windspeed einsetzen (was ist das?)? EXPERIMENTELL: u(z) statt 0.8 * self.u_0\n",
    "        replace = torch.where((self.vorteces[:, 0] > self.L))[0].tolist()\n",
    "        if len(replace) > 0:\n",
    "            self.vorteces[[replace] + [0]] = -self.L\n",
    "            self.vorteces[[replace], slice(1, 3)] = torch.rand([len(replace), 2], device=self.lattice.device) * self.units.convert_length_to_pu(torch.tensor(self.grid.shape, device=self.lattice.device))[1:3]\n",
    "            self.vorteces[[replace], slice(3, 6)] = torch.rand([len(replace), 3], device=self.lattice.device) - 0.5\n",
    "\n",
    "        def shape_fun(x, sigma=0.225):\n",
    "            return 2 * torch.exp(-1 / (2 * sigma**2) * x**2)\n",
    "\n",
    "        def calculate_f(u, rho):\n",
    "            \"\"\"Initialize the distribution function values. The f^(1) contributions are approximated by finite differences.\n",
    "            See Krüger et al. (2017).\n",
    "            \"\"\"\n",
    "\n",
    "            grad_u0 = torch_gradient(u[0], dx=1, order=6)[None, ...]\n",
    "\n",
    "            grad_u1 = torch_gradient(u[1], dx=1, order=6)[None, ...]\n",
    "            S = torch.cat([grad_u0, grad_u1])\n",
    "\n",
    "            if self.lattice.D == 3:\n",
    "                grad_u2 = torch_gradient(u[2], dx=1, order=6)[None, ...]\n",
    "                S = torch.cat([S, grad_u2])\n",
    "\n",
    "            Pi_1 = 1.0 * self.units.relaxation_parameter_lu * rho * S / self.lattice.cs ** 2\n",
    "\n",
    "            Q = (torch.einsum('ia,ib->iab', self.lattice.e, self.lattice.e)\n",
    "                 - torch.eye(self.lattice.D, device=self.lattice.device,\n",
    "                             dtype=self.lattice.dtype) * self.lattice.cs ** 2)\n",
    "\n",
    "            Pi_1_Q = torch.einsum('ab...,iab->i...', Pi_1, Q)\n",
    "            fneq = torch.einsum('i,i...->i...', self.lattice.w, Pi_1_Q)[:, 3, ...]\n",
    "            feq = self.lattice.equilibrium(rho[3, ...], u[:, 3, ...])\n",
    "            return feq - fneq\n",
    "\n",
    "        u = torch.einsum(\"xyzN, Nj -> jxyz\", (shape_fun((self.grid_extended[0][0:4, :, :, None] - self.vorteces[:, 0]) / self.L) * (shape_fun((self.grid_extended[1][0:4, :, :, None] - self.vorteces[:, 1]) / self.L) + shape_fun((self.grid_extended[1][0:4, :, :, None] - self.vorteces[:, 1] + self.grid_extended[1][4, -1, -1]) / self.L) + shape_fun((self.grid_extended[1][0:4, :, :, None] - self.vorteces[:, 1] - self.grid_extended[1][4, -1, -1]) / self.L)) * shape_fun((self.grid_extended[2][0:4, :, :, None] - self.vorteces[:, 2]) / self.L)), torch.sign(self.vorteces[:, 3:6])) / np.sqrt(self.N)\n",
    "        u = torch.einsum('...ij, j... -> i...', self.A, u)\n",
    "        u[0] += self.velocityProfile(self.grid_extended[2][0:4, :, :], self.u_0)\n",
    "        u = torch.cat((self.units.convert_velocity_to_lu(u), self.lattice.u(f[:, 1:4, ...])), dim=1)\n",
    "        rho = torch.ones_like(u[0]) * self.rho # TODO ersetzt anderes rho, weil ja p addiert werden sollte und nicht rho?\n",
    "        #rho = self.units.convert_density_to_pu(self.units.convert_pressure_pu_to_density_lu(0.5 * self.rho * torch.norm(u, dim=0) ** 2))\n",
    "        # calculate feq and fneq from u and rho\n",
    "        f[:, 0, :, 1:] = calculate_f(u, self.units.convert_density_to_lu(rho))[..., 1:]\n",
    "        return f\n",
    "\n",
    "    def make_no_stream_mask(self, f_shape):\n",
    "        no_stream_mask = torch.zeros(size=f_shape, dtype=torch.bool, device=self.lattice.device)\n",
    "        no_stream_mask[[np.concatenate(np.argwhere(np.matmul(self.lattice.stencil.e, [-1, 0, 0]) < -1 + 1e-6), axis=0)] + [0, ...]] = 1\n",
    "        return no_stream_mask"
   ],
   "metadata": {
    "collapsed": false,
    "ExecuteTime": {
     "end_time": "2024-07-19T11:52:11.545358197Z",
     "start_time": "2024-07-19T11:52:11.482458106Z"
    }
   },
   "id": "206d768ba7a2805f",
   "execution_count": 2
  },
  {
   "cell_type": "code",
   "outputs": [],
   "source": [
    "# houseFlow3D by M.Kliemank, from MA-Thesis-CD-ROM \"simulation_code.py\"\n",
    "class HouseFlow3D(object):\n",
    "\n",
    "    def __init__(self, resolution_x, resolution_y, resolution_z,\n",
    "                 reynolds_number, mach_number, lattice,\n",
    "                 char_length_lu, char_length_pu,\n",
    "                 char_velocity_pu, char_density_pu, \n",
    "                 ground_bc='hwbb', house_bc='ibb1',  # 'fwbb', 'hwbb', 'ibb1' \n",
    "                 inlet_bc='EQ',  # 'EQ', 'NEX', 'SEI'\n",
    "                 outlet_bc='EQO',  # 'EQO'\n",
    "                 heaven_bc='ZGO',  # 'ZGO'\n",
    "                 K_Factor=10,  # K_factor for SEI boundary inlet\n",
    "                 L=3,  # L for SEI\n",
    "                 N=34,  # N number of random voctices for SEI \n",
    "                 velocity_profile=0  # velocity profile for SEI boundary\n",
    "                 ):\n",
    "        # (K_Factor, L, N, velocity_profile)\n",
    "        \"\"\"\n",
    "            Flow class to simulate the flow around an object (mask) in 3D.\n",
    "            Parameters:\n",
    "            resolution_x, resolution_y, resolution_z: domain resolutions, in LU\n",
    "            lattice: object of the class with the same name from lettuce\n",
    "            char_length_lu: length of the base of the house, in LU\n",
    "            char_length_pu: length of the base of the house, in PU\n",
    "            char_velocity_pu: characteristic velocity (inlet velocity), in PU\n",
    "            char_density_pu: characteristic density, in PU\n",
    "        \"\"\"\n",
    "        # DOMAIN GRID RESOLUTION AND SHAPE\n",
    "        self.resolution_x = resolution_x\n",
    "        self.resolution_y = resolution_y\n",
    "        self.resolution_z = resolution_z\n",
    "        self.shape = (self.resolution_x, self.resolution_y, self.resolution_z)\n",
    "        \n",
    "        # SEI parameters (see boundary method below)\n",
    "        self.L=L\n",
    "        self.N=N\n",
    "        self.K_Factor=K_Factor\n",
    "        \n",
    "        # UNIT CONVERTER AND UNITS\n",
    "        self.units = lt.UnitConversion(\n",
    "            lattice,\n",
    "            reynolds_number=reynolds_number,\n",
    "            mach_number=mach_number,\n",
    "            characteristic_length_lu=char_length_lu,\n",
    "            characteristic_length_pu=char_length_pu,\n",
    "            characteristic_velocity_pu=char_velocity_pu,\n",
    "            characteristic_density_pu=char_density_pu,\n",
    "            characteristic_density_lu=1\n",
    "        )\n",
    "        \n",
    "        # MASKS\n",
    "        #old:>>\n",
    "        self._mask = np.zeros(shape=(self.resolution_x, self.resolution_y, self.resolution_z), dtype=bool)\n",
    "        #<<\n",
    "        self.solid_mask = np.zeros(shape=self.shape, dtype=bool)  # marks all solid nodes (obstacle, walls, ...)\n",
    "        if inlet_bc.casefold()=='eq':\n",
    "            self.in_mask = np.zeros(shape=self.shape, dtype=bool)  # marks all inlet nodes (if EQin is used)\n",
    "            self.in_mask[0,:,:] = True  # inlet in positive x-direction\n",
    "        self.ground_mask = np.zeros(shape=self.shape, dtype=bool)  # marks ground on base layer (xy-plane)\n",
    "        ##self.house_mask = np.zeros(shape=self.shape, dtype=bool)   # marks all nodes inside the house (solid nodes)\n",
    "        # placeholder for later IBB-implementation\n",
    "        self.house_mask = self.house([int(self.resolution_x/3),int(self.resolution_y/2),0],eg_x_length=char_length_lu, eg_y_length=char_length_lu, roof_height=char_length_lu*1.25, roof_overhang=0, angle = 45)\n",
    "        \n",
    "        self.ground_mask[:,:,0] = True  # mark ground (for standard FWBB/HWBB object-boundary)\n",
    "        \n",
    "        self.solid_mask = np.logical_or(self.house_mask, self.ground_mask)  # everything solid for exclusion in initial condition!\n",
    "        \n",
    "        # SET boundary-tobbles\n",
    "        self.ground_bc = ground_bc  # 'fwbb', 'hwbb', 'ibb1' \n",
    "        self.house_bc = house_bc    # 'fwbb', 'hwbb', 'ibb1' \n",
    "        self.inlet_bc = inlet_bc    # 'EQ', 'NEX', 'SEI'\n",
    "        # outlet is EquilibriumOutletP\n",
    "        # heaven is ZeroGradientOutlet\n",
    "        \n",
    "        # SET correct z-height for WSP\n",
    "        x,y,z = self.grid\n",
    "        self.z_0_PU = 0.5*(z[1,0,0]-z[0,0,0])  # PU_height of z_LU=0.5dx\n",
    "        \n",
    "\n",
    "    ### >>> REPLACED BY SEVERAL INDIVIDAL MASKS\n",
    "    # @property\n",
    "    # def mask(self):\n",
    "    #     return self._mask\n",
    "    # \n",
    "    # @mask.setter\n",
    "    # def mask(self, m):\n",
    "    #     assert isinstance(m, np.ndarray) and m.shape == self.shape\n",
    "    #     self._mask = m.astype(bool)\n",
    "    # <<< \n",
    "    # TODO: write masks as properties\n",
    "    #   - solid_mask should alway be constructed from logical_or(ground,house)\n",
    "    #   - \n",
    "    \n",
    "    # habe ich (MAX) eingefügt, da wir keine Grid-Klasse haben!)    >>>\n",
    "    @property\n",
    "    def grid(self):\n",
    "        # QUESTION: SHOULD THIS BE ONE- OR ZERO-BASED? Indexing or \"node-number\"?\n",
    "        \n",
    "        ## 0 bis n* l_pu/-_lu in n schritte -> PU-grid-coordinates from LU-Index  \n",
    "        xyz = tuple(self.units.convert_length_to_pu(np.linspace(0, n, n, endpoint=False)) for n in self.shape)  # tuple of lists of x,y,(z)-values in PU\n",
    "        return np.meshgrid(*xyz, indexing='ij')  # meshgrid of x-, y- (und z-)values/indices\n",
    "        \n",
    "        # OTHER ALTERNATIVES: \n",
    "        # >>>\n",
    "            # PU-grid for link-based boundaries, that place 0 halfway along the link (for example: FWBB, HWBB)\n",
    "         #   xyz = tuple(self.units.convert_length_to_pu(np.linspace(-0.5, n-0.5, n, endpoint=False)) for n in self.shape)  # tuple of lists of x,y,(z)-values/indices\n",
    "        \n",
    "            # PU-grid for link-based boundaries without wallnodes\n",
    "          #  xyz = tuple(self.units.convert_length_to_pu(np.linspace(0.5, n+0.5, n, endpoint=False)) for n in self.shape) \n",
    "        # <<<\n",
    "    # <<<\n",
    "\n",
    "    def initial_solution(self, x):\n",
    "        \"\"\"Returns the initial macroscopic values (u, rho) at each lattice node\n",
    "            Initialises speed using the velocity profile function and\n",
    "            pressure difference from reference pressure as 0\n",
    "\n",
    "            Inputs:\n",
    "            x: grid, in LU\n",
    "        \"\"\"\n",
    "        p = np.zeros_like(x[0], dtype=float)[None, ...]\n",
    "        u = np.zeros((len(x),) + x[0].shape)\n",
    "        u[0] = self.wind_speed_profile(np.where(self.solid_mask, 0, x[2]),\n",
    "                                       self.units.characteristic_velocity_pu, 0.25)\n",
    "        return p, u\n",
    "\n",
    "    @property\n",
    "    def boundaries(self):\n",
    "        \"\"\"Returns the objects of each boundary class for use by the Simulation class\n",
    "        \"\"\"\n",
    "        x, y, z = self.grid  # meshgrid of PU-coordinates, (0,0,0)PU is on node (0,0,0)LU\n",
    "        p, u = self.initial_solution(self.grid)  # wind_speed_profile everywhere (in x-direction)\n",
    "        # print(\"p.shape, beginning of houes.boudnaries:\", p.shape)\n",
    "        # print(\"u.shape, beginning of houes.boudnaries:\", u.shape)\n",
    "        # \n",
    "        # print(\"p[0,0, 0, :].shape, beginning of houes.boudnaries:\", p[0,0, 0, :].shape)\n",
    "        # print(\"u[:,0, 0, :].shape, beginning of houes.boudnaries:\", u[:,0, 0, :].shape)\n",
    "        # in_mask = np.zeros(self.grid[0].shape, dtype=bool)\n",
    "        # in_mask[0,:]=True\n",
    "        \n",
    "        # SEI parameters\n",
    "        x, y, z = self.grid\n",
    "        L = self.L\n",
    "        if self.N == 0:\n",
    "            N = int(np.ceil((self.units.convert_length_to_pu(self.resolution_y) * self.units.convert_length_to_pu(self.resolution_z)) / (4 * L**2)))\n",
    "        else:\n",
    "            N = self.N\n",
    "        \n",
    "        #INLET\n",
    "        if self.inlet_bc.casefold() == 'eq':\n",
    "            inlet_boundary_condition = lt.EquilibriumBoundaryPU(np.abs(x) < 1e-6, self.units.lattice, self.units, u[:,0, np.newaxis, ...], p[0,0, :, :])\n",
    "            # inlet_boundary_condition = lt.EquilibriumBoundaryPU(np.abs(x) < 1e-6, self.units.lattice, self.units, u[:, 0, ...], p[0, 0, ...])\n",
    "        elif self.inlet_bc.casefold() == 'nex':\n",
    "            inlet_boundary_condition = NonEquilibriumExtrapolationInletU(self.units.lattice, self.units, [-1, 0, 0], np.array(u))  # original aus der Arbeit\n",
    "        elif self.inlet_bc.casefold() == 'sei':\n",
    "            inlet_boundary_condition = SyntheticEddyInlet(self.units.lattice, \n",
    "                                                             self.units, \n",
    "                                                             self.grid, # previously \"self.rgrid\"\n",
    "                                                             rho=self.units.convert_density_to_pu(self.units.convert_pressure_pu_to_density_lu(0)), \n",
    "                                                             u_0=self.units.characteristic_velocity_pu, \n",
    "                                                             K=self.K_Factor*10, \n",
    "                                                             L=L, N=N, R=self.reyolds_stress_tensor, \n",
    "                                                             velocityProfile=self.wind_speed_profile)\n",
    "        else:\n",
    "            print(\"(!) flow-class encountered illegal inlet_bc-parameter! Using EquilibriumBoundaryPU\")\n",
    "            inlet_boundary_condition = lt.EquilibriumBoundaryPU(np.abs(x) < 1e-6, self.units.lattice, self.units, u[:,0, np.newaxis, ...], p[0,0, :, :])\n",
    "        \n",
    "        #OUTLET BACK\n",
    "        #outlet_boundary_condition = lt.EquilibriumOutletP(self.units.lattice, [1, 0, 0], rho0=self.units.convert_pressure_pu_to_density_lu(0))\n",
    "        out_mask = np.zeros_like(self.solid_mask)\n",
    "        out_mask[-1,:,:] = True\n",
    "        outlet_boundary_condition = lt.EquilibriumBoundaryPU(out_mask, self.units.lattice, self.units, u[:,-1, np.newaxis, ...], p[0,-1, :, :])\n",
    "        \n",
    "        #OUTLET TOP (\"heaven\")\n",
    "        #heaven_boundary_condition = ZeroGradientOutlet(self.units.lattice, [0, 0, 1])\n",
    "        heaven_mask = np.zeros_like(self.solid_mask)\n",
    "        heaven_mask[:,:,-1] = True\n",
    "        heaven_boundary_condition = lt.EquilibriumBoundaryPU(heaven_mask, self.units.lattice, self.units, u)\n",
    "        #TODO: make ground and house BB choosable -> fwb, hwbb, ibb1 / compact?\n",
    "        \n",
    "        #GROUND\n",
    "        ground_boundary_condition = lt.BounceBackBoundary(self.ground_mask, self.units.lattice)\n",
    "        \n",
    "        #HOUSE\n",
    "        house_boundary_condition = lt.BounceBackBoundary(self.house_mask, self.units.lattice)\n",
    "        \n",
    "        return [\n",
    "            inlet_boundary_condition,\n",
    "            outlet_boundary_condition,\n",
    "            heaven_boundary_condition,\n",
    "            ground_boundary_condition,\n",
    "            house_boundary_condition\n",
    "        ]\n",
    "    \n",
    "        # test with house and ground being combined into one boundary\n",
    "        # return [\n",
    "        #     inlet_boundary_condition,\n",
    "        #     outlet_boundary_condition,\n",
    "        #     heaven_boundary_condition,\n",
    "        #     lt.FullwayBounceBackBoundary(self.solid_mask,self.units.lattice)\n",
    "        # ]\n",
    "        \n",
    "#         return [\n",
    "#             lt.BounceBackBoundary(self.mask | (z < 1e-6), self.units.lattice), # quasi gleich\n",
    "#             ZeroGradientOutlet(self.units.lattice, [0, 0, 1]),\n",
    "#             lt.EquilibriumOutletP(self.units.lattice, [1, 0, 0]),\n",
    "#             NonEquilibriumExtrapolationInletU(self.units.lattice, self.units, [-1, 0, 0], np.array(u))  # original aus der Arbeit\n",
    "#             # lt.EquilibriumBoundaryPU(np.abs(x) < 1e-6, self.units.lattice, self.units, u[:, 0, ...], p[0, 0, ...])  # EQ aus house3D_final_new2_noverhang.py\n",
    "# #            lt.EquilibriumBoundaryPU(np.abs(x) < 1e-6, self.units.lattice, self.units, u[:,0, np.newaxis, ...], p[0,0, :, :])  # so funktioniert EQ aus house3D_final_new2_noverhang.py\n",
    "#         ]\n",
    "\n",
    "    def house(self, o, eg_x_length, eg_y_length,\n",
    "              roof_height, roof_overhang=0, angle=35):\n",
    "        \"\"\"Outputs mask for flow: house with square base\n",
    "            and gable-roof parallel to y direction and overhang\n",
    "\n",
    "            Inputs:\n",
    "            eg_x_length: length of the house base in x-direction, in LU\n",
    "            eg_y_length: length of the house base in y-direction, in LU\n",
    "            roof_height: height of the top of the roof, in LU\n",
    "\n",
    "        \"\"\"\n",
    "        angle = angle * np.pi / 180\n",
    "        eg_height = int(round(roof_height - (eg_x_length / 2 + roof_overhang)\n",
    "                              * np.tan(angle)))\n",
    "        self.roof_height = roof_height\n",
    "        inside_mask = np.zeros_like(self.grid[0], dtype=bool)\n",
    "        inside_mask[int(o[0] - eg_x_length / 2):int(o[0] + eg_x_length / 2),\n",
    "                    int(o[1] - eg_y_length / 2):int(o[1] + eg_y_length / 2),\n",
    "                    :eg_height] = True\n",
    "        inside_mask[int(o[0] - eg_x_length / 2 - roof_overhang):\n",
    "                    int(o[0] + eg_x_length / 2 + roof_overhang),\n",
    "                    int(o[1] - eg_y_length / 2):int(o[1] + eg_y_length / 2), \n",
    "                    eg_height] = True\n",
    "        inside_mask[int(o[0] - eg_x_length / 2 - roof_overhang):\n",
    "                    int(o[0] + eg_x_length / 2 + roof_overhang),\n",
    "                    int(o[1] - eg_y_length / 2):int(o[1] + eg_y_length / 2), \n",
    "                    eg_height + 1:] = \\\n",
    "            np.where(self.units.convert_length_to_lu(self.grid[2][int(o[0] - eg_x_length / 2 - roof_overhang):int(o[0] + eg_x_length / 2 + roof_overhang),\n",
    "                                                                  int(o[1] - eg_y_length / 2):int(o[1] + eg_y_length / 2), eg_height + 1:]\n",
    "                                                     ) \n",
    "                     < o[2] + roof_height + 0.5 - np.tan(angle) * np.abs(self.units.convert_length_to_lu(\n",
    "                                 self.grid[0][int(o[0] - eg_x_length / 2 - roof_overhang):int(o[0] + eg_x_length / 2 + roof_overhang),\n",
    "                                              int(o[1] - eg_y_length / 2):int(o[1] + eg_y_length / 2),\n",
    "                                              eg_height + 1:]\n",
    "                                                                                                         ) - o[0]),\n",
    "                     True,\n",
    "                     inside_mask[int(o[0] - eg_x_length / 2 - roof_overhang):int(o[0] + eg_x_length / 2 + roof_overhang),\n",
    "                                 int(o[1] - eg_y_length / 2):int(o[1] + eg_y_length / 2), \n",
    "                                 eg_height + 1:])\n",
    "        return inside_mask\n",
    "    \n",
    "    # TEST METHODS\n",
    "    def house1(self, o, eg_length, eg_width, eg_height, roof_length, roof_width, angle):\n",
    "#        o[2] = 0  # verschiebe Ursprungs z-Koordinate auf 0\n",
    "        angle = angle * np.pi / 180  #rechne Winkel in Bogenmaß um \n",
    "        \n",
    "        # Solid-Mask des Hauses\n",
    "        inside_mask = np.zeros_like(self.grid[0], dtype=bool)\n",
    "        inside_mask = np.where(np.logical_and(\n",
    "                                np.logical_and(np.logical_and(o[0] - eg_length / 2 < self.grid[0], self.grid[0] < o[0] + eg_length / 2),\n",
    "                                               np.logical_and(o[1] - eg_width / 2 < self.grid[1], self.grid[1] < o[1] + eg_width / 2)\n",
    "                                               ), \n",
    "                                np.logical_and(o[2] - eg_height <= self.grid[2], self.grid[2] <= o[2] + eg_height)\n",
    "                                              ), \n",
    "                               True, inside_mask)\n",
    "        # wo o_x-eg_length/2 < grid_x < o_x+eg_length/2\n",
    "        #   UND: o_y-eg_width/2 < grid_y < o_y+eg_width/2\n",
    "        #   UND: o_z-eg_height <= grid_z <= o_z+eg_height  <- das hier ist wierd, weils bis in den Boden geht^^\n",
    "        # => das resultiert in einem symmetrischen Quader um den Urpsprung o, d.h. aber auch, dass das ganze  wenn o[2]=0 ist, im Boden liegt? -> oder ist das in PU?\n",
    "        inside_mask = np.where(np.logical_and(\n",
    "                                  np.logical_and(\n",
    "                                     np.logical_and(\n",
    "                                          np.logical_and(o[0] - roof_length / 2 < self.grid[0], self.grid[0] < o[0] + roof_length / 2),\n",
    "                                          np.logical_and(o[1] - roof_width / 2 < self.grid[1], self.grid[1] < o[1] + roof_width / 2)\n",
    "                                                    ),\n",
    "                                     np.logical_and(o[2] + eg_height < self.grid[2], self.grid[2] < o[2] + eg_height + 0.001 + np.tan(angle) * (self.grid[0] - o[0] + roof_width / 2))\n",
    "                                                 ),\n",
    "                                  self.grid[2] < o[2] + eg_height + 0.001 - np.tan(angle) * (self.grid[0] - o[0] - roof_width / 2)\n",
    "                                               ), \n",
    "                                True, inside_mask)\n",
    "        # wo: o_x-roof_length/2 < grid_x < o_x + roof_length/2\n",
    "        #   UND: o_y-roof_width/2 < grid_y < o_y + roof_width/2\n",
    "        #   UND: o_z + eg_heigth < grid_z < o_z + eg_heigth + 0.001 + tan(angle)*(grid_x-o_x+roof_width/2)\n",
    "        #   UND: grid_z < o_z + eg_height + 0.001 - tan(angle)*(grid_x+o_x-roof_width/2)\n",
    "        # => das resultiert im Dachgiebel. Dachrechteck-Aufsicht in x und y und dann Höhe dieser Punkte abh. von ihrer x-Koordinate\n",
    "    \n",
    "        \"\"\"make masks for fs to be bounced / not streamed by going over all obstacle points and\n",
    "        following all e_i's to find neighboring points and which of their fs point towards the obstacle\n",
    "        (fs pointing to obstacle are added to no_stream_mask, fs pointing away are added to bouncedFs)\"\"\"\n",
    "    \n",
    "        # ERSTELLE MASKE ALLER Pops, die aus dem Haus raus strömen\n",
    "        x, y, z = inside_mask.shape\n",
    "        outgoing_mask = np.zeros((self.units.lattice.Q, x, y, z), dtype=bool)\n",
    "        a, b, c = np.where(inside_mask)\n",
    "        for p in range(0, len(a)):\n",
    "            for i in range(0, self.units.lattice.Q):\n",
    "                try:  # try in case the neighboring cell does not exist (an f pointing out of simulation domain)\n",
    "                    if not inside_mask[a[p] + self.units.lattice.stencil.e[i, 0], b[p] + self.units.lattice.stencil.e[i, 1], c[p] + self.units.lattice.stencil.e[i, 2]]:\n",
    "                        outgoing_mask[i, a[p] + self.units.lattice.stencil.e[i, 0], b[p] + self.units.lattice.stencil.e[i, 1], c[p] + self.units.lattice.stencil.e[i, 2]] = 1\n",
    "                except IndexError:\n",
    "                    pass  # just ignore this iteration since there is no neighbor there\n",
    "    \n",
    "        # ERSTELLE Messpunkte als x,y,z Tupel\n",
    "        # erstelle Punkte in der x,y Ebene\n",
    "        measurement_points = []\n",
    "        measurement_points.append(o + np.asarray([roof_length * 0.25, -roof_width * 0.25, 0]))\n",
    "        measurement_points.append(o + np.asarray([roof_length * 0.75, -roof_width * 0.25, 0]))\n",
    "        measurement_points.append(o + np.asarray([roof_length * 0.25, roof_width * 0.25, 0]))\n",
    "        measurement_points.append(o + np.asarray([roof_length * 0.75, roof_width * 0.25, 0]))\n",
    "        measurement_points.append(o + np.asarray([roof_length * 0.5, 0, 0]))\n",
    "    \n",
    "        # weise Punkten korrekte z-Höhe zu\n",
    "        for point in measurement_points:\n",
    "            point[2] = eg_height + 0.001 - np.tan(angle) * (point[0] - o[0] - roof_width / 2)\n",
    "            for i in range(0, 3):\n",
    "                point[i] = int(self.units.convert_length_to_lu(point[i]))\n",
    "            point[2] += 2\n",
    "    \n",
    "        return inside_mask #, measurement_points\n",
    "    \n",
    "    def house2(self, o, eg_x_length, eg_y_length, roof_height, roof_overhang, roof_width=0, angle=45):\n",
    "        if roof_width == 0:  # OPTION FÜR seitlichen Überhang\n",
    "            roof_width=eg_y_length\n",
    "#        o[2] = 0\n",
    "        angle = angle * np.pi / 180\n",
    "        \n",
    "        #EG_HEIGHT (abh. von roof_height)\n",
    "        eg_height = roof_height - (eg_x_length / 2 + roof_overhang) * np.tan(angle)  # ERRECHNE eg_height\n",
    "        self.eg_height = eg_height\n",
    "        \n",
    "        \n",
    "        # SOLID MASK\n",
    "        inside_mask = np.zeros_like(self.grid[0], dtype=bool)\n",
    "        \n",
    "        # EG-Würfel\n",
    "        inside_mask = np.where(np.logical_and(\n",
    "            np.logical_and(np.logical_and(o[0] - eg_x_length / 2 < self.grid[0], self.grid[0] < o[0] + eg_x_length / 2),\n",
    "                           np.logical_and(o[1] - eg_y_length / 2 < self.grid[1], self.grid[1] < o[1] + eg_y_length / 2)),\n",
    "                            np.logical_and(o[2] - eg_height <= self.grid[2], self.grid[2] <= o[2] + eg_height)), True, inside_mask)\n",
    "        # DACH Prisma mit overhang\n",
    "        inside_mask = np.where(np.logical_and(\n",
    "                        np.logical_and(np.logical_and(o[0] - eg_x_length / 2 - roof_overhang < self.grid[0], self.grid[0] < o[0] + eg_x_length / 2 + roof_overhang),\n",
    "                        np.logical_and(o[1] - roof_width / 2 < self.grid[1], self.grid[1] < o[1] + roof_width / 2)),\n",
    "                        np.logical_and(o[2] + eg_height < self.grid[2],\n",
    "                        self.grid[2] < o[2] + roof_height + 0.001 - np.tan(angle) * np.abs(self.grid[0] - o[0]))), True, inside_mask)\n",
    "        #inside_mask = np.where(np.logical_and(\n",
    "        #                np.logical_and(np.logical_and(o[0] - eg_x_length / 2 - roof_overhang < self.grid[0],self.grid[0] < o[0] + eg_x_length / 2 + roof_overhang),\n",
    "        #                np.logical_and(o[1] - roof_width / 2 < self.grid[1],self.grid[1] < o[1] + roof_width / 2)),\n",
    "        #                np.logical_and(o[2] + eg_height < self.grid[2],\n",
    "        #                self.grid[2] < o[2] + eg_height + self.units.convert_length_to_pu(1.5))), True, inside_mask)\n",
    "    \n",
    "        \"\"\"make masks for fs to be bounced / not streamed by going over all obstacle points and\n",
    "        following all e_i's to find neighboring points and which of their fs point towards the obstacle\n",
    "        (fs pointing to obstacle are added to no_stream_mask, fs pointing away are added to bouncedFs)\"\"\"\n",
    "    \n",
    "        # x, y, z = inside_mask.shape\n",
    "        # outgoing_mask = np.zeros((self.units.lattice.Q, x, y, z), dtype=bool)\n",
    "        # a, b, c = np.where(inside_mask)\n",
    "        # for p in range(0, len(a)):\n",
    "        #     for i in range(0, self.units.lattice.Q):\n",
    "        #         try:  # try in case the neighboring cell does not exist (an f pointing out of simulation domain)\n",
    "        #             if not inside_mask[a[p] + self.units.lattice.stencil.e[i, 0], b[p] + self.units.lattice.stencil.e[i, 1], c[p] + self.units.lattice.stencil.e[i, 2]]:\n",
    "        #                 outgoing_mask[i, a[p] + self.units.lattice.stencil.e[i, 0], b[p] + self.units.lattice.stencil.e[i, 1], c[p] + self.units.lattice.stencil.e[i, 2]] = 1\n",
    "        #         except IndexError:\n",
    "        #             pass  # just ignore this iteration since there is no neighbor there\n",
    "        # \n",
    "        # #auf dem Dach:\n",
    "        # measurement_points = []\n",
    "        # measurement_points.append(o + np.asarray([(eg_y_length / 2 + roof_overhang) * 0.25, -roof_width * 0.25, 0]))\n",
    "        # measurement_points.append(o + np.asarray([(eg_y_length / 2 + roof_overhang) * 0.75, -roof_width * 0.25, 0]))\n",
    "        # measurement_points.append(o + np.asarray([(eg_y_length / 2 + roof_overhang) * 0.25, roof_width * 0.25, 0]))\n",
    "        # measurement_points.append(o + np.asarray([(eg_y_length / 2 + roof_overhang) * 0.75, roof_width * 0.25, 0]))\n",
    "        # measurement_points.append(o + np.asarray([(eg_y_length / 2 + roof_overhang) * 0.5, 0, 0]))\n",
    "        # \n",
    "        # #auf der Vorderseite vom Dach?\n",
    "        # \n",
    "        # measurement_points.append(o - np.asarray([(eg_y_length / 2 + roof_overhang) * 0.25, -roof_width * 0.25, 0]))\n",
    "        # measurement_points.append(o - np.asarray([(eg_y_length / 2 + roof_overhang) * 0.75, -roof_width * 0.25, 0]))\n",
    "        # measurement_points.append(o - np.asarray([(eg_y_length / 2 + roof_overhang) * 0.25, roof_width * 0.25, 0]))\n",
    "        # measurement_points.append(o - np.asarray([(eg_y_length / 2 + roof_overhang) * 0.75, roof_width * 0.25, 0]))\n",
    "        # measurement_points.append(o - np.asarray([(eg_y_length / 2 + roof_overhang) * 0.5, 0, 0]))\n",
    "        # \n",
    "        # for point in measurement_points:\n",
    "        #     point[2] = o[2] + roof_height + 0.001 - np.tan(angle) * np.abs(point[0] - o[0])\n",
    "        #     for i in range(0, 3):\n",
    "        #         point[i] = int(self.units.convert_length_to_lu(point[i]))\n",
    "        #     point[2] += 2\n",
    "        # \n",
    "        # measurement_points += [point + np.array([0, 0, 8]) for point in measurement_points[0:10]]\n",
    "        # measurement_points += [point + np.array([0, 0, 18]) for point in measurement_points[0:10]]\n",
    "        # \n",
    "        #     # im freien Raum vor dem Haus\n",
    "        # \n",
    "        # measurement_points.append(np.asarray([int(self.units.convert_length_to_lu(x)) for x in [self.grid.shape[0] * 0.05, self.grid.shape[1] / 2, self.grid.shape[2] / 2]]))\n",
    "    \n",
    "        return inside_mask #, measurement_points\n",
    "    \n",
    "    def house3a(self, o, eg_x_length, eg_y_length, eg_height, roof_overhang, roof_width=0, angle=45):\n",
    "        # In LU, weil da sonst immer alles nicht stimmt^^ alles außer Winkel ist jetzt in LU roof_width gibts nich\n",
    "        angle = angle * np.pi / 180\n",
    "        self.eg_height = eg_height  # EG_Height unabhängig\n",
    "        roof_width = eg_y_length\n",
    "        \n",
    "        # SOLID MASK\n",
    "        inside_mask = np.zeros_like(self.grid[0], dtype=bool)\n",
    "        \n",
    "        # EG-Würfel\n",
    "        inside_mask[int(o[0] - eg_x_length / 2):int(o[0] + eg_x_length / 2),\n",
    "                    int(o[1] - eg_y_length / 2):int(o[1] + eg_y_length / 2), \n",
    "                    :eg_height] = True\n",
    "        # erste Dach-Schicht mit Überhang in x-Richtung\n",
    "        inside_mask[int(o[0] - eg_x_length / 2 - roof_overhang):int(o[0] + eg_x_length / 2 + roof_overhang),\n",
    "                    int(o[1] - eg_y_length / 2):int(o[1] + eg_y_length / 2), \n",
    "                    eg_height] = True\n",
    "        \n",
    "        # DACH Prisma ab eg_height+1 aufwärts (inkl. Overhang)\n",
    "        #   z-height kleiner als \"Dachoberfläche\", x um (o_x+eg_x_length/2) reduziert für den tangens und erhöht für tangens (sollte vorder und Rückseite sein?)\n",
    "        #   t-Höhe wird um 0.001 toleranz verglichen für Rechenfehler (wird ja in LU verglichen)\n",
    "        inside_mask[int(o[0] - eg_x_length / 2 - roof_overhang):int(o[0] + eg_x_length / 2 + roof_overhang),\n",
    "                    int(o[1] - eg_y_length / 2):int(o[1] + eg_y_length / 2), eg_height + 1:] = \\\n",
    "            np.where(np.logical_and(self.units.convert_length_to_lu(\n",
    "                self.grid[2][int(o[0] - eg_x_length / 2 - roof_overhang):int(o[0] + eg_x_length / 2 + roof_overhang),int(o[1] - eg_y_length / 2):int(o[1] + eg_y_length / 2), eg_height + 1:]  # z height\n",
    "                                                                    ) < o[2] + eg_height + 0.001 - np.tan(angle) * (self.units.convert_length_to_lu(\n",
    "                    self.grid[0][int(o[0] - eg_x_length / 2 - roof_overhang):int(o[0] + eg_x_length / 2 + roof_overhang),int(o[1] - eg_y_length / 2):int(o[1] + eg_y_length / 2), eg_height + 1:]  # x for tangens\n",
    "                                                                        ) - o[0] - eg_x_length/2),  # PLUS\n",
    "                                    self.units.convert_length_to_lu(\n",
    "                self.grid[2][int(o[0] - eg_x_length / 2 - roof_overhang):int(o[0] + eg_x_length / 2 + roof_overhang),int(o[1] - eg_y_length / 2):int(o[1] + eg_y_length / 2), eg_height + 1:]  # z height\n",
    "                                                                    ) < o[2] + eg_height + 0.001 + np.tan(angle) * (self.units.convert_length_to_lu(\n",
    "                    self.grid[0][int(o[0] - eg_x_length / 2 - roof_overhang):int(o[0] + eg_x_length / 2 + roof_overhang),int(o[1] - eg_y_length / 2):int(o[1] + eg_y_length / 2), eg_height + 1:]  # x for tangens\n",
    "                                                                        ) - o[0] + eg_x_length/2)), # MINUS\n",
    "                     True, \n",
    "                     inside_mask[int(o[0] - eg_x_length / 2 - roof_overhang):int(o[0] + eg_x_length / 2 + roof_overhang), int(o[1] - eg_y_length / 2):int(o[1] + eg_y_length / 2), eg_height + 1:])\n",
    "        \n",
    "        # CREATE MESHGRID for measurement_points\n",
    "        x = np.linspace(-0.1, 0.5, 7, endpoint=True)\n",
    "        y = np.linspace(-0.5, 0.5, 11, endpoint=True)\n",
    "        xy = np.meshgrid(y, x)\n",
    "        # xy[x/y, x, y]\n",
    "        measurement_points = np.asarray([(eg_x_length / 2 + roof_overhang) * xy[1], eg_y_length * xy[0], np.zeros_like(xy[0])])\n",
    "    \n",
    "        meas_points = []\n",
    "        meas_points2 = []\n",
    "        meas_points3 = []\n",
    "        meas_points4 = []\n",
    "    \n",
    "        if 0:\n",
    "            for y in range(0, 10):\n",
    "                for x in range(0, 6):\n",
    "                    measurement_points[:, x, y] = measurement_points[:, x, y] + o\n",
    "                    measurement_points[2, x, y] = roof_height + 0.001 - np.tan(angle) * np.abs(measurement_points[0, x, y] - o[0])\n",
    "                    measurement_points[:, x, y] = measurement_points[:, x, y].astype(np.int32)\n",
    "                    meas_points.append(measurement_points[:, x, y].astype(np.int32))\n",
    "                    meas_points2.append(measurement_points[:, x, y] + np.asarray([0, 0, 1]))\n",
    "                    meas_points3.append(measurement_points[:, x, y] + np.asarray([0, 0, 2]))\n",
    "                    meas_points4.append(measurement_points[:, x, y] + np.asarray([0, 0, 3]))\n",
    "    \n",
    "            measurement_points = meas_points + meas_points2 + meas_points3  + meas_points4\n",
    "    \n",
    "            middle_front = np.asarray([(eg_x_length / 2 + roof_overhang) * -0.25, 0, roof_height + 0.001 - np.tan(angle) * np.abs((eg_x_length / 2 + roof_overhang) * -0.25)]) + np.asarray(o)\n",
    "            for i in range(0, 3):\n",
    "                measurement_points.append(middle_front.astype(np.int32) + np.asarray([0, 0, i]))\n",
    "            # Hinter dem Einlass\n",
    "            measurement_points.append(np.asarray([int(self.units.convert_length_to_lu(x)) for x in\n",
    "                                                  [self.grid.shape[0] * 0.05, self.grid.shape[1] / 2,\n",
    "                                                   self.grid.shape[2] / 2]]))\n",
    "        measurement_points=[]\n",
    "        return inside_mask #, measurement_points\n",
    "    \n",
    "    def house3a_newMPI(self, o, eg_x_length, eg_y_length, roof_height, roof_overhang, roof_width=0, angle=45):\n",
    "        #In LU, weil da sonst immer alles nicht stimmt^^ alles außer Winkel ist jetzt in LU roof_width gibts nich\n",
    "        angle = angle * np.pi / 180\n",
    "        \n",
    "        # EG HEIGHT (aus roof_height berechnet)\n",
    "        eg_height = int(round(roof_height - (eg_x_length / 2 + roof_overhang) * np.tan(angle)))\n",
    "        self.eg_height = eg_height\n",
    "        self.roof_height = roof_height\n",
    "        \n",
    "        # SOLID MASK\n",
    "        inside_mask = np.zeros_like(self.grid[0], dtype=bool)\n",
    "        # EG-Quader (bis eg_height, exclusiv eg_height (?))\n",
    "        inside_mask[int(o[0]-eg_x_length/2):int(o[0]+eg_x_length/2), int(o[1]-eg_y_length/2):int(o[1]+eg_y_length/2), :eg_height] = True\n",
    "        # EG-Dach Übergang (eine Schicht mit overhang auf höhe eg_height\n",
    "        inside_mask[int(o[0]-eg_x_length/2-roof_overhang):int(o[0]+eg_x_length/2+roof_overhang), int(o[1]-eg_y_length/2):int(o[1]+eg_y_length/2), eg_height] = True\n",
    "        # DACH-Prisma ab eg_height+1\n",
    "        inside_mask[int(o[0] - eg_x_length / 2-roof_overhang):int(o[0] + eg_x_length / 2+roof_overhang), int(o[1] - eg_y_length / 2):int(o[1] + eg_y_length / 2), eg_height+1:] = \\\n",
    "            np.where(self.units.convert_length_to_lu(self.grid[2][int(o[0] - eg_x_length / 2-roof_overhang):int(o[0] + eg_x_length / 2+roof_overhang), int(o[1] - eg_y_length / 2):int(o[1] + eg_y_length / 2),\n",
    "        eg_height+1:]) < o[2] + roof_height + 0.5 - np.tan(angle) * np.abs(self.units.convert_length_to_lu(self.grid[0][int(o[0] - eg_x_length / 2-roof_overhang):int(o[0] + eg_x_length / 2+roof_overhang), int(o[1] - eg_y_length / 2):int(o[1] + eg_y_length / 2), eg_height+1:]) - o[0]), \n",
    "                     True, \n",
    "                     inside_mask[int(o[0] - eg_x_length / 2-roof_overhang):int(o[0] + eg_x_length / 2+roof_overhang), int(o[1] - eg_y_length / 2):int(o[1] + eg_y_length / 2), eg_height+1:])\n",
    "    \n",
    "        # # LINSPACE/MESHGRID für measurement_points\n",
    "        # x1 = np.linspace(-0.1, 1.0, 12, endpoint=True)\n",
    "        # y1 = np.linspace(-0.5, 0.5, 11, endpoint=True)\n",
    "        # xy = np.meshgrid(y1, x1)\n",
    "        # # xy[x/y, x, y]\n",
    "        # roof_overhang = 6  # warum wird hier der roof_overhang NACH erstellen der Inside-Mask überschrieben? (damit immer die gleichen Messpunkte verwendet werden, unabhängig vom Überhang? - vermutlich)\n",
    "        # measurement_points = np.asarray([(eg_x_length / 2 + roof_overhang) * xy[1], eg_y_length * xy[0], np.zeros_like(xy[0])])\n",
    "        # \n",
    "        # meas_points = []\n",
    "        # meas_points2 = []\n",
    "        # meas_points3 = []\n",
    "        # meas_points4 = []\n",
    "        # \n",
    "        # for y in range(0, len(y1)):\n",
    "        #     for x in range(0, len(x1)):\n",
    "        #         measurement_points[:, x, y] = measurement_points[:, x, y] + o\n",
    "        #         measurement_points[2, x, y] = roof_height + 0.001 - np.tan(angle) * np.abs(measurement_points[0, x, y] - o[0])\n",
    "        #         measurement_points[:, x, y] = measurement_points[:, x, y].astype(np.int32)\n",
    "        #         meas_points.append(measurement_points[:, x, y].astype(np.int32))\n",
    "        #         meas_points2.append(measurement_points[:, x, y] + np.asarray([0, 0, 1]))\n",
    "        #         meas_points3.append(measurement_points[:, x, y] + np.asarray([0, 0, 2]))\n",
    "        #         meas_points4.append(measurement_points[:, x, y] + np.asarray([0, 0, 3]))\n",
    "        # \n",
    "        # measurement_points = meas_points + meas_points2 + meas_points3  + meas_points4\n",
    "        # \n",
    "        # middle_front = np.asarray([(eg_x_length / 2 + roof_overhang) * (-34/36), 0, roof_height + 0.001 - np.tan(angle) * np.abs((eg_x_length / 2 + roof_overhang) * -0.25)]) + np.asarray(o)\n",
    "        # for i in range(0, 3):\n",
    "        #     measurement_points.append(middle_front.astype(np.int32) + np.asarray([0, 0, i]))\n",
    "        # # Hinter dem Einlass\n",
    "        # measurement_points.append(np.asarray([int(self.units.convert_length_to_lu(x)) for x in\n",
    "        #                                       [self.grid.shape[0] * 0.05, self.grid.shape[1] / 2,\n",
    "        #                                        self.grid.shape[2] / 2]]))\n",
    "        return inside_mask #, measurement_points\n",
    "\n",
    "    def house3b(self, o, eg_x_length, eg_y_length, roof_height, roof_overhang, roof_width=0, angle=45):\n",
    "        #In LU, weil da sonst immer alles nicht stimmt^^ alles außer Winkel ist jetzt in LU roof_width gibts nich\n",
    "        angle = angle * np.pi / 180\n",
    "        # eg_height calculated from roof_height\n",
    "        eg_height = int(round(roof_height - (eg_x_length / 2 + roof_overhang) * np.tan(angle)))\n",
    "        self.eg_height = eg_height\n",
    "        self.roof_height = roof_height\n",
    "        \n",
    "        #solid mask\n",
    "        inside_mask = np.zeros_like(self.grid[0], dtype=bool)\n",
    "        # EQ Quader\n",
    "        inside_mask[int(o[0]-eg_x_length/2):int(o[0]+eg_x_length/2), int(o[1]-eg_y_length/2):int(o[1]+eg_y_length/2), :eg_height] = True\n",
    "        # Übergangsschicht mit roof_overhang auf Höhe eg_height\n",
    "        inside_mask[int(o[0]-eg_x_length/2-roof_overhang):int(o[0]+eg_x_length/2+roof_overhang), int(o[1]-eg_y_length/2):int(o[1]+eg_y_length/2), eg_height] = True\n",
    "        # Dach-Prisma anhand der z-Höhe mit tangens-Vergleich aus Winkel und x-Koordinate\n",
    "        inside_mask[int(o[0] - eg_x_length / 2-roof_overhang):int(o[0] + eg_x_length / 2+roof_overhang), int(o[1] - eg_y_length / 2):int(o[1] + eg_y_length / 2), eg_height+1:] = \\\n",
    "            np.where(self.units.convert_length_to_lu(self.grid[2][int(o[0] - eg_x_length / 2-roof_overhang):int(o[0] + eg_x_length / 2+roof_overhang), int(o[1] - eg_y_length / 2):int(o[1] + eg_y_length / 2),\n",
    "        eg_height+1:]) < o[2] + roof_height + 0.5 - np.tan(angle) * np.abs(self.units.convert_length_to_lu(self.grid[0][int(o[0] - eg_x_length / 2-roof_overhang):int(o[0] + eg_x_length / 2+roof_overhang), int(o[1] - eg_y_length / 2):int(o[1] + eg_y_length / 2), eg_height+1:]) - o[0]), \n",
    "                     True, \n",
    "                     inside_mask[int(o[0] - eg_x_length / 2-roof_overhang):int(o[0] + eg_x_length / 2+roof_overhang), int(o[1] - eg_y_length / 2):int(o[1] + eg_y_length / 2), eg_height+1:])\n",
    "    \n",
    "    #     # LINSPACE/MESHGRID für measurement_points\n",
    "    #     x = np.linspace(-0.1, 1, 12, endpoint=True)\n",
    "    #     y = np.linspace(-0.5, 0.5, 11, endpoint=True)\n",
    "    #     xy = np.meshgrid(y, x)\n",
    "    #     # xy[x/y, x, y]\n",
    "    # ### in house3D_final_new2_noverhang: roof_overhang = 6, vermutlich für konsistente Messpunkte, unabhängig vom Überhang\n",
    "    #     measurement_points = np.asarray([(eg_x_length / 2 + roof_overhang) * xy[1], eg_y_length * xy[0], np.zeros_like(xy[0])])\n",
    "    # \n",
    "    #     meas_points = []\n",
    "    #     meas_points2 = []\n",
    "    #     meas_points3 = []\n",
    "    #     meas_points4 = []\n",
    "    # \n",
    "    #     for y in range(0, 10):\n",
    "    #         for x in range(0, 6):\n",
    "    #             measurement_points[:, x, y] = measurement_points[:, x, y] + o\n",
    "    #             measurement_points[2, x, y] = roof_height + 0.001 - np.tan(angle) * np.abs(measurement_points[0, x, y] - o[0])\n",
    "    #             measurement_points[:, x, y] = measurement_points[:, x, y].astype(np.int32)\n",
    "    #             meas_points.append(measurement_points[:, x, y].astype(np.int32))\n",
    "    #             meas_points2.append(measurement_points[:, x, y] + np.asarray([0, 0, 1]))\n",
    "    #             meas_points3.append(measurement_points[:, x, y] + np.asarray([0, 0, 2]))\n",
    "    #             meas_points4.append(measurement_points[:, x, y] + np.asarray([0, 0, 3]))\n",
    "    # \n",
    "    #     measurement_points = meas_points + meas_points2 + meas_points3  + meas_points4\n",
    "    # \n",
    "    #     middle_front = np.asarray([(eg_x_length / 2 + roof_overhang) * (-29/30), 0, roof_height + 0.001 - np.tan(angle) * np.abs((eg_x_length / 2 + roof_overhang) * -0.25)]) + np.asarray(o)\n",
    "    # ### in house3D_final_new2_noverhang: middle_front = np.asarray([(eg_x_length / 2 + roof_overhang) * (-34/36), 0, roof_height + 0.001 - np.tan(angle) * np.abs((eg_x_length / 2 + roof_overhang) * -0.25)]) + np.asarray(o)    \n",
    "    #     for i in range(0, 3):\n",
    "    #         measurement_points.append(middle_front.astype(np.int32) + np.asarray([0, 0, i]))\n",
    "    #     # Hinter dem Einlass\n",
    "    #     measurement_points.append(np.asarray([int(self.units.convert_length_to_lu(x)) for x in\n",
    "    #                                           [self.grid.shape[0] * 0.05, self.grid.shape[1] / 2,\n",
    "    #                                            self.grid.shape[2] / 2]]))\n",
    "        return inside_mask #, measurement_points\n",
    "    \n",
    "    def house3c(self, o, eg_x_length, eg_y_length, eg_height, roof_overhang, roof_width=0, angle=45):\n",
    "        # In LU, weil da sonst immer alles nicht stimmt^^ alles außer Winkel ist jetzt in LU roof_width gibts nich\n",
    "        angle = angle * np.pi / 180\n",
    "        # (!) eg_height vorgegeben und NICHT aus roof_height errechnet (?)\n",
    "        self.eg_height = int(eg_height)\n",
    "        eg_height = self.eg_height\n",
    "        roof_width = eg_y_length\n",
    "        \n",
    "        # solid mask\n",
    "        inside_mask = np.zeros_like(self.grid[0], dtype=bool)\n",
    "        # EG Quader\n",
    "        inside_mask[int(o[0] - eg_x_length / 2):int(o[0] + eg_x_length / 2), int(o[1] - eg_y_length / 2):int(o[1] + eg_y_length / 2), :eg_height] = True\n",
    "        # EG-Dach Übergangsschicht auf Höhe eg_height, mit roof_overhang\n",
    "        inside_mask[int(o[0] - eg_x_length / 2 - roof_overhang):int(o[0] + eg_x_length / 2 + roof_overhang), int(o[1] - eg_y_length / 2):int(o[1] + eg_y_length / 2), eg_height] = True\n",
    "        # DACCH-Prisma\n",
    "        inside_mask[int(o[0] - eg_x_length / 2 - roof_overhang):int(o[0] + eg_x_length / 2 + roof_overhang),\n",
    "        int(o[1] - eg_y_length / 2):int(o[1] + eg_y_length / 2), eg_height + 1:] = \\\n",
    "            np.where(np.logical_and(self.units.convert_length_to_lu(\n",
    "                self.grid[2][int(o[0] - eg_x_length / 2 - roof_overhang):int(o[0] + eg_x_length / 2 + roof_overhang),\n",
    "                int(o[1] - eg_y_length / 2):int(o[1] + eg_y_length / 2), eg_height + 1:]) < o[2] + eg_height + 0.001 - np.tan(angle) * (self.units.convert_length_to_lu(\n",
    "                self.grid[0][int(o[0] - eg_x_length / 2 - roof_overhang):int(o[0] + eg_x_length / 2 + roof_overhang), int(o[1] - eg_y_length / 2):int(o[1] + eg_y_length / 2),\n",
    "                eg_height + 1:]) - o[0] - eg_x_length / 2), self.units.convert_length_to_lu(self.grid[2][int(o[0] - eg_x_length / 2 - roof_overhang):int(o[0] + eg_x_length / 2 + roof_overhang),\n",
    "                int(o[1] - eg_y_length / 2):int(o[1] + eg_y_length / 2),eg_height + 1:])< o[2] + eg_height + 0.001 + np.tan(angle) * (self.units.convert_length_to_lu(\n",
    "                self.grid[0][int(o[0] - eg_x_length / 2 - roof_overhang):int(o[0] + eg_x_length / 2 + roof_overhang),int(o[1] - eg_y_length / 2):int(o[1] + eg_y_length / 2),eg_height + 1:]) - o[0] + eg_x_length / 2)), \n",
    "                     True, \n",
    "                     inside_mask[int(o[0] - eg_x_length / 2 - roof_overhang):int(o[0] + eg_x_length / 2 + roof_overhang), int(o[1] - eg_y_length / 2):int(o[1] + eg_y_length / 2), eg_height + 1:])\n",
    "    \n",
    "        # # measurement_points (sehr vereinfacht ggü. anderen Methoden). von Dachforderkante bis Dachhinterkante, y in der Mitte des Daches / z 3 LU höher\n",
    "        # measurement_points = []\n",
    "        # for x in range(0, eg_x_length+1):\n",
    "        #     _x = o[0] - int(eg_x_length / 2) + x\n",
    "        #     measurement_points.append([_x, o[1], eg_height + np.tan(angle) * (eg_x_length/2 - np.abs(o[0] - _x)) + 3])\n",
    "    \n",
    "        return inside_mask #, measurement_points\n",
    "\n",
    "    def wind_speed_profile(self, z, u_0, alpha=0.25):\n",
    "        \"\"\"Returns the objects of each boundary class for use by the Simulation class\n",
    "\n",
    "            Inputs:\n",
    "            z: height value or array of height values, in PU\n",
    "            u_0: characteristic velocity, applies at roof_height, in PU\n",
    "            alpha: profile shape exponent\n",
    "        \"\"\"\n",
    "        return u_0 * (z / self.roof_height) ** alpha\n",
    "    \n",
    "    def wind_speed_profile_eg(self, z, u_eg, alpha=0.25):\n",
    "        # wind speed profile with reference velocity at eg_height\n",
    "        \n",
    "        # z_zero must be 0.5 dx above z_LU=0, if used with regular bounce-back boundaries\n",
    "        correct_z_height = True\n",
    "        if correct_z_height:\n",
    "            z_0 = self.z_0_PU   # 0.5dx in z-direction\n",
    "            z_ref = self.units.convert_length_to_pu(self.eg_height) - z_0\n",
    "            #return u_eg * ((z-z_0)/z_ref) ** alpha\n",
    "            return torch.where(z<z_0, 0, u_eg * ((z-z_0)/z_ref) ** alpha)\n",
    "        else:\n",
    "            return u_eg * (z / self.eg_height) ** alpha\n",
    "    \n",
    "    def wind_speed_profile_roof(self, z, u_roof, alpha=0.25):\n",
    "        # wind speed profile with reference velocity at roof/ridge height \n",
    "        \n",
    "        correct_z_height = True\n",
    "        if correct_z_height:\n",
    "            z_0 = self.z_0_PU  # 0.5dx in z-direction \n",
    "            z_ref = self.units.convert_length_to_pu(self.roof_height) - z_0\n",
    "            #return u_roof * ((z-z_0)/z_ref) ** alpha\n",
    "            return torch.where(z<z_0, 0, u_roof * ((z-z_0)/z_ref) ** alpha)\n",
    "        else:\n",
    "            return u_roof * (z / self.units.convert_length_to_pu(self.roof_height)) ** alpha\n",
    "        #return u_roof * (z / self.roof_height) ** alpha\n",
    "    \n",
    "    def wind_speed_profile_turb(self, z, u_0):\n",
    "        ## entspricht 3D_literature_neue_Boundary \"wsp\" und TestSEMBoundary/Empty/...\n",
    "        ## hält den Minimalwert auf z_min fest und lässt ihn nicht für z=0 auf 0 abfallen!\n",
    "        # based on DIN Onstwaswindprofil\n",
    "        # all inputs in PU\n",
    "        # return 0.77 * u_max * (z / 10) ** (alpha)\n",
    "        roughness_length = z_0 = 0.02  # meter\n",
    "        k_r = 0.19 * (z_0 / 0.05) ** 0.07\n",
    "        z_min = 1.2\n",
    "\n",
    "        return torch.where(z < z_min, u_0 * k_r * torch.log(torch.tensor(z_min / z_0, device=self.units.lattice.device)) * 1, u_0 * k_r * torch.log(z / z_0) * 1)\n",
    "    \n",
    "    def reyolds_stress_tensor(self, z, u_0):\n",
    "        \"\"\"\n",
    "        inputs in PU\n",
    "        [I_x² * U_x_Mean², ~0, experiment]\n",
    "        [~0, I_y² * U_y_Mean², ~0]\n",
    "        [experiment , ~0, 9I_w² * U_z_Mean²]\n",
    "        \"\"\"\n",
    "        house_length_pu = 10\n",
    "        roof_height_pu = self.units.convert_length_to_pu(self.eg_height) #house_length_pu * 1.25\n",
    "        stress = torch.ones(z.shape + (3, 3), device=self.units.lattice.device)\n",
    "        z_0 = 0.02\n",
    "        z_min = 1.2\n",
    "        stress[..., 0, 0] = torch.where(z > z_min, ((1 - 2e-4 * (np.log10(z_0) + 3)**6)/torch.log(z/z_0))**2 * self.wind_speed_profile(z, u_0)**2, ((1-2e-4*(np.log10(z_0) + 3)**6)/np.log(z_min/z_0))**2 * self.wind_speed_profile(torch.tensor(z_min, device=self.units.lattice.device), u_0)**2)\n",
    "        stress[..., 0, 1] = stress[..., 1, 0] = 0\n",
    "        stress[..., 0, 2] = stress[..., 2, 0] = (0.4243 * (z/100) ** 2 - 2.288 * (z/100) - 2) * 1e-3 * u_0 **2 # function fitted to data from experiment\n",
    "        stress[..., 1, 1] = (0.88/torch.log((z + 0.00001) * (0.33 / roof_height_pu) * 1e5 / 2.5))**2 * self.wind_speed_profile(z, u_0)**2\n",
    "        stress[..., 1, 2] = stress[..., 2, 1] = 0\n",
    "        stress[..., 2, 2] = 0.08**2 * self.wind_speed_profile(z, u_0)**2\n",
    "\n",
    "        return stress * self.units.convert_density_to_pu(self.units.convert_pressure_pu_to_density_lu(0))"
   ],
   "metadata": {
    "collapsed": false,
    "ExecuteTime": {
     "end_time": "2024-07-19T11:55:39.226677707Z",
     "start_time": "2024-07-19T11:55:39.126458338Z"
    }
   },
   "id": "3eb17c3dadfd41ad",
   "execution_count": 15
  },
  {
   "cell_type": "markdown",
   "source": [
    "# INPUT/OUTPUT SETTINGS"
   ],
   "metadata": {
    "collapsed": false
   },
   "id": "eae0c9a55b9dae5d"
  },
  {
   "cell_type": "code",
   "outputs": [],
   "source": [
    "sim_parameters=dict()\n",
    "\n",
    "location = 'hbrs'  # location: 'hbrs', 'beuel'\n",
    "sim_parameters[\"name\"] = \"test_MKcode_v01_hwbb_solid_both\"\n",
    "\n",
    "sim_parameters[\"output_data\"] = True  # create folder and output data to folder\n",
    "sim_parameters[\"output_vtk\"] = True  # output vtk-files of flow\n",
    "sim_parameters[\"vtk_fps\"] = 10  # frames per second PU\n",
    "\n",
    "# location: define set of pathes to get input data from and store sim data to\n",
    "if location == 'hbrs':\n",
    "    sim_parameters[\"output_path\"] = \"/mnt/ScratchHDD1/Max_Scratch/lbm_simulations\"  # lokal HBRS\n",
    "    sim_parameters[\"output_path_vtk\"] = sim_parameters[\"output_path\"]\n",
    "    sim_parameters[\"diIlio_path\"] = '/home/mbille/lettuce/myTest/DiIlio_data/'  # lokal HBRS\n",
    "if location == 'beuel':\n",
    "    sim_parameters[\"output_path\"] = \"/home/max/Documents/lbm_simulations\"  # lokal Bonn\n",
    "    sim_parameters[\"output_path_vtk\"] = sim_parameters[\"output_path\"]\n",
    "    sim_parameters[\"diIlio_path\"] = \"/home/max/lettuce/myTest/DiIlio_data/\" # lokal Bonn\n",
    "\n"
   ],
   "metadata": {
    "collapsed": false,
    "ExecuteTime": {
     "end_time": "2024-07-19T11:55:44.619285063Z",
     "start_time": "2024-07-19T11:55:44.565252649Z"
    }
   },
   "id": "2927437c8e1101d5",
   "execution_count": 16
  },
  {
   "cell_type": "markdown",
   "source": [
    "# SIMULATION PARAMETERS"
   ],
   "metadata": {
    "collapsed": false
   },
   "id": "11865087edd2dab8"
  },
  {
   "cell_type": "code",
   "outputs": [],
   "source": [
    "## HOUSE, GEOMETRY, RESOLUTION\n",
    "sim_parameters[\"house_length_lu\"] = 10 # RESOLUTION / char_length_lu 60\n",
    "#sim_parameters[\"house_length_lu\"] = 1 # RESOLUTION / char_length_lu 60\n",
    "sim_parameters[\"house_length_pu\"] = 1 # char_length_pu\n",
    "\n",
    "##sim_parameters[\"house_origin\"] = (40,40,0)\n",
    "sim_parameters[\"house_origin\"] = (2*sim_parameters[\"house_length_lu\"], 2*sim_parameters[\"house_length_lu\"],0)\n",
    "sim_parameters[\"roof_angle\"] = 45 #15\n",
    "# roof height wird bei MK über 1.25* length übergeben (s.u.)\n",
    "# house_width (eg_y) wird bei MK als gleich zu eg_x mit char_length übergeben (s.u.)\n",
    "\n",
    "# DOMAIN SIZE\n",
    "##sim_parameters[\"domain_dimensions_lu\"] = (120,80,60)  # tuple of domain length X, width Y and height Z\n",
    "sim_parameters[\"domain_dimensions_lu\"] = (6*sim_parameters[\"house_length_lu\"],4*sim_parameters[\"house_length_lu\"],3*sim_parameters[\"house_length_lu\"])  # tuple of domain length X, width Y and height Z\n",
    "\n",
    "\n",
    "# FLOW DYNAMIC PARAMETERS\n",
    "sim_parameters[\"re\"] = 200  # 20000\n",
    "    # Sturm, u_0>20.8m/s => Re>14e6\n",
    "sim_parameters[\"ma\"] = 0.05\n",
    "sim_parameters[\"viscosity_pu\"] = 14.852989758837 * 10**(-6)\n",
    "sim_parameters[\"char_density_pu\"] = 1.2250  # ursprünglich bei der flow-def übergeben s.u. / Dichte bei 15°C, 1atm, passt zu kin.Visk.\n",
    "sim_parameters[\"char_velocity_pu\"] = sim_parameters[\"re\"] * sim_parameters[\"viscosity_pu\"] / sim_parameters[\"house_length_pu\"] # hatte hier \"house_length_pu\"?LU? bis zu 8.5.24 (!), sollte aber nach house3D_final_new2_noverhang.py \"PU\" sein...\n",
    "\n",
    "\n",
    "# TIME, STEPS\n",
    "sim_parameters[\"n_start\"] = 0\n",
    "sim_parameters[\"n_stop_target\"] = 10000\n",
    "sim_parameters[\"t_start\"] = 0\n",
    "sim_parameters[\"t_stop_target\"] = 0\n",
    "\n",
    "if sim_parameters[\"t_stop_target\"] > 0:  # T_target given => n_target will be calculated\n",
    "    sim_parameters[\"n_stop_target\"] = int(sim_parameters[\"t_stop_target\"] * (sim_parameters[\"house_length_lu\"]/sim_parameters[\"house_length_pu\"]) * sim_parameters[\"char_velocity_pu\"] / (sim_parameters[\"ma\"]*1/np.sqrt(3)))\n",
    "    \n",
    "# TODO: perturb init, wenn Haus exakt symmetrisch steht\n",
    "# TODO: continue from checkpoint -> passe n und t start und target an, bzw. berechne Rest-Steps und -Zeit (Pfad (woher), Zeit (welches i, kann im Namen stehen!))\n",
    "# TODO: parameter \"write_cpt\" -> soll auf jeden Fall ein Checkpoint geschrieben werden? (kann in Abh. des stop-status dann noch angepasst werden\n",
    "#       ... wo soll der gespeichert werden etc. (Pfad)\n",
    "\n",
    "# COMPUTATION: CUDA, PRECISION\n",
    "sim_parameters[\"device\"] = \"cuda\"  # cuda, cpu\n",
    "sim_parameters[\"dtype\"] = \"single\" # single, double, half?\n",
    "\n",
    "# LBM PARAMETERS\n",
    "sim_parameters[\"stencil\"] = \"D3Q27\"  # D2Q9, D3Q15, D3Q27\n",
    "sim_parameters[\"collision_operator\"] = \"kbc\"  # reg, kbc, bgk\n",
    "sim_parameters[\"EQLM\"] = True  # use equilibrium_lessMemory\n",
    "\n",
    "# BOUNDARY CONDITIONS\n",
    "sim_parameters[\"bc_inlet\"] = \"EQ\"  # NEX (Non-Equilibrium Extrapolation Inlet U), EQ (Equilibrium Boundary PU), SEI (Synthetic Eddy Inlet)\n",
    "sim_parameters[\"bc_top\"] = \"ZGO\"  # ZGO (zero-gradient outlet), EQ (Equilibrium Boundary PU), EQO (EquilibriumOutletP)\n",
    "sim_parameters[\"bc_outlet\"] = \"EQO\"  # EQO (EquilibriumOutletP)\n",
    "sim_parameters[\"bc_house\"] = \"FWBB\"  # FWBB, HWBB, IBB\n",
    "sim_parameters[\"bc_ground\"] = \"FWBB\"  # FWBB, HWBB, IBB"
   ],
   "metadata": {
    "collapsed": false,
    "ExecuteTime": {
     "end_time": "2024-07-19T12:07:04.356595639Z",
     "start_time": "2024-07-19T12:07:04.271229136Z"
    }
   },
   "id": "c59845a4cdc1f2d6",
   "execution_count": 41
  },
  {
   "cell_type": "markdown",
   "source": [
    "# TIMESTAMP & NAME"
   ],
   "metadata": {
    "collapsed": false
   },
   "id": "4c7e6dfa4a4a209f"
  },
  {
   "cell_type": "code",
   "outputs": [],
   "source": [
    "if sim_parameters[\"output_data\"]:\n",
    "    timestamp = datetime.datetime.now().strftime(\"%y%m%d_%H%M%S\")\n",
    "    sim_parameters[\"ID\"] = str(timestamp) + \"_\" + sim_parameters[\"name\"] + \"_Re\" + str(sim_parameters[\"re\"]) + \"_GPL\" + str(sim_parameters[\"house_length_lu\"]) + \"_\" + sim_parameters[\"collision_operator\"]\n",
    "    os.makedirs(sim_parameters[\"output_path\"]+\"/\"+sim_parameters[\"ID\"])\n",
    "    if sim_parameters[\"output_vtk\"] and not os.path.exists(sim_parameters[\"output_path_vtk\"]+\"/\"+sim_parameters[\"ID\"]):\n",
    "        os.makedirs(sim_parameters[\"output_path_vtk\"]+\"/\"+sim_parameters[\"ID\"])"
   ],
   "metadata": {
    "collapsed": false,
    "ExecuteTime": {
     "end_time": "2024-07-19T12:07:05.093367002Z",
     "start_time": "2024-07-19T12:07:05.085139495Z"
    }
   },
   "id": "669253413e0f1fd8",
   "execution_count": 42
  },
  {
   "cell_type": "markdown",
   "source": [
    "# SIMULATOR SETUP"
   ],
   "metadata": {
    "collapsed": false
   },
   "id": "694924231b8ffa88"
  },
  {
   "cell_type": "code",
   "outputs": [],
   "source": [
    "### SIMULATOR SETUP\n",
    "# create objects, link/assemble\n",
    "\n",
    "# STENCIL\n",
    "if sim_parameters[\"stencil\"] == \"D2Q9\":\n",
    "    stencil = lt.D2Q9\n",
    "elif sim_parameters[\"stencil\"] == \"D3Q15\":\n",
    "    stencil = lt.D3Q15\n",
    "elif sim_parameters[\"stencil\"] == \"D3Q19\":\n",
    "    stencil = lt.D3Q19\n",
    "elif sim_parameters[\"stencil\"] == \"D3Q27\":\n",
    "    stencil = lt.D3Q27\n",
    "else:\n",
    "    print(\"(!) could not read stencil-parameter, default will be used: D3Q27\")\n",
    "    stencil = lt.D3Q27\n",
    "\n",
    "lattice = lt.Lattice(lt.D3Q27, device=torch.device(\"cuda\"), dtype=torch.float32)\n",
    "if sim_parameters[\"EQLM\"] == True:  # use quadratic equilibrium calculation with less memory usage (uses 20% less RAM, uses 2% more runtime [on GPU])\n",
    "    lattice.equilibrium = lt.QuadraticEquilibrium_LessMemory(lattice)\n",
    "    \n",
    "# original MK: 360x240x180\n",
    "flow = HouseFlow3D(*sim_parameters[\"domain_dimensions_lu\"], sim_parameters[\"re\"], mach_number=sim_parameters[\"ma\"], lattice=lattice,\n",
    "#flow = HouseFlow3D(4, 3, 2, sim_parameters[\"re\"], mach_number=sim_parameters[\"ma\"], lattice=lattice,\n",
    "                   char_length_lu=sim_parameters[\"house_length_lu\"], char_length_pu=sim_parameters[\"house_length_pu\"],\n",
    "                   char_density_pu=sim_parameters[\"char_density_pu\"], char_velocity_pu=sim_parameters[\"char_velocity_pu\"],\n",
    "                   house_bc=sim_parameters[\"bc_house\"],\n",
    "                   inlet_bc=sim_parameters[\"bc_inlet\"]\n",
    "                   )\n",
    "# TODO: House parametrierbar machen.\n",
    "#   - welches House? -> gucke alle Häuser an und schreibe \"Verschiedenheiten\" zusammen, wählbar, vergleichbar\n",
    "#   - Boundaries per Parameter wählbar (Inlet, bb_house, bb_ground, bc_top?)\n",
    "#   - sinnvolle defaults\n",
    "#   - als BC-Parameter die sim_parameters aus dem dict von oben nehmen\n",
    "\n",
    "# generate house mask and set it as mask of flow\n",
    "# original MK: 120, 120, 0\n",
    "\n",
    "# flow.mask = flow.house([40,  40, 0], \n",
    "#                        eg_x_length=sim_parameters[\"house_length_lu\"],\n",
    "#                        eg_y_length=sim_parameters[\"house_length_lu\"],\n",
    "#                        roof_height=sim_parameters[\"house_length_lu\"]*1.25,\n",
    "#                        # roof_overhang=6, \n",
    "#                        angle=sim_parameters[\"roof_angle\"])\n",
    "\n",
    "# COLLISION OPERATOR\n",
    "if sim_parameters[\"collision_operator\"].casefold() == \"reg\":\n",
    "    collision = lt.RegularizedCollision(lattice, tau=flow.units.relaxation_parameter_lu)\n",
    "elif sim_parameters[\"collision_operator\"].casefold() == \"kbc\":\n",
    "    if isinstance(stencil, lt.D2Q9):\n",
    "        collision = lt.KBCCollision2D(lattice, tau=flow.units.relaxation_parameter_lu)\n",
    "    else:\n",
    "        collision = lt.KBCCollision3D(lattice, tau=flow.units.relaxation_parameter_lu)\n",
    "else:  # default to bgk\n",
    "    print(\"(!) using default BGK collision\")\n",
    "    collision = lt.BGKCollision(lattice, tau=flow.units.relaxation_parameter_lu)\n",
    "    \n",
    "streaming = lt.StandardStreaming(lattice)\n",
    "simulation = lt.Simulation(flow, lattice, collision, streaming)"
   ],
   "metadata": {
    "collapsed": false,
    "ExecuteTime": {
     "end_time": "2024-07-19T12:07:05.442837673Z",
     "start_time": "2024-07-19T12:07:05.419904893Z"
    }
   },
   "id": "f3e7967a88eb9d34",
   "execution_count": 43
  },
  {
   "cell_type": "markdown",
   "source": [
    "## CHECKOUT Initialization"
   ],
   "metadata": {
    "collapsed": false
   },
   "id": "f3efa205a5a87630"
  },
  {
   "cell_type": "code",
   "outputs": [],
   "source": [
    "# print(\"EQB.mask\", simulation._boundaries[-1].mask.shape)\n",
    "# print(\"EQB.mask\", torch.any(simulation._boundaries[-1].mask))\n",
    "# print(\"EQB.velocity.shape\", simulation._boundaries[-1].velocity.shape)\n",
    "# print(\"EQB.pressure.shape\", simulation._boundaries[-1].pressure.shape)\n",
    "# #plt.imshow(lattice.convert_to_numpy(simulation._boundaries[-1].velocity)[2,:,:], origin=\"lower\")\n",
    "# \n",
    "# (nx, ny, nz) = flow.shape\n",
    "# parabola_y = np.zeros((1, ny))\n",
    "# y_coordinates = np.linspace(0, ny,ny)  # linspace() creates n points between 0 and ny, including 0 and ny:\n",
    "# # top and bottom velocity values will be zero to agree with wall-boundary-condition\n",
    "# parabola_y[:, 1:-1] = - 1.5 * np.array(5).max() * y_coordinates[1:-1] * (\n",
    "#             y_coordinates[1:-1] - ny) * 1 / (ny / 2) ** 2  # parabolic velocity profile\n",
    "# # scale with 1.5 to achieve a mean velocity of u_char! -> DIFFERENT FROM cylinder2D and cylinder3D (!)\n",
    "# if flow.units.lattice.D == 2:\n",
    "#     # in 2D u1 needs Dimension 1 x ny (!)\n",
    "#     velocity_y = np.zeros_like(parabola_y)  # y-velocities = 0\n",
    "#     u_inlet = np.stack([parabola_y, velocity_y], axis=0)  # stack/pack u-field\n",
    "# elif flow.units.lattice.D == 3:\n",
    "#     ones_z = np.ones(nz)\n",
    "#     parabola_yz = parabola_y[:, :, np.newaxis] * ones_z\n",
    "#     parabola_yz_zeros = np.zeros_like(parabola_yz)\n",
    "#     # create u_xyz inlet yz-plane:\n",
    "#     u_inlet = np.stack([parabola_yz, parabola_yz_zeros, parabola_yz_zeros], axis=0)  # stack/pack u-field\n",
    "# \n",
    "# print(u_inlet.shape)"
   ],
   "metadata": {
    "collapsed": false,
    "ExecuteTime": {
     "end_time": "2024-07-19T12:07:05.714862891Z",
     "start_time": "2024-07-19T12:07:05.705269520Z"
    }
   },
   "id": "11cef0c6a48c4d48",
   "execution_count": 44
  },
  {
   "cell_type": "markdown",
   "source": [
    "## REPORTER"
   ],
   "metadata": {
    "collapsed": false
   },
   "id": "c1c1426b99d3a09b"
  },
  {
   "cell_type": "code",
   "outputs": [],
   "source": [
    "### REPORTER SETUP\n",
    "# create and append reporters\n",
    "\n",
    "# OBSERVABLE REPORTERS\n",
    "max_u_lu_observable = lt.MaximumVelocityLU(lattice,flow)\n",
    "max_u_lu_reporter = lt.ObservableReporter(max_u_lu_observable,interval=1, out=None)\n",
    "simulation.reporters.append(max_u_lu_reporter)\n",
    "\n",
    "\n",
    "# VTK REPORTER\n",
    "if sim_parameters[\"output_data\"]:\n",
    "    vtk_reporter = lt.VTKReporter(lattice, flow,\n",
    "                                  interval=1,\n",
    "                                 # interval=int(flow.units.convert_time_to_lu(1/sim_parameters[\"vtk_fps\"])), \n",
    "                                  filename_base=sim_parameters[\"output_path_vtk\"]+\"/\"+sim_parameters[\"ID\"] +\"/vtk/out\")\n",
    "    simulation.reporters.append(vtk_reporter)\n",
    "# TODO: obstacle point und cell Maske ausgeben für VTK output\n",
    "# MK hat da auch den \"ouput_mask\" zum vtk_reporter hinzugefügt und kann das nach der Initialisierung aufrufen\n",
    "\n",
    "\n",
    "# NAN REPORTER\n",
    "nan_reporter = lt.NaNReporter(flow,lattice,sim_parameters[\"n_stop_target\"], sim_parameters[\"t_stop_target\"])\n",
    "simulation.reporters.append(nan_reporter)\n",
    "# TODO: flag in simulation, welcher den Step regulär beendet, wenn a) Zeit erreicht, oder b) NaN detektiert wurde.\n",
    "#       ... Idee: simzulation besitzt einen flag \"abort\" oder \"stop\" und ein \"reason\" (string), in den die Reporter schreiben können. \n",
    "#                   ...Dafür werden die Variablen dem Reporter als simulation.variable übergeben, dann muss man nicht komplett simulation übergeben.\n",
    "\n"
   ],
   "metadata": {
    "collapsed": false,
    "ExecuteTime": {
     "end_time": "2024-07-19T12:07:06.425816097Z",
     "start_time": "2024-07-19T12:07:06.419361140Z"
    }
   },
   "id": "9e8a99d7b19fad35",
   "execution_count": 45
  },
  {
   "cell_type": "markdown",
   "source": [
    "# RUN SIMULATION"
   ],
   "metadata": {
    "collapsed": false
   },
   "id": "5e8a0963ddd32183"
  },
  {
   "cell_type": "markdown",
   "source": [
    "## write parameters to file"
   ],
   "metadata": {
    "collapsed": false
   },
   "id": "5638da778d8e10d2"
  },
  {
   "cell_type": "code",
   "outputs": [],
   "source": [],
   "metadata": {
    "collapsed": false,
    "ExecuteTime": {
     "end_time": "2024-07-19T12:07:08.006549930Z",
     "start_time": "2024-07-19T12:07:07.977289541Z"
    }
   },
   "id": "2946c4bad1652478",
   "execution_count": 45
  },
  {
   "cell_type": "markdown",
   "source": [
    "## export solid masks"
   ],
   "metadata": {
    "collapsed": false
   },
   "id": "60d34e772b7b5b6a"
  },
  {
   "cell_type": "code",
   "outputs": [],
   "source": [
    "# TODO\n",
    "#   - über vtk-Reporter? (siehe MK)\n",
    "#   - über extra Methode?\n",
    "#   - über house-Methode?\n",
    "#   - so wie ich das bisher gemacht habe?`-> imagteToVTK, \n",
    "\n",
    "# bisher in Cylinder3D verwendet\n",
    "# mask_dict = dict()\n",
    "# mask_dict[\"mask\"] = flow.obstacle_mask.astype(int)\n",
    "## FÜR 2D: mask_dict[\"mask\"] = flow.obstacle_mask[...,None].astype(int)\n",
    "# imageToVTK(\n",
    "#     path=scratch_dir + dir_name + \"/vtk/obstacle_point\",\n",
    "#     pointData=mask_dict\n",
    "# )\n",
    "# imageToVTK(\n",
    "#     path=scratch_dir + dir_name + \"/vtk/obstacle_cell\",\n",
    "#     cellData=mask_dict\n",
    "# )"
   ],
   "metadata": {
    "collapsed": false,
    "ExecuteTime": {
     "end_time": "2024-07-19T12:07:08.699978644Z",
     "start_time": "2024-07-19T12:07:08.688036599Z"
    }
   },
   "id": "da98bf173f245c29",
   "execution_count": 46
  },
  {
   "cell_type": "markdown",
   "source": [
    "### compare masks"
   ],
   "metadata": {
    "collapsed": false
   },
   "id": "c5072eb6c32b1056"
  },
  {
   "cell_type": "code",
   "outputs": [
    {
     "name": "stdout",
     "output_type": "stream",
     "text": [
      "(60, 40, 30)\n",
      "(60, 40, 30)\n",
      "(60, 40, 30)\n",
      "(60, 40, 30)\n",
      "(60, 40, 30)\n",
      "(60, 40, 30)\n"
     ]
    }
   ],
   "source": [
    "if True:\n",
    "    roof_overhang=0\n",
    "    \n",
    "    # ARBEIT: LU, RH\n",
    "    mask_house_arbeit = flow.house(sim_parameters[\"house_origin\"], \n",
    "                           eg_x_length=sim_parameters[\"house_length_lu\"],\n",
    "                           eg_y_length=sim_parameters[\"house_length_lu\"],\n",
    "                           roof_height=sim_parameters[\"house_length_lu\"]*1.25,\n",
    "                           # roof_overhang=6, \n",
    "                           angle=sim_parameters[\"roof_angle\"])\n",
    "\n",
    "    # HOUSE1: PU?, EGH\n",
    "    mask_house1 = flow.house1(sim_parameters[\"house_origin\"],\n",
    "                              eg_length=sim_parameters[\"house_length_lu\"],\n",
    "                              eg_width=sim_parameters[\"house_length_lu\"],\n",
    "                              eg_height=int(round(sim_parameters[\"house_length_lu\"]*1.25 - (sim_parameters[\"house_length_lu\"] / 2 + roof_overhang) * np.tan(sim_parameters[\"roof_angle\"]))),\n",
    "                              roof_length=sim_parameters[\"house_length_lu\"],\n",
    "                              roof_width=sim_parameters[\"house_length_lu\"],\n",
    "                              angle=sim_parameters[\"roof_angle\"])\n",
    "    \n",
    "    # HOUSE2: \n",
    "    mask_house2 = flow.house2(sim_parameters[\"house_origin\"],\n",
    "                              eg_x_length=sim_parameters[\"house_length_lu\"],\n",
    "                              eg_y_length=sim_parameters[\"house_length_lu\"],\n",
    "                              roof_height=sim_parameters[\"house_length_lu\"]*1.25,\n",
    "                              roof_width=sim_parameters[\"house_length_lu\"],\n",
    "                              roof_overhang=0, \n",
    "                              angle=sim_parameters[\"roof_angle\"])\n",
    "    \n",
    "    mask_house3a = flow.house3a(sim_parameters[\"house_origin\"],\n",
    "                                eg_x_length=sim_parameters[\"house_length_lu\"],\n",
    "                                eg_y_length=sim_parameters[\"house_length_lu\"],\n",
    "                                eg_height=int(round(sim_parameters[\"house_length_lu\"]*1.25 - (sim_parameters[\"house_length_lu\"] / 2 + roof_overhang) * np.tan(sim_parameters[\"roof_angle\"]))),\n",
    "                                roof_width=sim_parameters[\"house_length_lu\"],\n",
    "                                roof_overhang=0,\n",
    "                                angle=sim_parameters[\"roof_angle\"])\n",
    "    \n",
    "    # like arbeit\n",
    "    mask_house3b = flow.house3b(sim_parameters[\"house_origin\"], \n",
    "                                   eg_x_length=sim_parameters[\"house_length_lu\"],\n",
    "                                   eg_y_length=sim_parameters[\"house_length_lu\"],\n",
    "                                   roof_height=sim_parameters[\"house_length_lu\"]*1.25,\n",
    "                                   roof_overhang=0, \n",
    "                                   angle=sim_parameters[\"roof_angle\"])\n",
    "    \n",
    "    # like arbeit\n",
    "    mask_house3a_newMPI = flow.house3a_newMPI(sim_parameters[\"house_origin\"], \n",
    "                                               eg_x_length=sim_parameters[\"house_length_lu\"],\n",
    "                                               eg_y_length=sim_parameters[\"house_length_lu\"],\n",
    "                                               roof_height=sim_parameters[\"house_length_lu\"]*1.25,\n",
    "                                               roof_overhang=0, \n",
    "                                               angle=sim_parameters[\"roof_angle\"])\n",
    "    \n",
    "    # lit_neue Boudnary\n",
    "    mask_house3c = flow.house3c(sim_parameters[\"house_origin\"],\n",
    "                                eg_x_length=sim_parameters[\"house_length_lu\"],\n",
    "                                eg_y_length=sim_parameters[\"house_length_lu\"],\n",
    "                                eg_height=int(round(sim_parameters[\"house_length_lu\"]*1.25 - (sim_parameters[\"house_length_lu\"] / 2 + roof_overhang) * np.tan(sim_parameters[\"roof_angle\"]))),\n",
    "                                roof_width=sim_parameters[\"house_length_lu\"],\n",
    "                                roof_overhang=0,\n",
    "                                angle=sim_parameters[\"roof_angle\"])\n",
    "    print(mask_house_arbeit.shape)\n",
    "    print(mask_house1.shape)\n",
    "    print(mask_house2.shape)\n",
    "    print(mask_house3a.shape)\n",
    "    print(mask_house3b.shape)\n",
    "    print(mask_house3a_newMPI.shape)"
   ],
   "metadata": {
    "collapsed": false,
    "ExecuteTime": {
     "end_time": "2024-07-19T12:14:24.032649487Z",
     "start_time": "2024-07-19T12:14:23.998917975Z"
    }
   },
   "id": "3a34b565a48e486",
   "execution_count": 60
  },
  {
   "cell_type": "code",
   "outputs": [],
   "source": [
    "if True:\n",
    "    house_arbeit_vs_1 = np.logical_xor(mask_house_arbeit,mask_house1)\n",
    "    house1_vs_house2 = np.logical_xor(mask_house1,mask_house2)\n",
    "    house_arbeit_vs_house3a = np.logical_xor(mask_house_arbeit, mask_house3a)\n",
    "    house3a_vs_house_3b = np.logical_xor(mask_house3a, mask_house3b)\n",
    "    house3a_vs_house3a_newMPI = np.logical_xor(mask_house3a, mask_house3a_newMPI)\n",
    "\n"
   ],
   "metadata": {
    "collapsed": false,
    "ExecuteTime": {
     "end_time": "2024-07-19T12:14:25.692152603Z",
     "start_time": "2024-07-19T12:14:25.660521715Z"
    }
   },
   "id": "5d867cd95b112ea3",
   "execution_count": 61
  },
  {
   "cell_type": "code",
   "outputs": [
    {
     "data": {
      "text/plain": "<Figure size 640x480 with 1 Axes>",
      "image/png": "[encoded data removed]"
     },
     "metadata": {},
     "output_type": "display_data"
    },
    {
     "data": {
      "text/plain": "<Figure size 640x480 with 1 Axes>",
      "image/png": "[encoded data removed]"
     },
     "metadata": {},
     "output_type": "display_data"
    },
    {
     "data": {
      "text/plain": "<Figure size 640x480 with 1 Axes>",
      "image/png": "[encoded data removed]"
     },
     "metadata": {},
     "output_type": "display_data"
    },
    {
     "data": {
      "text/plain": "<Figure size 640x480 with 1 Axes>",
      "image/png": "[encoded data removed]"
     },
     "metadata": {},
     "output_type": "display_data"
    },
    {
     "data": {
      "text/plain": "<Figure size 640x480 with 1 Axes>",
      "image/png": "[encoded data removed]"
     },
     "metadata": {},
     "output_type": "display_data"
    }
   ],
   "source": [
    "if True:\n",
    "    plt.figure()\n",
    "    plt.imshow(house_arbeit_vs_1[:,20,:].T, origin=\"lower\")\n",
    "    # plt.figure()\n",
    "    # plt.imshow(house_arbeit_vs_1[20,:,:].T,origin=\"lower\")\n",
    "    plt.figure()\n",
    "    plt.imshow(house1_vs_house2[:,20,:].T,origin=\"lower\")\n",
    "    plt.figure()\n",
    "    plt.imshow(house_arbeit_vs_house3a[:,20,:].T,origin=\"lower\")\n",
    "    plt.figure()\n",
    "    plt.imshow(house3a_vs_house_3b[:,20,:].T,origin=\"lower\")\n",
    "    plt.figure()\n",
    "    plt.imshow(house3a_vs_house3a_newMPI[:,20,:].T,origin=\"lower\")"
   ],
   "metadata": {
    "collapsed": false,
    "ExecuteTime": {
     "end_time": "2024-07-19T12:14:26.551049978Z",
     "start_time": "2024-07-19T12:14:26.247799815Z"
    }
   },
   "id": "64c7d14dc5f2c190",
   "execution_count": 62
  },
  {
   "cell_type": "code",
   "outputs": [
    {
     "data": {
      "text/plain": "<Figure size 640x480 with 1 Axes>",
      "image/png": "[encoded data removed]"
     },
     "metadata": {},
     "output_type": "display_data"
    },
    {
     "data": {
      "text/plain": "<Figure size 640x480 with 1 Axes>",
      "image/png": "[encoded data removed]"
     },
     "metadata": {},
     "output_type": "display_data"
    },
    {
     "data": {
      "text/plain": "<Figure size 640x480 with 1 Axes>",
      "image/png": "[encoded data removed]"
     },
     "metadata": {},
     "output_type": "display_data"
    },
    {
     "data": {
      "text/plain": "<Figure size 640x480 with 1 Axes>",
      "image/png": "[encoded data removed]"
     },
     "metadata": {},
     "output_type": "display_data"
    },
    {
     "data": {
      "text/plain": "<Figure size 640x480 with 1 Axes>",
      "image/png": "[encoded data removed]"
     },
     "metadata": {},
     "output_type": "display_data"
    },
    {
     "data": {
      "text/plain": "<Figure size 640x480 with 1 Axes>",
      "image/png": "[encoded data removed]"
     },
     "metadata": {},
     "output_type": "display_data"
    },
    {
     "data": {
      "text/plain": "<Figure size 640x480 with 1 Axes>",
      "image/png": "[encoded data removed]"
     },
     "metadata": {},
     "output_type": "display_data"
    }
   ],
   "source": [
    "if True:\n",
    "    plt.figure()\n",
    "    plt.imshow(mask_house_arbeit[:,20,:].T, origin=\"lower\")\n",
    "    #plt.imshow(flow.solid_mask[:,20,:].T, origin=\"lower\")\n",
    "    \n",
    "    # ax=plt.gca()\n",
    "    # ax.grid(which=\"major\", color=\"k\", axis='both', linestyle='-', linewidth=2)\n",
    "    plt.figure()\n",
    "    plt.imshow(mask_house1[:,20,:].T,origin=\"lower\")\n",
    "    plt.figure()\n",
    "    plt.imshow(mask_house2[:,20,:].T,origin=\"lower\")\n",
    "    plt.figure()\n",
    "    plt.imshow(mask_house3a[:,20,:].T,origin=\"lower\")\n",
    "    plt.figure()\n",
    "    plt.imshow(mask_house3a_newMPI[:,20,:].T,origin=\"lower\")\n",
    "    plt.figure()\n",
    "    plt.imshow(mask_house3b[:,20,:].T,origin=\"lower\")\n",
    "    plt.figure()\n",
    "    plt.imshow(mask_house3c[:,20,:].T,origin=\"lower\")"
   ],
   "metadata": {
    "collapsed": false,
    "ExecuteTime": {
     "end_time": "2024-07-19T12:15:20.648744521Z",
     "start_time": "2024-07-19T12:15:20.162855210Z"
    }
   },
   "id": "67ed28e8ab9bc255",
   "execution_count": 63
  },
  {
   "cell_type": "raw",
   "source": [
    "maske= mask_house2\n",
    "plt.imshow(maske[:,int(maske.shape[1]/2),:].T,origin=\"lower\")\n",
    "ax = plt.gca()\n",
    "ax.set_xticks(np.arange(-.5,flow.mask.shape[0], 1), minor=True)\n",
    "ax.set_yticks(np.arange(-.5, flow.mask.shape[2], 1), minor=True)\n",
    "ax.grid(which=\"minor\")"
   ],
   "metadata": {
    "collapsed": false
   },
   "id": "c3f91bb8e12bb88e"
  },
  {
   "cell_type": "code",
   "outputs": [
    {
     "data": {
      "text/plain": "20"
     },
     "execution_count": 35,
     "metadata": {},
     "output_type": "execute_result"
    }
   ],
   "source": [
    "#np.where(mask_house_arbeit)\n",
    "2*sim_parameters[\"house_length_lu\"]"
   ],
   "metadata": {
    "collapsed": false,
    "ExecuteTime": {
     "end_time": "2024-07-19T12:00:57.862050851Z",
     "start_time": "2024-07-19T12:00:57.840947190Z"
    }
   },
   "id": "b38666c1affdc693",
   "execution_count": 35
  },
  {
   "cell_type": "markdown",
   "source": [
    "## load checkpoint file"
   ],
   "metadata": {
    "collapsed": false
   },
   "id": "373fc85b4afe8120"
  },
  {
   "cell_type": "code",
   "outputs": [],
   "source": [
    "# if sim_parameters[\"read_cpt\"]:\n",
    "#     simulation.load_checkpoint(cpt_read_cpt, device=lattice.device)\n",
    "#     simulation.i=cpt_read_i # lese \"i\" aus dem Namen des checkpoints, falls nicht findbar, lese i aus Variable?"
   ],
   "metadata": {
    "collapsed": false,
    "ExecuteTime": {
     "end_time": "2024-06-06T15:20:03.677336499Z",
     "start_time": "2024-06-06T15:20:03.670908916Z"
    }
   },
   "id": "ac66b83b8ae030c2",
   "execution_count": 15
  },
  {
   "cell_type": "markdown",
   "source": [
    "## run simulatiion.step() and print computation stats"
   ],
   "metadata": {
    "collapsed": false
   },
   "id": "c755e87a10b82b0"
  },
  {
   "cell_type": "code",
   "outputs": [
    {
     "ename": "KeyboardInterrupt",
     "evalue": "",
     "output_type": "error",
     "traceback": [
      "\u001B[0;31m---------------------------------------------------------------------------\u001B[0m",
      "\u001B[0;31mKeyboardInterrupt\u001B[0m                         Traceback (most recent call last)",
      "Input \u001B[0;32mIn [16]\u001B[0m, in \u001B[0;36m<cell line: 4>\u001B[0;34m()\u001B[0m\n\u001B[1;32m      1\u001B[0m n_steps \u001B[38;5;241m=\u001B[39m sim_parameters[\u001B[38;5;124m\"\u001B[39m\u001B[38;5;124mn_stop_target\u001B[39m\u001B[38;5;124m\"\u001B[39m] \u001B[38;5;241m-\u001B[39m sim_parameters[\u001B[38;5;124m\"\u001B[39m\u001B[38;5;124mn_start\u001B[39m\u001B[38;5;124m\"\u001B[39m]\n\u001B[1;32m      2\u001B[0m t_start \u001B[38;5;241m=\u001B[39m time\u001B[38;5;241m.\u001B[39mtime()\n\u001B[0;32m----> 4\u001B[0m mlups \u001B[38;5;241m=\u001B[39m \u001B[43msimulation\u001B[49m\u001B[38;5;241;43m.\u001B[39;49m\u001B[43mstep\u001B[49m\u001B[43m(\u001B[49m\u001B[43mn_steps\u001B[49m\u001B[43m)\u001B[49m\n\u001B[1;32m      6\u001B[0m t_end \u001B[38;5;241m=\u001B[39m time\u001B[38;5;241m.\u001B[39mtime()\n\u001B[1;32m      7\u001B[0m runtime \u001B[38;5;241m=\u001B[39m t_end\u001B[38;5;241m-\u001B[39mt_start\n",
      "File \u001B[0;32m~/lettuce/lettuce/simulation.py:146\u001B[0m, in \u001B[0;36mSimulation.step\u001B[0;34m(self, num_steps)\u001B[0m\n\u001B[1;32m    144\u001B[0m time5 \u001B[38;5;241m=\u001B[39m timer()\n\u001B[1;32m    145\u001B[0m \u001B[38;5;66;03m# call reporters\u001B[39;00m\n\u001B[0;32m--> 146\u001B[0m \u001B[38;5;28;43mself\u001B[39;49m\u001B[38;5;241;43m.\u001B[39;49m\u001B[43m_report\u001B[49m\u001B[43m(\u001B[49m\u001B[43m)\u001B[49m\n\u001B[1;32m    148\u001B[0m time6 \u001B[38;5;241m=\u001B[39m timer()\n\u001B[1;32m    149\u001B[0m \u001B[38;5;28mself\u001B[39m\u001B[38;5;241m.\u001B[39mtimes[\u001B[38;5;241m0\u001B[39m]\u001B[38;5;241m.\u001B[39mappend(time2\u001B[38;5;241m-\u001B[39mtime1)  \u001B[38;5;66;03m# time to collide\u001B[39;00m\n",
      "File \u001B[0;32m~/lettuce/lettuce/simulation.py:187\u001B[0m, in \u001B[0;36mSimulation._report\u001B[0;34m(self)\u001B[0m\n\u001B[1;32m    185\u001B[0m \u001B[38;5;28;01mdef\u001B[39;00m \u001B[38;5;21m_report\u001B[39m(\u001B[38;5;28mself\u001B[39m):\n\u001B[1;32m    186\u001B[0m     \u001B[38;5;28;01mfor\u001B[39;00m reporter \u001B[38;5;129;01min\u001B[39;00m \u001B[38;5;28mself\u001B[39m\u001B[38;5;241m.\u001B[39mreporters:\n\u001B[0;32m--> 187\u001B[0m         \u001B[43mreporter\u001B[49m\u001B[43m(\u001B[49m\u001B[38;5;28;43mself\u001B[39;49m\u001B[38;5;241;43m.\u001B[39;49m\u001B[43mi\u001B[49m\u001B[43m,\u001B[49m\u001B[43m \u001B[49m\u001B[38;5;28;43mself\u001B[39;49m\u001B[38;5;241;43m.\u001B[39;49m\u001B[43mflow\u001B[49m\u001B[38;5;241;43m.\u001B[39;49m\u001B[43munits\u001B[49m\u001B[38;5;241;43m.\u001B[39;49m\u001B[43mconvert_time_to_pu\u001B[49m\u001B[43m(\u001B[49m\u001B[38;5;28;43mself\u001B[39;49m\u001B[38;5;241;43m.\u001B[39;49m\u001B[43mi\u001B[49m\u001B[43m)\u001B[49m\u001B[43m,\u001B[49m\u001B[43m \u001B[49m\u001B[38;5;28;43mself\u001B[39;49m\u001B[38;5;241;43m.\u001B[39;49m\u001B[43mf\u001B[49m\u001B[43m)\u001B[49m\n",
      "File \u001B[0;32m~/lettuce/lettuce/reporters.py:106\u001B[0m, in \u001B[0;36mVTKReporter.__call__\u001B[0;34m(self, i, t, f)\u001B[0m\n\u001B[1;32m    103\u001B[0m             \u001B[38;5;28mself\u001B[39m\u001B[38;5;241m.\u001B[39mpoint_dict[\u001B[38;5;124mf\u001B[39m\u001B[38;5;124m\"\u001B[39m\u001B[38;5;124mu\u001B[39m\u001B[38;5;132;01m{\u001B[39;00m\u001B[38;5;124m'\u001B[39m\u001B[38;5;124mxyz\u001B[39m\u001B[38;5;124m'\u001B[39m[d]\u001B[38;5;132;01m}\u001B[39;00m\u001B[38;5;124m\"\u001B[39m] \u001B[38;5;241m=\u001B[39m np\u001B[38;5;241m.\u001B[39mwhere(\u001B[38;5;28mself\u001B[39m\u001B[38;5;241m.\u001B[39msolid_mask, \u001B[38;5;241m0\u001B[39m, \u001B[38;5;28mself\u001B[39m\u001B[38;5;241m.\u001B[39mlattice\u001B[38;5;241m.\u001B[39mconvert_to_numpy(u[d, \u001B[38;5;241m.\u001B[39m\u001B[38;5;241m.\u001B[39m\u001B[38;5;241m.\u001B[39m]))\n\u001B[1;32m    105\u001B[0m     \u001B[38;5;66;03m#self.point_dict[\"rho\"] = self.lattice.convert_to_numpy(rho[0, ...])\u001B[39;00m\n\u001B[0;32m--> 106\u001B[0m \u001B[43mwrite_vtk\u001B[49m\u001B[43m(\u001B[49m\u001B[38;5;28;43mself\u001B[39;49m\u001B[38;5;241;43m.\u001B[39;49m\u001B[43mpoint_dict\u001B[49m\u001B[43m,\u001B[49m\u001B[43m \u001B[49m\u001B[43mi\u001B[49m\u001B[43m,\u001B[49m\u001B[43m \u001B[49m\u001B[38;5;28;43mself\u001B[39;49m\u001B[38;5;241;43m.\u001B[39;49m\u001B[43mfilename_base\u001B[49m\u001B[43m)\u001B[49m\n",
      "File \u001B[0;32m~/lettuce/lettuce/reporters.py:44\u001B[0m, in \u001B[0;36mwrite_vtk\u001B[0;34m(point_dict, id, filename_base)\u001B[0m\n\u001B[1;32m     35\u001B[0m \u001B[38;5;28;01mdef\u001B[39;00m \u001B[38;5;21mwrite_vtk\u001B[39m(point_dict, \u001B[38;5;28mid\u001B[39m\u001B[38;5;241m=\u001B[39m\u001B[38;5;241m0\u001B[39m, filename_base\u001B[38;5;241m=\u001B[39m\u001B[38;5;124m\"\u001B[39m\u001B[38;5;124m./data/output\u001B[39m\u001B[38;5;124m\"\u001B[39m):\n\u001B[1;32m     36\u001B[0m     \u001B[38;5;66;03m# OLD Master-version\u001B[39;00m\n\u001B[1;32m     37\u001B[0m     \u001B[38;5;66;03m# vtk.gridToVTK(f\"{filename_base}_{id:08d}\",\u001B[39;00m\n\u001B[0;32m   (...)\u001B[0m\n\u001B[1;32m     42\u001B[0m \n\u001B[1;32m     43\u001B[0m     \u001B[38;5;66;03m# version by M.C.B.\u001B[39;00m\n\u001B[0;32m---> 44\u001B[0m     \u001B[43mvtk\u001B[49m\u001B[38;5;241;43m.\u001B[39;49m\u001B[43mimageToVTK\u001B[49m\u001B[43m(\u001B[49m\n\u001B[1;32m     45\u001B[0m \u001B[43m        \u001B[49m\u001B[43mpath\u001B[49m\u001B[38;5;241;43m=\u001B[39;49m\u001B[38;5;124;43mf\u001B[39;49m\u001B[38;5;124;43m\"\u001B[39;49m\u001B[38;5;132;43;01m{\u001B[39;49;00m\u001B[43mfilename_base\u001B[49m\u001B[38;5;132;43;01m}\u001B[39;49;00m\u001B[38;5;124;43m_\u001B[39;49m\u001B[38;5;132;43;01m{\u001B[39;49;00m\u001B[38;5;28;43mid\u001B[39;49m\u001B[38;5;132;43;01m:\u001B[39;49;00m\u001B[38;5;124;43m08d\u001B[39;49m\u001B[38;5;132;43;01m}\u001B[39;49;00m\u001B[38;5;124;43m\"\u001B[39;49m\u001B[43m,\u001B[49m\n\u001B[1;32m     46\u001B[0m \u001B[43m        \u001B[49m\u001B[43morigin\u001B[49m\u001B[38;5;241;43m=\u001B[39;49m\u001B[43m(\u001B[49m\u001B[38;5;241;43m0.0\u001B[39;49m\u001B[43m,\u001B[49m\u001B[43m \u001B[49m\u001B[38;5;241;43m0.0\u001B[39;49m\u001B[43m,\u001B[49m\u001B[43m \u001B[49m\u001B[38;5;241;43m0.0\u001B[39;49m\u001B[43m)\u001B[49m\u001B[43m,\u001B[49m\n\u001B[1;32m     47\u001B[0m \u001B[43m        \u001B[49m\u001B[43mspacing\u001B[49m\u001B[38;5;241;43m=\u001B[39;49m\u001B[43m(\u001B[49m\u001B[38;5;241;43m1.0\u001B[39;49m\u001B[43m,\u001B[49m\u001B[43m \u001B[49m\u001B[38;5;241;43m1.0\u001B[39;49m\u001B[43m,\u001B[49m\u001B[43m \u001B[49m\u001B[38;5;241;43m1.0\u001B[39;49m\u001B[43m)\u001B[49m\u001B[43m,\u001B[49m\n\u001B[1;32m     48\u001B[0m \u001B[43m        \u001B[49m\u001B[43mcellData\u001B[49m\u001B[38;5;241;43m=\u001B[39;49m\u001B[38;5;28;43;01mNone\u001B[39;49;00m\u001B[43m,\u001B[49m\n\u001B[1;32m     49\u001B[0m \u001B[43m        \u001B[49m\u001B[43mpointData\u001B[49m\u001B[38;5;241;43m=\u001B[39;49m\u001B[43mpoint_dict\u001B[49m\u001B[43m,\u001B[49m\n\u001B[1;32m     50\u001B[0m \u001B[43m        \u001B[49m\u001B[43mfieldData\u001B[49m\u001B[38;5;241;43m=\u001B[39;49m\u001B[38;5;28;43;01mNone\u001B[39;49;00m\u001B[43m,\u001B[49m\n\u001B[1;32m     51\u001B[0m \u001B[43m    \u001B[49m\u001B[43m)\u001B[49m\n",
      "File \u001B[0;32m~/anaconda3/envs/lettuce/lib/python3.10/site-packages/pyevtk-1.5.0-py3.10.egg/pyevtk/hl.py:221\u001B[0m, in \u001B[0;36mimageToVTK\u001B[0;34m(path, origin, spacing, cellData, pointData, fieldData, start)\u001B[0m\n\u001B[1;32m    219\u001B[0m w\u001B[38;5;241m.\u001B[39mclosePiece()\n\u001B[1;32m    220\u001B[0m w\u001B[38;5;241m.\u001B[39mcloseGrid()\n\u001B[0;32m--> 221\u001B[0m \u001B[43m_appendDataToFile\u001B[49m\u001B[43m(\u001B[49m\u001B[43mw\u001B[49m\u001B[43m,\u001B[49m\u001B[43m \u001B[49m\u001B[43mcellData\u001B[49m\u001B[43m,\u001B[49m\u001B[43m \u001B[49m\u001B[43mpointData\u001B[49m\u001B[43m,\u001B[49m\u001B[43m \u001B[49m\u001B[43mfieldData\u001B[49m\u001B[43m)\u001B[49m\n\u001B[1;32m    222\u001B[0m w\u001B[38;5;241m.\u001B[39msave()\n\u001B[1;32m    223\u001B[0m \u001B[38;5;28;01mreturn\u001B[39;00m w\u001B[38;5;241m.\u001B[39mgetFileName()\n",
      "File \u001B[0;32m~/anaconda3/envs/lettuce/lib/python3.10/site-packages/pyevtk-1.5.0-py3.10.egg/pyevtk/hl.py:122\u001B[0m, in \u001B[0;36m_appendDataToFile\u001B[0;34m(vtkFile, cellData, pointData, fieldData)\u001B[0m\n\u001B[1;32m    120\u001B[0m     \u001B[38;5;28;01mfor\u001B[39;00m key \u001B[38;5;129;01min\u001B[39;00m keys:\n\u001B[1;32m    121\u001B[0m         data \u001B[38;5;241m=\u001B[39m pointData[key]\n\u001B[0;32m--> 122\u001B[0m         \u001B[43mvtkFile\u001B[49m\u001B[38;5;241;43m.\u001B[39;49m\u001B[43mappendData\u001B[49m\u001B[43m(\u001B[49m\u001B[43mdata\u001B[49m\u001B[43m)\u001B[49m\n\u001B[1;32m    124\u001B[0m \u001B[38;5;28;01mif\u001B[39;00m cellData \u001B[38;5;129;01mis\u001B[39;00m \u001B[38;5;129;01mnot\u001B[39;00m \u001B[38;5;28;01mNone\u001B[39;00m:\n\u001B[1;32m    125\u001B[0m     keys \u001B[38;5;241m=\u001B[39m \u001B[38;5;28mlist\u001B[39m(cellData\u001B[38;5;241m.\u001B[39mkeys())\n",
      "File \u001B[0;32m~/anaconda3/envs/lettuce/lib/python3.10/site-packages/pyevtk-1.5.0-py3.10.egg/pyevtk/vtk.py:640\u001B[0m, in \u001B[0;36mVtkFile.appendData\u001B[0;34m(self, data)\u001B[0m\n\u001B[1;32m    637\u001B[0m     writeBlockSize(\u001B[38;5;28mself\u001B[39m\u001B[38;5;241m.\u001B[39mxml\u001B[38;5;241m.\u001B[39mstream, block_size)\n\u001B[1;32m    638\u001B[0m     \u001B[38;5;66;03m# else:\u001B[39;00m\n\u001B[1;32m    639\u001B[0m     \u001B[38;5;66;03m#    writeBlockSize64Bit(self.xml.stream, block_size)\u001B[39;00m\n\u001B[0;32m--> 640\u001B[0m     \u001B[43mwriteArrayToFile\u001B[49m\u001B[43m(\u001B[49m\u001B[38;5;28;43mself\u001B[39;49m\u001B[38;5;241;43m.\u001B[39;49m\u001B[43mxml\u001B[49m\u001B[38;5;241;43m.\u001B[39;49m\u001B[43mstream\u001B[49m\u001B[43m,\u001B[49m\u001B[43m \u001B[49m\u001B[43mdata\u001B[49m\u001B[43m)\u001B[49m\n\u001B[1;32m    642\u001B[0m \u001B[38;5;28;01melse\u001B[39;00m:\n\u001B[1;32m    643\u001B[0m     \u001B[38;5;28;01massert\u001B[39;00m \u001B[38;5;28;01mFalse\u001B[39;00m\n",
      "File \u001B[0;32m~/anaconda3/envs/lettuce/lib/python3.10/site-packages/pyevtk-1.5.0-py3.10.egg/pyevtk/evtk.py:99\u001B[0m, in \u001B[0;36mwriteArrayToFile\u001B[0;34m(stream, data)\u001B[0m\n\u001B[1;32m     95\u001B[0m \u001B[38;5;66;03m# NOTE: VTK expects data in FORTRAN order\u001B[39;00m\n\u001B[1;32m     96\u001B[0m \u001B[38;5;66;03m# This is only needed when a multidimensional array has C-layout\u001B[39;00m\n\u001B[1;32m     97\u001B[0m dd \u001B[38;5;241m=\u001B[39m np\u001B[38;5;241m.\u001B[39mravel(data, order\u001B[38;5;241m=\u001B[39m\u001B[38;5;124m\"\u001B[39m\u001B[38;5;124mF\u001B[39m\u001B[38;5;124m\"\u001B[39m)\n\u001B[0;32m---> 99\u001B[0m bin_pack \u001B[38;5;241m=\u001B[39m \u001B[43mstruct\u001B[49m\u001B[38;5;241;43m.\u001B[39;49m\u001B[43mpack\u001B[49m\u001B[43m(\u001B[49m\u001B[43mfmt\u001B[49m\u001B[43m,\u001B[49m\u001B[43m \u001B[49m\u001B[38;5;241;43m*\u001B[39;49m\u001B[43mdd\u001B[49m\u001B[43m)\u001B[49m\n\u001B[1;32m    100\u001B[0m stream\u001B[38;5;241m.\u001B[39mwrite(bin_pack)\n",
      "\u001B[0;31mKeyboardInterrupt\u001B[0m: "
     ]
    }
   ],
   "source": [
    "n_steps = sim_parameters[\"n_stop_target\"] - sim_parameters[\"n_start\"]\n",
    "t_start = time.time()\n",
    "\n",
    "mlups = simulation.step(n_steps)\n",
    "\n",
    "t_end = time.time()\n",
    "runtime = t_end-t_start\n",
    "\n",
    "print(\"MLUPS:\", mlups)\n",
    "print(\"PU-Time: \",flow.units.convert_time_to_pu(n_steps),\" seconds\")\n",
    "print(\"number of steps:\",n_steps)\n",
    "print(\"runtime: \",runtime, \"seconds (\", round(runtime/60,2),\"minutes )\")\n",
    "\n",
    "print(\"current GPU VRAM (MB): \", torch.cuda.memory_allocated(device=\"cuda:0\")/1024/1024)\n",
    "print(\"max. GPU VRAM (MB): \", torch.cuda.max_memory_allocated(device=\"cuda:0\")/1024/1024)\n",
    "\n",
    "[cpuLoad1,cpuLoad5,cpuLoad15] = [x / psutil.cpu_count() * 100 for x in psutil.getloadavg()]\n",
    "print(\"CPU % avg. over last 1 min, 5 min, 15 min; \", round(cpuLoad1,2), round(cpuLoad5,2), round(cpuLoad15,2))\n",
    "\n",
    "ram = psutil.virtual_memory()\n",
    "print(\"current total RAM usage [MB]: \" + str(round(ram.used/(1024*1024),2)) + \" of \" + str(round(ram.total/(1024*1024),2)) + \" MB\")"
   ],
   "metadata": {
    "collapsed": false,
    "ExecuteTime": {
     "end_time": "2024-06-06T15:26:24.036761133Z",
     "start_time": "2024-06-06T15:20:03.670991215Z"
    }
   },
   "id": "c52a9fe0ddfa9929",
   "execution_count": 16
  },
  {
   "cell_type": "markdown",
   "source": [
    "## export stats"
   ],
   "metadata": {
    "collapsed": false
   },
   "id": "9fe8f9dde5071af2"
  },
  {
   "cell_type": "code",
   "outputs": [],
   "source": [
    "flow.units.convert_time_to_pu(2500)"
   ],
   "metadata": {
    "collapsed": false,
    "ExecuteTime": {
     "end_time": "2024-06-06T15:26:24.104382892Z",
     "start_time": "2024-06-06T15:26:24.037355156Z"
    }
   },
   "id": "7d063aa48065be4a",
   "execution_count": null
  },
  {
   "cell_type": "markdown",
   "source": [
    "## write checkpoint"
   ],
   "metadata": {
    "collapsed": false
   },
   "id": "6ea7d4f3cf90274a"
  },
  {
   "cell_type": "code",
   "outputs": [],
   "source": [
    "## write checkpoint\n",
    "#   - abhängig von sim.end_status oderso?\n",
    "#   - schreibe cpt mit korrektem Namen (inkl. i)\n",
    "\n",
    "# alte cylinder3D-variante\n",
    "# if write_cpt:\n",
    "#     try:\n",
    "#         sim.save_checkpoint(scratch_dir+dir_name+\"/\"+timestamp + \"_f_\"+str(sim.i)+\".cpt\", device=\"cpu\")\n",
    "#     except:\n",
    "#         print(\"(!) writing checkpoint failed...\")"
   ],
   "metadata": {
    "collapsed": false,
    "ExecuteTime": {
     "start_time": "2024-06-06T15:26:24.078759531Z"
    }
   },
   "id": "21807b75520e4b7a",
   "execution_count": null
  },
  {
   "cell_type": "markdown",
   "source": [
    "# Process and Export Observables"
   ],
   "metadata": {
    "collapsed": false
   },
   "id": "bccdb161dd3e161f"
  },
  {
   "cell_type": "code",
   "outputs": [
    {
     "data": {
      "text/plain": "<matplotlib.image.AxesImage at 0x7f070c516e30>"
     },
     "execution_count": 32,
     "metadata": {},
     "output_type": "execute_result"
    },
    {
     "data": {
      "text/plain": "<Figure size 640x480 with 1 Axes>",
      "image/png": "[encoded data removed]"
     },
     "metadata": {},
     "output_type": "display_data"
    }
   ],
   "source": [
    "p,u = flow.initial_solution(flow.grid)\n",
    "\n",
    "\n",
    "u_now = flow.units.lattice.convert_to_numpy(flow.units.lattice.u(simulation.f))\n",
    "plt.imshow(u_now[0][:,20,:].T, origin=\"lower\")"
   ],
   "metadata": {
    "collapsed": false,
    "ExecuteTime": {
     "end_time": "2024-06-06T15:35:48.248086561Z",
     "start_time": "2024-06-06T15:35:48.145043786Z"
    }
   },
   "id": "d4fafedeccd45e0",
   "execution_count": 32
  },
  {
   "cell_type": "code",
   "outputs": [
    {
     "data": {
      "text/plain": "Text(0.5, 0, 'timesteps (simulation time / LU)')"
     },
     "execution_count": 33,
     "metadata": {},
     "output_type": "execute_result"
    },
    {
     "data": {
      "text/plain": "<Figure size 640x480 with 1 Axes>",
      "image/png": "[encoded data removed]"
     },
     "metadata": {},
     "output_type": "display_data"
    }
   ],
   "source": [
    "max_u_lu = np.array(max_u_lu_reporter.out)\n",
    "#print('  stepLU        ', 'timePU        ', 'Cd')\n",
    "#print(drag_coefficient) # prints: stepLU, timePU, value\n",
    "\n",
    "fig, ax = plt.subplots(constrained_layout=True)\n",
    "ax.plot(max_u_lu[:,1],max_u_lu[:,2]/(1/np.sqrt(3)))\n",
    "#ax.axhline(y=,color='r')\n",
    "ax.set_xlabel(\"physical time / s\")\n",
    "ax.set_ylabel(\"max_Ma\")\n",
    "#ax.set_ylim([0.5,1.6])\n",
    "ax.set_ylim([0,0.1])\n",
    "secax = ax.secondary_xaxis('top', functions=(flow.units.convert_time_to_lu, flow.units.convert_time_to_pu))\n",
    "secax.set_xlabel(\"timesteps (simulation time / LU)\")"
   ],
   "metadata": {
    "collapsed": false,
    "ExecuteTime": {
     "end_time": "2024-06-06T15:38:38.599363907Z",
     "start_time": "2024-06-06T15:38:38.321969851Z"
    }
   },
   "id": "486141619a17307a",
   "execution_count": 33
  },
  {
   "cell_type": "markdown",
   "source": [
    "# output CUDA-VRAM-Data"
   ],
   "metadata": {
    "collapsed": false
   },
   "id": "7839e2d446ff7cdc"
  },
  {
   "cell_type": "code",
   "outputs": [],
   "source": [
    "# if output_data:\n",
    "#     ### CUDA-VRAM-summary:\n",
    "#     output_file = open(output_path + dir_name + \"/\" + timestamp + \"_GPU_memory_summary.txt\", \"a\")\n",
    "#     output_file.write(\"DATA for \" + timestamp + \"\\n\\n\")\n",
    "#     output_file.write(torch.cuda.memory_summary(lattice.device))\n",
    "#     output_file.close()\n",
    "# \n",
    "#     try:\n",
    "#         ### list present torch tensors:\n",
    "#         output_file = open(output_path + dir_name + \"/\" + timestamp + \"_GPU_list_of_tensors.txt\", \"a\")\n",
    "#         total_bytes = 0\n",
    "#         import gc\n",
    "# \n",
    "#         for obj in gc.get_objects():\n",
    "#             try:\n",
    "#                 if torch.is_tensor(obj) or (hasattr(obj, 'data') and torch.is_tensor(obj.data)):\n",
    "#                     output_file.write(\"\\n\" + str(obj.size()) + \", \" + str(obj.nelement() * obj.element_size()))\n",
    "#                     total_bytes = total_bytes + obj.nelement() * obj.element_size()\n",
    "#             except:\n",
    "#                 pass\n",
    "#         # output_file.write(\"\\n\\ntotal bytes for tensors:\"+str(total_bytes))\n",
    "#         output_file.close()\n",
    "# \n",
    "#         ### count occurence of tensors in list of tensors:\n",
    "#         from collections import Counter\n",
    "# \n",
    "#         my_file = open(output_path + dir_name + \"/\" + timestamp + \"_GPU_list_of_tensors.txt\", \"r\")\n",
    "#         data = my_file.read()\n",
    "#         my_file.close()\n",
    "#         data_into_list = data.split(\"\\n\")\n",
    "#         c = Counter(data_into_list)\n",
    "#         output_file = open(output_path + dir_name + \"/\" + timestamp + \"_GPU_counted_tensors.txt\", \"a\")\n",
    "#         for k, v in c.items():\n",
    "#             output_file.write(\"type,size,bytes: {}, number: {}\\n\".format(k, v))\n",
    "#         output_file.write(\"\\ntotal bytes for tensors:\" + str(total_bytes))\n",
    "#         output_file.close()\n",
    "#     except:\n",
    "#         print(\"(!) counting tensors didn't work!\")"
   ],
   "metadata": {
    "collapsed": false,
    "ExecuteTime": {
     "start_time": "2024-06-06T15:26:24.078986079Z"
    }
   },
   "id": "92391ca0f0bdeb38",
   "execution_count": null
  },
  {
   "cell_type": "markdown",
   "source": [
    "# output results (text)"
   ],
   "metadata": {
    "collapsed": false
   },
   "id": "1665058c19f67b1d"
  },
  {
   "cell_type": "code",
   "outputs": [],
   "source": [],
   "metadata": {
    "collapsed": false,
    "ExecuteTime": {
     "start_time": "2024-06-06T15:26:24.079043058Z"
    }
   },
   "id": "463b7ab99165e5d3",
   "execution_count": null
  },
  {
   "cell_type": "markdown",
   "source": [
    "## output results in copyable (excel, no headers)"
   ],
   "metadata": {
    "collapsed": false
   },
   "id": "706ef79333c45f25"
  },
  {
   "cell_type": "code",
   "outputs": [],
   "source": [],
   "metadata": {
    "collapsed": false,
    "ExecuteTime": {
     "start_time": "2024-06-06T15:26:24.079090547Z"
    }
   },
   "id": "cc5ed6ef52fa385d",
   "execution_count": null
  },
  {
   "cell_type": "raw",
   "source": [
    "lattice.stencil.e\n"
   ],
   "metadata": {
    "collapsed": false
   },
   "id": "55c96152d4d67978"
  },
  {
   "cell_type": "raw",
   "source": [
    "lattice.stencil.opposite   "
   ],
   "metadata": {
    "collapsed": false
   },
   "id": "e60d978cd01305f6"
  },
  {
   "cell_type": "raw",
   "source": [
    "flow.boundaries[-1].index"
   ],
   "metadata": {
    "collapsed": false
   },
   "id": "79a9c13d3e03b5b7"
  },
  {
   "cell_type": "raw",
   "source": [
    "flow.boundaries[-1].velocities_out"
   ],
   "metadata": {
    "collapsed": false
   },
   "id": "db09e10d696a4e51"
  },
  {
   "cell_type": "raw",
   "source": [
    "torch.where(flow.boundaries [-1].make_no_stream_mask(simulation.f.shape))"
   ],
   "metadata": {
    "collapsed": false
   },
   "id": "aeda444737a07f8a"
  },
  {
   "cell_type": "raw",
   "source": [
    "simulation.streaming.no_stream_mask\n"
   ],
   "metadata": {
    "collapsed": false
   },
   "id": "2933f1c7504ff758"
  },
  {
   "cell_type": "raw",
   "source": [],
   "metadata": {
    "collapsed": false
   },
   "id": "7134bf15e921643c"
  }
 ],
 "metadata": {
  "kernelspec": {
   "display_name": "Python 3",
   "language": "python",
   "name": "python3"
  },
  "language_info": {
   "codemirror_mode": {
    "name": "ipython",
    "version": 2
   },
   "file_extension": ".py",
   "mimetype": "text/x-python",
   "name": "python",
   "nbconvert_exporter": "python",
   "pygments_lexer": "ipython2",
   "version": "2.7.6"
  }
 },
 "nbformat": 4,
 "nbformat_minor": 5
}
