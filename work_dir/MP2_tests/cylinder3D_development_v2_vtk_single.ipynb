{
 "cells": [
  {
   "cell_type": "code",
   "execution_count": 1,
   "metadata": {
    "collapsed": true,
    "ExecuteTime": {
     "end_time": "2024-06-06T14:14:57.364811518Z",
     "start_time": "2024-06-06T14:14:56.342699565Z"
    }
   },
   "outputs": [],
   "source": [
    "import lettuce as lt\n",
    "import matplotlib.pyplot as plt\n",
    "from scipy.signal import find_peaks\n",
    "import numpy as np\n",
    "from lettuce.boundary import EquilibriumBoundaryPU, EquilibriumOutletP, AntiBounceBackOutlet\n",
    "from lettuce.observables import Observable\n",
    "from lettuce.unit import UnitConversion\n",
    "from lettuce.util import append_axes\n",
    "from lettuce import ObstacleMax3D\n",
    "from lettuce.flows.obstacleCylinder import ObstacleCylinder\n",
    "import torch\n",
    "import time\n",
    "import datetime\n",
    "import os\n",
    "import psutil\n",
    "import shutil\n",
    "from pyevtk.hl import imageToVTK"
   ]
  },
  {
   "cell_type": "code",
   "execution_count": 2,
   "outputs": [],
   "source": [
    "### OUTPUT SETTINGS\n",
    "#location = 'beuel'\n",
    "location = 'hbrs'\n",
    "\n",
    "output_data = True\n",
    "output_vtk = True # is overwritten with False if output_data=False (see below)\n",
    "vtk_fps = 10\n",
    "calculate_velocity_profile = False  # outputs plots and time-averaged data for plots\n",
    "output_velocity_profile = False  # outputs the full time series (!)\n",
    "\n",
    "# IMPORTANT: set correct output_path, for example \"/home/YourUserName/simulation_output\"\n",
    "# IMPORTANT: set correct input_path for reference data:\n",
    "if location == 'hbrs':\n",
    "    output_path = \"/mnt/ScratchHDD1/Max_Scratch/lbm_simulations\"  # lokal HBRS\n",
    "    diIlio_path = '/home/mbille/lettuce/myTest/DiIlio_data/'  # lokal HBRS\n",
    "if location == 'beuel':\n",
    "    output_path = \"/home/max/Documents/lbm_simulations\"  # lokal Bonn\n",
    "    diIlio_path = \"/home/max/lettuce/myTest/DiIlio_data/\" # lokal Bonn\n",
    "\n",
    "# IMPORTANT: set correct output_path, for example \"/home/YourUserName/simulation_output\"\n",
    "#output_path = \"/mnt/ScratchHDD1/Max_Scratch/lbm_simulations\"  # lokal HBRS\n",
    "#output_path = \"/home/max/Documents/lbm_simulations\"  # lokal Bonn\n",
    "#output_path = \"/home/mbille3s/02_lbm_simulations\"  # cluster HBRS\n",
    "\n",
    "# IMPORTANT: set correct input_path for reference data:\n",
    "#diIlio_path = '/home/mbille/lettuce/myTest/DiIlio_data/'  # lokal HBRS\n",
    "#diIlio_path = \"/home/max/lettuce/myTest/DiIlio_data/\" # lokal Bonn\n",
    "# diIlio_path = '/scratch/mbille3s/21_LBM/03_reference_data/DiIlio_2018/'  # cluster HBRS\n",
    "\n",
    "# name: if you want something specific in the dir-name\n",
    "name = \"cyl3D_vtk_singleframe_oscillation\"\n",
    "\n",
    "# choose stencil: \"D3Q9\" dor 2D, \"D3Q15\", \"D3Q19\", \"D3Q27\" for 3D\n",
    "stencil_choice = \"D3Q27\"\n",
    "# choose collision operator: \"bgk, \"kbc\", \"reg\"\n",
    "collision_choice = \"kbc\""
   ],
   "metadata": {
    "collapsed": false,
    "ExecuteTime": {
     "end_time": "2024-06-06T14:14:57.369851431Z",
     "start_time": "2024-06-06T14:14:57.366986183Z"
    }
   }
  },
  {
   "cell_type": "code",
   "execution_count": 3,
   "outputs": [
    {
     "name": "stdout",
     "output_type": "stream",
     "text": [
      "shape_LU: 100 x 50 x 30\n",
      "T with 34642 steps: 100.0 seconds\n",
      "n_steps to simulate 1 second: 346.41 steps\n",
      "n_steps to simulate 200 seconds: 69282.0 steps\n",
      "generates approx. 1001 .vti/.vtk-frames\n",
      "No. of gridpoints: 150000\n"
     ]
    }
   ],
   "source": [
    "### SIMULATION PARAMETERS (and estimation of timesteps needed to reach T_target)\n",
    "re = 2000   # Reynoldsnumber\n",
    "Ma = 0.05     # Machnumber\n",
    "n_steps = 34642 #145492 # number of steps\n",
    "setup_diameter = 1  # D_PU = char_length_pu -> this defines the PU-Reference\n",
    "flow_velocity = 1  # U_PU = char_velocity_pu -> this defines the PU-Reference velocity (u_max of inflow)\n",
    "\n",
    "# relative starting point for drag-measurement (make sure periodic state is reached)\n",
    "periodic_start = 0.9  # relative start of peak_finding for Cd_mean Measurement to cut of any transients\n",
    "\n",
    "# GEOMETRY\n",
    "gridpoints_per_diameter = 10  # gp_per_D = GPD -> this defines the resolution ( D_LU = GPD)\n",
    "domain_height_in_D = 5  # D/Y = DpY = diameters per domain width in Y-direction -> this defines the domain-size and total number of Lattice-Nodes\n",
    "domain_length_in_D = 2 * domain_height_in_D  # D/X = domain length in X- / flow-direction\n",
    "domain_width_in_D = 3 #1/gridpoints_per_diameter #domain_height_in_D #1/gridpoints_per_diameter  # D/Z = DpZ = diameters per domain width in Z-direction -> domain size in periodic 3rd dimension\n",
    "\n",
    "# RELATION [GPD to DpY] check\n",
    "# if DpY is even, resulting GPD can't be odd for symmetrical cylinder and channel\n",
    "# ...if DpY is even, GPD will be corrected to even GPD for symmetrical cylinder\n",
    "# ...use odd DpY to use odd GPD\n",
    "gpd_correction=False\n",
    "if domain_height_in_D % 2 == 0 and gridpoints_per_diameter % 2 != 0:\n",
    "    gpd_correction = True   # gpd_was_corrected-flag\n",
    "    gpd_setup = gridpoints_per_diameter   # store old gpd for output\n",
    "    gridpoints_per_diameter = int(gridpoints_per_diameter/2)*2   # make gpd even\n",
    "    print(\"(!) domain_height_in_D is even, gridpoints_per_diameter will be \"+str(gridpoints_per_diameter)+\". Use odd domain_height_in_D to enable use of odd GPD!\")\n",
    "\n",
    "# SIMULATOR settings\n",
    "u_init = 0    # initial velocity field: # 0: uniform u=0, # 1: uniform u=1, # 2: parabolic, amplitude u_char_lu (similar to poiseuille-flow)\n",
    "perturb_init = True   # perturb initial symmetry by small sine-wave in initial velocity field -> triggers Karman-vortex street for Re > 46\n",
    "lateral_walls='periodic'  # type of top/bottom boundary: 'bounceback' = frictious wall, 'periodic' = periodic boundary, 'slip' = non-frictious wall\n",
    "bc_type='ibb1c2'  # choose algorithm for bounceback-boundaries: fullway 'fwbb', halfway 'hwbb', linear interpolated 'ibb1'\n",
    "\n",
    "# T_PU to n_steps estimation: (for example for Re=200 the periodic state is reached for T_PU > 140)\n",
    "T_target=200\n",
    "print(\"shape_LU:\", gridpoints_per_diameter*domain_length_in_D, \"x\", gridpoints_per_diameter*domain_height_in_D, \"x\", gridpoints_per_diameter*domain_width_in_D)\n",
    "print(\"T with\", n_steps, \"steps:\", round(n_steps * (setup_diameter/(gridpoints_per_diameter))*(Ma*1/np.sqrt(3)/flow_velocity),2), \"seconds\")\n",
    "print(\"n_steps to simulate 1 second:\", round(((gridpoints_per_diameter)/setup_diameter)*(flow_velocity/(Ma*1/np.sqrt(3))),2), \"steps\")\n",
    "print(\"n_steps to simulate\",T_target,\"seconds:\",T_target*round(((gridpoints_per_diameter)/setup_diameter)*(flow_velocity/(Ma*1/np.sqrt(3))),2), \"steps\")\n",
    "\n",
    "\n",
    "mlups_2060super = 20\n",
    "mlups_2080ti = 30   # 40 for GPD30,DpY19,nsteps=150000 (steigend mit der Auflösung)\n",
    "\n",
    "if output_vtk:\n",
    "    print(\"generates approx.\", int(vtk_fps*(n_steps * (setup_diameter/(gridpoints_per_diameter))*(Ma*1/np.sqrt(3)/flow_velocity)))+1, \".vti/.vtk-frames\")\n",
    "\n",
    "gridpoints = gridpoints_per_diameter**3*domain_length_in_D*domain_height_in_D*domain_width_in_D\n",
    "print(\"No. of gridpoints:\", gridpoints)"
   ],
   "metadata": {
    "collapsed": false,
    "ExecuteTime": {
     "end_time": "2024-06-06T14:14:57.382548687Z",
     "start_time": "2024-06-06T14:14:57.371530622Z"
    }
   }
  },
  {
   "cell_type": "code",
   "execution_count": 4,
   "outputs": [
    {
     "name": "stdout",
     "output_type": "stream",
     "text": [
      "vtk_path: /mnt/ScratchHDD1/Max_Scratch/lbm_simulations/data_240606_161457_cyl3D_vtk_singleframe_oscillation_ibb1c2_GPD10_10x5x3_D3Q27/vtk/out\n",
      "dir_name: /data_240606_161457_cyl3D_vtk_singleframe_oscillation_ibb1c2_GPD10_10x5x3_D3Q27\n"
     ]
    }
   ],
   "source": [
    "### (no user input) CREATE OUTPUT DIRECTORIES\n",
    "if output_data:  # toggle output\n",
    "    timestamp = datetime.datetime.now()\n",
    "    timestamp = timestamp.strftime(\"%y%m%d\")+\"_\"+timestamp.strftime(\"%H%M%S\")\n",
    "\n",
    "    dir_name = \"/data_\" + str(timestamp) + \"_\" + name + \"_\" + bc_type + \"_GPD\" + str(gridpoints_per_diameter) + \"_\" + str(domain_length_in_D) + \"x\" + str(domain_height_in_D) + \"x\" + str(domain_width_in_D) + \"_\" + str(stencil_choice)\n",
    "    os.makedirs(output_path+dir_name)\n",
    "\n",
    "    if output_vtk:\n",
    "        vtk_path = output_path+dir_name+\"/vtk/out\"\n",
    "        print(\"vtk_path: \" + vtk_path)\n",
    "    print(\"dir_name: \"+dir_name)\n",
    "\n",
    "    if calculate_velocity_profile:\n",
    "        os.makedirs(output_path+dir_name+\"/AvgVelocity_Data\")\n",
    "else:\n",
    "    output_vtk = False"
   ],
   "metadata": {
    "collapsed": false,
    "ExecuteTime": {
     "end_time": "2024-06-06T14:14:57.404981532Z",
     "start_time": "2024-06-06T14:14:57.381807075Z"
    }
   }
  },
  {
   "cell_type": "code",
   "execution_count": 5,
   "outputs": [
    {
     "name": "stdout",
     "output_type": "stream",
     "text": [
      "IBB initialization took 0.3038508892059326seconds\n"
     ]
    }
   ],
   "source": [
    "### SIMULATOR SETUP\n",
    "\n",
    "# stencil\n",
    "if stencil_choice == \"D3Q15\":\n",
    "    stencil=lt.D3Q15\n",
    "elif stencil_choice == \"D3Q19\":\n",
    "    stencil=lt.D3Q19\n",
    "else: # stencil_choice==\"D3Q27\"\n",
    "    stencil=lt.D3Q27\n",
    "\n",
    "# lattice\n",
    "# lattice = lt.Lattice(lt.D2Q9, \"cuda:0\", dtype=torch.float64, native=False)  # for \"new lettuce\"\n",
    "lattice = lt.Lattice(stencil, \"cuda:0\", dtype=torch.float32)  #for \"old lettuce\"\n",
    "    # stencil, device, dtype\n",
    "\n",
    "# flow = ObstacleMax3D(reynolds_number=re, mach_number=Ma,\n",
    "#                    lattice=lattice,\n",
    "#                    char_length_pu=setup_diameter,\n",
    "#                    char_length_lu=gridpoints_per_diameter,\n",
    "#                    char_velocity_pu=flow_velocity,\n",
    "#                    x_lu=domain_length_in_D*gridpoints_per_diameter,\n",
    "#                    y_lu=domain_height_in_D*gridpoints_per_diameter,\n",
    "#                    z_lu=domain_width_in_D*gridpoints_per_diameter,\n",
    "#                    lateral_walls=lateral_walls,\n",
    "#                    bb_type=bb_type,\n",
    "#                    perturb_init=perturb_init,\n",
    "#                    u_init=u_init\n",
    "#                   )\n",
    "flow = ObstacleCylinder(shape=(domain_length_in_D*gridpoints_per_diameter,\n",
    "                               domain_height_in_D*gridpoints_per_diameter,\n",
    "                               domain_width_in_D*gridpoints_per_diameter),\n",
    "                        reynolds_number=re, mach_number=Ma,\n",
    "                        lattice=lattice,\n",
    "                        char_length_pu=setup_diameter,\n",
    "                        char_length_lu=gridpoints_per_diameter,\n",
    "                        char_velocity_pu=flow_velocity,\n",
    "                        lateral_walls=lateral_walls,\n",
    "                        bc_type=bc_type,\n",
    "                        perturb_init=perturb_init,\n",
    "                        u_init=u_init\n",
    "                        )\n",
    "\n",
    "# # define a Cylinder-Obstacle\n",
    "# radius_LU = 0.5 * gridpoints_per_diameter\n",
    "# y_pos_LU = 0.5 * gridpoints_per_diameter * domain_height_in_D + 0.5\n",
    "# x_pos_LU = y_pos_LU\n",
    "#\n",
    "# index_list = tuple(np.linspace(1,n,n) for n in flow.shape)  # Tupel index lists (1-n (non zero-based!))\n",
    "# xLU, yLU, zLU = np.meshgrid(*index_list, indexing='ij')  # meshgrid of x-, y- (and z-)indizes/indexs?/indexes?! - this is simulation, not grammar...\n",
    "#\n",
    "# condition = np.sqrt((xLU - x_pos_LU) ** 2 + (yLU - y_pos_LU) ** 2) < radius_LU\n",
    "# flow.obstacle_mask[np.where(condition)] = 1\n",
    "\n",
    "### simulation object (simulator)\n",
    "tau = flow.units.relaxation_parameter_lu  # relaxation parameter\n",
    "re_g = flow.units.characteristic_velocity_lu/(lattice.stencil.cs**2 * (tau-0.5))  # grid reynolds number (should be O(10))\n",
    "\n",
    "# collision\n",
    "if collision_choice == \"reg\":\n",
    "    collision=lt.RegularizedCollision(lattice, tau)\n",
    "elif collision_choice == \"kbc\":\n",
    "    collision=lt.KBCCollision3D(lattice,tau)\n",
    "else: # collision_choice = \"bgk\":\n",
    "    collision=lt.BGKCollision(lattice, tau)\n",
    "\n",
    "# simulation\n",
    "sim = lt.Simulation(flow, lattice,\n",
    "                    collision,\n",
    "                    # lt.BGKCollision(lattice, tau),\n",
    "                    # lt.RegularizedCollision(lattice, tau),\n",
    "                    # lt.KBCCollision2D(lattice,tau),\n",
    "                    lt.StandardStreaming(lattice)\n",
    "                   )\n",
    "    # Flow, Lattice-Parameter, CollisionOperator-Object(Parameter), Streaming-Object\n",
    "\n",
    "### Reporter\n",
    "\n",
    "# VTK Reporter -> Visualization\n",
    "if output_vtk:\n",
    "    VTKreport = lt.VTKReporter(lattice, \n",
    "                               flow, \n",
    "                               interval=1,\n",
    "                               #interval=int(flow.units.convert_time_to_lu(1/vtk_fps)), \n",
    "                               filename_base=vtk_path,\n",
    "                               solid_mask=flow.solid_mask  # pin observables inside the obstacle-mask to ZERO for visualization\n",
    "                               )\n",
    "    sim.reporters.append(VTKreport)\n",
    "    # export obstacle\n",
    "    mask_dict = dict()\n",
    "    mask_dict[\"mask\"] = flow.obstacle_mask.astype(int)\n",
    "    imageToVTK(\n",
    "        path=output_path+dir_name+\"/vtk/obstacle_point\",\n",
    "        pointData=mask_dict\n",
    "    )\n",
    "    imageToVTK(\n",
    "        path=output_path+dir_name+\"/vtk/obstacle_cell\",\n",
    "        cellData=mask_dict\n",
    "    )\n",
    "\n",
    "# Observable reporter: drag coefficient\n",
    "DragObservable = lt.DragCoefficient(lattice,flow,sim._boundaries[-1],area=setup_diameter*flow.units.convert_length_to_pu(gridpoints_per_diameter*domain_width_in_D))  # ! area A=2*r is in PU and 1-dimensional in 2D\n",
    "Dragreport = lt.ObservableReporter(DragObservable, out=None)\n",
    "sim.reporters.append(Dragreport)\n",
    "\n",
    "# Observable reporter: lift coefficient\n",
    "LiftObservable = lt.LiftCoefficient(lattice,flow,sim._boundaries[-1],area=setup_diameter*flow.units.convert_length_to_pu(gridpoints_per_diameter*domain_width_in_D))\n",
    "Liftreport = lt.ObservableReporter(LiftObservable, out=None)\n",
    "sim.reporters.append(Liftreport)"
   ],
   "metadata": {
    "collapsed": false,
    "ExecuteTime": {
     "end_time": "2024-06-06T14:14:58.399697077Z",
     "start_time": "2024-06-06T14:14:57.397160041Z"
    }
   }
  },
  {
   "cell_type": "code",
   "execution_count": 6,
   "outputs": [],
   "source": [
    "# AverageVelocity Reporter:\n",
    "if calculate_velocity_profile:\n",
    "    # define positions\n",
    "    position_1 = flow.x_pos-0.5 + 1.06 * flow.radius * 2  #int(round(flow.x_pos + 1.06 * flow.radius * 2 , 0))\n",
    "    position_2 = flow.x_pos-0.5 + 1.54 * flow.radius * 2  #int(round(flow.x_pos + 1.54 * flow.radius * 2 , 0))\n",
    "    position_3 = flow.x_pos-0.5 + 2.02 * flow.radius * 2  #int(round(flow.x_pos + 2.02 * flow.radius * 2 , 0))\n",
    "    print(\"V_avg positions:\" + \" p1: \" + str(position_1) + \" p2:  \" + str(position_2) + \" p3:  \" + str(position_3))\n",
    "\n",
    "    # create and append AvgVelocity-reporter\n",
    "    AvgVelocity1 = lt.AverageVelocityReporter(lattice,flow, position_1)\n",
    "    sim.reporters.append(AvgVelocity1)\n",
    "    AvgVelocity2 = lt.AverageVelocityReporter(lattice,flow, position_2)\n",
    "    sim.reporters.append(AvgVelocity2)\n",
    "    AvgVelocity3 = lt.AverageVelocityReporter(lattice,flow, position_3)\n",
    "    sim.reporters.append(AvgVelocity3)"
   ],
   "metadata": {
    "collapsed": false,
    "ExecuteTime": {
     "end_time": "2024-06-06T14:14:58.402973930Z",
     "start_time": "2024-06-06T14:14:58.400193002Z"
    }
   }
  },
  {
   "cell_type": "code",
   "execution_count": 7,
   "outputs": [],
   "source": [
    "# NaNReporter: stop if NaN is detected (default interval is 100 steps)\n",
    "NaNReporter = lt.NaNReporter(flow, lattice, n_steps, T_target)  # default interval of 100\n",
    "sim.reporters.append(NaNReporter)"
   ],
   "metadata": {
    "collapsed": false,
    "ExecuteTime": {
     "end_time": "2024-06-06T14:14:58.412314074Z",
     "start_time": "2024-06-06T14:14:58.402395817Z"
    }
   }
  },
  {
   "cell_type": "code",
   "execution_count": 8,
   "outputs": [],
   "source": [
    "# show domain slice\n",
    "#plt.imshow(sim._boundaries[-1].mask[:,:,0].T, origin=\"lower\")"
   ],
   "metadata": {
    "collapsed": false,
    "ExecuteTime": {
     "end_time": "2024-06-06T14:14:58.454998131Z",
     "start_time": "2024-06-06T14:14:58.411492514Z"
    }
   }
  },
  {
   "cell_type": "code",
   "execution_count": 9,
   "outputs": [
    {
     "data": {
      "text/plain": "<matplotlib.image.AxesImage at 0x7f98ed6fb250>"
     },
     "execution_count": 9,
     "metadata": {},
     "output_type": "execute_result"
    },
    {
     "data": {
      "text/plain": "<Figure size 640x480 with 1 Axes>",
      "image/png": "[encoded data removed]"
     },
     "metadata": {},
     "output_type": "display_data"
    }
   ],
   "source": [
    "# show pertubation in x=1 slice\n",
    "plt.imshow(lattice.convert_to_numpy(lattice.u(sim.f))[0,1,:,:], origin=\"lower\")"
   ],
   "metadata": {
    "collapsed": false,
    "ExecuteTime": {
     "end_time": "2024-06-06T14:14:58.489477649Z",
     "start_time": "2024-06-06T14:14:58.454910652Z"
    }
   }
  },
  {
   "cell_type": "code",
   "execution_count": 10,
   "outputs": [
    {
     "name": "stdout",
     "output_type": "stream",
     "text": [
      "199.999999999999\n"
     ]
    }
   ],
   "source": [
    "### grid reynolds number\n",
    "print(re_g)"
   ],
   "metadata": {
    "collapsed": false,
    "ExecuteTime": {
     "end_time": "2024-06-06T14:14:58.532084986Z",
     "start_time": "2024-06-06T14:14:58.489118673Z"
    }
   }
  },
  {
   "cell_type": "code",
   "execution_count": 11,
   "outputs": [],
   "source": [
    "### export parameters\n",
    "\n",
    "if output_data:\n",
    "    output_file = open(output_path+dir_name+\"/\"+timestamp + \"_parameters.txt\", \"a\")\n",
    "    output_file.write(\"DATA for \"+timestamp)\n",
    "    output_file.write(\"\\n\\n###   SIM-Parameters   ###\")\n",
    "    output_file.write(\"\\nRe = \"+str(re))\n",
    "    output_file.write(\"\\nn_steps = \"+str(n_steps))\n",
    "    output_file.write(\"\\nT_target = \"+str(flow.units.convert_time_to_pu(n_steps))+\" seconds\")\n",
    "    output_file.write(\"\\ngridpoints_per_diameter (gpd) = \"+str(gridpoints_per_diameter))\n",
    "    if gpd_correction:\n",
    "        output_file.write(\"\\ngpd was corrected from: \"+str(gpd_setup)+\" to \"+str(gridpoints_per_diameter)+\" because D/Y is even\")\n",
    "    output_file.write(\"\\nDpX (D/X) = \" + str(domain_length_in_D))\n",
    "    output_file.write(\"\\nDpY (D/Y) = \"+str(domain_height_in_D))\n",
    "    if lattice.D == 3:\n",
    "        output_file.write(\"\\nDpZ (D/Z) = \"+str(domain_width_in_D))\n",
    "    output_file.write(\"\\nshape_LU: \"+ str(flow.shape))\n",
    "    output_file.write((\"\\ntotal_number_of_gridpoints: \"+str(lattice.rho(sim.f).numel())))\n",
    "    output_file.write(\"\\nbc_type = \"+str(bc_type))\n",
    "    output_file.write(\"\\nlateral_walls = \"+str(lateral_walls))\n",
    "    output_file.write(\"\\nstencil = \"+str(stencil_choice))\n",
    "    output_file.write(\"\\ncollision = \" + str(collision_choice))\n",
    "    output_file.write(\"\\n\")\n",
    "    output_file.write(\"\\nMa = \" + str(Ma))\n",
    "    output_file.write(\"\\ntau = \" + str(tau))\n",
    "    output_file.write(\"\\ngrid_reynolds_number (Re_g) = \" + str(re_g))\n",
    "    output_file.write(\"\\n\")\n",
    "    output_file.write(\"\\nsetup_diameter_PU = \" + str(setup_diameter))\n",
    "    output_file.write(\"\\nflow_velocity_PU = \" + str(flow_velocity))\n",
    "    output_file.write(\"\\nu_init = \" + str(u_init))\n",
    "    output_file.write(\"\\nperturb_init = \" + str(perturb_init))\n",
    "    output_file.write(\"\\n\")\n",
    "    output_file.write(\"\\noutput_vtk = \" + str(output_vtk))\n",
    "    output_file.write(\"\\nvtk_fps = \" + str(vtk_fps))\n",
    "    output_file.close()"
   ],
   "metadata": {
    "collapsed": false,
    "ExecuteTime": {
     "end_time": "2024-06-06T14:14:58.532793988Z",
     "start_time": "2024-06-06T14:14:58.530796941Z"
    }
   }
  },
  {
   "cell_type": "code",
   "execution_count": 12,
   "outputs": [
    {
     "name": "stdout",
     "output_type": "stream",
     "text": [
      "GPD = 10\n",
      "area_rel: 1.0185916357881302\n"
     ]
    },
    {
     "data": {
      "text/plain": "<Figure size 640x480 with 1 Axes>",
      "image/png": "[encoded data removed]"
     },
     "metadata": {},
     "output_type": "display_data"
    }
   ],
   "source": [
    "if output_data:\n",
    "    from lettuce.max import draw_circular_mask\n",
    "    draw_circular_mask(lattice, gridpoints_per_diameter, output_data=output_data, filebase=output_path+dir_name, print_data=True)"
   ],
   "metadata": {
    "collapsed": false,
    "ExecuteTime": {
     "end_time": "2024-06-06T14:14:58.659189524Z",
     "start_time": "2024-06-06T14:14:58.530949309Z"
    }
   }
  },
  {
   "cell_type": "markdown",
   "source": [
    "# SIMULATION"
   ],
   "metadata": {
    "collapsed": false
   }
  },
  {
   "cell_type": "code",
   "execution_count": 13,
   "outputs": [
    {
     "ename": "KeyboardInterrupt",
     "evalue": "",
     "output_type": "error",
     "traceback": [
      "\u001B[0;31m---------------------------------------------------------------------------\u001B[0m",
      "\u001B[0;31mKeyboardInterrupt\u001B[0m                         Traceback (most recent call last)",
      "Input \u001B[0;32mIn [13]\u001B[0m, in \u001B[0;36m<cell line: 5>\u001B[0;34m()\u001B[0m\n\u001B[1;32m      1\u001B[0m \u001B[38;5;66;03m### simple simulation\u001B[39;00m\n\u001B[1;32m      3\u001B[0m t_start\u001B[38;5;241m=\u001B[39mtime\u001B[38;5;241m.\u001B[39mtime()\n\u001B[0;32m----> 5\u001B[0m mlups \u001B[38;5;241m=\u001B[39m \u001B[43msim\u001B[49m\u001B[38;5;241;43m.\u001B[39;49m\u001B[43mstep\u001B[49m\u001B[43m(\u001B[49m\u001B[43mn_steps\u001B[49m\u001B[43m)\u001B[49m \u001B[38;5;66;03m#simulation\u001B[39;00m\n\u001B[1;32m      7\u001B[0m t_end\u001B[38;5;241m=\u001B[39mtime\u001B[38;5;241m.\u001B[39mtime()\n\u001B[1;32m      8\u001B[0m runtime\u001B[38;5;241m=\u001B[39mt_end\u001B[38;5;241m-\u001B[39mt_start\n",
      "File \u001B[0;32m~/lettuce/lettuce/simulation.py:139\u001B[0m, in \u001B[0;36mSimulation.step\u001B[0;34m(self, num_steps)\u001B[0m\n\u001B[1;32m    136\u001B[0m \u001B[38;5;66;03m### BOUNDARY\u001B[39;00m\n\u001B[1;32m    137\u001B[0m \u001B[38;5;66;03m# apply boundary conditions\u001B[39;00m\n\u001B[1;32m    138\u001B[0m \u001B[38;5;28;01mfor\u001B[39;00m boundary \u001B[38;5;129;01min\u001B[39;00m \u001B[38;5;28mself\u001B[39m\u001B[38;5;241m.\u001B[39m_boundaries:\n\u001B[0;32m--> 139\u001B[0m     \u001B[38;5;28mself\u001B[39m\u001B[38;5;241m.\u001B[39mf \u001B[38;5;241m=\u001B[39m \u001B[43mboundary\u001B[49m\u001B[43m(\u001B[49m\u001B[38;5;28;43mself\u001B[39;49m\u001B[38;5;241;43m.\u001B[39;49m\u001B[43mf\u001B[49m\u001B[43m)\u001B[49m\n\u001B[1;32m    141\u001B[0m \u001B[38;5;66;03m# count step\u001B[39;00m\n\u001B[1;32m    142\u001B[0m \u001B[38;5;28mself\u001B[39m\u001B[38;5;241m.\u001B[39mi \u001B[38;5;241m+\u001B[39m\u001B[38;5;241m=\u001B[39m \u001B[38;5;241m1\u001B[39m\n",
      "File \u001B[0;32m~/lettuce/lettuce/boundary.py:796\u001B[0m, in \u001B[0;36mInterpolatedBounceBackBoundary_compact_v2.__call__\u001B[0;34m(self, f)\u001B[0m\n\u001B[1;32m    785\u001B[0m     f[\u001B[38;5;28mself\u001B[39m\u001B[38;5;241m.\u001B[39mopposite_tensor[\u001B[38;5;28mself\u001B[39m\u001B[38;5;241m.\u001B[39mf_index_lt[:, \u001B[38;5;241m0\u001B[39m]],\n\u001B[1;32m    786\u001B[0m       \u001B[38;5;28mself\u001B[39m\u001B[38;5;241m.\u001B[39mf_index_lt[:, \u001B[38;5;241m1\u001B[39m],\n\u001B[1;32m    787\u001B[0m       \u001B[38;5;28mself\u001B[39m\u001B[38;5;241m.\u001B[39mf_index_lt[:, \u001B[38;5;241m2\u001B[39m],\n\u001B[0;32m   (...)\u001B[0m\n\u001B[1;32m    790\u001B[0m                                                                                              \u001B[38;5;28mself\u001B[39m\u001B[38;5;241m.\u001B[39mf_index_lt[:, \u001B[38;5;241m2\u001B[39m],\n\u001B[1;32m    791\u001B[0m                                                                                              \u001B[38;5;28mself\u001B[39m\u001B[38;5;241m.\u001B[39mf_index_lt[:, \u001B[38;5;241m3\u001B[39m]]\n\u001B[1;32m    792\u001B[0m     \u001B[38;5;66;03m# if d > 0.5\u001B[39;00m\n\u001B[1;32m    793\u001B[0m     f[\u001B[38;5;28mself\u001B[39m\u001B[38;5;241m.\u001B[39mopposite_tensor[\u001B[38;5;28mself\u001B[39m\u001B[38;5;241m.\u001B[39mf_index_gt[:, \u001B[38;5;241m0\u001B[39m]],\n\u001B[1;32m    794\u001B[0m       \u001B[38;5;28mself\u001B[39m\u001B[38;5;241m.\u001B[39mf_index_gt[:, \u001B[38;5;241m1\u001B[39m],\n\u001B[1;32m    795\u001B[0m       \u001B[38;5;28mself\u001B[39m\u001B[38;5;241m.\u001B[39mf_index_gt[:, \u001B[38;5;241m2\u001B[39m],\n\u001B[0;32m--> 796\u001B[0m       \u001B[38;5;28mself\u001B[39m\u001B[38;5;241m.\u001B[39mf_index_gt[:, \u001B[38;5;241m3\u001B[39m]] \u001B[38;5;241m=\u001B[39m (\u001B[38;5;241m1\u001B[39m \u001B[38;5;241m/\u001B[39m (\u001B[38;5;241m2\u001B[39m \u001B[38;5;241m*\u001B[39m \u001B[38;5;28mself\u001B[39m\u001B[38;5;241m.\u001B[39md_gt)) \u001B[38;5;241m*\u001B[39m \u001B[38;5;28mself\u001B[39m\u001B[38;5;241m.\u001B[39mf_collided_gt[:, \u001B[38;5;241m0\u001B[39m] \u001B[38;5;241m+\u001B[39m (\u001B[38;5;241;43m1\u001B[39;49m\u001B[43m \u001B[49m\u001B[38;5;241;43m-\u001B[39;49m\u001B[43m \u001B[49m\u001B[38;5;241;43m1\u001B[39;49m\u001B[43m \u001B[49m\u001B[38;5;241;43m/\u001B[39;49m\u001B[43m \u001B[49m\u001B[43m(\u001B[49m\u001B[38;5;241;43m2\u001B[39;49m\u001B[43m \u001B[49m\u001B[38;5;241;43m*\u001B[39;49m\u001B[43m \u001B[49m\u001B[38;5;28;43mself\u001B[39;49m\u001B[38;5;241;43m.\u001B[39;49m\u001B[43md_gt\u001B[49m\u001B[43m)\u001B[49m) \u001B[38;5;241m*\u001B[39m \u001B[38;5;28mself\u001B[39m\u001B[38;5;241m.\u001B[39mf_collided_gt[:, \u001B[38;5;241m1\u001B[39m]\n\u001B[1;32m    799\u001B[0m \u001B[38;5;66;03m# CALC. FORCE on boundary (MEM, MEA)\u001B[39;00m\n\u001B[1;32m    800\u001B[0m \u001B[38;5;28mself\u001B[39m\u001B[38;5;241m.\u001B[39mcalc_force_on_boundary(f)\n",
      "File \u001B[0;32m~/anaconda3/envs/lettuce/lib/python3.10/site-packages/torch/_tensor.py:39\u001B[0m, in \u001B[0;36m_handle_torch_function_and_wrap_type_error_to_not_implemented.<locals>.wrapped\u001B[0;34m(*args, **kwargs)\u001B[0m\n\u001B[1;32m     37\u001B[0m     \u001B[38;5;28;01mif\u001B[39;00m has_torch_function(args):\n\u001B[1;32m     38\u001B[0m         \u001B[38;5;28;01mreturn\u001B[39;00m handle_torch_function(wrapped, args, \u001B[38;5;241m*\u001B[39margs, \u001B[38;5;241m*\u001B[39m\u001B[38;5;241m*\u001B[39mkwargs)\n\u001B[0;32m---> 39\u001B[0m     \u001B[38;5;28;01mreturn\u001B[39;00m \u001B[43mf\u001B[49m\u001B[43m(\u001B[49m\u001B[38;5;241;43m*\u001B[39;49m\u001B[43margs\u001B[49m\u001B[43m,\u001B[49m\u001B[43m \u001B[49m\u001B[38;5;241;43m*\u001B[39;49m\u001B[38;5;241;43m*\u001B[39;49m\u001B[43mkwargs\u001B[49m\u001B[43m)\u001B[49m\n\u001B[1;32m     40\u001B[0m \u001B[38;5;28;01mexcept\u001B[39;00m \u001B[38;5;167;01mTypeError\u001B[39;00m:\n\u001B[1;32m     41\u001B[0m     \u001B[38;5;28;01mreturn\u001B[39;00m \u001B[38;5;28mNotImplemented\u001B[39m\n",
      "File \u001B[0;32m~/anaconda3/envs/lettuce/lib/python3.10/site-packages/torch/_tensor.py:833\u001B[0m, in \u001B[0;36mTensor.__rsub__\u001B[0;34m(self, other)\u001B[0m\n\u001B[1;32m    831\u001B[0m \u001B[38;5;129m@_handle_torch_function_and_wrap_type_error_to_not_implemented\u001B[39m\n\u001B[1;32m    832\u001B[0m \u001B[38;5;28;01mdef\u001B[39;00m \u001B[38;5;21m__rsub__\u001B[39m(\u001B[38;5;28mself\u001B[39m, other):\n\u001B[0;32m--> 833\u001B[0m     \u001B[38;5;28;01mreturn\u001B[39;00m \u001B[43m_C\u001B[49m\u001B[38;5;241;43m.\u001B[39;49m\u001B[43m_VariableFunctions\u001B[49m\u001B[38;5;241;43m.\u001B[39;49m\u001B[43mrsub\u001B[49m\u001B[43m(\u001B[49m\u001B[38;5;28;43mself\u001B[39;49m\u001B[43m,\u001B[49m\u001B[43m \u001B[49m\u001B[43mother\u001B[49m\u001B[43m)\u001B[49m\n",
      "\u001B[0;31mKeyboardInterrupt\u001B[0m: "
     ]
    }
   ],
   "source": [
    "### simple simulation\n",
    "\n",
    "t_start=time.time()\n",
    "\n",
    "mlups = sim.step(n_steps) #simulation\n",
    "\n",
    "t_end=time.time()\n",
    "runtime=t_end-t_start\n",
    "print(\"MLUPS:\", mlups)\n",
    "print(\"PU-Time: \",flow.units.convert_time_to_pu(n_steps),\" seconds\")\n",
    "print(\"number of steps:\",n_steps)\n",
    "print(\"runtime: \",runtime, \"seconds (\", round(runtime/60,2),\"minutes )\")\n",
    "\n",
    "c_time = sim.time_avg[\"time_collision\"]\n",
    "fc_time = sim.time_avg[\"time_store_f_collided\"]\n",
    "s_time = sim.time_avg[\"time_streaming\"]\n",
    "b_time = sim.time_avg[\"time_boundary\"]\n",
    "r_time = sim.time_avg[\"time_reporter\"]\n",
    "sum_time = sim.time_avg[\"time_collision\"] + sim.time_avg[\"time_store_f_collided\"] + sim.time_avg[\"time_streaming\"] + sim.time_avg[\"time_boundary\"] + sim.time_avg[\"time_reporter\"]\n",
    "\n",
    "print(\"collision avg. time:\", sim.time_avg[\"time_collision\"], \"seconds (\" + str(round(100 * c_time/sum_time, 2)) + \" %)\")\n",
    "print(\"f_c_store avg. time:\", sim.time_avg[\"time_store_f_collided\"], \"seconds (\" + str(round(100 * fc_time/sum_time, 2)) + \" %)\")\n",
    "print(\"streaming avg. time:\", sim.time_avg[\"time_streaming\"], \"seconds (\" + str(round(100 * s_time/sum_time, 2)) + \" %)\")\n",
    "print(\"boundary avg. time:\", sim.time_avg[\"time_boundary\"], \"seconds (\" + str(round(100 * b_time/sum_time, 2)) + \" %)\")\n",
    "print(\"reporter avg. time:\", sim.time_avg[\"time_reporter\"], \"seconds (\" + str(round(100 * r_time/sum_time, 2)) + \" %)\")\n",
    "\n",
    "print(\"current GPU VRAM (MB): \", torch.cuda.memory_allocated(device=\"cuda:0\")/1024/1024)\n",
    "print(\"max. GPU VRAM (MB): \", torch.cuda.max_memory_allocated(device=\"cuda:0\")/1024/1024)\n",
    "\n",
    "[cpuLoad1,cpuLoad5,cpuLoad15] = [x / psutil.cpu_count() * 100 for x in psutil.getloadavg()]\n",
    "print(\"CPU % avg. over last 1 min, 5 min, 15 min; \", round(cpuLoad1,2), round(cpuLoad5,2), round(cpuLoad15,2))\n",
    "\n",
    "ram = psutil.virtual_memory()\n",
    "print(\"current total RAM usage [MB]: \" + str(round(ram.used/(1024*1024),2)) + \" of \" + str(round(ram.total/(1024*1024),2)) + \" MB\")"
   ],
   "metadata": {
    "collapsed": false,
    "ExecuteTime": {
     "end_time": "2024-06-06T14:20:18.662985388Z",
     "start_time": "2024-06-06T14:14:58.661995692Z"
    }
   }
  },
  {
   "cell_type": "code",
   "execution_count": null,
   "outputs": [],
   "source": [
    "### export stats\n",
    "if output_data:\n",
    "    output_file = open(output_path+dir_name+\"/\"+timestamp + \"_stats.txt\", \"a\")\n",
    "    output_file.write(\"DATA for \"+timestamp)\n",
    "    output_file.write(\"\\n\\n###   SIM-STATS  ###\")\n",
    "    output_file.write(\"\\nruntime = \"+str(runtime)+ \" seconds (=\"+str(runtime/60)+\" minutes)\")\n",
    "    output_file.write(\"\\nMLUPS = \"+str(mlups))\n",
    "    output_file.write(\"\\n\")\n",
    "    output_file.write(\"\\navg. Collision-Time [s] = \" + str(c_time) + \" (\" + str(round(100 * c_time/sum_time, 2)) + \" %)\")\n",
    "    output_file.write(\"\\navg. store_fcl-Time [s] = \" + str(fc_time) + \" (\" + str(round(100 * fc_time/sum_time, 2)) + \" %)\")\n",
    "    output_file.write(\"\\navg. Streaming-Time [s] = \" + str(s_time) + \" (\" + str(round(100 * s_time/sum_time, 2)) + \" %)\")\n",
    "    output_file.write(\"\\navg. Boundary-Time  [s] = \" + str(b_time) + \" (\" + str(round(100 * b_time/sum_time, 2)) + \" %)\")\n",
    "    output_file.write(\"\\navg. Reporter-Time  [s] = \" + str(r_time) + \" (\" + str(round(100 * r_time/sum_time, 2)) + \" %)\")\n",
    "    output_file.write(\"\\n\")\n",
    "    output_file.write(\"\\nVRAM_current [MB] = \" + str(torch.cuda.memory_allocated(lattice.device)/1024/1024))\n",
    "    output_file.write(\"\\nVRAM_peak [MB] = \" + str(torch.cuda.max_memory_allocated(lattice.device)/1024/1024))\n",
    "    output_file.write(\"\\n\")\n",
    "    output_file.write(\"\\nCPU load % avg. over last 1, 5, 15 min: \" + str(round(cpuLoad1, 2)) + \" %, \" + str(round(cpuLoad5, 2)) + \" %, \" + str(round(cpuLoad15, 2)) + \" %\")\n",
    "    output_file.write(\"\\ntotal current RAM usage [MB]: \" + str(round(ram.used/(1024*1024),2)) + \" of \" + str(round(ram.total/(1024*1024),2)) + \" MB\")\n",
    "    output_file.close()"
   ],
   "metadata": {
    "collapsed": false,
    "ExecuteTime": {
     "end_time": "2024-06-06T14:20:18.715626549Z",
     "start_time": "2024-06-06T14:20:18.663132336Z"
    }
   }
  },
  {
   "cell_type": "code",
   "execution_count": null,
   "outputs": [],
   "source": [
    "# # Output Clock\n",
    "#\n",
    "# print(\"Clock:\")\n",
    "# print(np.array(Clock.out))"
   ],
   "metadata": {
    "collapsed": false,
    "ExecuteTime": {
     "start_time": "2024-06-06T14:20:18.706780798Z"
    }
   }
  },
  {
   "cell_type": "code",
   "execution_count": null,
   "outputs": [],
   "source": [
    "# p1_LS1993 = np.genfromtxt('/home/mbille/lettuce/myTest/DiIlio_Fig09_data/Fig09_ux_profile_pos1_LS1993.csv', delimiter=';')\n",
    "# plt.plot(p1_LS1993[:,0], p1_LS1993[:,1])"
   ],
   "metadata": {
    "collapsed": false,
    "ExecuteTime": {
     "start_time": "2024-06-06T14:20:18.706897666Z"
    }
   }
  },
  {
   "cell_type": "markdown",
   "source": [
    "# Avg Velocity"
   ],
   "metadata": {
    "collapsed": false
   }
  },
  {
   "cell_type": "code",
   "execution_count": null,
   "outputs": [],
   "source": [
    "# plot AvgVelocity (ist per Reporter schon in PU, normalisierung mit u_char nicht nötig, da u_char = 1 in PU)\n",
    "\n",
    "if calculate_velocity_profile:\n",
    "    avg_u_start = 0.5\n",
    "\n",
    "    # import reference data: (data is: first collumn Y/D, second column u_d/u_char)\n",
    "    # ux\n",
    "    p1_LS1993_ux = np.genfromtxt(diIlio_path + 'Fig09_ux_profile_pos1_LS1993.csv', delimiter=';')\n",
    "    p2_LS1993_ux = np.genfromtxt(diIlio_path + 'Fig09_ux_profile_pos2_LS1993.csv', delimiter=';')\n",
    "    p3_LS1993_ux = np.genfromtxt(diIlio_path + 'Fig09_ux_profile_pos3_LS1993.csv', delimiter=';')\n",
    "\n",
    "    p1_KM2000_ux = np.genfromtxt(diIlio_path + 'Fig09_ux_profile_pos1_KM2000.csv', delimiter=';')\n",
    "    p2_KM2000_ux = np.genfromtxt(diIlio_path + 'Fig09_ux_profile_pos2_KM2000.csv', delimiter=';')\n",
    "    p3_KM2000_ux = np.genfromtxt(diIlio_path + 'Fig09_ux_profile_pos3_KM2000.csv', delimiter=';')\n",
    "\n",
    "    p1_WR2008_ux = np.genfromtxt(diIlio_path + 'Fig09_ux_profile_pos1_WR2008.csv', delimiter=';')\n",
    "    p2_WR2008_ux = np.genfromtxt(diIlio_path + 'Fig09_ux_profile_pos2_WR2008.csv', delimiter=';')\n",
    "    p3_WR2008_ux = np.genfromtxt(diIlio_path + 'Fig09_ux_profile_pos3_WR2008.csv', delimiter=';')\n",
    "\n",
    "    p1_DI2018_ux = np.genfromtxt(diIlio_path + 'Fig09_ux_profile_pos1_DI2018.csv', delimiter=';')\n",
    "    p2_DI2018_ux = np.genfromtxt(diIlio_path + 'Fig09_ux_profile_pos2_DI2018.csv', delimiter=';')\n",
    "    p3_DI2018_ux = np.genfromtxt(diIlio_path + 'Fig09_ux_profile_pos3_DI2018.csv', delimiter=';')\n",
    "\n",
    "    # uy\n",
    "    p1_LS1993_uy = np.genfromtxt(diIlio_path + 'Fig10_uy_profile_pos1_LS1993.csv', delimiter=';')\n",
    "    p2_LS1993_uy = np.genfromtxt(diIlio_path + 'Fig10_uy_profile_pos2_LS1993.csv', delimiter=';')\n",
    "    p3_LS1993_uy = np.genfromtxt(diIlio_path + 'Fig10_uy_profile_pos3_LS1993.csv', delimiter=';')\n",
    "\n",
    "    p1_KM2000_uy = np.genfromtxt(diIlio_path + 'Fig10_uy_profile_pos1_KM2000.csv', delimiter=';')\n",
    "    p2_KM2000_uy = np.genfromtxt(diIlio_path + 'Fig10_uy_profile_pos2_KM2000.csv', delimiter=';')\n",
    "    p3_KM2000_uy = np.genfromtxt(diIlio_path + 'Fig10_uy_profile_pos3_KM2000.csv', delimiter=';')\n",
    "\n",
    "    p1_WR2008_uy = np.genfromtxt(diIlio_path + 'Fig10_uy_profile_pos1_WR2008.csv', delimiter=';')\n",
    "    p2_WR2008_uy = np.genfromtxt(diIlio_path + 'Fig10_uy_profile_pos2_WR2008.csv', delimiter=';')\n",
    "    p3_WR2008_uy = np.genfromtxt(diIlio_path + 'Fig10_uy_profile_pos3_WR2008.csv', delimiter=';')\n",
    "\n",
    "    p1_DI2018_uy = np.genfromtxt(diIlio_path + 'Fig10_uy_profile_pos1_DI2018.csv', delimiter=';')\n",
    "    p2_DI2018_uy = np.genfromtxt(diIlio_path + 'Fig10_uy_profile_pos2_DI2018.csv', delimiter=';')\n",
    "    p3_DI2018_uy = np.genfromtxt(diIlio_path + 'Fig10_uy_profile_pos3_DI2018.csv', delimiter=';')\n",
    "\n",
    "    # uxux\n",
    "    p1_DI2018_uxux = np.genfromtxt(diIlio_path + 'Fig11_uxux_profile_pos1_DI2018.csv', delimiter=';')\n",
    "    p1_KM2000_uxux = np.genfromtxt(diIlio_path + 'Fig11_uxux_profile_pos1_KM2000.csv', delimiter=';')\n",
    "    p1_R2016_uxux  = np.genfromtxt(diIlio_path + 'Fig11_uxux_profile_pos1_R2016.csv', delimiter=';')\n",
    "    p2_BM1994_uxux = np.genfromtxt(diIlio_path + 'Fig11_uxux_profile_pos2_BM1994.csv', delimiter=';')\n",
    "    p2_DI2018_uxux = np.genfromtxt(diIlio_path + 'Fig11_uxux_profile_pos2_DI2018.csv', delimiter=';')\n",
    "    p2_KM2000_uxux = np.genfromtxt(diIlio_path + 'Fig11_uxux_profile_pos2_KM2000.csv', delimiter=';')\n",
    "    p2_LS1993_uxux = np.genfromtxt(diIlio_path + 'Fig11_uxux_profile_pos2_LS1993.csv', delimiter=';')\n",
    "    p2_R2016_uxux  = np.genfromtxt(diIlio_path + 'Fig11_uxux_profile_pos2_R2016.csv', delimiter=';')\n",
    "    p3_DI2018_uxux = np.genfromtxt(diIlio_path + 'Fig11_uxux_profile_pos3_DI2018.csv', delimiter=';')\n",
    "    p3_KM2000_uxux = np.genfromtxt(diIlio_path + 'Fig11_uxux_profile_pos3_KM2000.csv', delimiter=';')\n",
    "    p3_R2016_uxux  = np.genfromtxt(diIlio_path + 'Fig11_uxux_profile_pos3_R2016.csv', delimiter=';')\n",
    "\n",
    "    # uyuy\n",
    "    p1_DI2018_uyuy = np.genfromtxt(diIlio_path + 'Fig12_uyuy_profile_pos1_DI2018.csv', delimiter=';')\n",
    "    p1_R2016_uyuy = np.genfromtxt(diIlio_path + 'Fig12_uyuy_profile_pos1_R2016.csv', delimiter=';')\n",
    "    p2_BM1994_uyuy = np.genfromtxt(diIlio_path + 'Fig12_uyuy_profile_pos2_BM1994.csv', delimiter=';')\n",
    "    p2_DI2018_uyuy = np.genfromtxt(diIlio_path + 'Fig12_uyuy_profile_pos2_DI2018.csv', delimiter=';')\n",
    "    p2_LS1993_uyuy = np.genfromtxt(diIlio_path + 'Fig12_uyuy_profile_pos2_LS1993.csv', delimiter=';')\n",
    "    p2_R2016_uyuy = np.genfromtxt(diIlio_path + 'Fig12_uyuy_profile_pos2_R2016.csv', delimiter=';')\n",
    "    p3_DI2018_uyuy = np.genfromtxt(diIlio_path + 'Fig12_uyuy_profile_pos3_DI2018.csv', delimiter=';')\n",
    "    p3_R2016_uyuy = np.genfromtxt(diIlio_path + 'Fig12_uyuy_profile_pos3_R2016.csv', delimiter=';')\n",
    "\n",
    "    # uxuy\n",
    "    p1_BM1994_uxuy = np.genfromtxt(diIlio_path + 'Fig13_uxuy_profile_pos1_BM1994.csv', delimiter=';')\n",
    "    p1_DI2018_uxuy = np.genfromtxt(diIlio_path + 'Fig13_uxuy_profile_pos1_DI2018.csv', delimiter=';')\n",
    "    p1_R2016_uxuy = np.genfromtxt(diIlio_path + 'Fig13_uxuy_profile_pos1_R2016.csv', delimiter=';')\n",
    "    p2_BM1994_uxuy = np.genfromtxt(diIlio_path + 'Fig13_uxuy_profile_pos2_BM1994.csv', delimiter=';')\n",
    "    p2_DI2018_uxuy = np.genfromtxt(diIlio_path + 'Fig13_uxuy_profile_pos2_DI2018.csv', delimiter=';')\n",
    "    p2_LS1993_uxuy = np.genfromtxt(diIlio_path + 'Fig13_uxuy_profile_pos2_LS1993.csv', delimiter=';')\n",
    "    p2_R2016_uxuy = np.genfromtxt(diIlio_path + 'Fig13_uxuy_profile_pos2_R2016.csv', delimiter=';')\n",
    "    p3_BM1994_uxuy = np.genfromtxt(diIlio_path + 'Fig13_uxuy_profile_pos3_BM1994.csv', delimiter=';')\n",
    "    p3_DI2018_uxuy = np.genfromtxt(diIlio_path + 'Fig13_uxuy_profile_pos3_DI2018.csv', delimiter=';')\n",
    "    p3_R2016_uxuy = np.genfromtxt(diIlio_path + 'Fig13_uxuy_profile_pos3_R2016.csv', delimiter=';')\n",
    "\n",
    "    # output sim data to files (not averaged over time)\n",
    "    if output_data and output_velocity_profile:\n",
    "        np.save(output_path+dir_name+\"/AvgVelocity_Data\"+\"/AvgVelocity_1_timeseries.npy\", np.array(AvgVelocity1.out))\n",
    "        np.save(output_path+dir_name+\"/AvgVelocity_Data\"+\"/AvgVelocity_2_timeseries.npy\", np.array(AvgVelocity2.out))\n",
    "        np.save(output_path+dir_name+\"/AvgVelocity_Data\"+\"/AvgVelocity_3_timeseries.npy\", np.array(AvgVelocity3.out))\n",
    "\n",
    "    u1 = np.array(AvgVelocity1.out)[int(avg_u_start*np.array(AvgVelocity1.out).shape[0]-1):]\n",
    "    u2 = np.array(AvgVelocity2.out)[int(avg_u_start*np.array(AvgVelocity2.out).shape[0]-1):]\n",
    "    u3 = np.array(AvgVelocity3.out)[int(avg_u_start*np.array(AvgVelocity3.out).shape[0]-1):]\n",
    "\n",
    "    avg_u1 = np.mean(u1, axis=0)  # time average\n",
    "    avg_u2 = np.mean(u2, axis=0)  # time average\n",
    "    avg_u3 = np.mean(u3, axis=0)  # time average\n",
    "\n",
    "    if output_data:  # output (time-mean) velocity profiles\n",
    "        np.save(output_path+dir_name+\"/AvgVelocity_Data\"+\"/AvgVelocity_1_t-avg.npy\", avg_u1)\n",
    "        np.save(output_path+dir_name+\"/AvgVelocity_Data\"+\"/AvgVelocity_2_t-avg.npy\", avg_u2)\n",
    "        np.save(output_path+dir_name+\"/AvgVelocity_Data\"+\"/AvgVelocity_3_t-avg.npy\", avg_u3)\n",
    "\n",
    "    avg_u1_x = avg_u1[0]  # u_x component over y at pos 1\n",
    "    avg_u2_x = avg_u2[0]  # u_x component over y at pos 2\n",
    "    avg_u3_x = avg_u3[0]  # u_x component over y at pos 3\n",
    "\n",
    "    avg_u1_y = avg_u1[1]  # u_y component over y at pos 1\n",
    "    avg_u2_y = avg_u2[1]  # u_y component over y at pos 2\n",
    "    avg_u3_y = avg_u3[1]  # u_y component over y at pos 3\n",
    "\n",
    "    y_in_D = (np.arange(avg_u1_x.shape[0])+1-flow.y_pos)/flow.units.characteristic_length_lu  # y/D for figure\n",
    "    if output_data:\n",
    "        np.save(output_path+dir_name+\"/AvgVelocity_Data\"+\"/AvgVelocity_YinD.npy\", y_in_D)\n",
    "    cm=1/2.54\n",
    "    # PLOT ux\n",
    "    fig, (ax_ux, ax_uy) = plt.subplots(1,2, constrained_layout=True, figsize=(30*cm,10*cm))\n",
    "    ax_ux.plot(y_in_D,avg_u1_x, y_in_D, avg_u2_x, y_in_D, avg_u3_x)\n",
    "    ax_ux.set_xlabel(\"y/D\")\n",
    "    ax_ux.set_ylabel(r\"$\\bar{u}_{x}$/$u_{char}$\")\n",
    "    ax_ux.legend([\"x/D = 1.06\", \"x/D = 1.54\", \"x/D = 2.02\"])\n",
    "\n",
    "    # OPT. TO DO: add secondary axis for LU-grid\n",
    "    # ...needs 'function' to convert from y/D in LU and LU in y/D\n",
    "\n",
    "    # OPT. TO DO: make folder for AvgVelocity-stuff\n",
    "    # if output_data:\n",
    "    #     plt.savefig(output_path+dir_name+\"/AvgVelocity_x.png\")\n",
    "    # plt.show()\n",
    "\n",
    "    # PLOT uy\n",
    "    #fig, ax = plt.subplots(constrained_layout=True)\n",
    "    ax_uy.plot(y_in_D,avg_u1_y, y_in_D, avg_u2_y, y_in_D, avg_u3_y)\n",
    "    ax_uy.set_xlabel(\"y/D\")\n",
    "    ax_uy.set_ylabel(r\"$\\bar{u}_{y}$/$u_{char}$\")\n",
    "    ax_uy.legend([\"x/D = 1.06\", \"x/D = 1.54\", \"x/D = 2.02\"])\n",
    "\n",
    "    # OPT. TO DO: add secondary axis for LU-grid\n",
    "    # ...needs 'function' to convert from y/D in LU and LU in y/D\n",
    "    # OPT. TO DO: make folder for AvgVelocity-stuff\n",
    "    # !!! QUESTION: is x/D the position measured FROM the cylinder (x_pos), or measured from x=0 ?\n",
    "\n",
    "    if output_data:\n",
    "        plt.savefig(output_path+dir_name+\"/AvgVelocity_Data\"+\"/AvgVelocity_velocity_noReference.png\")\n",
    "    plt.show()\n",
    "\n",
    "    # PLOT ux against references\n",
    "    fig, ax = plt.subplots(constrained_layout=True)\n",
    "    my_data = ax.plot(y_in_D,avg_u1_x, y_in_D, avg_u2_x-1, y_in_D, avg_u3_x-2)\n",
    "    plt.setp(my_data, ls=\"-\", lw=1, marker=\"\", color=\"red\", label=\"lettuce\")\n",
    "    ref_LS = ax.plot(p1_LS1993_ux[:,0], p1_LS1993_ux[:,1], p2_LS1993_ux[:,0], p2_LS1993_ux[:,1], p3_LS1993_ux[:,0], p3_LS1993_ux[:,1])\n",
    "    plt.setp(ref_LS, ls=\"\", lw=1, marker=\"s\", fillstyle='none', color=\"k\", label=\"Lorenco & Shih (1993)\")\n",
    "    ref_KM = ax.plot(p1_KM2000_ux[:,0], p1_KM2000_ux[:,1], p2_KM2000_ux[:,0], p2_KM2000_ux[:,1], p3_KM2000_ux[:,0], p3_KM2000_ux[:,1])\n",
    "    plt.setp(ref_KM, ls=\"dotted\", lw=1.5, marker=\"\", color=\"k\", label=\"Kravchenko & Moin (2000)\")\n",
    "    ref_WR = ax.plot(p1_WR2008_ux[:,0], p1_WR2008_ux[:,1], p2_WR2008_ux[:,0], p2_WR2008_ux[:,1], p3_WR2008_ux[:,0], p3_WR2008_ux[:,1])\n",
    "    plt.setp(ref_WR, ls=\"dashdot\", lw=1.5, marker=\"\", color=\"k\", label=\"Wissink & Rodi (2008)\")\n",
    "    ref_DI = ax.plot(p1_DI2018_ux[:,0], p1_DI2018_ux[:,1], p2_DI2018_ux[:,0], p2_DI2018_ux[:,1], p3_DI2018_ux[:,0], p3_DI2018_ux[:,1])\n",
    "    plt.setp(ref_DI, ls=\"--\", lw=1.5, marker=\"\", color=\"tab:blue\", label=\"Di Ilio et al. (2018)\")\n",
    "    ax.set_xlabel(\"y/D\")\n",
    "    ax.set_ylabel(r\"$\\bar{u}_{x}$/$u_{char}$\")\n",
    "    ax.set_ylim([-2.5,+2])\n",
    "    ax.set_xlim([-3,3])\n",
    "    ax.legend(handles=[my_data[0], ref_LS[0], ref_KM[0], ref_WR[0], ref_DI[0]], loc= 'best')\n",
    "   # ax_ux.text(-3, 1.5, \"x/D = 1.06\", fontstile='italic')\n",
    "    if output_data:\n",
    "        plt.savefig(output_path+dir_name+\"/AvgVelocity_Data\"+\"/AvgVelocity_ux_withReference.png\")\n",
    "    plt.show()\n",
    "\n",
    "    # PLOT uy against references\n",
    "    fig, ax = plt.subplots(constrained_layout=True)\n",
    "    my_data = ax.plot(y_in_D,avg_u1_y, y_in_D, avg_u2_y-1, y_in_D, avg_u3_y-2)\n",
    "    plt.setp(my_data, ls=\"-\", lw=1, marker=\"\", color=\"red\", label=\"lettuce\")\n",
    "    ref_LS = ax.plot(p1_LS1993_uy[:,0], p1_LS1993_uy[:,1], p2_LS1993_uy[:,0], p2_LS1993_uy[:,1], p3_LS1993_uy[:,0], p3_LS1993_uy[:,1])\n",
    "    plt.setp(ref_LS, ls=\"\", lw=1, marker=\"s\", fillstyle='none', color=\"k\", label=\"Lorenco & Shih (1993)\")\n",
    "    ref_KM = ax.plot(p1_KM2000_uy[:,0], p1_KM2000_uy[:,1], p2_KM2000_uy[:,0], p2_KM2000_uy[:,1], p3_KM2000_uy[:,0], p3_KM2000_uy[:,1])\n",
    "    plt.setp(ref_KM, ls=\"dotted\", lw=1.5, marker=\"\", color=\"k\", label=\"Kravchenko & Moin (2000)\")\n",
    "    ref_WR = ax.plot(p1_WR2008_uy[:,0], p1_WR2008_uy[:,1], p2_WR2008_uy[:,0], p2_WR2008_uy[:,1], p3_WR2008_uy[:,0], p3_WR2008_uy[:,1])\n",
    "    plt.setp(ref_WR, ls=\"dashdot\", lw=1.5, marker=\"\", color=\"k\", label=\"Wissink & Rodi (2008)\")\n",
    "    ref_DI = ax.plot(p1_DI2018_uy[:,0], p1_DI2018_uy[:,1], p2_DI2018_uy[:,0], p2_DI2018_uy[:,1], p3_DI2018_uy[:,0], p3_DI2018_uy[:,1])\n",
    "    plt.setp(ref_DI, ls=\"--\", lw=1.5, marker=\"\", color=\"tab:blue\", label=\"Di Ilio et al. (2018)\")\n",
    "    ax.set_xlabel(\"y/D\")\n",
    "    ax.set_ylabel(r\"$\\bar{u}_{y}$/$u_{char}$\")\n",
    "    ax.set_ylim([-2.5,+1.5])\n",
    "    ax.set_xlim([-3,3])\n",
    "    ax.legend(handles=[my_data[0], ref_LS[0], ref_KM[0], ref_WR[0], ref_DI[0]], loc= 'best')\n",
    "    if output_data:\n",
    "        plt.savefig(output_path+dir_name+\"/AvgVelocity_Data\"+\"/AvgVelocity_uy_withReference.png\")\n",
    "    plt.show()\n",
    "\n",
    "    ## turbulent Reynolds stresses\n",
    "\n",
    "    # diff between timeseries and time_average -> u'\n",
    "    u1_diff = u1-avg_u1\n",
    "    u2_diff = u2-avg_u2\n",
    "    u3_diff = u3-avg_u3\n",
    "\n",
    "    # square of diff -> u'^2\n",
    "    u1_diff_sq = u1_diff**2\n",
    "    u2_diff_sq = u2_diff**2\n",
    "    u3_diff_sq = u3_diff**2\n",
    "\n",
    "    # ux'*uy'\n",
    "    u1_diff_xy = u1_diff[:, 0, :]*u1_diff[:, 1, :]\n",
    "    u2_diff_xy = u2_diff[:, 0, :]*u2_diff[:, 1, :]\n",
    "    u3_diff_xy = u3_diff[:, 0, :]*u3_diff[:, 1, :]\n",
    "\n",
    "    # time_average of u'² and ux'uy'\n",
    "    u1_diff_sq_mean = np.mean(u1_diff_sq, axis=0)  # time average\n",
    "    u2_diff_sq_mean = np.mean(u2_diff_sq, axis=0)  # time average\n",
    "    u3_diff_sq_mean = np.mean(u3_diff_sq, axis=0)  # time average\n",
    "    u1_diff_xy_mean = np.mean(u1_diff_xy, axis=0)  # time average\n",
    "    u2_diff_xy_mean = np.mean(u2_diff_xy, axis=0)  # time average\n",
    "    u3_diff_xy_mean = np.mean(u3_diff_xy, axis=0)  # time average\n",
    "\n",
    "    if output_data:  # save reynolds stresses\n",
    "        np.save(output_path+dir_name+\"/AvgVelocity_Data\"+\"/AvgVelocity_1_ReStress_x.npy\", np.array([y_in_D, u1_diff_sq_mean[0]]))\n",
    "        np.save(output_path+dir_name+\"/AvgVelocity_Data\"+\"/AvgVelocity_2_ReStress_x.npy\", np.array([y_in_D, u2_diff_sq_mean[0]]))\n",
    "        np.save(output_path+dir_name+\"/AvgVelocity_Data\"+\"/AvgVelocity_3_ReStress_x.npy\", np.array([y_in_D, u3_diff_sq_mean[0]]))\n",
    "        np.save(output_path+dir_name+\"/AvgVelocity_Data\"+\"/AvgVelocity_1_ReStress_y.npy\", np.array([y_in_D, u1_diff_sq_mean[1]]))\n",
    "        np.save(output_path+dir_name+\"/AvgVelocity_Data\"+\"/AvgVelocity_2_ReStress_y.npy\", np.array([y_in_D, u2_diff_sq_mean[1]]))\n",
    "        np.save(output_path+dir_name+\"/AvgVelocity_Data\"+\"/AvgVelocity_3_ReStress_y.npy\", np.array([y_in_D, u3_diff_sq_mean[1]]))\n",
    "        np.save(output_path+dir_name+\"/AvgVelocity_Data\"+\"/AvgVelocity_1_ReShearStress.npy\", np.array([y_in_D, u1_diff_xy_mean]))\n",
    "        np.save(output_path+dir_name+\"/AvgVelocity_Data\"+\"/AvgVelocity_2_ReShearStress.npy\", np.array([y_in_D, u2_diff_xy_mean]))\n",
    "        np.save(output_path+dir_name+\"/AvgVelocity_Data\"+\"/AvgVelocity_3_ReShearStress.npy\", np.array([y_in_D, u3_diff_xy_mean]))\n",
    "\n",
    "\n",
    "    fig, (ax_xx, ax_yy, ax_xy) = plt.subplots(1,3, figsize=(40*cm,10*cm), constrained_layout=True)\n",
    "    ax_xx.plot(y_in_D,u1_diff_sq_mean[0],y_in_D,u2_diff_sq_mean[0],y_in_D,u3_diff_sq_mean[0])\n",
    "    ax_xx.set_xlabel(\"y/D\")\n",
    "    ax_xx.set_ylabel(r\"$\\overline{u_{x}'u_{x}'}$/$u_{char}^2$\")\n",
    "    ax_xx.legend([\"x/D = 1.06\", \"x/D = 1.54\", \"x/D = 2.02\"])\n",
    "    # if output_data:\n",
    "    #     plt.savefig(output_path+dir_name+\"/AvgVelocity_uxux.png\")\n",
    "    # plt.show()\n",
    "\n",
    "    #fig, ax = plt.subplots(constrained_layout=True)\n",
    "    ax_yy.plot(y_in_D,u1_diff_sq_mean[1], y_in_D,u2_diff_sq_mean[1], y_in_D,u3_diff_sq_mean[1])\n",
    "    ax_yy.set_xlabel(\"y/D\")\n",
    "    ax_yy.set_ylabel(r\"$\\overline{u_{y}'u_{y}'}$/$u_{char}^2$\")\n",
    "    ax_yy.legend([\"x/D = 1.06\", \"x/D = 1.54\", \"x/D = 2.02\"])\n",
    "    # if output_data:\n",
    "    #     plt.savefig(output_path+dir_name+\"/AvgVelocity_uyuy.png\")\n",
    "    # plt.show()\n",
    "\n",
    "    #fig, ax = plt.subplots(constrained_layout=True)\n",
    "    ax_xy.plot(y_in_D,u1_diff_xy_mean, y_in_D,u2_diff_xy_mean, y_in_D,u3_diff_xy_mean)\n",
    "    ax_xy.set_xlabel(\"y/D\")\n",
    "    ax_xy.set_ylabel(r\"$\\overline{u_{x}'u_{y}'}$/$u_{char}^2$\")\n",
    "    ax_xy.legend([\"x/D = 1.06\", \"x/D = 1.54\", \"x/D = 2.02\"])\n",
    "\n",
    "    if output_data:\n",
    "        plt.savefig(output_path+dir_name+\"/AvgVelocity_Data\"+\"/AvgVelocity_reynoldsStresses_noReference.png\")\n",
    "    plt.show()\n",
    "\n",
    "    #plot reynolds stresses against reference\n",
    "    # uxux - streamwise\n",
    "    fig, ax = plt.subplots(constrained_layout=True)\n",
    "    my_data = ax.plot(y_in_D,u1_diff_sq_mean[0], y_in_D, u2_diff_sq_mean[0]-0.5, y_in_D, u3_diff_sq_mean[0]-1)\n",
    "    plt.setp(my_data, ls=\"-\", lw=1, marker=\"\", color=\"red\", label=\"lettuce\")\n",
    "    ref_LS = ax.plot(p2_LS1993_uxux[:,0], p2_LS1993_uxux[:,1])\n",
    "    plt.setp(ref_LS, ls=\"\", lw=1, marker=\"s\", fillstyle='none', color=\"k\", label=\"Lorenco & Shih (1993)\")\n",
    "    ref_R = ax.plot(p1_R2016_uxux[:,0], p1_R2016_uxux[:,1], p3_R2016_uxux[:,0], p3_R2016_uxux[:,1], p3_R2016_uxux[:,0], p3_R2016_uxux[:,1])\n",
    "    plt.setp(ref_R, ls=\"--\", lw=1.5, marker=\"\", color=\"k\", label=\"Rajani et al. (2016)\")\n",
    "    ref_KM = ax.plot(p1_KM2000_uxux[:,0], p1_KM2000_uxux[:,1], p2_KM2000_uxux[:,0], p2_KM2000_uxux[:,1], p3_KM2000_uxux[:,0], p3_KM2000_uxux[:,1])\n",
    "    plt.setp(ref_KM, ls=\"dotted\", lw=1.5, marker=\"\", color=\"k\", label=\"Kravchenko & Moin (2000)\")\n",
    "    ref_BM = ax.plot(p2_BM1994_uxux[:,0], p2_BM1994_uxux[:,1])\n",
    "    plt.setp(ref_BM, ls=\"dashdot\", lw=1.5, marker=\"\", color=\"k\", label=\"Beaudan & Moin (1994)\")\n",
    "    ref_DI = ax.plot(p1_DI2018_uxux[:,0], p1_DI2018_uxux[:,1], p2_DI2018_uxux[:,0], p2_DI2018_uxux[:,1], p3_DI2018_uxux[:,0], p3_DI2018_uxux[:,1])\n",
    "    plt.setp(ref_DI, ls=\"--\", lw=1.5, marker=\"\", color=\"tab:blue\", label=\"Di Ilio et al. (2018)\")\n",
    "    ax.set_xlabel(\"y/D\")\n",
    "    ax.set_ylabel(r\"$\\overline{u_{x}'u_{x}'}$/$u_{char}^2$\")\n",
    "    ax.set_ylim([-1.2,0.8])\n",
    "    ax.set_xlim([-3,3])\n",
    "    ax.legend(handles=[my_data[0], ref_LS[0], ref_R[0], ref_KM[0], ref_BM[0], ref_DI[0]], loc= 'best')\n",
    "\n",
    "    if output_data:\n",
    "        plt.savefig(output_path+dir_name+\"/AvgVelocity_Data\"+\"/AvgVelocity_uxux_withReference.png\")\n",
    "    plt.show()\n",
    "\n",
    "    # uyuy - cross-stream\n",
    "    fig, ax = plt.subplots(constrained_layout=True)\n",
    "    my_data = ax.plot(y_in_D,u1_diff_sq_mean[1], y_in_D, u2_diff_sq_mean[1]-0.5, y_in_D, u3_diff_sq_mean[1]-1)\n",
    "    plt.setp(my_data, ls=\"-\", lw=1, marker=\"\", color=\"red\", label=\"lettuce\")\n",
    "    ref_BM = ax.plot(p2_BM1994_uyuy[:,0], p2_BM1994_uyuy[:,1])\n",
    "    plt.setp(ref_BM, ls=\"dashdot\", lw=1.5, marker=\"\", color=\"k\", label=\"Beaudan & Moin (1994)\")\n",
    "    ref_LS = ax.plot(p2_LS1993_uyuy[:,0], p2_LS1993_uyuy[:,1])\n",
    "    plt.setp(ref_LS, ls=\"\", lw=1, marker=\"s\", fillstyle='none', color=\"k\", label=\"Lorenco & Shih (1993)\")\n",
    "    ref_R = ax.plot(p1_R2016_uyuy[:,0], p1_R2016_uyuy[:,1], p3_R2016_uyuy[:,0], p3_R2016_uyuy[:,1], p3_R2016_uyuy[:,0], p3_R2016_uyuy[:,1])\n",
    "    plt.setp(ref_R, ls=\"--\", lw=1.5, marker=\"\", color=\"k\", label=\"Rajani et al. (2016)\")\n",
    "    ref_DI = ax.plot(p1_DI2018_uyuy[:,0], p1_DI2018_uyuy[:,1], p2_DI2018_uyuy[:,0], p2_DI2018_uyuy[:,1], p3_DI2018_uyuy[:,0], p3_DI2018_uyuy[:,1])\n",
    "    plt.setp(ref_DI, ls=\"--\", lw=1.5, marker=\"\", color=\"tab:blue\", label=\"Di Ilio et al. (2018)\")\n",
    "    ax.set_xlabel(\"y/D\")\n",
    "    ax.set_ylabel(r\"$\\overline{u_{y}'u_{y}'}$/$u_{char}^2$\")\n",
    "    ax.set_ylim([-1.2,0.8])\n",
    "    ax.set_xlim([-3,3])\n",
    "    ax.legend(handles=[my_data[0], ref_BM[0], ref_LS[0], ref_R[0], ref_DI[0]], loc='best')\n",
    "\n",
    "    if output_data:\n",
    "        plt.savefig(output_path+dir_name+\"/AvgVelocity_Data\"+\"/AvgVelocity_uyuy_withReference.png\")\n",
    "    plt.show()\n",
    "\n",
    "    # uxuy - Reynolds shear stress\n",
    "    fig, ax = plt.subplots(constrained_layout=True)\n",
    "    my_data = ax.plot(y_in_D,u1_diff_xy_mean, y_in_D, u2_diff_xy_mean-0.5, y_in_D, u3_diff_xy_mean-1)\n",
    "    plt.setp(my_data, ls=\"-\", lw=1, marker=\"\", color=\"red\", label=\"lettuce\")\n",
    "    ref_BM = ax.plot(p2_BM1994_uxuy[:,0], p2_BM1994_uxuy[:,1])\n",
    "    plt.setp(ref_BM, ls=\"dashdot\", lw=1.5, marker=\"\", color=\"k\", label=\"Beaudan & Moin (1994)\")\n",
    "    ref_LS = ax.plot(p2_LS1993_uxuy[:,0], p2_LS1993_uxuy[:,1])\n",
    "    plt.setp(ref_LS, ls=\"\", lw=1, marker=\"s\", fillstyle='none', color=\"k\", label=\"Lorenco & Shih (1993)\")\n",
    "    ref_R = ax.plot(p1_R2016_uxuy[:,0], p1_R2016_uxuy[:,1], p3_R2016_uxuy[:,0], p3_R2016_uxuy[:,1], p3_R2016_uxuy[:,0], p3_R2016_uxuy[:,1])\n",
    "    plt.setp(ref_R, ls=\"--\", lw=1.5, marker=\"\", color=\"k\", label=\"Rajani et al. (2016)\")\n",
    "    ref_DI = ax.plot(p1_DI2018_uxuy[:,0], p1_DI2018_uxuy[:,1], p2_DI2018_uxuy[:,0], p2_DI2018_uxuy[:,1], p3_DI2018_uxuy[:,0], p3_DI2018_uxuy[:,1])\n",
    "    plt.setp(ref_DI, ls=\"--\", lw=1.5, marker=\"\", color=\"tab:blue\", label=\"Di Ilio et al. (2018)\")\n",
    "    ax.set_xlabel(\"y/D\")\n",
    "    ax.set_ylabel(r\"$\\overline{u_{x}'u_{y}'}$/$u_{char}^2$\")\n",
    "    ax.set_ylim([-1.2,0.8])\n",
    "    ax.set_xlim([-3,3])\n",
    "    ax.legend(handles=[my_data[0], ref_BM[0], ref_LS[0], ref_R[0], ref_DI[0]], loc='best')\n",
    "\n",
    "    if output_data:\n",
    "        plt.savefig(output_path+dir_name+\"/AvgVelocity_Data\"+\"/AvgVelocity_uxuy_withReference.png\")\n",
    "    plt.show()\n",
    "\n",
    "    # (!) standard plot/figure size in python is 6.4 x 4.8 inches"
   ],
   "metadata": {
    "collapsed": false,
    "ExecuteTime": {
     "start_time": "2024-06-06T14:20:18.706972756Z"
    }
   }
  },
  {
   "cell_type": "code",
   "execution_count": 14,
   "outputs": [
    {
     "data": {
      "text/plain": "<Figure size 640x480 with 1 Axes>",
      "image/png": "[encoded data removed]"
     },
     "metadata": {},
     "output_type": "display_data"
    }
   ],
   "source": [
    "### plot Drag coefficient\n",
    "\n",
    "drag_coefficient = np.array(Dragreport.out)\n",
    "#print('  stepLU        ', 'timePU        ', 'Cd')\n",
    "#print(drag_coefficient) # prints: stepLU, timePU, value\n",
    "\n",
    "fig, ax = plt.subplots(constrained_layout=True)\n",
    "ax.plot(drag_coefficient[:,1],drag_coefficient[:,2])\n",
    "ax.set_xlabel(\"physical time / s\")\n",
    "ax.set_ylabel(\"Coefficient of Drag Cd\")\n",
    "ax.set_ylim([0.5,1.6])\n",
    "ax.set_ylim([0.5,3])\n",
    "secax = ax.secondary_xaxis('top', functions=(flow.units.convert_time_to_lu, flow.units.convert_time_to_pu))\n",
    "secax.set_xlabel(\"timesteps (simulation time / LU)\")\n",
    "if output_data:  # save plot with standard y limits\n",
    "    plt.savefig(output_path+dir_name+\"/drag_coefficient.png\")\n",
    "    np.savetxt(output_path+dir_name+\"/drag_coefficient.txt\", drag_coefficient, header=\"stepLU  |  timePU  |  Cd  FROM str(timestamp)\")\n",
    "\n",
    "ax.set_ylim([drag_coefficient[int(drag_coefficient.shape[0]*periodic_start-1):,2].min()*0.5,drag_coefficient[int(drag_coefficient.shape[0]*periodic_start-1):,2].max()*1.2])\n",
    "if output_data:  # save plot with adjusted y limits\n",
    "    plt.savefig(output_path+dir_name+\"/drag_coefficient_adjusted.png\")\n",
    "plt.show()"
   ],
   "metadata": {
    "collapsed": false,
    "ExecuteTime": {
     "end_time": "2024-06-06T14:20:28.511820306Z",
     "start_time": "2024-06-06T14:20:27.415505424Z"
    }
   }
  },
  {
   "cell_type": "code",
   "execution_count": null,
   "outputs": [],
   "source": [
    "### calculate mean drag_coefficient in periodic region:\n",
    "try:\n",
    "    values = drag_coefficient[int(drag_coefficient.shape[0]*periodic_start-1):,2]\n",
    "\n",
    "    peaks_max = find_peaks(values, prominence=((values.max()-values.min())/2))\n",
    "    peaks_min = find_peaks(-values, prominence=((values.max()-values.min())/2))\n",
    "    # find peaks only works correctly, if simulation is converged in the periodic region...\n",
    "\n",
    "    if peaks_min[0].shape[0] - peaks_max[0].shape[0] > 0:\n",
    "        peak_number = peaks_max[0].shape[0]\n",
    "    else:\n",
    "        peak_number = peaks_min[0].shape[0]\n",
    "\n",
    "    if peaks_min[0][0] < peaks_max[0][0]:\n",
    "        first_peak = peaks_min[0][0]\n",
    "        last_peak = peaks_max[0][peak_number-1]\n",
    "    else:\n",
    "        first_peak = peaks_max[0][0]\n",
    "        last_peak = peaks_min[0][peak_number-1]\n",
    "\n",
    "    drag_mean = values[first_peak:last_peak].mean()\n",
    "    drag_mean_simple = values.mean()\n",
    "\n",
    "    print(\"Cd, simple mean:     \",drag_mean_simple)\n",
    "    print(\"Cd, peak_finder mean:\",drag_mean)\n",
    "    print(\"start time of 'mean'-ing:\",drag_coefficient[int(drag_coefficient.shape[0]*periodic_start-1),1])\n",
    "    ## plotting peaks from peak_finder:\n",
    "    drag_stepsLU = drag_coefficient[int(drag_coefficient.shape[0]*periodic_start-1):,0]\n",
    "    peak_max_y = values[peaks_max[0]]\n",
    "    peak_max_x = drag_stepsLU[peaks_max[0]]\n",
    "    peak_min_y = values[peaks_min[0]]\n",
    "    peak_min_x = drag_stepsLU[peaks_min[0]]\n",
    "\n",
    "    plt.plot(drag_stepsLU, values)\n",
    "    plt.scatter(peak_max_x[:peak_number],peak_max_y[:peak_number])\n",
    "    plt.scatter(peak_min_x[:peak_number],peak_min_y[:peak_number])\n",
    "    plt.scatter(drag_stepsLU[first_peak],values[first_peak])\n",
    "    plt.scatter(drag_stepsLU[last_peak],values[last_peak])\n",
    "    if output_data:\n",
    "        plt.savefig(output_path+dir_name+\"/drag_coefficient_peakfinder.png\")\n",
    "    peakfinder=True\n",
    "except:\n",
    "    print(\"peak-finding didn't work... probably no significant peaks visible (Re<46?), or periodic region not reached (T too small)\")\n",
    "    values = drag_coefficient[int(drag_coefficient.shape[0]*periodic_start-1):,2]\n",
    "    drag_mean_simple = values.mean()\n",
    "    peakfinder=False\n",
    "    print(\"Cd, simple mean:\",drag_mean_simple)"
   ],
   "metadata": {
    "collapsed": false,
    "ExecuteTime": {
     "start_time": "2024-06-06T14:20:18.707111034Z"
    }
   }
  },
  {
   "cell_type": "code",
   "execution_count": null,
   "outputs": [],
   "source": [
    "### plot Lift coefficient\n",
    "\n",
    "lift_coefficient = np.array(Liftreport.out)\n",
    "# print('  stepLU        ', 'timePU        ', 'Cl')\n",
    "# print(lift_coefficient) # prints: stepLU, timePU, value\n",
    "\n",
    "fig, ax = plt.subplots(constrained_layout=True)\n",
    "ax.plot(lift_coefficient[:,1],lift_coefficient[:,2])\n",
    "ax.set_xlabel(\"physical time / s\")\n",
    "ax.set_ylabel(\"Coefficient of Lift Cl\")\n",
    "ax.set_ylim([-1.1,1.1])\n",
    "secax = ax.secondary_xaxis('top', functions=(flow.units.convert_time_to_lu, flow.units.convert_time_to_pu))\n",
    "secax.set_xlabel(\"timesteps (simulation time / LU)\")\n",
    "if output_data:\n",
    "    plt.savefig(output_path+dir_name+\"/lift_coefficient.png\")\n",
    "    np.savetxt(output_path+dir_name+\"/lift_coefficient.txt\", lift_coefficient, header=\"stepLU  |  timePU  |  Cl  FROM str(timestamp)\")\n",
    "plt.show()\n",
    "\n",
    "Cl_min = lift_coefficient[int(lift_coefficient[:,2].shape[0]*0.5):,2].min()\n",
    "Cl_max = lift_coefficient[int(lift_coefficient[:,2].shape[0]*0.5):,2].max()\n",
    "\n",
    "print(\"Cl_peaks: \\nmin\", Cl_min,\"\\nmax\", Cl_max)"
   ],
   "metadata": {
    "collapsed": false,
    "ExecuteTime": {
     "start_time": "2024-06-06T14:20:18.707170843Z"
    }
   }
  },
  {
   "cell_type": "code",
   "execution_count": null,
   "outputs": [],
   "source": [
    "### prototyped fft for frequency detection and calculation of strouhal-number\n",
    "# ! Drag_frequency is 2* Strouhal-Freq. Lift-freq. is Strouhal-Freq.\n",
    "\n",
    "try:\n",
    "    X = np.fft.fft(lift_coefficient[:,2])   # fft result (amplitudes)\n",
    "    N = len(X)  # number of freqs\n",
    "    n = np.arange(N)   # freq index\n",
    "    T = N*flow.units.convert_time_to_pu(1)   # total time measured (T_PU)\n",
    "    freq = n/T   # frequencies (x-axis of spectrum)\n",
    "\n",
    "    plt.figure\n",
    "    plt.stem(freq, np.abs(X), 'b', markerfmt=\" \", basefmt=\"-b\")   # plot spectrum |X|(f)\n",
    "    plt.xlabel(\"Freq (Hz)\")\n",
    "    plt.ylabel(\"FFT Amplitude |X(freq)|\")\n",
    "    plt.xlim(0,1)\n",
    "    #print(\"max. Amplitude np.abx(X).max():\", np.abs(X).max())   # for debugging\n",
    "    plt.ylim(0,np.abs(X[:int(X.shape[0]*0.5)]).max())   # ylim, where highes peak is on left half of full spectrum\n",
    "\n",
    "    if output_data:\n",
    "        plt.savefig(output_path+dir_name+\"/fft_Cl.png\")\n",
    "\n",
    "    freq_res = freq[1]-freq[0]   # frequency-resolution\n",
    "    X_abs = np.abs(X[:int(X.shape[0]*0.4)])   # get |X| Amplitude for left half of full spectrum\n",
    "    freq_peak = freq[np.argmax(X_abs)]    # find frequency with the highest amplitude\n",
    "    print(\"Frequency Peak:\", freq_peak, \"+-\", freq_res, \"Hz\")\n",
    "    # f = Strouhal for St=f*D/U and D=U=1 in PU\n",
    "except:\n",
    "    print(\"Strouhal-calculation failed, check simulation data\")\n",
    "    freq_res=0\n",
    "    freq_peak=0"
   ],
   "metadata": {
    "collapsed": false,
    "ExecuteTime": {
     "start_time": "2024-06-06T14:20:18.707324062Z"
    }
   }
  },
  {
   "cell_type": "code",
   "execution_count": null,
   "outputs": [],
   "source": [
    "# save notebook to simulation_output\n",
    "if output_data:\n",
    "    try:\n",
    "        shutil.copy(str(os.getcwd())+\"/cylinder3D_development_v2.ipynb\",output_path+dir_name+\"/script.ipynb\")\n",
    "    except:\n",
    "        print(\"script could not be saved\")\n",
    "else:\n",
    "    print(\"output_data-toggle is FALSE\")"
   ],
   "metadata": {
    "collapsed": false,
    "ExecuteTime": {
     "start_time": "2024-06-06T14:20:18.707394061Z"
    }
   }
  },
  {
   "cell_type": "code",
   "execution_count": null,
   "outputs": [],
   "source": [
    "### plot Drag coefficient AND Lift Coefficient\n",
    "\n",
    "fig, ax = plt.subplots(layout=\"constrained\")\n",
    "drag_ax = ax.plot(drag_coefficient[:,1],drag_coefficient[:,2], color=\"tab:blue\", label=\"Drag\")\n",
    "ax.set_xlabel(\"physical time / s\")\n",
    "ax.set_ylabel(\"Coefficient of Drag Cd\")\n",
    "ax.set_ylim([0.5,1.6])\n",
    "\n",
    "secax = ax.secondary_xaxis('top', functions=(flow.units.convert_time_to_lu, flow.units.convert_time_to_pu))\n",
    "secax.set_xlabel(\"timesteps (simulation time / LU)\")\n",
    "\n",
    "ax2 = ax.twinx()\n",
    "lift_ax = ax2.plot(lift_coefficient[:,1],lift_coefficient[:,2], color=\"tab:orange\", label=\"Lift\")\n",
    "ax2.set_ylabel(\"Coefficient of Lift Cl\")\n",
    "ax2.set_ylim([-1.1,1.1])\n",
    "\n",
    "\n",
    "fig.legend(loc=\"upper left\", bbox_to_anchor=(0,1), bbox_transform=ax.transAxes)\n",
    "\n",
    "if output_data:\n",
    "    plt.savefig(output_path+dir_name+\"/dragAndLift_coefficient.png\")\n",
    "\n",
    "plt.show()"
   ],
   "metadata": {
    "collapsed": false,
    "ExecuteTime": {
     "start_time": "2024-06-06T14:20:18.707435870Z"
    }
   }
  },
  {
   "cell_type": "code",
   "execution_count": null,
   "outputs": [],
   "source": [
    "### Analysis of GPU memory usage (tensors)\n",
    "\n",
    "if output_data:\n",
    "### cudas own memory summary\n",
    "    print(torch.cuda.memory_summary(device=\"cuda:0\"))\n",
    "    ### CUDA-VRAM-summary:\n",
    "    output_file = open(output_path+dir_name+\"/\"+timestamp + \"_GPU_memory_summary.txt\", \"a\")\n",
    "    output_file.write(\"DATA for \"+timestamp+\"\\n\\n\")\n",
    "    output_file.write(torch.cuda.memory_summary(device=\"cuda:0\"))\n",
    "    output_file.close()\n",
    "\n",
    "### list present torch tensors:\n",
    "    output_file = open(output_path+dir_name+\"/\"+timestamp + \"_GPU_list_of_tensors.txt\", \"a\")\n",
    "    total_bytes = 0\n",
    "    import gc\n",
    "    for obj in gc.get_objects():\n",
    "        try:\n",
    "            if torch.is_tensor(obj) or (hasattr(obj,'data') and torch.is_tensor(obj.data)):\n",
    "                output_file.write(\"\\n\"+str(obj.size())+\", \"+str(obj.nelement()*obj.element_size()))\n",
    "                total_bytes = total_bytes+obj.nelement()*obj.element_size()\n",
    "        except:\n",
    "            pass\n",
    "    #output_file.write(\"\\n\\ntotal bytes for tensors:\"+str(total_bytes))\n",
    "    output_file.close()\n",
    "\n",
    "### count occurence of tensors in list of tensors:\n",
    "    from collections import Counter\n",
    "    my_file = open(output_path+dir_name+\"/\"+timestamp + \"_GPU_list_of_tensors.txt\",\"r\")\n",
    "    data=my_file.read()\n",
    "    my_file.close()\n",
    "    data_into_list=data.split(\"\\n\")\n",
    "    c = Counter(data_into_list)\n",
    "    output_file = open(output_path+dir_name+\"/\"+timestamp + \"_GPU_counted_tensors.txt\", \"a\")\n",
    "    for k,v in c.items():\n",
    "        output_file.write(\"type,size,bytes: {}, number: {}\\n\".format(k,v) )\n",
    "    output_file.write(\"\\ntotal bytes for tensors:\"+str(total_bytes))\n",
    "    output_file.close()"
   ],
   "metadata": {
    "collapsed": false,
    "ExecuteTime": {
     "start_time": "2024-06-06T14:20:18.707478990Z"
    }
   }
  },
  {
   "cell_type": "code",
   "execution_count": null,
   "outputs": [],
   "source": [
    "# output data\n",
    "if output_data:\n",
    "    output_file = open(output_path+dir_name+\"/\"+timestamp + \"_parms_stats_obs.txt\", \"a\")\n",
    "    output_file.write(\"DATA for \"+timestamp)\n",
    "    output_file.write(\"\\n\\n###   SIM-Parameters   ###\")\n",
    "    output_file.write(\"\\nRe = \"+str(re))\n",
    "    output_file.write(\"\\nn_steps = \"+str(n_steps))\n",
    "    output_file.write(\"\\nT_target = \"+str(flow.units.convert_time_to_pu(n_steps))+\" seconds\")\n",
    "    output_file.write(\"\\ngridpoints_per_diameter (gpd) = \"+str(gridpoints_per_diameter))\n",
    "    if gpd_correction:\n",
    "        output_file.write(\"\\ngpd was corrected from: \"+str(gpd_setup)+\" to \"+str(gridpoints_per_diameter)+\" because D/Y is even\")\n",
    "    output_file.write(\"\\nDpX (D/X) = \" + str(domain_length_in_D))\n",
    "    output_file.write(\"\\nDpY (D/Y) = \"+str(domain_height_in_D))\n",
    "    if lattice.D == 3:\n",
    "        output_file.write(\"\\nDpZ (D/Z) = \"+str(domain_width_in_D))\n",
    "    output_file.write(\"\\nshape_LU: \"+ str(flow.shape))\n",
    "    output_file.write((\"\\ntotal_number_of_gridpoints: \"+str(lattice.rho(sim.f).numel())))\n",
    "    output_file.write(\"\\nbc_type = \"+str(bc_type))\n",
    "    output_file.write(\"\\nlateral_walls = \"+str(lateral_walls))\n",
    "    output_file.write(\"\\nstencil = \"+str(stencil_choice))\n",
    "    output_file.write(\"\\ncollision = \" + str(collision_choice))\n",
    "    output_file.write(\"\\n\")\n",
    "    output_file.write(\"\\nMa = \" + str(Ma))\n",
    "    output_file.write(\"\\ntau = \" + str(tau))\n",
    "    output_file.write(\"\\ngrid_reynolds_number (Re_g) = \" + str(re_g))\n",
    "    output_file.write(\"\\n\")\n",
    "    output_file.write(\"\\nsetup_diameter_PU = \" + str(setup_diameter))\n",
    "    output_file.write(\"\\nflow_velocity_PU = \" + str(flow_velocity))\n",
    "    output_file.write(\"\\nu_init = \" + str(u_init))\n",
    "    output_file.write(\"\\nperturb_init = \" + str(perturb_init))\n",
    "    output_file.write(\"\\n\")\n",
    "    output_file.write(\"\\noutput_vtk = \" + str(output_vtk))\n",
    "    output_file.write(\"\\nvtk_fps = \" + str(vtk_fps))\n",
    "\n",
    "    output_file.write(\"\\n\\n###   SIM-STATS  ###\")\n",
    "    output_file.write(\"\\nruntime = \"+str(runtime)+ \" seconds (=\"+str(runtime/60)+\" minutes)\")\n",
    "    output_file.write(\"\\nMLUPS = \"+str(mlups))\n",
    "    output_file.write(\"\\n\")\n",
    "    output_file.write(\"\\navg. Collision-Time [s] = \" + str(c_time) + \" (\" + str(round(100 * c_time/sum_time, 2)) + \" %)\")\n",
    "    output_file.write(\"\\navg. store_fcl-Time [s] = \" + str(fc_time) + \" (\" + str(round(100 * fc_time/sum_time, 2)) + \" %)\")\n",
    "    output_file.write(\"\\navg. Streaming-Time [s] = \" + str(s_time) + \" (\" + str(round(100 * s_time/sum_time, 2)) + \" %)\")\n",
    "    output_file.write(\"\\navg. Boundary-Time  [s] = \" + str(b_time) + \" (\" + str(round(100 * b_time/sum_time, 2)) + \" %)\")\n",
    "    output_file.write(\"\\navg. Reporter-Time  [s] = \" + str(r_time) + \" (\" + str(round(100 * r_time/sum_time, 2)) + \" %)\")\n",
    "    output_file.write(\"\\n\")\n",
    "    output_file.write(\"\\nVRAM_current [MB] = \" + str(torch.cuda.memory_allocated(lattice.device)/1024/1024))\n",
    "    output_file.write(\"\\nVRAM_peak [MB] = \" + str(torch.cuda.max_memory_allocated(lattice.device)/1024/1024))\n",
    "    output_file.write(\"\\n\")\n",
    "    output_file.write(\"\\nCPU load % avg. over last 1, 5, 15 min: \" + str(round(cpuLoad1, 2)) + \" %, \" + str(round(cpuLoad5, 2)) + \" %, \" + str(round(cpuLoad15, 2)) + \" %\")\n",
    "    output_file.write(\"\\ntotal current RAM usage [MB]: \" + str(round(ram.used/(1024*1024),2)) + \" of \" + str(round(ram.total/(1024*1024),2)) + \" MB\")\n",
    "\n",
    "    output_file.write(\"\\n\\n###   OBSERVABLES   ###\")\n",
    "    output_file.write(\"\\nCoefficient of drag between \"+str(round(drag_coefficient[int(drag_coefficient.shape[0]*periodic_start-1),1],2))+\" s and \"+str(round(drag_coefficient[int(drag_coefficient.shape[0]-1),1],2))+\" s:\")\n",
    "    output_file.write(\"\\nCd_mean, simple      = \"+str(drag_mean_simple))\n",
    "    if peakfinder:\n",
    "        output_file.write(\"\\nCd_mean, peak_finder = \"+str(drag_mean))\n",
    "    else:\n",
    "        output_file.write(\"\\nnoPeaksFound\")\n",
    "    output_file.write(\"\\nCd_min = \"+str(drag_coefficient[int(drag_coefficient.shape[0]*periodic_start-1):,2].min()))\n",
    "    output_file.write(\"\\nCd_max = \"+str(drag_coefficient[int(drag_coefficient.shape[0]*periodic_start-1):,2].max()))\n",
    "    output_file.write(\"\\n\")\n",
    "    output_file.write(\"\\nCoefficient of lift:\")\n",
    "    output_file.write(\"\\nCl_min = \"+str(Cl_min))\n",
    "    output_file.write(\"\\nCl_max = \"+str(Cl_max))\n",
    "    output_file.write(\"\\n\")\n",
    "    output_file.write(\"\\nStrouhal number:\")\n",
    "    output_file.write(\"\\nSt +- df = \"+str(freq_peak)+\" +- \"+str(freq_res)+\" Hz\")\n",
    "    output_file.write(\"\\n\")\n",
    "    output_file.close()\n"
   ],
   "metadata": {
    "collapsed": false,
    "ExecuteTime": {
     "start_time": "2024-06-06T14:20:18.707520060Z"
    }
   }
  },
  {
   "cell_type": "code",
   "execution_count": null,
   "outputs": [],
   "source": [
    "if output_data:\n",
    "    output_file = open(output_path+dir_name+\"/\"+timestamp + \"_parms_stats_obs_copyable.txt\", \"a\")\n",
    "\n",
    "    output_file.write(\"DATA for \"+timestamp)\n",
    "    output_file.write(\"\\n\\n###   Data:   ###\")\n",
    "    output_file.write(\"\\nRe, n_steps, t_target(PU), GPD, DpX, DpY, (DpZ), shape_LU, gridpoints, bc_type, lateral_walls, stencil, collision, Ma, tau, Re_grid, setup_diameter_PU, flow_velocity_PU, u_init, perturb_init, output_vtk, vtk_fps, runtime, MLUPS, c_time, fc_time, s_time, b_time, r_time, VRAM_current_MB, VRAM_peak_MB, periodic_start, Cd_mean, Cd_mean_pf, Cd_min, Cd_max, Cl_min, Cl_max, St, df\")\n",
    "    output_file.write(\"\\n\" + str(re))\n",
    "    output_file.write(\"\\n\" + str(n_steps))\n",
    "    output_file.write(\"\\n\" + str(flow.units.convert_time_to_pu(n_steps)))\n",
    "    output_file.write(\"\\n\" + str(gridpoints_per_diameter))\n",
    "    if gpd_correction:\n",
    "        output_file.write(\"\\ngpd was corrected from: \"+str(gpd_setup)+\" to \"+str(gridpoints_per_diameter)+\" because D/Y is even\")\n",
    "    output_file.write(\"\\n\" + str(domain_length_in_D))\n",
    "    output_file.write(\"\\n\" + str(domain_height_in_D))\n",
    "    if lattice.D == 3:\n",
    "        output_file.write(\"\\n\" + str(domain_width_in_D))\n",
    "    output_file.write(\"\\n\" + str(flow.shape))\n",
    "    output_file.write(\"\\n\" + str(lattice.rho(sim.f).numel()))\n",
    "    output_file.write(\"\\n\"+str(bc_type))\n",
    "    output_file.write(\"\\n\"+str(lateral_walls))\n",
    "    output_file.write(\"\\n\"+str(stencil_choice))\n",
    "    output_file.write(\"\\n\" + str(collision_choice))\n",
    "    output_file.write(\"\\n\")\n",
    "    output_file.write(\"\\n\" + str(Ma))\n",
    "    output_file.write(\"\\n\" + str(tau))\n",
    "    output_file.write(\"\\n\" + str(re_g))\n",
    "    output_file.write(\"\\n\")\n",
    "    output_file.write(\"\\n\" + str(setup_diameter))\n",
    "    output_file.write(\"\\n\" + str(flow_velocity))\n",
    "    output_file.write(\"\\n\" + str(u_init))\n",
    "    output_file.write(\"\\n\" + str(perturb_init))\n",
    "    output_file.write(\"\\n\")\n",
    "    output_file.write(\"\\n\" + str(output_vtk))\n",
    "    output_file.write(\"\\n\" + str(vtk_fps))\n",
    "    output_file.write(\"\\n\")\n",
    "\n",
    "    output_file.write(\"\\n\"+str(runtime))\n",
    "    output_file.write(\"\\n\"+str(mlups))\n",
    "    output_file.write(\"\\n\")\n",
    "    output_file.write(\"\\n\" + str(c_time))\n",
    "    output_file.write(\"\\n\" + str(fc_time))\n",
    "    output_file.write(\"\\n\" + str(s_time))\n",
    "    output_file.write(\"\\n\" + str(b_time))\n",
    "    output_file.write(\"\\n\" + str(r_time))\n",
    "    output_file.write(\"\\n\")\n",
    "    output_file.write(\"\\n\" + str(torch.cuda.memory_allocated(lattice.device)/1024/1024))\n",
    "    output_file.write(\"\\n\" + str(torch.cuda.max_memory_allocated(lattice.device)/1024/1024))\n",
    "    output_file.write(\"\\n\")\n",
    "\n",
    "    output_file.write(\"\\n\" + str(periodic_start))\n",
    "    output_file.write(\"\\n\"+str(drag_mean_simple))\n",
    "    if peakfinder:\n",
    "        output_file.write(\"\\n\"+str(drag_mean))\n",
    "    else:\n",
    "        output_file.write(\"\\nnoPeaksFound\")\n",
    "    output_file.write(\"\\n\"+str(drag_coefficient[int(drag_coefficient.shape[0]*periodic_start-1):,2].min()))\n",
    "    output_file.write(\"\\n\"+str(drag_coefficient[int(drag_coefficient.shape[0]*periodic_start-1):,2].max()))\n",
    "    output_file.write(\"\\n\")\n",
    "    output_file.write(\"\\n\"+str(Cl_min))\n",
    "    output_file.write(\"\\n\"+str(Cl_max))\n",
    "    output_file.write(\"\\n\")\n",
    "    output_file.write(\"\\n\"+str(freq_peak))\n",
    "    output_file.write(\"\\n\"+str(freq_res))\n",
    "    output_file.write(\"\\n\")\n",
    "    output_file.close()"
   ],
   "metadata": {
    "collapsed": false,
    "ExecuteTime": {
     "start_time": "2024-06-06T14:20:18.707561149Z"
    }
   }
  },
  {
   "cell_type": "code",
   "execution_count": null,
   "outputs": [],
   "source": [
    "print(\"current VRAM (MB): \", torch.cuda.memory_allocated(device=\"cuda:0\")/1024/1024)\n",
    "print(\"max. VRAM (MB): \", torch.cuda.max_memory_allocated(device=\"cuda:0\")/1024/1024)"
   ],
   "metadata": {
    "collapsed": false,
    "ExecuteTime": {
     "start_time": "2024-06-06T14:20:18.707601619Z"
    }
   }
  },
  {
   "cell_type": "code",
   "execution_count": null,
   "outputs": [],
   "source": [],
   "metadata": {
    "collapsed": false,
    "ExecuteTime": {
     "start_time": "2024-06-06T14:20:18.707642588Z"
    }
   }
  }
 ],
 "metadata": {
  "kernelspec": {
   "display_name": "Python 3",
   "language": "python",
   "name": "python3"
  },
  "language_info": {
   "codemirror_mode": {
    "name": "ipython",
    "version": 2
   },
   "file_extension": ".py",
   "mimetype": "text/x-python",
   "name": "python",
   "nbconvert_exporter": "python",
   "pygments_lexer": "ipython2",
   "version": "2.7.6"
  }
 },
 "nbformat": 4,
 "nbformat_minor": 0
}
