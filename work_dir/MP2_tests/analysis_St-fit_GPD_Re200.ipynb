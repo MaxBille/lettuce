{
 "cells": [
  {
   "cell_type": "code",
   "execution_count": 22,
   "metadata": {
    "collapsed": true
   },
   "outputs": [],
   "source": [
    "import matplotlib\n",
    "import matplotlib.pyplot as plt\n",
    "import numpy as np\n",
    "from scipy.signal import find_peaks\n",
    "from scipy.optimize import curve_fit\n",
    "\n",
    "import datetime\n",
    "import os\n",
    "import shutil\n",
    "\n",
    "from glob import glob\n",
    "from copy import deepcopy"
   ]
  },
  {
   "cell_type": "code",
   "execution_count": 18,
   "outputs": [],
   "source": [
    "gpds = np.arange(10,121)\n",
    "cols = [\"bgk\", \"reg\", \"kbc\"]\n",
    "bcs = [\"fwbb\", \"hwbb\", \"ibb1\"]\n",
    "\n",
    "base_path = \"/home/mbille/Documents/cluster_hbrs_home/02_lbm_simulations/data_2D_GPD_BC_CO\"\n",
    "\n",
    "paths_dict = dict() # path matches\n",
    "gpds_dict = dict() # lists of available gpds\n",
    "\n",
    "# create path_dict: keys= bc_col Combination, values: lists of paths to gpd-variants\n",
    "for col in cols:\n",
    "    for bc in bcs:\n",
    "        paths_dict[bc+\"_\"+col] = []\n",
    "        gpds_dict[bc+\"_\"+col] = []\n",
    "        for gpd in gpds:\n",
    "            dir_names = glob(base_path+\"/*2d_GPD\"+str(gpd)+\"_\"+bc+\"_\"+col)\n",
    "            if len(dir_names)>1:\n",
    "                print(\"(!) Warning: more than 1 simulation for:\", \"2d_GPD\"+str(gpd)+\"_\"+bc+\"_\"+col)\n",
    "                print(dir_names)\n",
    "            elif len(dir_names) == 1:\n",
    "                # this is what we want: one unique simulation found\n",
    "                paths_dict[bc+\"_\"+col].append(*dir_names)\n",
    "                gpds_dict[bc+\"_\"+col].append(gpd)\n",
    "\n",
    "            #print(base_path+\"/*2d_GPD\"+str(gpd)+\"_\"+bc+\"_\"+col)\n",
    "#            print(\"2d_GPD\"+str(gpd)+\"_\"+bc+\"_\"+col+\":\",dir_names)\n",
    "#        print(paths_dict[bc+\"_\"+col])\n",
    "\n",
    "#print(gpds)"
   ],
   "metadata": {
    "collapsed": false
   }
  },
  {
   "cell_type": "code",
   "execution_count": 37,
   "outputs": [],
   "source": [
    "# FIT SINE WAVE -> STROUHAL NUMBER\n",
    "cols = [\"bgk\", \"reg\", \"kbc\"]\n",
    "bcs = [\"fwbb\", \"hwbb\", \"ibb1\"]\n",
    "\n",
    "filename = \"/lift_coefficient.txt\"\n",
    "periodic_start=0.9\n",
    "\n",
    "# function to fit\n",
    "def sine_func(xx,a,b,c,d):\n",
    "    return a*np.sin(2*np.pi*b*xx+c)+d\n",
    "\n",
    "for col in cols:\n",
    "    for bc in bcs:\n",
    "        lift_St_fit = np.zeros((2,len(gpds_dict[bc+\"_\"+col])))\n",
    "        lift_St_fit[0] = gpds_dict[bc+\"_\"+col]\n",
    "        for gpd_i in range(len(lift_St_fit[0])):\n",
    "            # load timeseries\n",
    "            lift_timeseries = np.loadtxt(paths_dict[bc+\"_\"+col][gpd_i]+filename)\n",
    "            lift_converged = lift_timeseries[int(lift_timeseries.shape[0]*periodic_start-1):]\n",
    "\n",
    "            # fit sine_wave\n",
    "            coefficients, sheeesh = curve_fit(sine_func, lift_converged[:,1], lift_converged[:,2], p0=(0.7,0.2,0.5,0))\n",
    "\n",
    "            # plot fit and save to Desktop/St_Fits/...\n",
    "            fig, ax = plt.subplots(constrained_layout=True)\n",
    "            plt.plot(lift_converged[:,1], lift_converged[:,2], lift_converged[:,1], sine_func(lift_converged[:,1], *coefficients))\n",
    "            plt.legend([\"lift\", \"fit\"])\n",
    "            ax.set_xlabel(\"physical time / s\")\n",
    "            ax.set_ylabel(\"Coefficient of Lift\")\n",
    "            ax.set_ylim([-1,1])\n",
    "            plt.savefig(\"/home/mbille/Desktop/St_Fits/St_LiftFit_2D_\"+bc+\"_\"+col+\"_GPD\"+str(gpds_dict[bc+\"_\"+col][gpd_i])+\".png\")\n",
    "            plt.close(fig)\n",
    "\n",
    "            # store St\n",
    "            lift_St_fit[1,gpd_i]=coefficients[1]\n",
    "        np.savetxt(\"/home/mbille/Desktop/St_Fits/St_LiftFit_2D_\"+bc+\"_\"+col+\"-St(GPD).txt\", lift_St_fit, header=\"2D, DpY19, D2Q9, \"+bc+\"_\"+col)"
   ],
   "metadata": {
    "collapsed": false
   }
  },
  {
   "cell_type": "code",
   "execution_count": 40,
   "outputs": [],
   "source": [
    "# AVERAGE PEAKS OF LIFT -> Cl_max(mean)\n",
    "\n",
    "#bcs= [\"fwbb\"]\n",
    "#cols=[\"kbc\"]\n",
    "\n",
    "filename = \"/lift_coefficient.txt\"\n",
    "periodic_start=0.75\n",
    "\n",
    "for col in cols:\n",
    "    for bc in bcs:\n",
    "        lift_Cl_maxmean = np.zeros((2,len(gpds_dict[bc+\"_\"+col])))\n",
    "        lift_Cl_maxmean[0] = gpds_dict[bc+\"_\"+col]\n",
    "        for gpd_i in range(len(lift_Cl_maxmean[0])):\n",
    "            # load timeseries\n",
    "            lift_timeseries = np.loadtxt(paths_dict[bc+\"_\"+col][gpd_i]+filename)\n",
    "            lift_converged = lift_timeseries[int(lift_timeseries.shape[0]*periodic_start-1):]\n",
    "\n",
    "            # find peaks\n",
    "            #peaks_max = find_peaks(lift_converged[:,2], prominence=lift_converged[:,2].max())  # prominence: \"the minimum height necessary to descend to get from the summit to any higher terrain\"\n",
    "            peaks_max = find_peaks(lift_converged[:,2], prominence=lift_converged[:,2].max()-(lift_converged[:,2].max()+lift_converged[:,2].min())*0.5)\n",
    "            lift_Cl_maxmean[1,gpd_i] = lift_converged[peaks_max[0],2].mean()\n",
    "\n",
    "            # plot fit and save to Desktop/St_Fits/...\n",
    "            fig, ax = plt.subplots(constrained_layout=True)\n",
    "            ax.plot(lift_timeseries[:,1], lift_timeseries[:,2])\n",
    "            plt.scatter(lift_converged[peaks_max[0],1],lift_converged[peaks_max[0],2],marker=\"+\", facecolors=\"r\")\n",
    "            plt.axhline(y=lift_Cl_maxmean[1,gpd_i], color=\"r\", ls=\"--\", lw=0.5)\n",
    "            plt.legend([\"lift\", \"Cl_maxmean\"])\n",
    "            ax.set_xlabel(\"physical time / s\")\n",
    "            ax.set_ylabel(\"Coefficient of Lift\")\n",
    "            ax.set_ylim([-1,1])\n",
    "            plt.savefig(\"/home/mbille/Desktop/Cl_Peaks/Cl_Peaks_2D_\"+bc+\"_\"+col+\"_GPD\"+str(gpds_dict[bc+\"_\"+col][gpd_i])+\".png\")\n",
    "            plt.close(fig)\n",
    "        np.savetxt(\"/home/mbille/Desktop/Cl_Peaks/Cl_Peaks_2D_\"+bc+\"_\"+col+\"-Cl(GPD).txt\", lift_Cl_maxmean, header=\"2D, DpY19, D2Q9, \"+bc+\"_\"+col)"
   ],
   "metadata": {
    "collapsed": false
   }
  },
  {
   "cell_type": "code",
   "execution_count": 35,
   "outputs": [
    {
     "data": {
      "text/plain": "-0.7215750477431399"
     },
     "execution_count": 35,
     "metadata": {},
     "output_type": "execute_result"
    }
   ],
   "source": [
    "lift_converged[:,2].min()"
   ],
   "metadata": {
    "collapsed": false
   }
  },
  {
   "cell_type": "code",
   "execution_count": 34,
   "outputs": [
    {
     "data": {
      "text/plain": "0.7213720431780384"
     },
     "execution_count": 34,
     "metadata": {},
     "output_type": "execute_result"
    }
   ],
   "source": [
    "lift_converged[:,2].max()"
   ],
   "metadata": {
    "collapsed": false
   }
  },
  {
   "cell_type": "code",
   "execution_count": null,
   "outputs": [],
   "source": [],
   "metadata": {
    "collapsed": false
   }
  }
 ],
 "metadata": {
  "kernelspec": {
   "display_name": "Python 3",
   "language": "python",
   "name": "python3"
  },
  "language_info": {
   "codemirror_mode": {
    "name": "ipython",
    "version": 2
   },
   "file_extension": ".py",
   "mimetype": "text/x-python",
   "name": "python",
   "nbconvert_exporter": "python",
   "pygments_lexer": "ipython2",
   "version": "2.7.6"
  }
 },
 "nbformat": 4,
 "nbformat_minor": 0
}
