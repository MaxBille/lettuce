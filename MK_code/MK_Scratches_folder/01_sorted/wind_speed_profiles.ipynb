{
 "cells": [
  {
   "cell_type": "code",
   "execution_count": null,
   "id": "initial_id",
   "metadata": {
    "collapsed": true
   },
   "outputs": [],
   "source": [
    "import numpy as np\n",
    "import torch"
   ]
  },
  {
   "cell_type": "markdown",
   "source": [
    "# wsp a\n",
    "house3D, _single, _proper_multi "
   ],
   "metadata": {
    "collapsed": false
   },
   "id": "56fa3b552ee00f4"
  },
  {
   "cell_type": "code",
   "outputs": [],
   "source": [
    "def wind_speed_profile(self, z, u_max, z_max, alpha):\n",
    "    # based on wikipedia article about wind profile\n",
    "    return u_max * (z / z_max) ** (1/alpha)"
   ],
   "metadata": {
    "collapsed": false
   },
   "id": "15fdb7bc6e4a241a"
  },
  {
   "cell_type": "markdown",
   "source": [
    "# wsp b \n",
    "_proper_single, \n",
    "= wsp_ref aus h3D_literature, \n",
    "= wsp_ref aus 3D_literature_neueBoundary"
   ],
   "metadata": {
    "collapsed": false
   },
   "id": "ee728d6e378d74a4"
  },
  {
   "cell_type": "code",
   "outputs": [],
   "source": [
    "def wind_speed_profile(self, z, u_max, alpha=0.25):\n",
    "    # based on wikipedia article about wind profile\n",
    "    #return u_max * (z / z_max) ** (1/alpha)\n",
    "    #based on DIN Onstwaswindprofil\n",
    "    # all inputs in PU\n",
    "    #return 0.77 * u_max * (z / 10) ** (alpha)\n",
    "    return u_max * (z/self.eg_height) ** alpha"
   ],
   "metadata": {
    "collapsed": false
   },
   "id": "d16aa580af19799c"
  },
  {
   "cell_type": "markdown",
   "source": [
    "# wsp (c2?)\n",
    "newMPI, final, final_new2_noverhang, TestSEMBoundary, (UNTEN: kommt_so_in_die_Arbeit, SIMULATION_CODE.py (ARBEIT))\n",
    "Die untere Version sollte die korrekte sein, dabei wird sich auf die Dachhöhe bezogen UND auf diese normalisiert. Die obere hat zwar auch die gleiche Rechnung, bezeichnet aber u_0 als u_max, was inkorrekt ist."
   ],
   "metadata": {
    "collapsed": false
   },
   "id": "7e34f9ef7fff35e9"
  },
  {
   "cell_type": "code",
   "outputs": [],
   "source": [
    "def wind_speed_profile(self, z, u_max, alpha=0.25):\n",
    "    # based on DIN Onstwaswindprofil\n",
    "    # all inputs in PU\n",
    "    # return 0.77 * u_max * (z / 10) ** (alpha)\n",
    "    return u_max * (z / self.roof_height) ** alpha\n",
    "\n",
    "# wsp (kommt_so_in_die_Arbeit, SIMULATION_CODE.py (ARBEIT))\n",
    "def wind_speed_profile(self, z, u_0, alpha=0.25):\n",
    "    \"\"\"Returns the objects of each boundary class for use by the Simulation class\n",
    "\n",
    "        Inputs:\n",
    "        z: height value or array of height values, in PU\n",
    "        u_0: characteristic velocity, applies at roof_height, in PU\n",
    "        alpha: profile shape exponent\n",
    "    \"\"\"\n",
    "    return u_0 * (z / self.roof_height) ** alpha"
   ],
   "metadata": {
    "collapsed": false
   },
   "id": "177ebbf17bc98433"
  },
  {
   "cell_type": "markdown",
   "source": [
    "# wsp (d)\n",
    "(TestSEMHouseEMpty)\n",
    "\n",
    "bezieht sich auf einen hardcoded-Wert, das ergibt nicht so viel Sinn"
   ],
   "metadata": {
    "collapsed": false
   },
   "id": "966f2a41f449f339"
  },
  {
   "cell_type": "code",
   "outputs": [],
   "source": [
    "def _wind_speed_profile(self, z, u_max, alpha=0.25):\n",
    "    # based on wikipedia article about wind profile\n",
    "    # return u_max * (z / z_max) ** (1/alpha)\n",
    "    # based on DIN Onstwaswindprofil\n",
    "    # all inputs in PU\n",
    "    # return 0.77 * u_max * (z / 10) ** (alpha)\n",
    "    return u_max * (z /(60/1.1)) ** alpha"
   ],
   "metadata": {
    "collapsed": false
   },
   "id": "3f3e9792e944cae7"
  },
  {
   "cell_type": "markdown",
   "source": [
    "# wsp_turb \n",
    "= wsp aus 3D_literature_neueBoundary, \n",
    "= wsp aus 3D_literature, \n",
    "TestSEMBoundary, TestSEMHouseEmpty, TestSEMHouseEmpty_z100\n",
    "\n",
    "(!) hier fehlt irgendwie eine Beschreibung, woher die Angaben kommen, insb. die Rauheit etc. (Arbeit? wahrscheinlich aber Paper!)\n",
    "Da wo z<z_min=1.2 wird ein Minimalwert ausgegeben, d.h. unter z_min geht die Funktion nicht gegen Null\n",
    "Da wo z>z_min wird ein logarithmisches Profil log(z/z_o) zurückgegeben.\n",
    "\n",
    "FRAGE: wofür wird das wsp_turb verwendet?"
   ],
   "metadata": {
    "collapsed": false
   },
   "id": "53d524de2add7f34"
  },
  {
   "cell_type": "code",
   "outputs": [],
   "source": [
    "def wind_speed_profile_turb(self, z, u_0):\n",
    "    # based on DIN Onstwaswindprofil\n",
    "    # all inputs in PU\n",
    "    # return 0.77 * u_max * (z / 10) ** (alpha)\n",
    "    roughness_length = z_0 = 0.02  # meter\n",
    "    k_r = 0.19 * (z_0 / 0.05) ** 0.07\n",
    "    z_min = 1.2\n",
    "\n",
    "    #test =\n",
    "    #plt.plot(test[0, :].cpu().numpy())\n",
    "    #plt.show()\n",
    "    return torch.where(z < z_min, u_0 * k_r * torch.log(torch.tensor(z_min / z_0, device=self.units.lattice.device)) * 1,\n",
    "                u_0 * k_r * torch.log(z / z_0) * 1)"
   ],
   "metadata": {
    "collapsed": false
   },
   "id": "8d5cd55510d233f1"
  },
  {
   "cell_type": "code",
   "outputs": [],
   "source": [],
   "metadata": {
    "collapsed": false
   },
   "id": "23c28edcabc69d9d"
  }
 ],
 "metadata": {
  "kernelspec": {
   "display_name": "Python 3",
   "language": "python",
   "name": "python3"
  },
  "language_info": {
   "codemirror_mode": {
    "name": "ipython",
    "version": 2
   },
   "file_extension": ".py",
   "mimetype": "text/x-python",
   "name": "python",
   "nbconvert_exporter": "python",
   "pygments_lexer": "ipython2",
   "version": "2.7.6"
  }
 },
 "nbformat": 4,
 "nbformat_minor": 5
}
