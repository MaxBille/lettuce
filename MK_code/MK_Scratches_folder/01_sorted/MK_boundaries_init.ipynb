{
 "cells": [
  {
   "cell_type": "code",
   "execution_count": 1,
   "id": "initial_id",
   "metadata": {
    "collapsed": true,
    "ExecuteTime": {
     "end_time": "2024-05-15T10:47:06.288331131Z",
     "start_time": "2024-05-15T10:47:05.590021882Z"
    }
   },
   "outputs": [],
   "source": [
    "import numpy as np\n",
    "import torch"
   ]
  },
  {
   "cell_type": "markdown",
   "source": [
    "# inits (Konstruktor-Aufrufe) der Boundary Conditions in verschiedenen house-Skripten von M.Kliemank"
   ],
   "metadata": {
    "collapsed": false
   },
   "id": "4d58c0e0047db8c7"
  },
  {
   "cell_type": "markdown",
   "source": [
    "## NEX\n",
    "Der Aufruf mit \"self.units\", der in Arbeit und Paper (?) verwendet wurde, sollte korrekt sein. Dabei wird u auch als Profil übergeben (initial solution -> u -> BC)"
   ],
   "metadata": {
    "collapsed": false
   },
   "id": "295e4523c6c3b519"
  },
  {
   "cell_type": "code",
   "outputs": [],
   "source": [
    "# house3D, single\n",
    "lt.NonEquilibriumExtrapolationInletU(self.units.lattice,np.array([self.units.characteristic_velocity_lu, 0, 0]), [0, 0, 1])\n",
    "\n",
    "# SIMULATION_CODE.py (ARBEIT), house3D_final, house3D_final_new2_noverhang, kommt_so_in_die_arbeit, newMPI, proper_single, PU_Umrechnung, TestGeometry, Verification_Dist_House\n",
    "lt.NonEquilibriumExtrapolationInletU(self.units.lattice, self.units, [-1, 0, 0], np.array(u))\n"
   ],
   "metadata": {
    "collapsed": false,
    "ExecuteTime": {
     "end_time": "2024-05-15T10:47:29.789507558Z",
     "start_time": "2024-05-15T10:47:29.787429665Z"
    }
   },
   "id": "b63c0e7d9d53d798",
   "execution_count": 3
  },
  {
   "cell_type": "markdown",
   "source": [
    "## EQ_inlet\n",
    "Als Backup-Inlet kann ich die EQ_PU mit korrektem (!) Geschwindigkeitsprofil nutzen, wenn ich z.B. die IBB implementiere und es crasht, um das vergleichen zu können.\n",
    "Möglicherweise könnte ich die Initialisierung noch an meine Cylinder-Flows anpassen..."
   ],
   "metadata": {
    "collapsed": false
   },
   "id": "c0c35227e945c8a4"
  },
  {
   "cell_type": "code",
   "outputs": [],
   "source": [
    "# house3D_final, house3D_final_new2_noverhang, proper_multi, proper_single, PU_Umrechnung\n",
    "lt.EquilibriumBoundaryPU(np.abs(x) < 1e-6, self.units.lattice, self.units, u[:, 0, ...], p[0, 0, ...])\n"
   ],
   "metadata": {
    "collapsed": false,
    "ExecuteTime": {
     "end_time": "2024-05-15T10:47:35.698112478Z",
     "start_time": "2024-05-15T10:47:35.652552571Z"
    }
   },
   "id": "695bb94137578394",
   "execution_count": 3
  },
  {
   "cell_type": "markdown",
   "source": [
    "\n",
    "## ZG_outlet\n",
    "Solange ich hier keine Crashes o.ä. beobachte, sollte ich das so verwenden können.\n",
    "Da über diese Boundary auch keine großen Gradienten bzw. Flüsse stattfinden (zeige mal u_z), sollte da auch kein großes Stabilitätsproblem bestehen "
   ],
   "metadata": {
    "collapsed": false
   },
   "id": "8ca6bbd34dd28ae3"
  },
  {
   "cell_type": "code",
   "outputs": [],
   "source": [
    "# house3D_final, house3D_final_new2_noverhang, kommt_so_in_die_arbeit, 3D_literature, house3D_literature_neueBoundary, newMPI, proper_multi, proper_single, PU_Umrechnung, TestGeometry, TestSEMBoundary, Verification_Dist_House\n",
    "lt.ZeroGradientOutlet(self.units.lattice, [0, 0, 1])"
   ],
   "metadata": {
    "collapsed": false,
    "ExecuteTime": {
     "end_time": "2024-05-15T10:47:40.606040584Z",
     "start_time": "2024-05-15T10:47:40.562883742Z"
    }
   },
   "id": "c5d87f1df8d67679",
   "execution_count": 4
  },
  {
   "cell_type": "markdown",
   "source": [
    "# EQ_P_outlet\n",
    "Bis auf den vermutlich neuesten Code (h3D_lit._neueBoundary) wird hier jeweils nicht die Dichte übergeben, d.h. diese dafaultet zu rho0=1.0\n",
    "Frage: wie weit weicht Druck_PU=0 als Dichte von Dichte_LU=1 ab? => im Testcase (24.5.24) kommt da auch 1.0 raus, d.h. das macht keinen Unterschied, ich kanns aber drin lassen, falls das später mal einen Unterschied macht!"
   ],
   "metadata": {
    "collapsed": false
   },
   "id": "280b2c7d06d98516"
  },
  {
   "cell_type": "code",
   "outputs": [],
   "source": [
    "# SIMULATION_CODE.py (ARBEIT), house3D_final, house3D_final_new2_noverhang, kommt_so_in_die_arbeit, 3D_literature, newMPI, proper_multi, proper_single, PU_Umrechnung, TestGeometry, Verification_Dist_House\n",
    "lt.EquilibriumOutletP(self.units.lattice, [1, 0, 0])\n",
    "\n",
    "# house3D_literature_neueBoundary, TestSEMBoundary (NEUEST?)\n",
    "lt.EquilibriumOutletP(self.units.lattice, [1, 0, 0], rho0=self.units.convert_pressure_pu_to_density_lu(0))"
   ],
   "metadata": {
    "collapsed": false
   },
   "id": "2cc066447c37e10"
  },
  {
   "cell_type": "markdown",
   "source": [
    "# SEI (synthetic eddy inlet)\n",
    "Außer der Parametrisierungsmöglichkeit (übergabe von Variablen anstelle hardcoded), ist das nichts anders im Init."
   ],
   "metadata": {
    "collapsed": false
   },
   "id": "d3d3c4716ccc8104"
  },
  {
   "cell_type": "code",
   "outputs": [],
   "source": [
    "# 3D_literature\n",
    "lt.SyntheticEddyInlet(self.units.lattice, self.units, self.rgrid, rho=self.units.convert_density_to_pu(self.units.convert_pressure_pu_to_density_lu(0)), u_0=self.units.characteristic_velocity_pu, K=10, L=0.75, N=150, R=self.reyolds_stress_tensor, velocityProfile=self.wind_speed_profile)\n",
    "\n",
    "# house3D_literature_neueBoundary, TestSEMBoundary\n",
    "lt.SyntheticEddyInlet(self.units.lattice, self.units, self.rgrid, rho=self.units.convert_density_to_pu(self.units.convert_pressure_pu_to_density_lu(0)), u_0=self.units.characteristic_velocity_pu, K=self.K_Factor*10, L=L, N=N, R=self.reyolds_stress_tensor, velocityProfile=self.wind_speed_profile)"
   ],
   "metadata": {
    "collapsed": false
   },
   "id": "27f17c1727be4dcc"
  },
  {
   "cell_type": "code",
   "outputs": [],
   "source": [
    "## für SEI könnte auch die Belegung von K, L, N etc. in \"boundaries(self):\" relevant sein...\n",
    "\n",
    "# TestSEMHouseEmpty, TestSEMBoundary\n",
    "x, y, z = self.grid\n",
    "L = self.L\n",
    "if self.N == 0:\n",
    "    N = int(np.ceil((self.units.convert_length_to_pu(self.resolution_y) * self.units.convert_length_to_pu(self.resolution_z)) / (4 * L**2)))\n",
    "else:\n",
    "    N = self.N\n",
    "    \n",
    "# house3D_literature -> da wird es im init komplett \"händisch\" gefült (s.o.)"
   ],
   "metadata": {
    "collapsed": false
   },
   "id": "b03573b07acd7ad7"
  }
 ],
 "metadata": {
  "kernelspec": {
   "display_name": "Python 3",
   "language": "python",
   "name": "python3"
  },
  "language_info": {
   "codemirror_mode": {
    "name": "ipython",
    "version": 2
   },
   "file_extension": ".py",
   "mimetype": "text/x-python",
   "name": "python",
   "nbconvert_exporter": "python",
   "pygments_lexer": "ipython2",
   "version": "2.7.6"
  }
 },
 "nbformat": 4,
 "nbformat_minor": 5
}
